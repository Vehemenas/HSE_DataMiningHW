{
 "cells": [
  {
   "cell_type": "markdown",
   "metadata": {},
   "source": [
    "# 1. Загрузка данных"
   ]
  },
  {
   "cell_type": "markdown",
   "metadata": {},
   "source": [
    "Устанавливаем библиотеку для работы с facebook"
   ]
  },
  {
   "cell_type": "code",
   "execution_count": 1,
   "metadata": {
    "collapsed": false
   },
   "outputs": [],
   "source": [
    "!pip install facebook-sdk -q"
   ]
  },
  {
   "cell_type": "markdown",
   "metadata": {},
   "source": [
    "Инициализируем facebook graph api и получаем информацию об исследуемой группе."
   ]
  },
  {
   "cell_type": "code",
   "execution_count": 2,
   "metadata": {
    "collapsed": false
   },
   "outputs": [],
   "source": [
    "# Импорт библиотеки, инициализация токеном для авторизации.\n",
    "import facebook\n",
    "token = ''\n",
    "graph = facebook.GraphAPI(access_token = token, version='2.3')\n",
    "\n",
    "# Получаем id и название выбранной группы\n",
    "group_name = 'SFSofUkraine'\n",
    "group_info = graph.get_object(id = group_name)\n",
    "group_info = {'name' : group_info['name'], 'id' : group_info['id']}"
   ]
  },
  {
   "cell_type": "markdown",
   "metadata": {},
   "source": [
    "Получаем данные комментариев из выбранной группы."
   ]
  },
  {
   "cell_type": "code",
   "execution_count": 17,
   "metadata": {
    "collapsed": true
   },
   "outputs": [],
   "source": [
    "# Библиотека для определения пола по имени\n",
    "# !pip install genderize -q Необходимо раскоментировать и запустить 1 раз для установки библиотеки\n",
    "from genderize import Genderize\n",
    "\n",
    "# Функция для определения пола по имени\n",
    "def getGender(name):\n",
    "    return int (Genderize().get([name])[0]['gender'] == 'male')"
   ]
  },
  {
   "cell_type": "code",
   "execution_count": 18,
   "metadata": {
    "collapsed": true
   },
   "outputs": [],
   "source": [
    "# Функция для преобразования данных из формата facebook в более удобный для работы\n",
    "def parseComment(comment_dict):\n",
    "    comment = {}\n",
    "    comment['message'] = comment_dict['message']\n",
    "    comment['post_time'] = comment_dict['created_time']\n",
    "    comment['likes'] = comment_dict['like_count']\n",
    "    comment['author'] = comment_dict['from']['name']\n",
    "    # Делим строку автор на имя и фамилия, проверяем какому полу наиболее вероятно принадлежит это имя\n",
    "    comment['author_gender'] = getGender(comment['author'].split()[0])\n",
    "    return comment\n",
    "    "
   ]
  },
  {
   "cell_type": "code",
   "execution_count": 19,
   "metadata": {
    "collapsed": false
   },
   "outputs": [],
   "source": [
    "import requests\n",
    "\n",
    "# Общая функция для сбора данных из facebook\n",
    "def getGroupComments(group_id, pages_number):\n",
    "    # Массив всех комментариев\n",
    "    parsed_comments = []\n",
    "    # Cчетчик страниц\n",
    "    counter = 1\n",
    "    \n",
    "    # Получаем первоначальный список комментариев\n",
    "    fb_data = graph.get_connections(id = group_id, connection_name='posts')\n",
    "    \n",
    "    while (True):\n",
    "        print('Обрабатываем страницу: ', counter)\n",
    "        counter += 1\n",
    "        try:\n",
    "            parsed_comments += parseGroupCommentsPage(fb_data)\n",
    "        \n",
    "            if (counter > pages_number):\n",
    "                break\n",
    "        \n",
    " \n",
    "            fb_data = requests.get(fb_data['paging']['next']).json()\n",
    "        # если нет следующей страницы - выходим из цикла\n",
    "        except KeyError:\n",
    "            break\n",
    "        except:\n",
    "            print('Достигнут лимит в 1000 имен в сутки на сервесе определения пола по имени')\n",
    "            break\n",
    "    print('Загрузка комментариев завершена')\n",
    "    return parsed_comments\n",
    "\n",
    "# Функция для сбора данных с одной страницы ответа API facebook\n",
    "def parseGroupCommentsPage(fb_data):\n",
    "    # Массив комментариев на странице\n",
    "    comments = []\n",
    "    # Проходим по всем комментариям на странице\n",
    "    for data_element in fb_data['data']:\n",
    "        # Проверяем есть ли комментарии у страницы\n",
    "        if 'comments' in data_element:\n",
    "            for comment in data_element['comments']['data']:\n",
    "                # Проверяем есть ли текст в комментарии\n",
    "                if (len(comment['message']) > 0) :\n",
    "                    filtered_comment = parseComment(comment)\n",
    "                    comments.append(filtered_comment)\n",
    "    return comments"
   ]
  },
  {
   "cell_type": "code",
   "execution_count": 22,
   "metadata": {
    "collapsed": false
   },
   "outputs": [
    {
     "name": "stdout",
     "output_type": "stream",
     "text": [
      "Обрабатываем страницу:  1\n",
      "Обрабатываем страницу:  2\n",
      "Обрабатываем страницу:  3\n",
      "Загрузка комментариев завершена\n"
     ]
    }
   ],
   "source": [
    "data = getGroupComments(group_info['id'], 3)"
   ]
  },
  {
   "cell_type": "markdown",
   "metadata": {
    "collapsed": true
   },
   "source": [
    "Проверим полученные данные"
   ]
  },
  {
   "cell_type": "code",
   "execution_count": 23,
   "metadata": {
    "collapsed": false
   },
   "outputs": [
    {
     "data": {
      "text/html": [
       "<div>\n",
       "<table border=\"1\" class=\"dataframe\">\n",
       "  <thead>\n",
       "    <tr style=\"text-align: right;\">\n",
       "      <th></th>\n",
       "      <th>author</th>\n",
       "      <th>author_gender</th>\n",
       "      <th>likes</th>\n",
       "      <th>message</th>\n",
       "      <th>post_time</th>\n",
       "    </tr>\n",
       "  </thead>\n",
       "  <tbody>\n",
       "    <tr>\n",
       "      <th>0</th>\n",
       "      <td>Igor Bocharov</td>\n",
       "      <td>1</td>\n",
       "      <td>1</td>\n",
       "      <td>За счет каких изменений в структуре и процесса...</td>\n",
       "      <td>2016-05-20T20:10:35+0000</td>\n",
       "    </tr>\n",
       "    <tr>\n",
       "      <th>1</th>\n",
       "      <td>Юля Машталер</td>\n",
       "      <td>0</td>\n",
       "      <td>2</td>\n",
       "      <td>Их не сокращать нужно, а профессиональный уров...</td>\n",
       "      <td>2016-05-21T12:13:24+0000</td>\n",
       "    </tr>\n",
       "    <tr>\n",
       "      <th>2</th>\n",
       "      <td>Alexey  Krivtsov</td>\n",
       "      <td>1</td>\n",
       "      <td>0</td>\n",
       "      <td>Открытость этим не измеряется</td>\n",
       "      <td>2016-05-22T07:14:06+0000</td>\n",
       "    </tr>\n",
       "    <tr>\n",
       "      <th>3</th>\n",
       "      <td>Denys Davydov</td>\n",
       "      <td>1</td>\n",
       "      <td>0</td>\n",
       "      <td>коли можна буде онлайн бачити отриманий прибут...</td>\n",
       "      <td>2016-05-20T12:40:57+0000</td>\n",
       "    </tr>\n",
       "    <tr>\n",
       "      <th>4</th>\n",
       "      <td>Andrey Skibnev</td>\n",
       "      <td>1</td>\n",
       "      <td>0</td>\n",
       "      <td>А откуда она?</td>\n",
       "      <td>2016-05-20T16:36:40+0000</td>\n",
       "    </tr>\n",
       "  </tbody>\n",
       "</table>\n",
       "</div>"
      ],
      "text/plain": [
       "             author  author_gender  likes  \\\n",
       "0     Igor Bocharov              1      1   \n",
       "1      Юля Машталер              0      2   \n",
       "2  Alexey  Krivtsov              1      0   \n",
       "3     Denys Davydov              1      0   \n",
       "4    Andrey Skibnev              1      0   \n",
       "\n",
       "                                             message                 post_time  \n",
       "0  За счет каких изменений в структуре и процесса...  2016-05-20T20:10:35+0000  \n",
       "1  Их не сокращать нужно, а профессиональный уров...  2016-05-21T12:13:24+0000  \n",
       "2                      Открытость этим не измеряется  2016-05-22T07:14:06+0000  \n",
       "3  коли можна буде онлайн бачити отриманий прибут...  2016-05-20T12:40:57+0000  \n",
       "4                                      А откуда она?  2016-05-20T16:36:40+0000  "
      ]
     },
     "execution_count": 23,
     "metadata": {},
     "output_type": "execute_result"
    }
   ],
   "source": [
    "# библиотека для удобного просмотра данных\n",
    "import pandas as pd\n",
    "\n",
    "# Показываем первые 5 строк\n",
    "data = pd.DataFrame(data)\n",
    "data.head()"
   ]
  },
  {
   "cell_type": "markdown",
   "metadata": {},
   "source": [
    "# 2. Обработка данных"
   ]
  },
  {
   "cell_type": "markdown",
   "metadata": {},
   "source": [
    "Подключаем необходимые библиотеки для обработки данных"
   ]
  },
  {
   "cell_type": "code",
   "execution_count": 24,
   "metadata": {
    "collapsed": true
   },
   "outputs": [],
   "source": [
    "# Установка библиотек, если их нет. Необходимо запустить 1 раз.\n",
    "# !pip install pymorphy2 -q \n",
    "# !pip install stop_words -q \n",
    "\n",
    "from stop_words import get_stop_words # необходимо для удаления стоп слов\n",
    "import pymorphy2 # библиотека для приведения слов к нормальной форме\n",
    "import string # библиотека для работы со строками\n",
    "from nltk.tokenize import TweetTokenizer # библиотека для разбиения текстов на слова"
   ]
  },
  {
   "cell_type": "code",
   "execution_count": 25,
   "metadata": {
    "collapsed": true
   },
   "outputs": [],
   "source": [
    "# Функция для разбития текста на слова\n",
    "def split_text(text):\n",
    "    tokenizer = TweetTokenizer()\n",
    "    return tokenizer.tokenize(text) \n",
    "\n",
    "# Функция для приведения слов к нормальной форме.\n",
    "def convert_to_normal_form(words_list):\n",
    "    morph = pymorphy2.MorphAnalyzer()\n",
    "    normal_forms_list = []\n",
    "    for word in words_list:\n",
    "        # работаем только со словами, не с пунктуацией\n",
    "        if word not in string.punctuation and word[0] != \"<\":\n",
    "            norm_form = morph.parse(word)[0].normal_form # получаем нормальную форму слова\n",
    "            normal_forms_list.append(norm_form) # и добавляем ее в массив\n",
    "    return normal_forms_list\n",
    "\n",
    "# Общая функция обработки текста\n",
    "def convert_text(text):\n",
    "    words_list = split_text(text) # разбиваем текст на слова\n",
    "    norm_words_list = convert_to_normal_form(words_list) # приводим слова к нормальной форме\n",
    "    filtered_words = [w for w in norm_words_list if not w in get_stop_words('ukrainian')] # удаляем стоп слова на украинском\n",
    "    filtered_words = [w for w in filtered_words if not w in get_stop_words('russian')] # удаляем стоп слова на русском\n",
    "    return \" \".join(filtered_words) # соединяем слова обратно в текст"
   ]
  },
  {
   "cell_type": "markdown",
   "metadata": {},
   "source": [
    "Обработаем полученный текст"
   ]
  },
  {
   "cell_type": "code",
   "execution_count": 26,
   "metadata": {
    "collapsed": false
   },
   "outputs": [],
   "source": [
    "data['message'] = data.apply(lambda row: convert_text(row['message']), axis=1)"
   ]
  },
  {
   "cell_type": "markdown",
   "metadata": {},
   "source": [
    "Посмотрим текст после обработки:"
   ]
  },
  {
   "cell_type": "code",
   "execution_count": 27,
   "metadata": {
    "collapsed": false
   },
   "outputs": [
    {
     "data": {
      "text/html": [
       "<div>\n",
       "<table border=\"1\" class=\"dataframe\">\n",
       "  <thead>\n",
       "    <tr style=\"text-align: right;\">\n",
       "      <th></th>\n",
       "      <th>author</th>\n",
       "      <th>author_gender</th>\n",
       "      <th>likes</th>\n",
       "      <th>message</th>\n",
       "      <th>post_time</th>\n",
       "    </tr>\n",
       "  </thead>\n",
       "  <tbody>\n",
       "    <tr>\n",
       "      <th>0</th>\n",
       "      <td>Igor Bocharov</td>\n",
       "      <td>1</td>\n",
       "      <td>1</td>\n",
       "      <td>счёт изменение структура процесс происходить с...</td>\n",
       "      <td>2016-05-20T20:10:35+0000</td>\n",
       "    </tr>\n",
       "    <tr>\n",
       "      <th>1</th>\n",
       "      <td>Юля Машталер</td>\n",
       "      <td>0</td>\n",
       "      <td>2</td>\n",
       "      <td>сокращать профессиональный уровень повышать</td>\n",
       "      <td>2016-05-21T12:13:24+0000</td>\n",
       "    </tr>\n",
       "    <tr>\n",
       "      <th>2</th>\n",
       "      <td>Alexey  Krivtsov</td>\n",
       "      <td>1</td>\n",
       "      <td>0</td>\n",
       "      <td>открытость измеряться</td>\n",
       "      <td>2016-05-22T07:14:06+0000</td>\n",
       "    </tr>\n",
       "    <tr>\n",
       "      <th>3</th>\n",
       "      <td>Denys Davydov</td>\n",
       "      <td>1</td>\n",
       "      <td>0</td>\n",
       "      <td>можный онлайн бачить отримания прибутка даний ...</td>\n",
       "      <td>2016-05-20T12:40:57+0000</td>\n",
       "    </tr>\n",
       "    <tr>\n",
       "      <th>4</th>\n",
       "      <td>Andrey Skibnev</td>\n",
       "      <td>1</td>\n",
       "      <td>0</td>\n",
       "      <td>откуда</td>\n",
       "      <td>2016-05-20T16:36:40+0000</td>\n",
       "    </tr>\n",
       "  </tbody>\n",
       "</table>\n",
       "</div>"
      ],
      "text/plain": [
       "             author  author_gender  likes  \\\n",
       "0     Igor Bocharov              1      1   \n",
       "1      Юля Машталер              0      2   \n",
       "2  Alexey  Krivtsov              1      0   \n",
       "3     Denys Davydov              1      0   \n",
       "4    Andrey Skibnev              1      0   \n",
       "\n",
       "                                             message                 post_time  \n",
       "0  счёт изменение структура процесс происходить с...  2016-05-20T20:10:35+0000  \n",
       "1        сокращать профессиональный уровень повышать  2016-05-21T12:13:24+0000  \n",
       "2                              открытость измеряться  2016-05-22T07:14:06+0000  \n",
       "3  можный онлайн бачить отримания прибутка даний ...  2016-05-20T12:40:57+0000  \n",
       "4                                             откуда  2016-05-20T16:36:40+0000  "
      ]
     },
     "execution_count": 27,
     "metadata": {},
     "output_type": "execute_result"
    }
   ],
   "source": [
    "data.head()"
   ]
  },
  {
   "cell_type": "markdown",
   "metadata": {},
   "source": [
    "# 3. Сохранение полученных данных в файл"
   ]
  },
  {
   "cell_type": "code",
   "execution_count": 28,
   "metadata": {
    "collapsed": true
   },
   "outputs": [],
   "source": [
    "data.to_excel('comments.xlsx')"
   ]
  }
 ],
 "metadata": {
  "kernelspec": {
   "display_name": "Python 3",
   "language": "python",
   "name": "python3"
  },
  "language_info": {
   "codemirror_mode": {
    "name": "ipython",
    "version": 3
   },
   "file_extension": ".py",
   "mimetype": "text/x-python",
   "name": "python",
   "nbconvert_exporter": "python",
   "pygments_lexer": "ipython3",
   "version": "3.5.1"
  }
 },
 "nbformat": 4,
 "nbformat_minor": 0
}
