{
 "cells": [
  {
   "cell_type": "markdown",
   "metadata": {},
   "source": [
    "### Task #1\n",
    "Написать функцию, которая принимает на вход целочисленный массив и возвращает его максимальный четный элемент.\n",
    "Подключаю numpy, который крут и офигенен и вообще."
   ]
  },
  {
   "cell_type": "code",
   "execution_count": 2,
   "metadata": {
    "collapsed": true
   },
   "outputs": [],
   "source": [
    "import numpy as np"
   ]
  },
  {
   "cell_type": "markdown",
   "metadata": {},
   "source": [
    "Создаю массив из библиотеки NumPy, преобразовав обычный."
   ]
  },
  {
   "cell_type": "code",
   "execution_count": 3,
   "metadata": {
    "collapsed": false
   },
   "outputs": [],
   "source": [
    "a = [1, 2, 3, 3, 4, 4, 4, 5, 5, 5, 10005000]\n",
    "a = np.array(a)"
   ]
  },
  {
   "cell_type": "markdown",
   "metadata": {},
   "source": [
    "Теперь пишу функцию, которая будет искать максимальное число среди четных в массиве. Все четные элементы можно найти \n",
    "как a[a % 2 == 0]. И потом добавить .max(), чтобы найти максимальный элемент."
   ]
  },
  {
   "cell_type": "code",
   "execution_count": 4,
   "metadata": {
    "collapsed": false
   },
   "outputs": [],
   "source": [
    "def findEvenMaximum(inputArray):\n",
    "    return inputArray[inputArray % 2 == 0].max()"
   ]
  },
  {
   "cell_type": "markdown",
   "metadata": {},
   "source": [
    "Вы восхитительны! Проверяю на работоспособноость сие счастье."
   ]
  },
  {
   "cell_type": "code",
   "execution_count": 5,
   "metadata": {
    "collapsed": false
   },
   "outputs": [
    {
     "data": {
      "text/plain": [
       "10005000"
      ]
     },
     "execution_count": 5,
     "metadata": {},
     "output_type": "execute_result"
    }
   ],
   "source": [
    "findEvenMaximum(a)"
   ]
  },
  {
   "cell_type": "markdown",
   "metadata": {},
   "source": [
    "Все вегно :)"
   ]
  },
  {
   "cell_type": "markdown",
   "metadata": {},
   "source": [
    "### Task #2\n",
    "Дана матрица n x d, где n - число объектов, d - число признаков. Подсчитать выборочное среднее μ \n",
    "и выборочную ковариационную матрицу K без использования стандартных функций np.mean, np.cov"
   ]
  },
  {
   "cell_type": "markdown",
   "metadata": {},
   "source": [
    "Для начала, создам матрицу. Снова из библиотеки NumPy."
   ]
  },
  {
   "cell_type": "code",
   "execution_count": 46,
   "metadata": {
    "collapsed": false
   },
   "outputs": [],
   "source": [
    "matrix = [[1, 2, 3, 4], [5, 6, 7, 8], [1, 2, 3, 4]]\n",
    "matrix = np.array(matrix)"
   ]
  },
  {
   "cell_type": "markdown",
   "metadata": {},
   "source": [
    "Идеально. Теперь Считаю сумму всего этого."
   ]
  },
  {
   "cell_type": "code",
   "execution_count": 7,
   "metadata": {
    "collapsed": false
   },
   "outputs": [
    {
     "data": {
      "text/plain": [
       "46"
      ]
     },
     "execution_count": 7,
     "metadata": {},
     "output_type": "execute_result"
    }
   ],
   "source": [
    "np.sum(matrix)"
   ]
  },
  {
   "cell_type": "markdown",
   "metadata": {},
   "source": [
    "А вот так можно посчитать количество элентов."
   ]
  },
  {
   "cell_type": "code",
   "execution_count": 8,
   "metadata": {
    "collapsed": false
   },
   "outputs": [
    {
     "data": {
      "text/plain": [
       "12"
      ]
     },
     "execution_count": 8,
     "metadata": {},
     "output_type": "execute_result"
    }
   ],
   "source": [
    "np.size(matrix)"
   ]
  },
  {
   "cell_type": "markdown",
   "metadata": {},
   "source": [
    "Усё працюе. Оформляю все в виде функции."
   ]
  },
  {
   "cell_type": "code",
   "execution_count": 9,
   "metadata": {
    "collapsed": true
   },
   "outputs": [],
   "source": [
    "def computeMean(inputMatrix):\n",
    "    return np.sum(inputMatrix) / np.size(inputMatrix)"
   ]
  },
  {
   "cell_type": "markdown",
   "metadata": {},
   "source": [
    "Вроде, верно. Сравниваю результаты со стандартной функцией."
   ]
  },
  {
   "cell_type": "code",
   "execution_count": 10,
   "metadata": {
    "collapsed": false
   },
   "outputs": [
    {
     "name": "stdout",
     "output_type": "stream",
     "text": [
      "Наш метод:  3.83333333333\n",
      "Встроенная ф-я:  3.83333333333\n"
     ]
    }
   ],
   "source": [
    "print('Наш метод: ', computeMean(matrix))\n",
    "print('Встроенная ф-я: ', np.mean(matrix))"
   ]
  },
  {
   "cell_type": "markdown",
   "metadata": {},
   "source": [
    "Половина сделана. Идем дальше.\n",
    "\n",
    "Теперь для ковариации. Посчитать сумму (элемент - н) можно вот так np.sum(array - n). Тогда ф-я будет иметь вид:"
   ]
  },
  {
   "cell_type": "code",
   "execution_count": 11,
   "metadata": {
    "collapsed": true
   },
   "outputs": [],
   "source": [
    "def computeCov(inputMatrix):\n",
    "    mean = computeMean(matrix)\n",
    "    return np.sum( (inputMatrix - mean) ** 2) / (np.size(inputMatrix) - 1) #хз как делать"
   ]
  },
  {
   "cell_type": "markdown",
   "metadata": {},
   "source": [
    "Все стандартно по формуле. "
   ]
  },
  {
   "cell_type": "code",
   "execution_count": 12,
   "metadata": {
    "collapsed": false
   },
   "outputs": [
    {
     "name": "stdout",
     "output_type": "stream",
     "text": [
      "Наш метод:  5.24242424242\n",
      "Встроенная ф-я:  [[ 1.66666667  1.66666667  1.66666667]\n",
      " [ 1.66666667  1.66666667  1.66666667]\n",
      " [ 1.66666667  1.66666667  1.66666667]]\n"
     ]
    }
   ],
   "source": [
    "print('Наш метод: ', computeCov(matrix))\n",
    "print('Встроенная ф-я: ', np.cov(matrix))"
   ]
  },
  {
   "cell_type": "markdown",
   "metadata": {},
   "source": [
    "### Task #3\n",
    "Посчитать произведение ненулевых элементов на диагонали прямоугольной матрицы.\n",
    "Для Х = np.array([[1, 0, 1], [2, 0, 2], [3, 0, 3], [4, 4, 4]])"
   ]
  },
  {
   "cell_type": "markdown",
   "metadata": {},
   "source": [
    "Собственно, для начала, создаю такую матрицу."
   ]
  },
  {
   "cell_type": "code",
   "execution_count": 13,
   "metadata": {
    "collapsed": false
   },
   "outputs": [
    {
     "data": {
      "text/plain": [
       "array([[1, 0, 1],\n",
       "       [2, 0, 2],\n",
       "       [3, 0, 3],\n",
       "       [4, 4, 4]])"
      ]
     },
     "execution_count": 13,
     "metadata": {},
     "output_type": "execute_result"
    }
   ],
   "source": [
    "x = np.array([[1, 0, 1], [2, 0, 2], [3, 0, 3], [4, 4, 4]])\n",
    "x"
   ]
  },
  {
   "cell_type": "markdown",
   "metadata": {},
   "source": [
    "Элементы по диагонали можно получить как x.diagonal()"
   ]
  },
  {
   "cell_type": "code",
   "execution_count": 14,
   "metadata": {
    "collapsed": false
   },
   "outputs": [
    {
     "data": {
      "text/plain": [
       "array([1, 0, 3])"
      ]
     },
     "execution_count": 14,
     "metadata": {},
     "output_type": "execute_result"
    }
   ],
   "source": [
    "x.diagonal()"
   ]
  },
  {
   "cell_type": "markdown",
   "metadata": {},
   "source": [
    "Из них выбираю все отличные от 0. делается это x[x.nonzero()]."
   ]
  },
  {
   "cell_type": "markdown",
   "metadata": {},
   "source": [
    "*Тут будет не для диагональных элементов, а для всех."
   ]
  },
  {
   "cell_type": "code",
   "execution_count": 15,
   "metadata": {
    "collapsed": false
   },
   "outputs": [
    {
     "data": {
      "text/plain": [
       "array([1, 1, 2, 2, 3, 3, 4, 4, 4])"
      ]
     },
     "execution_count": 15,
     "metadata": {},
     "output_type": "execute_result"
    }
   ],
   "source": [
    "x[x.nonzero()]"
   ]
  },
  {
   "cell_type": "markdown",
   "metadata": {},
   "source": [
    "Ну, все уже пройдено. Можно оформлять в виде ф-ии. Поизведение найду через np.prod()"
   ]
  },
  {
   "cell_type": "code",
   "execution_count": 16,
   "metadata": {
    "collapsed": false
   },
   "outputs": [],
   "source": [
    "def multiplyDiagonal(inputMatrix):\n",
    "    tmp = inputMatrix.diagonal()\n",
    "    tmp = tmp[tmp.nonzero()]\n",
    "    return np.prod(tmp)"
   ]
  },
  {
   "cell_type": "code",
   "execution_count": 17,
   "metadata": {
    "collapsed": false
   },
   "outputs": [
    {
     "data": {
      "text/plain": [
       "3"
      ]
     },
     "execution_count": 17,
     "metadata": {},
     "output_type": "execute_result"
    }
   ],
   "source": [
    "multiplyDiagonal(x)"
   ]
  },
  {
   "cell_type": "markdown",
   "metadata": {},
   "source": [
    "Ответ совпадает с таковым в условии:)"
   ]
  },
  {
   "cell_type": "markdown",
   "metadata": {},
   "source": [
    "### Task #4\n",
    "При помощи метода Монте-Карло по 10000 точек приближенно вычислить значение интеграла\n",
    "intergal cos(x^2)dx from 0 to 0.5"
   ]
  },
  {
   "cell_type": "markdown",
   "metadata": {},
   "source": [
    "Я хз что такое метод Монте - Карло. Пытался понять тут. Скорее всего, верно.\n",
    "https://helloacm.com/how-to-compute-numerical-integration-in-numpy-python/"
   ]
  },
  {
   "cell_type": "markdown",
   "metadata": {},
   "source": [
    "Насколько я понял, просто считаем площадь по прямоугольникам, точность, естественно, зависит от их количества."
   ]
  },
  {
   "cell_type": "markdown",
   "metadata": {},
   "source": [
    "Т.е нужно разбить промежуток от a до b на n точек и посчитать площадь. Разбить отрезок на n точек можно вот так:"
   ]
  },
  {
   "cell_type": "code",
   "execution_count": 18,
   "metadata": {
    "collapsed": false
   },
   "outputs": [
    {
     "data": {
      "text/plain": [
       "array([  0.00000000e+00,   5.00050005e-05,   1.00010001e-04, ...,\n",
       "         4.99899990e-01,   4.99949995e-01,   5.00000000e-01])"
      ]
     },
     "execution_count": 18,
     "metadata": {},
     "output_type": "execute_result"
    }
   ],
   "source": [
    "a = 0\n",
    "b = 0.5\n",
    "n = 10000\n",
    "dotslinspace = np.linspace(a, b, n)\n",
    "dotslinspace"
   ]
  },
  {
   "cell_type": "markdown",
   "metadata": {},
   "source": [
    "Далее, надо научиться брать от каждого элемента из этого линспейса ф-ю. // применять ф-ю с аргументом = каждый из линспейса: "
   ]
  },
  {
   "cell_type": "markdown",
   "metadata": {},
   "source": [
    "Хз, можно ли это сделать правильней. Но я оформлю это в виде отдельной ф-ии: (то, что cos(x^2))"
   ]
  },
  {
   "cell_type": "code",
   "execution_count": 19,
   "metadata": {
    "collapsed": false
   },
   "outputs": [],
   "source": [
    "def calcCosx2(x):\n",
    "    return np.cos(x ** 2)"
   ]
  },
  {
   "cell_type": "markdown",
   "metadata": {},
   "source": [
    "Тогда, применить для каждого элемента:"
   ]
  },
  {
   "cell_type": "code",
   "execution_count": 20,
   "metadata": {
    "collapsed": false
   },
   "outputs": [
    {
     "data": {
      "text/plain": [
       "array([ 1.        ,  1.        ,  1.        , ...,  0.96893716,\n",
       "        0.96892479,  0.96891242])"
      ]
     },
     "execution_count": 20,
     "metadata": {},
     "output_type": "execute_result"
    }
   ],
   "source": [
    "calcCosx2(dotslinspace)"
   ]
  },
  {
   "cell_type": "markdown",
   "metadata": {},
   "source": [
    "Собственно, все что нужно для написания ф-ии по приближенному вычислению интеграла есть. Это будет как то так: "
   ]
  },
  {
   "cell_type": "code",
   "execution_count": 21,
   "metadata": {
    "collapsed": true
   },
   "outputs": [],
   "source": [
    "def integrateMC(function, a, b, ndots):\n",
    "    arg_linspace = np.linspace(a, b, ndots)\n",
    "    fx = function(arg_linspace) #считаю значения ф-ии в каждой точке; высота прямоугольника, если делить график ф-ии\n",
    "    # тогда площадь прямоугольника = основание * высоту. основание каждого будет (b - a) / n\n",
    "    return np.sum(fx) * (b - a) / n"
   ]
  },
  {
   "cell_type": "markdown",
   "metadata": {},
   "source": [
    "Ну все, проверяем работу:"
   ]
  },
  {
   "cell_type": "code",
   "execution_count": 22,
   "metadata": {
    "collapsed": false
   },
   "outputs": [
    {
     "name": "stdout",
     "output_type": "stream",
     "text": [
      "Площадь по методу Монте-Карло:  0.496883563571\n"
     ]
    }
   ],
   "source": [
    "print('Площадь по методу Монте-Карло: ', integrateMC(calcCosx2, a, b, n))"
   ]
  },
  {
   "cell_type": "markdown",
   "metadata": {},
   "source": [
    "Результат совпадает с wolframalpha. Идем дальше c:"
   ]
  },
  {
   "cell_type": "markdown",
   "metadata": {},
   "source": [
    "### Task #5\n",
    "Найти максимальный элемент в векторе х среди элементов, перед которыми стоит нулевой.\n",
    "x = np.array([6, 2, 0, 3, 0, 0, 5, 7, 0]). Ответ: 5."
   ]
  },
  {
   "cell_type": "markdown",
   "metadata": {},
   "source": [
    "Для начала, найду индексы нулевых элементов. Это делается так:"
   ]
  },
  {
   "cell_type": "code",
   "execution_count": 41,
   "metadata": {
    "collapsed": false
   },
   "outputs": [
    {
     "data": {
      "text/plain": [
       "(array([2, 4, 5, 8], dtype=int64),)"
      ]
     },
     "execution_count": 41,
     "metadata": {},
     "output_type": "execute_result"
    }
   ],
   "source": [
    "x = np.array([6, 2, 0, 3, 0, 0, 5, 7, 0])\n",
    "zero_indexes_arr = np.where(x == 0)"
   ]
  },
  {
   "cell_type": "markdown",
   "metadata": {},
   "source": [
    "Но мне такое не сильно нужно на самом деле. Мне нужны индексы элементов после 0. Сказано - сделано."
   ]
  },
  {
   "cell_type": "code",
   "execution_count": 48,
   "metadata": {
    "collapsed": false
   },
   "outputs": [
    {
     "data": {
      "text/plain": [
       "array([[3, 5, 6, 9]], dtype=int64)"
      ]
     },
     "execution_count": 48,
     "metadata": {},
     "output_type": "execute_result"
    }
   ],
   "source": [
    "next_to_zero_index = np.where(x == 0)\n",
    "next_to_zero_index = np.array(next_to_zero_index) + 1\n",
    "next_to_zero_index"
   ]
  },
  {
   "cell_type": "markdown",
   "metadata": {},
   "source": [
    "Ну, и, собственно, полученная ф-я:"
   ]
  },
  {
   "cell_type": "code",
   "execution_count": 62,
   "metadata": {
    "collapsed": false
   },
   "outputs": [],
   "source": [
    "def maxNexToZero(inputArray):\n",
    "    tmp = np.array(np.where(x == 0)) + 1\n",
    "    return inputArray[tmp[tmp < inputArray.size]].max()"
   ]
  },
  {
   "cell_type": "code",
   "execution_count": 65,
   "metadata": {
    "collapsed": false
   },
   "outputs": [
    {
     "name": "stdout",
     "output_type": "stream",
     "text": [
      "А вот и наш ответ, детишки:  5\n"
     ]
    }
   ],
   "source": [
    "print('А вот и наш ответ, детишки: ', maxNexToZero(x))"
   ]
  },
  {
   "cell_type": "markdown",
   "metadata": {},
   "source": [
    "### Task #6\n",
    "Пусть Х - случайная величина, имеющая распределение Пуассона с параметром λ = 5\n",
    "P(x = k) = (5 ^ k) / k! * e ^ (-5)"
   ]
  },
  {
   "cell_type": "markdown",
   "metadata": {},
   "source": [
    "Собственно попробую методом лома: (нужна библиотека scipy)"
   ]
  },
  {
   "cell_type": "code",
   "execution_count": 24,
   "metadata": {
    "collapsed": false
   },
   "outputs": [],
   "source": [
    "from scipy.special import factorial"
   ]
  },
  {
   "cell_type": "markdown",
   "metadata": {},
   "source": [
    "Теперь, собственно, ф - я."
   ]
  },
  {
   "cell_type": "code",
   "execution_count": 25,
   "metadata": {
    "collapsed": true
   },
   "outputs": [],
   "source": [
    "def computePoisson(ld, k):\n",
    "    return ((ld ** k) / factorial(k)) * np.exp(-k)"
   ]
  },
  {
   "cell_type": "code",
   "execution_count": 36,
   "metadata": {
    "collapsed": false
   },
   "outputs": [
    {
     "data": {
      "text/plain": [
       "array([ 0,  1,  2,  3,  4,  5,  6,  7,  8,  9, 10, 11, 12, 13, 14, 15, 16,\n",
       "       17, 18, 19, 20, 21, 22, 23, 24, 25, 26, 27, 28, 29, 30, 31, 32, 33,\n",
       "       34, 35, 36, 37, 38, 39, 40, 41, 42, 43, 44, 45, 46, 47, 48, 49])"
      ]
     },
     "execution_count": 36,
     "metadata": {},
     "output_type": "execute_result"
    }
   ],
   "source": [
    "p_size = 50\n",
    "p = np.arange(p_size)\n",
    "p"
   ]
  },
  {
   "cell_type": "markdown",
   "metadata": {
    "collapsed": false
   },
   "source": [
    "Для одного элемента так будет работать, для вектора - нет. (Если тебе так интересно, мой юный друг, можешь проверить лично)"
   ]
  },
  {
   "cell_type": "code",
   "execution_count": 37,
   "metadata": {
    "collapsed": false
   },
   "outputs": [
    {
     "data": {
      "text/plain": [
       "1.5310724118160698e-50"
      ]
     },
     "execution_count": 37,
     "metadata": {},
     "output_type": "execute_result"
    }
   ],
   "source": [
    "lamda = 5\n",
    "computePoisson(lamda, 49)"
   ]
  },
  {
   "cell_type": "markdown",
   "metadata": {},
   "source": [
    "А я уже ненавижу это задание. Но продолжаем. Чтобы все было кошерно нужно векторизировать ф-ю. "
   ]
  },
  {
   "cell_type": "code",
   "execution_count": 43,
   "metadata": {
    "collapsed": false
   },
   "outputs": [
    {
     "name": "stdout",
     "output_type": "stream",
     "text": [
      "Наш массив, тадамс:\n",
      " [  1.00000000e+00   1.83939721e+00   1.69169104e+00   1.03723059e+00\n",
      "   4.76969763e-01   1.75467370e-01   5.37923649e-02   1.41350751e-02\n",
      "   3.25000221e-03   6.64227220e-04   1.22177769e-04   2.04303134e-05\n",
      "   3.13162178e-06   4.43099720e-07   5.82168847e-08   7.13893167e-09\n",
      "   8.20708186e-10   8.88004908e-11   9.07440970e-12   8.78497045e-13\n",
      "   8.07952505e-14   7.07688371e-15   5.91690915e-16   4.73197659e-17\n",
      "   3.62666022e-18   2.66834747e-19   1.88775034e-20   1.28604544e-21\n",
      "   8.44838712e-23   5.35859988e-24   3.28553122e-25   1.94948288e-26\n",
      "   1.12058543e-27   6.24606578e-29   3.37911645e-30   1.77586782e-31\n",
      "   9.07368417e-33   4.51084035e-34   2.18348083e-35   1.02981757e-36\n",
      "   4.73560891e-38   2.12455263e-39   9.30451471e-41   3.98016241e-42\n",
      "   1.66388628e-43   6.80121726e-45   2.71959566e-46   1.06434397e-47\n",
      "   4.07864859e-49   1.53107241e-50]\n"
     ]
    }
   ],
   "source": [
    "vectorComputePoisson = np.vectorize(computePoisson)\n",
    "t = vectorComputePoisson(lamda, p)\n",
    "print('Наш массив, тадамс:\\n',t)"
   ]
  },
  {
   "cell_type": "markdown",
   "metadata": {
    "collapsed": true
   },
   "source": [
    "That's all, folks!"
   ]
  }
 ],
 "metadata": {
  "kernelspec": {
   "display_name": "Python 3",
   "language": "python",
   "name": "python3"
  },
  "language_info": {
   "codemirror_mode": {
    "name": "ipython",
    "version": 3
   },
   "file_extension": ".py",
   "mimetype": "text/x-python",
   "name": "python",
   "nbconvert_exporter": "python",
   "pygments_lexer": "ipython3",
   "version": "3.5.1"
  }
 },
 "nbformat": 4,
 "nbformat_minor": 0
}
