{
 "cells": [
  {
   "cell_type": "markdown",
   "metadata": {
    "collapsed": false
   },
   "source": [
    "# Data analysis project"
   ]
  },
  {
   "cell_type": "markdown",
   "metadata": {},
   "source": [
    "_In this project I am going to write a program to predict the number likes post is going to get in vk._"
   ]
  },
  {
   "cell_type": "markdown",
   "metadata": {},
   "source": [
    "__Выполнил__: Булгаков Дмитрий (ИАД16)\n",
    "\n",
    "__Дедлайн__: 23:59 19.06.16"
   ]
  },
  {
   "cell_type": "markdown",
   "metadata": {
    "collapsed": true
   },
   "source": [
    "# 1. Loading Data"
   ]
  },
  {
   "cell_type": "markdown",
   "metadata": {
    "collapsed": true
   },
   "source": [
    "VK library quiet installation and import into the notebook."
   ]
  },
  {
   "cell_type": "code",
   "execution_count": 1,
   "metadata": {
    "collapsed": false
   },
   "outputs": [],
   "source": [
    "# pip install vk # makes it quiet\n",
    "import vk"
   ]
  },
  {
   "cell_type": "markdown",
   "metadata": {
    "collapsed": true
   },
   "source": [
    "Starting new vk session in order to parse data"
   ]
  },
  {
   "cell_type": "code",
   "execution_count": 2,
   "metadata": {
    "collapsed": false
   },
   "outputs": [],
   "source": [
    "vk_session = vk.Session() # starting new session\n",
    "vk_api = vk.API(vk_session)"
   ]
  },
  {
   "cell_type": "markdown",
   "metadata": {
    "collapsed": true
   },
   "source": [
    "Getting number of posts in selected vk group."
   ]
  },
  {
   "cell_type": "code",
   "execution_count": 3,
   "metadata": {
    "collapsed": false
   },
   "outputs": [
    {
     "name": "stdout",
     "output_type": "stream",
     "text": [
      "Number of posts in selected group:  14415\n"
     ]
    }
   ],
   "source": [
    "selected_group = 'hse_overheard' # no other ideas :c\n",
    "posts_number = vk_api.wall.get(domain=selected_group)[0] # number of posts is stored in first element\n",
    "print('Number of posts in selected group: ', posts_number - 1)"
   ]
  },
  {
   "cell_type": "markdown",
   "metadata": {
    "collapsed": false
   },
   "source": [
    "Writing a function to parse more, than 100 posts from group."
   ]
  },
  {
   "cell_type": "code",
   "execution_count": 4,
   "metadata": {
    "collapsed": true
   },
   "outputs": [],
   "source": [
    "def load_all_posts(page, n_posts, api):\n",
    "    all_posts = api.wall.get(domain=page, count=n_posts)\n",
    "    n_loaded = len(all_posts)\n",
    "    while n_loaded < n_posts: # loop to load more, than 100 posts\n",
    "        s = api.wall.get(domain=page, offset=n_loaded, count=(n_posts - n_loaded)) # update offset\n",
    "        all_posts += s[1:] # no need for first element\n",
    "        n_loaded += len(s) - 1 # update n_loaded\n",
    "    return all_posts"
   ]
  },
  {
   "cell_type": "markdown",
   "metadata": {
    "collapsed": false
   },
   "source": [
    "Loading all posts from group for future analysis"
   ]
  },
  {
   "cell_type": "code",
   "execution_count": 5,
   "metadata": {
    "collapsed": false
   },
   "outputs": [
    {
     "name": "stdout",
     "output_type": "stream",
     "text": [
      "Number of loaded posts:  1250\n"
     ]
    }
   ],
   "source": [
    "try:\n",
    "    loaded_posts = load_all_posts(page=selected_group, n_posts=1251, api=vk_api)[1:] # no need for posts number element\n",
    "    print('Number of loaded posts: ', len(loaded_posts))\n",
    "except: # timout errors are often to occur\n",
    "    print('Error occured! Try again.')"
   ]
  },
  {
   "cell_type": "markdown",
   "metadata": {},
   "source": [
    "# 2. Data preprocessing"
   ]
  },
  {
   "cell_type": "markdown",
   "metadata": {
    "collapsed": false
   },
   "source": [
    "Loading required libs to preprocess data."
   ]
  },
  {
   "cell_type": "code",
   "execution_count": 6,
   "metadata": {
    "collapsed": false
   },
   "outputs": [],
   "source": [
    "#  !pip install pymorphy2 -q # silent install again\n",
    "# !pip install stop_words -q # needed to remove stop words\n",
    "from stop_words import get_stop_words\n",
    "import pymorphy2 # need this one to convert words to normal time\n",
    "import datetime # needed to convert response date \n",
    "import string # needed to work with strings\n",
    "from nltk.tokenize import TweetTokenizer # needed to split text\n",
    "import pandas as pd # required to work with dataframes\n",
    "from ipywidgets import IntProgress # progressbar\n",
    "from IPython.display import display # progressbar"
   ]
  },
  {
   "cell_type": "markdown",
   "metadata": {
    "collapsed": true
   },
   "source": [
    "Writing functions to process text data. Converting words to normal form and removing punctuation here."
   ]
  },
  {
   "cell_type": "code",
   "execution_count": 7,
   "metadata": {
    "collapsed": false
   },
   "outputs": [],
   "source": [
    "def split_text(text):\n",
    "    tokenizer = TweetTokenizer()\n",
    "    return tokenizer.tokenize(text) # spliting text into words\n",
    "\n",
    "def convert_to_normal_form(words_list):\n",
    "    morph = pymorphy2.MorphAnalyzer()\n",
    "    normal_forms_list = []\n",
    "    for word in words_list:\n",
    "        if word not in string.punctuation and word[0] != \"<\":\n",
    "            norm_form = morph.parse(word)[0].normal_form #getting normal form of a word\n",
    "            normal_forms_list.append(norm_form) #adding it to list\n",
    "    return normal_forms_list\n",
    "\n",
    "def convert_text(text):\n",
    "    words_list = split_text(text) # spliting text into words\n",
    "    norm_words_list = convert_to_normal_form(words_list) # words into normal form\n",
    "    filtered_words = [w for w in norm_words_list if not w in get_stop_words('russian')] # removing stop words\n",
    "    return \" \".join(filtered_words) # joining words to a sentence again"
   ]
  },
  {
   "cell_type": "markdown",
   "metadata": {
    "collapsed": true
   },
   "source": [
    "Writing a function to convert received list into another with another data."
   ]
  },
  {
   "cell_type": "code",
   "execution_count": 8,
   "metadata": {
    "collapsed": true
   },
   "outputs": [],
   "source": [
    "a = pd.datetime.today()"
   ]
  },
  {
   "cell_type": "code",
   "execution_count": 9,
   "metadata": {
    "collapsed": false
   },
   "outputs": [],
   "source": [
    "def check_posttime(post, cur_date):\n",
    "    post_time = datetime.datetime.fromtimestamp(post['date'])\n",
    "    elapsed_time = (cur_date - post_time).seconds / 3600\n",
    "    elapsed_days = (cur_date - post_time).days\n",
    "    \n",
    "    if (elapsed_time < 1):\n",
    "        return 0\n",
    "    if (elapsed_time < 5):\n",
    "        return 1\n",
    "    if (elapsed_days < 1):\n",
    "        return 2\n",
    "    if (elapsed_days < 5):\n",
    "        return 3\n",
    "    if (elapsed_days < 10):\n",
    "        return 4\n",
    "    if (elapsed_days < 30):\n",
    "        return 5\n",
    "    if (elapsed_days < 90):\n",
    "        return 6\n",
    "    if (elapsed_days < 180):\n",
    "        return 7\n",
    "    if (elapsed_days < 365):\n",
    "        return 8\n",
    "    if (elapsed_days < 730):\n",
    "        return 9\n",
    "    return 10"
   ]
  },
  {
   "cell_type": "code",
   "execution_count": 10,
   "metadata": {
    "collapsed": false
   },
   "outputs": [],
   "source": [
    "def check_attachment(post):\n",
    "    tmp_dict = {'photo_attachment': 0, 'poll_attachment': 0, 'link_attachment': 0}\n",
    "    \n",
    "    if 'attachments' not in post.keys():\n",
    "        return tmp_dict\n",
    "    else:\n",
    "        for attachment in post['attachments']:\n",
    "            if attachment['type'] == 'photo':\n",
    "                tmp_dict['photo_attachment'] = 1\n",
    "            if attachment['type'] == 'poll':\n",
    "                tmp_dict['poll_attachment'] = 1\n",
    "            if attachment['type'] == 'link':\n",
    "                tmp_dict['link_attachment'] = 1\n",
    "        return tmp_dict"
   ]
  },
  {
   "cell_type": "code",
   "execution_count": 11,
   "metadata": {
    "collapsed": false
   },
   "outputs": [],
   "source": [
    "def convert_posts(posts_list):\n",
    "    progress = IntProgress() \n",
    "    progress.max = len(posts_list) # initializing progressbar\n",
    "    progress.description = 'Processing data convertion'\n",
    "    display(progress)\n",
    "    current_date = pd.datetime.today()\n",
    "    \n",
    "    updated_posts = [] # list of new posts' list structure\n",
    "    for i, post in enumerate(posts_list): \n",
    "        tmp_dict = {} # creating empty dictionary for each post\n",
    "        tmp_dict['likes_number'] = int(post['likes']['count']) # getting likes count\n",
    "        tmp_dict['post_text'] = convert_text(post['text']) # converting text into normal form\n",
    "        tmp_dict['long_text'] = 1 if len(post['text']) > 400 else 0 # calculating text length\n",
    "        post_date = datetime.datetime.fromtimestamp(post['date'])\n",
    "        tmp_dict['post_hour'] = int(post_date.strftime('%H')) # parsing only post hour\n",
    "        tmp_dict['post_month'] = int(post_date.strftime('%m')) # and post month\n",
    "        # tmp_dict['signed'] = int(post['from_id'] != -57354358) # checking whether post is signed or not\n",
    "        # checking if any attacment exists\n",
    "        tmp_dict['time_elapsed'] = check_posttime(post, current_date)\n",
    "        tmp_dict.update(check_attachment(post))\n",
    "        tmp_dict['near_exam_week'] = 1 if post_date.month in [10, 12, 3, 6] else 0\n",
    "        # tmp_dict['pinned'] = 1 if 'is_pinned' in post.keys() else 0 # cheking if post is pinned\n",
    "        updated_posts.append(tmp_dict)\n",
    "        progress.value += 1 # increasing progressbar value\n",
    "    progress.description = 'Done convertion!'\n",
    "    return updated_posts"
   ]
  },
  {
   "cell_type": "markdown",
   "metadata": {
    "collapsed": false
   },
   "source": [
    "Converting list of posts into new more convenient one."
   ]
  },
  {
   "cell_type": "code",
   "execution_count": 12,
   "metadata": {
    "collapsed": false
   },
   "outputs": [],
   "source": [
    "converted_posts = convert_posts(loaded_posts)"
   ]
  },
  {
   "cell_type": "markdown",
   "metadata": {
    "collapsed": true
   },
   "source": [
    "# 3. Creating object-feature matrix"
   ]
  },
  {
   "cell_type": "markdown",
   "metadata": {},
   "source": [
    "Loading pandas"
   ]
  },
  {
   "cell_type": "code",
   "execution_count": 13,
   "metadata": {
    "collapsed": true
   },
   "outputs": [],
   "source": [
    "import pandas as pd\n",
    "from sklearn.preprocessing import StandardScaler"
   ]
  },
  {
   "cell_type": "markdown",
   "metadata": {},
   "source": [
    "Creating dataframe from parsed data"
   ]
  },
  {
   "cell_type": "code",
   "execution_count": 14,
   "metadata": {
    "collapsed": false
   },
   "outputs": [
    {
     "data": {
      "text/html": [
       "<div>\n",
       "<table border=\"1\" class=\"dataframe\">\n",
       "  <thead>\n",
       "    <tr style=\"text-align: right;\">\n",
       "      <th></th>\n",
       "      <th>likes_number</th>\n",
       "      <th>link_attachment</th>\n",
       "      <th>long_text</th>\n",
       "      <th>near_exam_week</th>\n",
       "      <th>photo_attachment</th>\n",
       "      <th>poll_attachment</th>\n",
       "      <th>post_hour</th>\n",
       "      <th>post_month</th>\n",
       "      <th>post_text</th>\n",
       "      <th>time_elapsed</th>\n",
       "    </tr>\n",
       "  </thead>\n",
       "  <tbody>\n",
       "    <tr>\n",
       "      <th>0</th>\n",
       "      <td>0</td>\n",
       "      <td>0</td>\n",
       "      <td>0</td>\n",
       "      <td>0</td>\n",
       "      <td>0</td>\n",
       "      <td>0</td>\n",
       "      <td>10</td>\n",
       "      <td>7</td>\n",
       "      <td>результат пгаснуть :(</td>\n",
       "      <td>0</td>\n",
       "    </tr>\n",
       "    <tr>\n",
       "      <th>1</th>\n",
       "      <td>2</td>\n",
       "      <td>0</td>\n",
       "      <td>0</td>\n",
       "      <td>0</td>\n",
       "      <td>0</td>\n",
       "      <td>0</td>\n",
       "      <td>1</td>\n",
       "      <td>7</td>\n",
       "      <td>посоветовать хороший фильм поднятие айкью моти...</td>\n",
       "      <td>2</td>\n",
       "    </tr>\n",
       "    <tr>\n",
       "      <th>2</th>\n",
       "      <td>0</td>\n",
       "      <td>0</td>\n",
       "      <td>0</td>\n",
       "      <td>0</td>\n",
       "      <td>0</td>\n",
       "      <td>0</td>\n",
       "      <td>1</td>\n",
       "      <td>7</td>\n",
       "      <td>айда кататься самокат парк горький</td>\n",
       "      <td>2</td>\n",
       "    </tr>\n",
       "    <tr>\n",
       "      <th>3</th>\n",
       "      <td>10</td>\n",
       "      <td>0</td>\n",
       "      <td>0</td>\n",
       "      <td>0</td>\n",
       "      <td>0</td>\n",
       "      <td>0</td>\n",
       "      <td>0</td>\n",
       "      <td>7</td>\n",
       "      <td>god tier миэф эконом пи матфак good tier соцфа...</td>\n",
       "      <td>2</td>\n",
       "    </tr>\n",
       "    <tr>\n",
       "      <th>4</th>\n",
       "      <td>1</td>\n",
       "      <td>0</td>\n",
       "      <td>0</td>\n",
       "      <td>0</td>\n",
       "      <td>0</td>\n",
       "      <td>0</td>\n",
       "      <td>0</td>\n",
       "      <td>7</td>\n",
       "      <td>вышка ежегодно вылетать куча народ сей появить...</td>\n",
       "      <td>2</td>\n",
       "    </tr>\n",
       "  </tbody>\n",
       "</table>\n",
       "</div>"
      ],
      "text/plain": [
       "   likes_number  link_attachment  long_text  near_exam_week  photo_attachment  \\\n",
       "0             0                0          0               0                 0   \n",
       "1             2                0          0               0                 0   \n",
       "2             0                0          0               0                 0   \n",
       "3            10                0          0               0                 0   \n",
       "4             1                0          0               0                 0   \n",
       "\n",
       "   poll_attachment  post_hour  post_month  \\\n",
       "0                0         10           7   \n",
       "1                0          1           7   \n",
       "2                0          1           7   \n",
       "3                0          0           7   \n",
       "4                0          0           7   \n",
       "\n",
       "                                           post_text  time_elapsed  \n",
       "0                              результат пгаснуть :(             0  \n",
       "1  посоветовать хороший фильм поднятие айкью моти...             2  \n",
       "2                 айда кататься самокат парк горький             2  \n",
       "3  god tier миэф эконом пи матфак good tier соцфа...             2  \n",
       "4  вышка ежегодно вылетать куча народ сей появить...             2  "
      ]
     },
     "execution_count": 14,
     "metadata": {},
     "output_type": "execute_result"
    }
   ],
   "source": [
    "posts_frame = pd.DataFrame(converted_posts)\n",
    "posts_frame.head()"
   ]
  },
  {
   "cell_type": "markdown",
   "metadata": {
    "collapsed": false
   },
   "source": [
    "And describing posts data"
   ]
  },
  {
   "cell_type": "code",
   "execution_count": 15,
   "metadata": {
    "collapsed": false
   },
   "outputs": [
    {
     "data": {
      "text/html": [
       "<div>\n",
       "<table border=\"1\" class=\"dataframe\">\n",
       "  <thead>\n",
       "    <tr style=\"text-align: right;\">\n",
       "      <th></th>\n",
       "      <th>likes_number</th>\n",
       "      <th>link_attachment</th>\n",
       "      <th>long_text</th>\n",
       "      <th>near_exam_week</th>\n",
       "      <th>photo_attachment</th>\n",
       "      <th>poll_attachment</th>\n",
       "      <th>post_hour</th>\n",
       "      <th>post_month</th>\n",
       "      <th>time_elapsed</th>\n",
       "    </tr>\n",
       "  </thead>\n",
       "  <tbody>\n",
       "    <tr>\n",
       "      <th>count</th>\n",
       "      <td>1250.000000</td>\n",
       "      <td>1250.000000</td>\n",
       "      <td>1250.000000</td>\n",
       "      <td>1250.000000</td>\n",
       "      <td>1250.000000</td>\n",
       "      <td>1250.000000</td>\n",
       "      <td>1250.000000</td>\n",
       "      <td>1250.000000</td>\n",
       "      <td>1250.000000</td>\n",
       "    </tr>\n",
       "    <tr>\n",
       "      <th>mean</th>\n",
       "      <td>8.740800</td>\n",
       "      <td>0.011200</td>\n",
       "      <td>0.129600</td>\n",
       "      <td>0.276000</td>\n",
       "      <td>0.084000</td>\n",
       "      <td>0.028000</td>\n",
       "      <td>15.414400</td>\n",
       "      <td>5.650400</td>\n",
       "      <td>5.339200</td>\n",
       "    </tr>\n",
       "    <tr>\n",
       "      <th>std</th>\n",
       "      <td>18.776082</td>\n",
       "      <td>0.105278</td>\n",
       "      <td>0.335997</td>\n",
       "      <td>0.447196</td>\n",
       "      <td>0.277499</td>\n",
       "      <td>0.165039</td>\n",
       "      <td>6.736808</td>\n",
       "      <td>0.933422</td>\n",
       "      <td>1.451147</td>\n",
       "    </tr>\n",
       "    <tr>\n",
       "      <th>min</th>\n",
       "      <td>0.000000</td>\n",
       "      <td>0.000000</td>\n",
       "      <td>0.000000</td>\n",
       "      <td>0.000000</td>\n",
       "      <td>0.000000</td>\n",
       "      <td>0.000000</td>\n",
       "      <td>0.000000</td>\n",
       "      <td>4.000000</td>\n",
       "      <td>0.000000</td>\n",
       "    </tr>\n",
       "    <tr>\n",
       "      <th>25%</th>\n",
       "      <td>0.000000</td>\n",
       "      <td>0.000000</td>\n",
       "      <td>0.000000</td>\n",
       "      <td>0.000000</td>\n",
       "      <td>0.000000</td>\n",
       "      <td>0.000000</td>\n",
       "      <td>12.000000</td>\n",
       "      <td>5.000000</td>\n",
       "      <td>5.000000</td>\n",
       "    </tr>\n",
       "    <tr>\n",
       "      <th>50%</th>\n",
       "      <td>3.000000</td>\n",
       "      <td>0.000000</td>\n",
       "      <td>0.000000</td>\n",
       "      <td>0.000000</td>\n",
       "      <td>0.000000</td>\n",
       "      <td>0.000000</td>\n",
       "      <td>17.000000</td>\n",
       "      <td>6.000000</td>\n",
       "      <td>6.000000</td>\n",
       "    </tr>\n",
       "    <tr>\n",
       "      <th>75%</th>\n",
       "      <td>9.000000</td>\n",
       "      <td>0.000000</td>\n",
       "      <td>0.000000</td>\n",
       "      <td>1.000000</td>\n",
       "      <td>0.000000</td>\n",
       "      <td>0.000000</td>\n",
       "      <td>20.000000</td>\n",
       "      <td>6.000000</td>\n",
       "      <td>6.000000</td>\n",
       "    </tr>\n",
       "    <tr>\n",
       "      <th>max</th>\n",
       "      <td>332.000000</td>\n",
       "      <td>1.000000</td>\n",
       "      <td>1.000000</td>\n",
       "      <td>1.000000</td>\n",
       "      <td>1.000000</td>\n",
       "      <td>1.000000</td>\n",
       "      <td>23.000000</td>\n",
       "      <td>7.000000</td>\n",
       "      <td>7.000000</td>\n",
       "    </tr>\n",
       "  </tbody>\n",
       "</table>\n",
       "</div>"
      ],
      "text/plain": [
       "       likes_number  link_attachment    long_text  near_exam_week  \\\n",
       "count   1250.000000      1250.000000  1250.000000     1250.000000   \n",
       "mean       8.740800         0.011200     0.129600        0.276000   \n",
       "std       18.776082         0.105278     0.335997        0.447196   \n",
       "min        0.000000         0.000000     0.000000        0.000000   \n",
       "25%        0.000000         0.000000     0.000000        0.000000   \n",
       "50%        3.000000         0.000000     0.000000        0.000000   \n",
       "75%        9.000000         0.000000     0.000000        1.000000   \n",
       "max      332.000000         1.000000     1.000000        1.000000   \n",
       "\n",
       "       photo_attachment  poll_attachment    post_hour   post_month  \\\n",
       "count       1250.000000      1250.000000  1250.000000  1250.000000   \n",
       "mean           0.084000         0.028000    15.414400     5.650400   \n",
       "std            0.277499         0.165039     6.736808     0.933422   \n",
       "min            0.000000         0.000000     0.000000     4.000000   \n",
       "25%            0.000000         0.000000    12.000000     5.000000   \n",
       "50%            0.000000         0.000000    17.000000     6.000000   \n",
       "75%            0.000000         0.000000    20.000000     6.000000   \n",
       "max            1.000000         1.000000    23.000000     7.000000   \n",
       "\n",
       "       time_elapsed  \n",
       "count   1250.000000  \n",
       "mean       5.339200  \n",
       "std        1.451147  \n",
       "min        0.000000  \n",
       "25%        5.000000  \n",
       "50%        6.000000  \n",
       "75%        6.000000  \n",
       "max        7.000000  "
      ]
     },
     "execution_count": 15,
     "metadata": {},
     "output_type": "execute_result"
    }
   ],
   "source": [
    "posts_frame.describe()"
   ]
  },
  {
   "cell_type": "markdown",
   "metadata": {
    "collapsed": false
   },
   "source": [
    "Creating object-feature matrix"
   ]
  },
  {
   "cell_type": "code",
   "execution_count": 16,
   "metadata": {
    "collapsed": false
   },
   "outputs": [],
   "source": [
    "from sklearn.feature_extraction.text import TfidfVectorizer # loading count vectorizer\n",
    "\n",
    "cv = TfidfVectorizer(norm='l1', max_features = 200, analyzer = 'word', strip_accents='unicode', binary=True)\n",
    "train_features = cv.fit_transform(posts_frame['post_text']).toarray() # vectorizing texts\n",
    "train_frame = posts_frame.join(pd.DataFrame(train_features, columns=cv.get_feature_names())) # transfering it to pandas\n",
    "all_data = train_frame.copy()\n",
    "\n",
    "value_frame = train_frame['likes_number']\n",
    "train_frame.drop(['likes_number','post_text'],inplace=True,axis=1,errors='ignore') # removing unnecessary columns"
   ]
  },
  {
   "cell_type": "code",
   "execution_count": 17,
   "metadata": {
    "collapsed": false
   },
   "outputs": [
    {
     "data": {
      "text/html": [
       "<div>\n",
       "<table border=\"1\" class=\"dataframe\">\n",
       "  <thead>\n",
       "    <tr style=\"text-align: right;\">\n",
       "      <th></th>\n",
       "      <th>link_attachment</th>\n",
       "      <th>long_text</th>\n",
       "      <th>near_exam_week</th>\n",
       "      <th>photo_attachment</th>\n",
       "      <th>poll_attachment</th>\n",
       "      <th>post_hour</th>\n",
       "      <th>post_month</th>\n",
       "      <th>time_elapsed</th>\n",
       "      <th>10</th>\n",
       "      <th>100</th>\n",
       "      <th>...</th>\n",
       "      <th>ходить</th>\n",
       "      <th>хорошии</th>\n",
       "      <th>хотеться</th>\n",
       "      <th>читать</th>\n",
       "      <th>что</th>\n",
       "      <th>школа</th>\n",
       "      <th>экзамен</th>\n",
       "      <th>эконом</th>\n",
       "      <th>экономика</th>\n",
       "      <th>язык</th>\n",
       "    </tr>\n",
       "  </thead>\n",
       "  <tbody>\n",
       "    <tr>\n",
       "      <th>count</th>\n",
       "      <td>1250.000000</td>\n",
       "      <td>1250.000000</td>\n",
       "      <td>1250.000000</td>\n",
       "      <td>1250.000000</td>\n",
       "      <td>1250.000000</td>\n",
       "      <td>1250.000000</td>\n",
       "      <td>1250.000000</td>\n",
       "      <td>1250.000000</td>\n",
       "      <td>1250.000000</td>\n",
       "      <td>1250.000000</td>\n",
       "      <td>...</td>\n",
       "      <td>1250.000000</td>\n",
       "      <td>1250.000000</td>\n",
       "      <td>1250.000000</td>\n",
       "      <td>1250.000000</td>\n",
       "      <td>1250.000000</td>\n",
       "      <td>1250.000000</td>\n",
       "      <td>1250.000000</td>\n",
       "      <td>1250.000000</td>\n",
       "      <td>1250.000000</td>\n",
       "      <td>1250.000000</td>\n",
       "    </tr>\n",
       "    <tr>\n",
       "      <th>mean</th>\n",
       "      <td>0.011200</td>\n",
       "      <td>0.129600</td>\n",
       "      <td>0.276000</td>\n",
       "      <td>0.084000</td>\n",
       "      <td>0.028000</td>\n",
       "      <td>15.414400</td>\n",
       "      <td>5.650400</td>\n",
       "      <td>5.339200</td>\n",
       "      <td>0.003947</td>\n",
       "      <td>0.001787</td>\n",
       "      <td>...</td>\n",
       "      <td>0.005485</td>\n",
       "      <td>0.012997</td>\n",
       "      <td>0.004203</td>\n",
       "      <td>0.002788</td>\n",
       "      <td>0.003371</td>\n",
       "      <td>0.003999</td>\n",
       "      <td>0.004890</td>\n",
       "      <td>0.004829</td>\n",
       "      <td>0.004653</td>\n",
       "      <td>0.004103</td>\n",
       "    </tr>\n",
       "    <tr>\n",
       "      <th>std</th>\n",
       "      <td>0.105278</td>\n",
       "      <td>0.335997</td>\n",
       "      <td>0.447196</td>\n",
       "      <td>0.277499</td>\n",
       "      <td>0.165039</td>\n",
       "      <td>6.736808</td>\n",
       "      <td>0.933422</td>\n",
       "      <td>1.451147</td>\n",
       "      <td>0.036752</td>\n",
       "      <td>0.019275</td>\n",
       "      <td>...</td>\n",
       "      <td>0.046919</td>\n",
       "      <td>0.076672</td>\n",
       "      <td>0.027937</td>\n",
       "      <td>0.030900</td>\n",
       "      <td>0.027092</td>\n",
       "      <td>0.029601</td>\n",
       "      <td>0.038003</td>\n",
       "      <td>0.039838</td>\n",
       "      <td>0.031124</td>\n",
       "      <td>0.040699</td>\n",
       "    </tr>\n",
       "    <tr>\n",
       "      <th>min</th>\n",
       "      <td>0.000000</td>\n",
       "      <td>0.000000</td>\n",
       "      <td>0.000000</td>\n",
       "      <td>0.000000</td>\n",
       "      <td>0.000000</td>\n",
       "      <td>0.000000</td>\n",
       "      <td>4.000000</td>\n",
       "      <td>0.000000</td>\n",
       "      <td>0.000000</td>\n",
       "      <td>0.000000</td>\n",
       "      <td>...</td>\n",
       "      <td>0.000000</td>\n",
       "      <td>0.000000</td>\n",
       "      <td>0.000000</td>\n",
       "      <td>0.000000</td>\n",
       "      <td>0.000000</td>\n",
       "      <td>0.000000</td>\n",
       "      <td>0.000000</td>\n",
       "      <td>0.000000</td>\n",
       "      <td>0.000000</td>\n",
       "      <td>0.000000</td>\n",
       "    </tr>\n",
       "    <tr>\n",
       "      <th>25%</th>\n",
       "      <td>0.000000</td>\n",
       "      <td>0.000000</td>\n",
       "      <td>0.000000</td>\n",
       "      <td>0.000000</td>\n",
       "      <td>0.000000</td>\n",
       "      <td>12.000000</td>\n",
       "      <td>5.000000</td>\n",
       "      <td>5.000000</td>\n",
       "      <td>0.000000</td>\n",
       "      <td>0.000000</td>\n",
       "      <td>...</td>\n",
       "      <td>0.000000</td>\n",
       "      <td>0.000000</td>\n",
       "      <td>0.000000</td>\n",
       "      <td>0.000000</td>\n",
       "      <td>0.000000</td>\n",
       "      <td>0.000000</td>\n",
       "      <td>0.000000</td>\n",
       "      <td>0.000000</td>\n",
       "      <td>0.000000</td>\n",
       "      <td>0.000000</td>\n",
       "    </tr>\n",
       "    <tr>\n",
       "      <th>50%</th>\n",
       "      <td>0.000000</td>\n",
       "      <td>0.000000</td>\n",
       "      <td>0.000000</td>\n",
       "      <td>0.000000</td>\n",
       "      <td>0.000000</td>\n",
       "      <td>17.000000</td>\n",
       "      <td>6.000000</td>\n",
       "      <td>6.000000</td>\n",
       "      <td>0.000000</td>\n",
       "      <td>0.000000</td>\n",
       "      <td>...</td>\n",
       "      <td>0.000000</td>\n",
       "      <td>0.000000</td>\n",
       "      <td>0.000000</td>\n",
       "      <td>0.000000</td>\n",
       "      <td>0.000000</td>\n",
       "      <td>0.000000</td>\n",
       "      <td>0.000000</td>\n",
       "      <td>0.000000</td>\n",
       "      <td>0.000000</td>\n",
       "      <td>0.000000</td>\n",
       "    </tr>\n",
       "    <tr>\n",
       "      <th>75%</th>\n",
       "      <td>0.000000</td>\n",
       "      <td>0.000000</td>\n",
       "      <td>1.000000</td>\n",
       "      <td>0.000000</td>\n",
       "      <td>0.000000</td>\n",
       "      <td>20.000000</td>\n",
       "      <td>6.000000</td>\n",
       "      <td>6.000000</td>\n",
       "      <td>0.000000</td>\n",
       "      <td>0.000000</td>\n",
       "      <td>...</td>\n",
       "      <td>0.000000</td>\n",
       "      <td>0.000000</td>\n",
       "      <td>0.000000</td>\n",
       "      <td>0.000000</td>\n",
       "      <td>0.000000</td>\n",
       "      <td>0.000000</td>\n",
       "      <td>0.000000</td>\n",
       "      <td>0.000000</td>\n",
       "      <td>0.000000</td>\n",
       "      <td>0.000000</td>\n",
       "    </tr>\n",
       "    <tr>\n",
       "      <th>max</th>\n",
       "      <td>1.000000</td>\n",
       "      <td>1.000000</td>\n",
       "      <td>1.000000</td>\n",
       "      <td>1.000000</td>\n",
       "      <td>1.000000</td>\n",
       "      <td>23.000000</td>\n",
       "      <td>7.000000</td>\n",
       "      <td>7.000000</td>\n",
       "      <td>1.000000</td>\n",
       "      <td>0.393080</td>\n",
       "      <td>...</td>\n",
       "      <td>1.000000</td>\n",
       "      <td>1.000000</td>\n",
       "      <td>0.355244</td>\n",
       "      <td>0.623662</td>\n",
       "      <td>0.582935</td>\n",
       "      <td>0.454604</td>\n",
       "      <td>0.512249</td>\n",
       "      <td>0.579380</td>\n",
       "      <td>0.466193</td>\n",
       "      <td>1.000000</td>\n",
       "    </tr>\n",
       "  </tbody>\n",
       "</table>\n",
       "<p>8 rows × 208 columns</p>\n",
       "</div>"
      ],
      "text/plain": [
       "       link_attachment    long_text  near_exam_week  photo_attachment  \\\n",
       "count      1250.000000  1250.000000     1250.000000       1250.000000   \n",
       "mean          0.011200     0.129600        0.276000          0.084000   \n",
       "std           0.105278     0.335997        0.447196          0.277499   \n",
       "min           0.000000     0.000000        0.000000          0.000000   \n",
       "25%           0.000000     0.000000        0.000000          0.000000   \n",
       "50%           0.000000     0.000000        0.000000          0.000000   \n",
       "75%           0.000000     0.000000        1.000000          0.000000   \n",
       "max           1.000000     1.000000        1.000000          1.000000   \n",
       "\n",
       "       poll_attachment    post_hour   post_month  time_elapsed           10  \\\n",
       "count      1250.000000  1250.000000  1250.000000   1250.000000  1250.000000   \n",
       "mean          0.028000    15.414400     5.650400      5.339200     0.003947   \n",
       "std           0.165039     6.736808     0.933422      1.451147     0.036752   \n",
       "min           0.000000     0.000000     4.000000      0.000000     0.000000   \n",
       "25%           0.000000    12.000000     5.000000      5.000000     0.000000   \n",
       "50%           0.000000    17.000000     6.000000      6.000000     0.000000   \n",
       "75%           0.000000    20.000000     6.000000      6.000000     0.000000   \n",
       "max           1.000000    23.000000     7.000000      7.000000     1.000000   \n",
       "\n",
       "               100     ...            ходить      хорошии     хотеться  \\\n",
       "count  1250.000000     ...       1250.000000  1250.000000  1250.000000   \n",
       "mean      0.001787     ...          0.005485     0.012997     0.004203   \n",
       "std       0.019275     ...          0.046919     0.076672     0.027937   \n",
       "min       0.000000     ...          0.000000     0.000000     0.000000   \n",
       "25%       0.000000     ...          0.000000     0.000000     0.000000   \n",
       "50%       0.000000     ...          0.000000     0.000000     0.000000   \n",
       "75%       0.000000     ...          0.000000     0.000000     0.000000   \n",
       "max       0.393080     ...          1.000000     1.000000     0.355244   \n",
       "\n",
       "            читать          что        школа      экзамен       эконом  \\\n",
       "count  1250.000000  1250.000000  1250.000000  1250.000000  1250.000000   \n",
       "mean      0.002788     0.003371     0.003999     0.004890     0.004829   \n",
       "std       0.030900     0.027092     0.029601     0.038003     0.039838   \n",
       "min       0.000000     0.000000     0.000000     0.000000     0.000000   \n",
       "25%       0.000000     0.000000     0.000000     0.000000     0.000000   \n",
       "50%       0.000000     0.000000     0.000000     0.000000     0.000000   \n",
       "75%       0.000000     0.000000     0.000000     0.000000     0.000000   \n",
       "max       0.623662     0.582935     0.454604     0.512249     0.579380   \n",
       "\n",
       "         экономика         язык  \n",
       "count  1250.000000  1250.000000  \n",
       "mean      0.004653     0.004103  \n",
       "std       0.031124     0.040699  \n",
       "min       0.000000     0.000000  \n",
       "25%       0.000000     0.000000  \n",
       "50%       0.000000     0.000000  \n",
       "75%       0.000000     0.000000  \n",
       "max       0.466193     1.000000  \n",
       "\n",
       "[8 rows x 208 columns]"
      ]
     },
     "execution_count": 17,
     "metadata": {},
     "output_type": "execute_result"
    }
   ],
   "source": [
    "train_frame.describe()"
   ]
  },
  {
   "cell_type": "markdown",
   "metadata": {},
   "source": [
    "Scaling our features"
   ]
  },
  {
   "cell_type": "code",
   "execution_count": 18,
   "metadata": {
    "collapsed": false
   },
   "outputs": [],
   "source": [
    "scaler = StandardScaler()\n",
    "train_frame = scaler.fit_transform(train_frame)"
   ]
  },
  {
   "cell_type": "markdown",
   "metadata": {},
   "source": [
    "Saving train frame to file"
   ]
  },
  {
   "cell_type": "code",
   "execution_count": 19,
   "metadata": {
    "collapsed": true
   },
   "outputs": [],
   "source": [
    "# train_frame.to_csv('traindata.csv')"
   ]
  },
  {
   "cell_type": "markdown",
   "metadata": {},
   "source": [
    "# 4. Comparing different methods"
   ]
  },
  {
   "cell_type": "markdown",
   "metadata": {},
   "source": [
    "Splitting into train and test samples"
   ]
  },
  {
   "cell_type": "code",
   "execution_count": 20,
   "metadata": {
    "collapsed": false
   },
   "outputs": [],
   "source": [
    "from sklearn.cross_validation import train_test_split\n",
    "\n",
    "# Splitting it into test and train samples\n",
    "X_train, X_test, y_train, y_test = train_test_split(train_frame, value_frame, test_size=0.3, random_state=42)"
   ]
  },
  {
   "cell_type": "markdown",
   "metadata": {},
   "source": [
    "Importing libs"
   ]
  },
  {
   "cell_type": "code",
   "execution_count": 21,
   "metadata": {
    "collapsed": true
   },
   "outputs": [],
   "source": [
    "from sklearn.linear_model import LinearRegression\n",
    "from sklearn.linear_model import Lasso\n",
    "from sklearn.linear_model import Ridge\n",
    "from sklearn.linear_model import LinearRegression\n",
    "from sklearn.metrics import mean_squared_error\n",
    "from sklearn.metrics import r2_score\n",
    "from sklearn.grid_search import GridSearchCV\n",
    "from sklearn.neighbors import KNeighborsRegressor\n",
    "from sklearn import tree\n",
    "from sklearn.ensemble import RandomForestRegressor\n",
    "import numpy as np\n"
   ]
  },
  {
   "cell_type": "code",
   "execution_count": 22,
   "metadata": {
    "collapsed": false
   },
   "outputs": [],
   "source": [
    "def compare(est, param, est_name):\n",
    "    cv = GridSearchCV(est, param, n_jobs = 2, scoring = 'r2')\n",
    "    cv.fit(X_train, y_train);\n",
    "    print('CV best score for', est_name, ': ', cv.best_score_,'. (R^2)')\n",
    "    \n",
    "    # predicted = cv.predict(X_test)\n",
    "    # mse = mean_squared_error(y_test, predicted)\n",
    "    # print('MSE for', est_name, ':' , mse)\n",
    "    # r2 = r2_score(y_test, predicted)\n",
    "    # print('R^2 for', est_name, ':' , r2)\n",
    "    \n",
    "    print('Getting best params: ')\n",
    "    print(cv.best_params_)"
   ]
  },
  {
   "cell_type": "markdown",
   "metadata": {},
   "source": [
    "## 4.1 Linear regression"
   ]
  },
  {
   "cell_type": "markdown",
   "metadata": {},
   "source": [
    "### 4.1.1 Simple linear regression"
   ]
  },
  {
   "cell_type": "code",
   "execution_count": 23,
   "metadata": {
    "collapsed": false
   },
   "outputs": [
    {
     "name": "stdout",
     "output_type": "stream",
     "text": [
      "CV best score for simple linear regression :  -0.222990987117 . (R^2)\n",
      "Getting best params: \n",
      "{'normalize': True, 'fit_intercept': True}\n"
     ]
    }
   ],
   "source": [
    "parameters = {'fit_intercept':[True, False],'normalize':[True, False]}\n",
    "compare(LinearRegression(), parameters, 'simple linear regression')"
   ]
  },
  {
   "cell_type": "markdown",
   "metadata": {},
   "source": [
    "### 4.1.2 Linear regression with L1 regularization"
   ]
  },
  {
   "cell_type": "code",
   "execution_count": 24,
   "metadata": {
    "collapsed": false
   },
   "outputs": [
    {
     "name": "stdout",
     "output_type": "stream",
     "text": [
      "CV best score for linear regression with L1 regularization :  0.151516939175 . (R^2)\n",
      "Getting best params: \n",
      "{'alpha': 1, 'normalize': False, 'selection': 'random', 'positive': True}\n"
     ]
    }
   ],
   "source": [
    "parameters = {'alpha':np.arange(1, 100, 5), 'positive':[True, False],'normalize':[True, False], \n",
    "              'selection':['cyclic', 'random']}\n",
    "compare(Lasso(), parameters, 'linear regression with L1 regularization')"
   ]
  },
  {
   "cell_type": "markdown",
   "metadata": {},
   "source": [
    "### 4.1.3 Linear regression with L2 regularization"
   ]
  },
  {
   "cell_type": "code",
   "execution_count": 25,
   "metadata": {
    "collapsed": false
   },
   "outputs": [
    {
     "name": "stdout",
     "output_type": "stream",
     "text": [
      "CV best score for linear regression with L2 regularization :  0.149686083993 . (R^2)\n",
      "Getting best params: \n",
      "{'alpha': 512.86138399136485, 'normalize': False, 'solver': 'lsqr', 'fit_intercept': True}\n"
     ]
    }
   ],
   "source": [
    "parameters = {'alpha':np.logspace(1.0, 10.0, 101.00), 'fit_intercept':[True, False],'normalize':[True, False],\n",
    "              'solver':['svd', 'cholesky', 'lsqr', 'sparse_cg', 'sag', 'auto']}\n",
    "compare(Ridge(), parameters, 'linear regression with L2 regularization')"
   ]
  },
  {
   "cell_type": "markdown",
   "metadata": {},
   "source": [
    "## 4.2 Decision trees and random forests"
   ]
  },
  {
   "cell_type": "markdown",
   "metadata": {},
   "source": [
    "### 4.2.1 DecisionTreeRegressor"
   ]
  },
  {
   "cell_type": "code",
   "execution_count": 26,
   "metadata": {
    "collapsed": false
   },
   "outputs": [
    {
     "name": "stdout",
     "output_type": "stream",
     "text": [
      "CV best score for decision tree classifier :  0.201048731004 . (R^2)\n",
      "Getting best params: \n",
      "{'presort': True, 'max_features': 'auto', 'splitter': 'random', 'max_depth': 1}\n"
     ]
    }
   ],
   "source": [
    "parameters = {'presort':[True, False],'max_depth': np.arange(1, 20), 'splitter':['random', 'best'],\n",
    "             'max_features':['auto', 'sqrt', 'log2', None]}\n",
    "compare(tree.DecisionTreeRegressor(), parameters, 'decision tree classifier')"
   ]
  },
  {
   "cell_type": "markdown",
   "metadata": {},
   "source": [
    "### 4.2.2 RandomForestRegressor"
   ]
  },
  {
   "cell_type": "code",
   "execution_count": 27,
   "metadata": {
    "collapsed": false
   },
   "outputs": [
    {
     "name": "stdout",
     "output_type": "stream",
     "text": [
      "CV best score for random forest classifier :  0.143505898604 . (R^2)\n",
      "Getting best params: \n",
      "{'max_features': 'log2', 'n_estimators': 30}\n"
     ]
    }
   ],
   "source": [
    "parameters = {'n_estimators':[10, 20, 30],\n",
    "             'max_features':['auto', 'sqrt', 'log2', None]}\n",
    "compare(RandomForestRegressor(), parameters, 'random forest classifier')"
   ]
  },
  {
   "cell_type": "markdown",
   "metadata": {},
   "source": [
    "### 4.3 kNN"
   ]
  },
  {
   "cell_type": "code",
   "execution_count": 28,
   "metadata": {
    "collapsed": false
   },
   "outputs": [
    {
     "name": "stdout",
     "output_type": "stream",
     "text": [
      "CV best score for kNN :  0.119745072808 . (R^2)\n",
      "Getting best params: \n",
      "{'leaf_size': 40, 'algorithm': 'auto', 'n_neighbors': 17}\n"
     ]
    }
   ],
   "source": [
    "parameters = {'leaf_size':np.arange(30, 100, 10),'n_neighbors': np.arange(5, 20), \n",
    "              'algorithm':['auto', 'ball_tree', 'kd_tree', 'brute']}\n",
    "compare(KNeighborsRegressor(), parameters, 'kNN')"
   ]
  },
  {
   "cell_type": "markdown",
   "metadata": {
    "collapsed": true
   },
   "source": [
    "Best prediction is with linear regression with L2 regularization."
   ]
  },
  {
   "cell_type": "markdown",
   "metadata": {},
   "source": [
    "# 5. Working with Lasso"
   ]
  },
  {
   "cell_type": "markdown",
   "metadata": {},
   "source": [
    "Fitting Lasso"
   ]
  },
  {
   "cell_type": "code",
   "execution_count": null,
   "metadata": {
    "collapsed": false
   },
   "outputs": [],
   "source": [
    "ls = Lasso(selection='random', alpha=1, normalize=False, positive=False)\n",
    "ls.fit(X_train, y_train);\n",
    "y_pred = ls.predict(X_test)"
   ]
  },
  {
   "cell_type": "code",
   "execution_count": null,
   "metadata": {
    "collapsed": false
   },
   "outputs": [],
   "source": [
    "import matplotlib.pyplot as plt\n",
    "import sklearn.metrics as metr"
   ]
  },
  {
   "cell_type": "code",
   "execution_count": null,
   "metadata": {
    "collapsed": false
   },
   "outputs": [],
   "source": [
    "plt.scatter(y_test, y_pred)\n",
    "plt.xlabel = 'Real values'\n",
    "plt.ylabel = 'Predict values'\n",
    "plt.show()\n",
    "\n",
    "print('MAE: ', metr.mean_absolute_error(y_test, y_pred))"
   ]
  },
  {
   "cell_type": "code",
   "execution_count": null,
   "metadata": {
    "collapsed": false
   },
   "outputs": [],
   "source": [
    "data = all_data.iloc[:,0:9]"
   ]
  },
  {
   "cell_type": "code",
   "execution_count": null,
   "metadata": {
    "collapsed": false
   },
   "outputs": [],
   "source": [
    "fig, axes = plt.subplots(nrows=2, ncols=4, figsize=(15, 10))\n",
    "all_data.drop(['post_text'], inplace=True,axis=1,errors='ignore') \n",
    "for idx, feature in enumerate(data.columns[:-1]):\n",
    "    data.plot(feature, 'likes_number', subplots=True, kind='scatter', ax=axes[idx / 4, idx % 4])\n",
    "plt.show()"
   ]
  },
  {
   "cell_type": "code",
   "execution_count": null,
   "metadata": {
    "collapsed": true
   },
   "outputs": [],
   "source": []
  }
 ],
 "metadata": {
  "anaconda-cloud": {},
  "kernelspec": {
   "display_name": "Python [Root]",
   "language": "python",
   "name": "Python [Root]"
  },
  "language_info": {
   "codemirror_mode": {
    "name": "ipython",
    "version": 3
   },
   "file_extension": ".py",
   "mimetype": "text/x-python",
   "name": "python",
   "nbconvert_exporter": "python",
   "pygments_lexer": "ipython3",
   "version": "3.5.2"
  }
 },
 "nbformat": 4,
 "nbformat_minor": 0
}
