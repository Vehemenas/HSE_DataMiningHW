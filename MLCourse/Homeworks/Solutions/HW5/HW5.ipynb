{
 "cells": [
  {
   "cell_type": "code",
   "execution_count": null,
   "metadata": {
    "collapsed": false
   },
   "outputs": [],
   "source": [
    "%pylab inline\n",
    "import pandas as pd\n",
    "from scipy import stats\n",
    "import statsmodels.api as sm\n",
    "import matplotlib.pyplot as plt\n",
    "import warnings\n",
    "from itertools import product"
   ]
  },
  {
   "cell_type": "markdown",
   "metadata": {},
   "source": [
    "# Промышленные продажи бумаги для печати и письма (1963 – 1972)\n",
    "## Industry sales for printing and writing paper (Jan 63 – Dec 1972)"
   ]
  },
  {
   "cell_type": "markdown",
   "metadata": {},
   "source": [
    "## 1. Загрузка данных"
   ]
  },
  {
   "cell_type": "code",
   "execution_count": null,
   "metadata": {
    "collapsed": true
   },
   "outputs": [],
   "source": [
    "paper_sales_data = pd.read_csv('industry-sales-for-printing-and-.csv', ';', index_col=['Month'], parse_dates=['Month'])\n",
    "paper_sales_data.columns = ['sales']\n",
    "paper_sales_data = paper_sales_data.drop(paper_sales_data.index[len(paper_sales_data)-1])"
   ]
  },
  {
   "cell_type": "code",
   "execution_count": null,
   "metadata": {
    "collapsed": false
   },
   "outputs": [],
   "source": [
    "paper_sales_data.describe()"
   ]
  },
  {
   "cell_type": "code",
   "execution_count": null,
   "metadata": {
    "collapsed": false
   },
   "outputs": [],
   "source": [
    "print('Количество отсчётов больше 100?: ', len(paper_sales_data) > 100)"
   ]
  },
  {
   "cell_type": "markdown",
   "metadata": {},
   "source": [
    "## 1.2 Визуализация загруженных данных "
   ]
  },
  {
   "cell_type": "code",
   "execution_count": null,
   "metadata": {
    "collapsed": false
   },
   "outputs": [],
   "source": [
    "paper_sales_data.sales = paper_sales_data.sales * 1000 # values in 1000\n",
    "plt.figure(figsize(15,7))\n",
    "paper_sales_data.sales.plot()\n",
    "plt.ylabel('Industry sales for printing and writing paper')\n",
    "pylab.show()"
   ]
  },
  {
   "cell_type": "markdown",
   "metadata": {},
   "source": [
    "## 2. Анализ и обработка ряда"
   ]
  },
  {
   "cell_type": "markdown",
   "metadata": {},
   "source": [
    "## 2.1 Проверка стационарности и STL-декомпозиция ряда:"
   ]
  },
  {
   "cell_type": "code",
   "execution_count": null,
   "metadata": {
    "collapsed": false
   },
   "outputs": [],
   "source": [
    "plt.figure(figsize(15,10))\n",
    "paper_sales_data.reset_index(inplace=True)\n",
    "paper_sales_data['Month'] = pd.to_datetime(paper_sales_data['Month'])\n",
    "paper_sales_data = paper_sales_data.set_index('Month')\n",
    "sm.tsa.seasonal_decompose(paper_sales_data.sales).plot()\n",
    "print('Критерий Дики-Фуллера: p=%f' % sm.tsa.stattools.adfuller(paper_sales_data.sales)[1])"
   ]
  },
  {
   "cell_type": "markdown",
   "metadata": {},
   "source": [
    "Так как значение критерия Дики-Фуллера достаточно большое, и, сама нестанционарность ряда заметна визуально ряд может быть классифицирован как нестанционарный. Дисперсия же, в свою очередь, не выглядит очень стабильной, поэтому применим методы стабилизации для ее нормализации, а именно применим приобразования Бокса-Кокса. "
   ]
  },
  {
   "cell_type": "markdown",
   "metadata": {},
   "source": [
    "## 2.2 Стабилизация дисперсии преобразованием Бокса-Кокса"
   ]
  },
  {
   "cell_type": "code",
   "execution_count": null,
   "metadata": {
    "collapsed": false
   },
   "outputs": [],
   "source": [
    "paper_sales_data['sales_box'], lmbda = stats.boxcox(paper_sales_data.sales)\n",
    "plt.figure(figsize(15,7))\n",
    "paper_sales_data.sales_box.plot()\n",
    "plt.ylabel(u'Transformed industrial printing and writing paper sales')\n",
    "print(\"Оптимальный параметр преобразования Бокса-Кокса: %f\" % lmbda)\n",
    "print(\"Критерий Дики-Фуллера: p=%f\" % sm.tsa.stattools.adfuller(paper_sales_data.sales_box)[1])"
   ]
  },
  {
   "cell_type": "markdown",
   "metadata": {},
   "source": [
    "## 2.3 Сезонное и обычное дифференцирование для повышение станционарности"
   ]
  },
  {
   "cell_type": "markdown",
   "metadata": {},
   "source": [
    "Попробуем сезонное дифференцирование; сделаем на продифференцированном ряде STL-декомпозицию и проверим стационарность:"
   ]
  },
  {
   "cell_type": "code",
   "execution_count": null,
   "metadata": {
    "collapsed": false
   },
   "outputs": [],
   "source": [
    "paper_sales_data['sales_box_diff'] = paper_sales_data.sales_box - paper_sales_data.sales_box.shift(6)\n",
    "plt.figure(figsize(15,10))\n",
    "sm.tsa.seasonal_decompose(paper_sales_data.sales_box_diff[6:]).plot()\n",
    "print(\"Критерий Дики-Фуллера: p=%f\" % sm.tsa.stattools.adfuller(paper_sales_data.sales_box_diff[6:])[1])"
   ]
  },
  {
   "cell_type": "markdown",
   "metadata": {},
   "source": [
    "Критерий Дики-Фуллера уже меньше 0.01, и отвергает гипотезу нестационарности, однако, полностью избавиться от тренда не удалось.\n",
    "Поэтому, пропробуем добавить ещё обычное дифференцирование:"
   ]
  },
  {
   "cell_type": "code",
   "execution_count": null,
   "metadata": {
    "collapsed": false
   },
   "outputs": [],
   "source": [
    "paper_sales_data['sales_box_diff2'] = paper_sales_data.sales_box_diff - paper_sales_data.sales_box_diff.shift(1)\n",
    "plt.figure(figsize(15,10))\n",
    "sm.tsa.seasonal_decompose(paper_sales_data.sales_box_diff2[13:]).plot()   \n",
    "print(\"Критерий Дики-Фуллера: p=%f\" % sm.tsa.stattools.adfuller(paper_sales_data.sales_box_diff2[13:])[1])"
   ]
  },
  {
   "cell_type": "markdown",
   "metadata": {},
   "source": [
    "Критерий Дики-Филлера стал еще меньше, подтверждая отвергая тем самым гипотезу о нестационарности.А также ряд избавился от сезонности. "
   ]
  },
  {
   "cell_type": "markdown",
   "metadata": {},
   "source": [
    "## Подбор модели"
   ]
  },
  {
   "cell_type": "markdown",
   "metadata": {},
   "source": [
    "Посмотрим на ACF и PACF полученного ряда:"
   ]
  },
  {
   "cell_type": "code",
   "execution_count": null,
   "metadata": {
    "collapsed": false
   },
   "outputs": [],
   "source": [
    "plt.figure(figsize(15,8))\n",
    "ax = plt.subplot(211)\n",
    "sm.graphics.tsa.plot_acf(paper_sales_data.sales_box_diff2[13:].values.squeeze(), lags=48, ax=ax)\n",
    "pylab.show()\n",
    "ax = plt.subplot(212)\n",
    "sm.graphics.tsa.plot_pacf(paper_sales_data.sales_box_diff2[13:].values.squeeze(), lags=48, ax=ax)\n",
    "pylab.show()"
   ]
  },
  {
   "cell_type": "markdown",
   "metadata": {},
   "source": [
    "Начальные приближения:\n",
    "* d = 1 - одно сезонное дифференцирование\n",
    "* D = 1 - одно обычное дифференцирование\n",
    "\n",
    "* p = 1 - номер последнего несезонного лага, при котором частичная автокорреляция значима (PACF)\n",
    "* P = 1 - номер последнего сезонного лага, при котором частичная автокорреляция значима (PACF)\n",
    "\n",
    "* q = 1 - номер последнего несезонного лага, при котором частичная автокорреляция значима (ACF)\n",
    "* Q = 1 - номер последнего сезонного лага, при котором частичная автокорреляция значима (ACF)"
   ]
  },
  {
   "cell_type": "code",
   "execution_count": null,
   "metadata": {
    "collapsed": true
   },
   "outputs": [],
   "source": [
    "ps = range(0, 5)\n",
    "d=1\n",
    "qs = range(0, 3)\n",
    "Ps = range(0, 2)\n",
    "D=1\n",
    "Qs = range(0, 2)"
   ]
  },
  {
   "cell_type": "code",
   "execution_count": null,
   "metadata": {
    "collapsed": false
   },
   "outputs": [],
   "source": [
    "parameters = product(ps, qs, Ps, Qs)\n",
    "parameters_list = list(parameters)\n",
    "len(parameters_list)"
   ]
  },
  {
   "cell_type": "code",
   "execution_count": null,
   "metadata": {
    "collapsed": false
   },
   "outputs": [],
   "source": [
    "%%time\n",
    "results = []\n",
    "best_aic = float(\"inf\")\n",
    "warnings.filterwarnings('ignore')\n",
    "\n",
    "for param in parameters_list:\n",
    "    #try except нужен, потому что на некоторых наборах параметров модель не обучается\n",
    "    try:\n",
    "        model=sm.tsa.statespace.SARIMAX(paper_sales_data.sales_box, order=(param[0], d, param[1]), \n",
    "                                        seasonal_order=(param[2], D, param[3], 12)).fit(disp=-1)\n",
    "    #выводим параметры, на которых модель не обучается и переходим к следующему набору\n",
    "    except ValueError:\n",
    "        print('wrong parameters:', param)\n",
    "        continue\n",
    "    aic = model.aic\n",
    "    #сохраняем лучшую модель, aic, параметры\n",
    "    if aic < best_aic:\n",
    "        best_model = model\n",
    "        best_aic = aic\n",
    "        best_param = param\n",
    "    results.append([param, model.aic])\n",
    "    \n",
    "warnings.filterwarnings('default')"
   ]
  },
  {
   "cell_type": "code",
   "execution_count": null,
   "metadata": {
    "collapsed": false
   },
   "outputs": [],
   "source": [
    "result_table = pd.DataFrame(results)\n",
    "result_table.columns = ['parameters', 'aic']\n",
    "print(result_table.sort_values(by = 'aic', ascending=True).head())"
   ]
  },
  {
   "cell_type": "markdown",
   "metadata": {},
   "source": [
    "Лучшая модель:"
   ]
  },
  {
   "cell_type": "code",
   "execution_count": null,
   "metadata": {
    "collapsed": false
   },
   "outputs": [],
   "source": [
    "print(best_model.summary())"
   ]
  },
  {
   "cell_type": "markdown",
   "metadata": {},
   "source": [
    "Её остатки:"
   ]
  },
  {
   "cell_type": "code",
   "execution_count": null,
   "metadata": {
    "collapsed": false
   },
   "outputs": [],
   "source": [
    "plt.figure(figsize(15,8))\n",
    "plt.subplot(211)\n",
    "best_model.resid[13:].plot()\n",
    "plt.ylabel(u'Residuals')\n",
    "\n",
    "ax = plt.subplot(212)\n",
    "sm.graphics.tsa.plot_acf(best_model.resid[13:].values.squeeze(), lags=48, ax=ax)\n",
    "\n",
    "print(\"Критерий Стьюдента: p=%f\" % stats.ttest_1samp(best_model.resid[13:], 0)[1])\n",
    "print(\"Критерий Дики-Фуллера: p=%f\" % sm.tsa.stattools.adfuller(best_model.resid[13:])[1])"
   ]
  },
  {
   "cell_type": "markdown",
   "metadata": {},
   "source": [
    "Остатки несмещены (подтверждается критерием Стьюдента) стационарны (подтверждается критерием Дики-Фуллера и визуально), неавтокоррелированы (подтверждается критерием Льюнга-Бокса и коррелограммой).\n",
    "Посмотрим, насколько хорошо модель описывает данные:"
   ]
  },
  {
   "cell_type": "code",
   "execution_count": null,
   "metadata": {
    "collapsed": true
   },
   "outputs": [],
   "source": [
    "def invboxcox(y,lmbda):\n",
    "   if lmbda == 0:\n",
    "      return(np.exp(y))\n",
    "   else:\n",
    "      return(np.exp(np.log(lmbda*y+1)/lmbda))"
   ]
  },
  {
   "cell_type": "code",
   "execution_count": null,
   "metadata": {
    "collapsed": false
   },
   "outputs": [],
   "source": [
    "paper_sales_data['model'] = invboxcox(best_model.fittedvalues, lmbda)\n",
    "plt.figure(figsize(15,7))\n",
    "paper_sales_data.sales.plot()\n",
    "paper_sales_data.model[13:].plot(color='r')\n",
    "plt.ylabel('Industrial paper for printing and writing sales')\n",
    "pylab.show()"
   ]
  },
  {
   "cell_type": "markdown",
   "metadata": {},
   "source": [
    "### Прогноз"
   ]
  },
  {
   "cell_type": "code",
   "execution_count": null,
   "metadata": {
    "collapsed": false
   },
   "outputs": [],
   "source": [
    "paper_sales_data2 = paper_sales_data[['sales']]\n",
    "date_list = [datetime.datetime.strptime(\"1973-01\", \"%Y-%m\") + relativedelta(months=x) for x in range(0,36)]\n",
    "future = pd.DataFrame(index=date_list, columns= paper_sales_data2.columns)\n",
    "paper_sales_data2 = pd.concat([paper_sales_data2, future])\n",
    "paper_sales_data2['forecast'] = invboxcox(best_model.predict(start=120, end=156), lmbda)\n",
    "\n",
    "plt.figure(figsize(15,7))\n",
    "paper_sales_data2.sales.plot()\n",
    "paper_sales_data2.forecast.plot(color='r')\n",
    "plt.ylabel('Industry sales for printing and writing paper')\n",
    "pylab.show()"
   ]
  },
  {
   "cell_type": "code",
   "execution_count": null,
   "metadata": {
    "collapsed": true
   },
   "outputs": [],
   "source": []
  }
 ],
 "metadata": {
  "anaconda-cloud": {},
  "kernelspec": {
   "display_name": "Python [conda root]",
   "language": "python",
   "name": "conda-root-py"
  },
  "language_info": {
   "codemirror_mode": {
    "name": "ipython",
    "version": 3
   },
   "file_extension": ".py",
   "mimetype": "text/x-python",
   "name": "python",
   "nbconvert_exporter": "python",
   "pygments_lexer": "ipython3",
   "version": "3.5.2"
  }
 },
 "nbformat": 4,
 "nbformat_minor": 2
}
