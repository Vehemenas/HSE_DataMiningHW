{
 "cells": [
  {
   "cell_type": "code",
   "execution_count": 1,
   "metadata": {
    "collapsed": true
   },
   "outputs": [],
   "source": [
    "import pandas as pd\n",
    "import numpy as np\n",
    "import matplotlib.pyplot as plt\n",
    "import scipy.stats as sts\n",
    "%matplotlib inline"
   ]
  },
  {
   "cell_type": "markdown",
   "metadata": {},
   "source": [
    "# HW3"
   ]
  },
  {
   "cell_type": "markdown",
   "metadata": {},
   "source": [
    "Распределе́ние Фи́шера в теории вероятностей — это двухпараметрическое семейство абсолютно непрерывных распределений.\n",
    "\n",
    "Пусть Y1, Y2 — две независимые случайные величины, имеющие распределение хи-квадрат: \n",
    "$$ {\\displaystyle Y_{i}\\sim \\chi ^{2}(d_{i})},$$ где  $${ \\displaystyle d_{i}\\in \\mathbb {N} ,\\;i=1,2} d_{i}\\in {\\mathbb  {N}},\\;i=1,2. $$ \n",
    "Тогда распределение случайной величины\n",
    "$$ F={\\frac  {Y_{1}/d_{1}}{Y_{2}/d_{2}}}, $$\n",
    "называется распределением Фишера (распределением Снедекора) со степенями свободы d1, d2"
   ]
  },
  {
   "cell_type": "markdown",
   "metadata": {},
   "source": [
    "## Генерирование выборки объема 1000 распределения Фишера"
   ]
  },
  {
   "cell_type": "code",
   "execution_count": 2,
   "metadata": {
    "collapsed": false
   },
   "outputs": [],
   "source": [
    "dfn, dfd = 15, 18 # параметры распределения\n",
    "frv = sts.f(dfn, dfd)\n",
    "gen_frv = frv.rvs(size=1000) # создание выборки"
   ]
  },
  {
   "cell_type": "markdown",
   "metadata": {},
   "source": [
    "## Построение гистограммы и графика теоретической плотности"
   ]
  },
  {
   "cell_type": "code",
   "execution_count": 3,
   "metadata": {
    "collapsed": false
   },
   "outputs": [
    {
     "data": {
      "image/png": "[encoded data removed]",
      "text/plain": [
       "<matplotlib.figure.Figure at 0x1148dda20>"
      ]
     },
     "metadata": {},
     "output_type": "display_data"
    }
   ],
   "source": [
    "plt.hist(gen_frv, 50, normed=True)\n",
    "rv = sts.f(dfn, dfd)\n",
    "x = np.linspace(0.0001, 10, 500) # задание x\n",
    "\n",
    "plt.plot(x, rv.pdf(x)) # описание графика\n",
    "plt.title('F-distribution plot')\n",
    "plt.ylabel('$probability$')\n",
    "plt.xlabel('$x$');\n",
    "plt.show()"
   ]
  },
  {
   "cell_type": "markdown",
   "metadata": {},
   "source": [
    "## Оценка выборочного среднего"
   ]
  },
  {
   "cell_type": "code",
   "execution_count": 4,
   "metadata": {
    "collapsed": true
   },
   "outputs": [],
   "source": [
    "def calc_sample_mean(split_sizes, dfn, dfd, n_samples=1000):\n",
    "    rv = sts.f(dfn, dfd)\n",
    "    means_dict = {}\n",
    "    \n",
    "    for split_size in split_sizes:\n",
    "        means_dict[split_size] = []\n",
    "        \n",
    "        for x in range(0, n_samples):\n",
    "            gen_rv = frv.rvs(size=split_size)\n",
    "            means_dict[split_size].append(gen_rv.mean())\n",
    "            \n",
    "    return means_dict"
   ]
  },
  {
   "cell_type": "code",
   "execution_count": 5,
   "metadata": {
    "collapsed": true
   },
   "outputs": [],
   "source": [
    "def plot_sample_means(means_dict, split_sizes, n_samples=1000, dfn, dfd):\n",
    "    means_dict = calc_sample_mean(split_sizes, dfn, dfd)\n",
    "    \n",
    "    for split_size in means_dict.keys():\n",
    "        plt.hist(means_dict[split_size], 25, normed=True)\n",
    "        plt.ylabel('$number of samples$')\n",
    "        plt.xlabel('$x$');\n",
    "        plt.show()"
   ]
  },
  {
   "cell_type": "code",
   "execution_count": 6,
   "metadata": {
    "collapsed": false
   },
   "outputs": [
    {
     "ename": "TypeError",
     "evalue": "calc_sample_mean() missing 2 required positional arguments: 'dfn' and 'dfd'",
     "output_type": "error",
     "traceback": [
      "\u001b[0;31m---------------------------------------------------------------------------\u001b[0m",
      "\u001b[0;31mTypeError\u001b[0m                                 Traceback (most recent call last)",
      "\u001b[0;32m<ipython-input-6-2444c3ea0f24>\u001b[0m in \u001b[0;36m<module>\u001b[0;34m()\u001b[0m\n\u001b[1;32m      1\u001b[0m \u001b[0msplit_s\u001b[0m \u001b[0;34m=\u001b[0m \u001b[0;34m[\u001b[0m\u001b[0;36m5\u001b[0m\u001b[0;34m,\u001b[0m \u001b[0;36m10\u001b[0m\u001b[0;34m,\u001b[0m \u001b[0;36m50\u001b[0m\u001b[0;34m]\u001b[0m\u001b[0;34m\u001b[0m\u001b[0m\n\u001b[1;32m      2\u001b[0m \u001b[0mmeans\u001b[0m \u001b[0;34m=\u001b[0m \u001b[0mcalc_sample_mean\u001b[0m\u001b[0;34m(\u001b[0m\u001b[0msplit_s\u001b[0m\u001b[0;34m,\u001b[0m \u001b[0mdfn\u001b[0m\u001b[0;34m,\u001b[0m \u001b[0mdfd\u001b[0m\u001b[0;34m)\u001b[0m\u001b[0;34m\u001b[0m\u001b[0m\n\u001b[0;32m----> 3\u001b[0;31m \u001b[0mplot_sample_means\u001b[0m\u001b[0;34m(\u001b[0m\u001b[0mmeans\u001b[0m\u001b[0;34m,\u001b[0m \u001b[0msplit_s\u001b[0m\u001b[0;34m,\u001b[0m \u001b[0mdfn\u001b[0m\u001b[0;34m,\u001b[0m \u001b[0mdfd\u001b[0m\u001b[0;34m)\u001b[0m\u001b[0;34m\u001b[0m\u001b[0m\n\u001b[0m",
      "\u001b[0;32m<ipython-input-5-094cab909d69>\u001b[0m in \u001b[0;36mplot_sample_means\u001b[0;34m(means_dict, split_sizes, n_samples, dfn, dfd)\u001b[0m\n\u001b[1;32m      1\u001b[0m \u001b[0;32mdef\u001b[0m \u001b[0mplot_sample_means\u001b[0m\u001b[0;34m(\u001b[0m\u001b[0mmeans_dict\u001b[0m\u001b[0;34m,\u001b[0m \u001b[0msplit_sizes\u001b[0m\u001b[0;34m,\u001b[0m \u001b[0mn_samples\u001b[0m\u001b[0;34m=\u001b[0m\u001b[0;36m1000\u001b[0m\u001b[0;34m,\u001b[0m \u001b[0mdfn\u001b[0m\u001b[0;34m=\u001b[0m\u001b[0;36m5\u001b[0m\u001b[0;34m,\u001b[0m \u001b[0mdfd\u001b[0m\u001b[0;34m=\u001b[0m\u001b[0;36m40\u001b[0m\u001b[0;34m)\u001b[0m\u001b[0;34m:\u001b[0m\u001b[0;34m\u001b[0m\u001b[0m\n\u001b[0;32m----> 2\u001b[0;31m     \u001b[0mmeans_dict\u001b[0m \u001b[0;34m=\u001b[0m \u001b[0mcalc_sample_mean\u001b[0m\u001b[0;34m(\u001b[0m\u001b[0msplit_sizes\u001b[0m\u001b[0;34m)\u001b[0m\u001b[0;34m\u001b[0m\u001b[0m\n\u001b[0m\u001b[1;32m      3\u001b[0m \u001b[0;34m\u001b[0m\u001b[0m\n\u001b[1;32m      4\u001b[0m     \u001b[0;32mfor\u001b[0m \u001b[0msplit_size\u001b[0m \u001b[0;32min\u001b[0m \u001b[0mmeans_dict\u001b[0m\u001b[0;34m.\u001b[0m\u001b[0mkeys\u001b[0m\u001b[0;34m(\u001b[0m\u001b[0;34m)\u001b[0m\u001b[0;34m:\u001b[0m\u001b[0;34m\u001b[0m\u001b[0m\n\u001b[1;32m      5\u001b[0m         \u001b[0mplt\u001b[0m\u001b[0;34m.\u001b[0m\u001b[0mhist\u001b[0m\u001b[0;34m(\u001b[0m\u001b[0mmeans_dict\u001b[0m\u001b[0;34m[\u001b[0m\u001b[0msplit_size\u001b[0m\u001b[0;34m]\u001b[0m\u001b[0;34m,\u001b[0m \u001b[0;36m25\u001b[0m\u001b[0;34m,\u001b[0m \u001b[0mnormed\u001b[0m\u001b[0;34m=\u001b[0m\u001b[0;32mTrue\u001b[0m\u001b[0;34m)\u001b[0m\u001b[0;34m\u001b[0m\u001b[0m\n",
      "\u001b[0;31mTypeError\u001b[0m: calc_sample_mean() missing 2 required positional arguments: 'dfn' and 'dfd'"
     ]
    }
   ],
   "source": [
    "split_s = [5, 10, 50]\n",
    "means = calc_sample_mean(split_s, dfn, dfd)\n",
    "plot_sample_means(means, split_s, dfn, dfd)"
   ]
  },
  {
   "cell_type": "markdown",
   "metadata": {},
   "source": [
    "# ЦПТ"
   ]
  },
  {
   "cell_type": "code",
   "execution_count": null,
   "metadata": {
    "collapsed": true
   },
   "outputs": [],
   "source": [
    "def calc_clt(means_dict, dfn, dfd):\n",
    "    expected_value = dfd / (dfd - 2)\n",
    "    dispersion = (2 * (dfd ** 2) * (dfn + dfd - 2)) / ((dfn * ((dfd - 2) ** 2)) * (dfd - 4))\n",
    "    std = np.sqrt(dispersion)\n",
    "    \n",
    "    clt_dict = {}\n",
    "    \n",
    "    for split_size in means_dict.keys():\n",
    "        clt_dict[split_size] = []\n",
    "        \n",
    "        for sample in means_dict[split_size]:\n",
    "            val = (np.sqrt(len(means_dict[split_size])) * (sample - expected_value)) / std\n",
    "            clt_dict[split_size].append(val)\n",
    "            \n",
    "    return clt_dict"
   ]
  },
  {
   "cell_type": "code",
   "execution_count": null,
   "metadata": {
    "collapsed": true
   },
   "outputs": [],
   "source": [
    "def plot_clt(means_dict, dfn, dfd):\n",
    "    clt_d = calc_clt(means_dict, dfn, dfd)\n",
    "    \n",
    "    for split_size in clt_d.keys():\n",
    "        plt.hist(clt_d[split_size], 100, normed=True)\n",
    "        pdf = sts.norm.pdf(clt_d[split_size])\n",
    "        plt.plot(clt_d[split_size], pdf, alpha=0.5)\n",
    "        plt.ylabel('$p$')\n",
    "        plt.xlabel('$x$');\n",
    "        plt.show()"
   ]
  },
  {
   "cell_type": "code",
   "execution_count": null,
   "metadata": {
    "collapsed": false
   },
   "outputs": [],
   "source": [
    "plot_clt(means, dfn, dfd)"
   ]
  },
  {
   "cell_type": "code",
   "execution_count": null,
   "metadata": {
    "collapsed": true
   },
   "outputs": [],
   "source": []
  },
  {
   "cell_type": "code",
   "execution_count": null,
   "metadata": {
    "collapsed": true
   },
   "outputs": [],
   "source": []
  }
 ],
 "metadata": {
  "anaconda-cloud": {},
  "kernelspec": {
   "display_name": "Python [default]",
   "language": "python",
   "name": "python3"
  },
  "language_info": {
   "codemirror_mode": {
    "name": "ipython",
    "version": 3
   },
   "file_extension": ".py",
   "mimetype": "text/x-python",
   "name": "python",
   "nbconvert_exporter": "python",
   "pygments_lexer": "ipython3",
   "version": "3.5.2"
  }
 },
 "nbformat": 4,
 "nbformat_minor": 1
}
