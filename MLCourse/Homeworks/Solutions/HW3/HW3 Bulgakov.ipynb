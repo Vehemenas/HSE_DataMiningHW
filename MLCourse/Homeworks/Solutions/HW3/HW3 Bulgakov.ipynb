{
 "cells": [
  {
   "cell_type": "code",
   "execution_count": 1,
   "metadata": {
    "collapsed": true
   },
   "outputs": [],
   "source": [
    "import pandas as pd\n",
    "import numpy as np\n",
    "from matplotlib import pyplot as plt\n",
    "import warnings\n",
    "warnings.filterwarnings(\"ignore\", category=DeprecationWarning) \n",
    "%matplotlib inline"
   ]
  },
  {
   "cell_type": "markdown",
   "metadata": {},
   "source": [
    "# Loading data"
   ]
  },
  {
   "cell_type": "code",
   "execution_count": 2,
   "metadata": {
    "collapsed": false
   },
   "outputs": [],
   "source": [
    "X_data = pd.read_csv('data/train_data.csv')\n",
    "X_data_test = pd.read_csv('data/1234.csv', sep=';')\n",
    "X_data_ktest = pd.read_csv('data/test_data.csv')\n",
    "y_data = pd.read_csv('data/train_target.csv', header=-1, names=['agreed'])"
   ]
  },
  {
   "cell_type": "code",
   "execution_count": 3,
   "metadata": {
    "collapsed": false
   },
   "outputs": [],
   "source": [
    "y_data_test = X_data_test['y']\n",
    "X_data_test.drop(['y'], axis = 1, inplace = True, errors = 'ignore')\n",
    "\n",
    "y_data_test = pd.DataFrame(y_data_test)\n",
    "y_data_test['y'] = y_data_test.apply(lambda row: 1 if row['y'] == 'yes' else 0, axis=1)"
   ]
  },
  {
   "cell_type": "code",
   "execution_count": 4,
   "metadata": {
    "collapsed": false
   },
   "outputs": [
    {
     "name": "stdout",
     "output_type": "stream",
     "text": [
      "Is everything ok?:  True\n",
      "And duplicates?:  False\n"
     ]
    }
   ],
   "source": [
    "print('Is everything ok?: ',  X_data.shape[0] == y_data.shape[0])\n",
    "print('And duplicates?: ',  np.all(X_data.duplicated() == False))"
   ]
  },
  {
   "cell_type": "code",
   "execution_count": 5,
   "metadata": {
    "collapsed": false
   },
   "outputs": [
    {
     "name": "stdout",
     "output_type": "stream",
     "text": [
      "Checking if balanced sample:\n"
     ]
    },
    {
     "data": {
      "image/png": "[encoded data removed]",
      "text/plain": [
       "<matplotlib.figure.Figure at 0x112bba390>"
      ]
     },
     "metadata": {},
     "output_type": "display_data"
    }
   ],
   "source": [
    "print('Checking if balanced sample:')\n",
    "y_data['agreed'].value_counts().plot(kind='bar');"
   ]
  },
  {
   "cell_type": "markdown",
   "metadata": {},
   "source": [
    "# Working with features"
   ]
  },
  {
   "cell_type": "code",
   "execution_count": 6,
   "metadata": {
    "collapsed": false
   },
   "outputs": [
    {
     "data": {
      "text/html": [
       "<div>\n",
       "<table border=\"1\" class=\"dataframe\">\n",
       "  <thead>\n",
       "    <tr style=\"text-align: right;\">\n",
       "      <th></th>\n",
       "      <th>age</th>\n",
       "      <th>duration</th>\n",
       "      <th>campaign</th>\n",
       "      <th>pdays</th>\n",
       "      <th>previous</th>\n",
       "      <th>emp.var.rate</th>\n",
       "      <th>cons.price.idx</th>\n",
       "      <th>cons.conf.idx</th>\n",
       "      <th>euribor3m</th>\n",
       "      <th>nr.employed</th>\n",
       "    </tr>\n",
       "  </thead>\n",
       "  <tbody>\n",
       "    <tr>\n",
       "      <th>count</th>\n",
       "      <td>27595.000000</td>\n",
       "      <td>27595.000000</td>\n",
       "      <td>27595.000000</td>\n",
       "      <td>27595.000000</td>\n",
       "      <td>27595.000000</td>\n",
       "      <td>27595.000000</td>\n",
       "      <td>27595.000000</td>\n",
       "      <td>27595.000000</td>\n",
       "      <td>27595.000000</td>\n",
       "      <td>27595.00000</td>\n",
       "    </tr>\n",
       "    <tr>\n",
       "      <th>mean</th>\n",
       "      <td>40.085994</td>\n",
       "      <td>258.874542</td>\n",
       "      <td>2.568328</td>\n",
       "      <td>962.693169</td>\n",
       "      <td>0.172024</td>\n",
       "      <td>0.087211</td>\n",
       "      <td>93.577443</td>\n",
       "      <td>-40.503026</td>\n",
       "      <td>3.628844</td>\n",
       "      <td>5167.31696</td>\n",
       "    </tr>\n",
       "    <tr>\n",
       "      <th>std</th>\n",
       "      <td>10.480548</td>\n",
       "      <td>260.511236</td>\n",
       "      <td>2.765561</td>\n",
       "      <td>186.371948</td>\n",
       "      <td>0.492548</td>\n",
       "      <td>1.567343</td>\n",
       "      <td>0.578193</td>\n",
       "      <td>4.616641</td>\n",
       "      <td>1.730084</td>\n",
       "      <td>72.22960</td>\n",
       "    </tr>\n",
       "    <tr>\n",
       "      <th>min</th>\n",
       "      <td>17.000000</td>\n",
       "      <td>0.000000</td>\n",
       "      <td>1.000000</td>\n",
       "      <td>0.000000</td>\n",
       "      <td>0.000000</td>\n",
       "      <td>-3.400000</td>\n",
       "      <td>92.201000</td>\n",
       "      <td>-50.800000</td>\n",
       "      <td>0.634000</td>\n",
       "      <td>4963.60000</td>\n",
       "    </tr>\n",
       "    <tr>\n",
       "      <th>25%</th>\n",
       "      <td>32.000000</td>\n",
       "      <td>101.000000</td>\n",
       "      <td>1.000000</td>\n",
       "      <td>999.000000</td>\n",
       "      <td>0.000000</td>\n",
       "      <td>-1.800000</td>\n",
       "      <td>93.075000</td>\n",
       "      <td>-42.700000</td>\n",
       "      <td>1.344000</td>\n",
       "      <td>5099.10000</td>\n",
       "    </tr>\n",
       "    <tr>\n",
       "      <th>50%</th>\n",
       "      <td>38.000000</td>\n",
       "      <td>179.000000</td>\n",
       "      <td>2.000000</td>\n",
       "      <td>999.000000</td>\n",
       "      <td>0.000000</td>\n",
       "      <td>1.100000</td>\n",
       "      <td>93.749000</td>\n",
       "      <td>-41.800000</td>\n",
       "      <td>4.857000</td>\n",
       "      <td>5191.00000</td>\n",
       "    </tr>\n",
       "    <tr>\n",
       "      <th>75%</th>\n",
       "      <td>47.000000</td>\n",
       "      <td>320.000000</td>\n",
       "      <td>3.000000</td>\n",
       "      <td>999.000000</td>\n",
       "      <td>0.000000</td>\n",
       "      <td>1.400000</td>\n",
       "      <td>93.994000</td>\n",
       "      <td>-36.400000</td>\n",
       "      <td>4.961000</td>\n",
       "      <td>5228.10000</td>\n",
       "    </tr>\n",
       "    <tr>\n",
       "      <th>max</th>\n",
       "      <td>94.000000</td>\n",
       "      <td>4199.000000</td>\n",
       "      <td>43.000000</td>\n",
       "      <td>999.000000</td>\n",
       "      <td>7.000000</td>\n",
       "      <td>1.400000</td>\n",
       "      <td>94.767000</td>\n",
       "      <td>-26.900000</td>\n",
       "      <td>5.045000</td>\n",
       "      <td>5228.10000</td>\n",
       "    </tr>\n",
       "  </tbody>\n",
       "</table>\n",
       "</div>"
      ],
      "text/plain": [
       "                age      duration      campaign         pdays      previous  \\\n",
       "count  27595.000000  27595.000000  27595.000000  27595.000000  27595.000000   \n",
       "mean      40.085994    258.874542      2.568328    962.693169      0.172024   \n",
       "std       10.480548    260.511236      2.765561    186.371948      0.492548   \n",
       "min       17.000000      0.000000      1.000000      0.000000      0.000000   \n",
       "25%       32.000000    101.000000      1.000000    999.000000      0.000000   \n",
       "50%       38.000000    179.000000      2.000000    999.000000      0.000000   \n",
       "75%       47.000000    320.000000      3.000000    999.000000      0.000000   \n",
       "max       94.000000   4199.000000     43.000000    999.000000      7.000000   \n",
       "\n",
       "       emp.var.rate  cons.price.idx  cons.conf.idx     euribor3m  nr.employed  \n",
       "count  27595.000000    27595.000000   27595.000000  27595.000000  27595.00000  \n",
       "mean       0.087211       93.577443     -40.503026      3.628844   5167.31696  \n",
       "std        1.567343        0.578193       4.616641      1.730084     72.22960  \n",
       "min       -3.400000       92.201000     -50.800000      0.634000   4963.60000  \n",
       "25%       -1.800000       93.075000     -42.700000      1.344000   5099.10000  \n",
       "50%        1.100000       93.749000     -41.800000      4.857000   5191.00000  \n",
       "75%        1.400000       93.994000     -36.400000      4.961000   5228.10000  \n",
       "max        1.400000       94.767000     -26.900000      5.045000   5228.10000  "
      ]
     },
     "execution_count": 6,
     "metadata": {},
     "output_type": "execute_result"
    }
   ],
   "source": [
    "X_data.describe()"
   ]
  },
  {
   "cell_type": "code",
   "execution_count": 7,
   "metadata": {
    "collapsed": true
   },
   "outputs": [],
   "source": [
    "def convert_features(data):\n",
    "    conv_data = data.copy()\n",
    "    \n",
    "    conv_data['default'] = conv_data.apply(lambda row: 1 if row['default'] == 'yes' else 0, axis=1)\n",
    "    \n",
    "    conv_data['housing'] = conv_data.apply(lambda row: 1 if row['housing'] == 'yes' else 0, axis=1)\n",
    "    \n",
    "    conv_data['loan'] = conv_data.apply(lambda row: 1 if row['loan'] == 'yes' else 0, axis=1)\n",
    "    \n",
    "    # nominal values\n",
    "    nom_df = conv_data[['poutcome', 'month', 'contact',\n",
    "                        'education', 'day_of_week', 'job', 'marital']]\n",
    "    conv_data = conv_data.drop(nom_df.columns, axis=1)\n",
    "    nom_df = pd.get_dummies(nom_df)\n",
    "    conv_data = pd.concat([conv_data, nom_df], axis = 1)\n",
    "    \n",
    "    # drop unused\n",
    "    conv_data = conv_data.drop(['previous'], axis = 1)\n",
    "    \n",
    "    return conv_data"
   ]
  },
  {
   "cell_type": "code",
   "execution_count": 8,
   "metadata": {
    "collapsed": false
   },
   "outputs": [],
   "source": [
    "X_data = convert_features(X_data)"
   ]
  },
  {
   "cell_type": "markdown",
   "metadata": {},
   "source": [
    "# Undersampling major feature"
   ]
  },
  {
   "cell_type": "code",
   "execution_count": 9,
   "metadata": {
    "collapsed": false
   },
   "outputs": [
    {
     "name": "stderr",
     "output_type": "stream",
     "text": [
      "//anaconda/lib/python3.5/site-packages/sklearn/cross_validation.py:44: DeprecationWarning: This module was deprecated in version 0.18 in favor of the model_selection module into which all the refactored classes and functions are moved. Also note that the interface of the new CV iterators are different from that of this module. This module will be removed in 0.20.\n",
      "  \"This module will be removed in 0.20.\", DeprecationWarning)\n"
     ]
    }
   ],
   "source": [
    "from imblearn.under_sampling import RandomUnderSampler\n",
    "from imblearn.over_sampling import SMOTE"
   ]
  },
  {
   "cell_type": "code",
   "execution_count": 10,
   "metadata": {
    "collapsed": false
   },
   "outputs": [],
   "source": [
    "X_cols = X_data.columns"
   ]
  },
  {
   "cell_type": "code",
   "execution_count": 11,
   "metadata": {
    "collapsed": false
   },
   "outputs": [],
   "source": [
    "# smote = SMOTE(ratio='auto', kind='regular')\n",
    "# X_data, y_data = smote.fit_sample(X_data, y_data['agreed'].values.ravel())"
   ]
  },
  {
   "cell_type": "code",
   "execution_count": 12,
   "metadata": {
    "collapsed": false
   },
   "outputs": [],
   "source": [
    "X_data = pd.DataFrame(X_data)\n",
    "X_data.columns = X_cols\n",
    "y_data = pd.DataFrame(y_data)\n",
    "y_data.columns = ['agreed']"
   ]
  },
  {
   "cell_type": "code",
   "execution_count": 13,
   "metadata": {
    "collapsed": false
   },
   "outputs": [
    {
     "data": {
      "text/plain": [
       "(27595, 56)"
      ]
     },
     "execution_count": 13,
     "metadata": {},
     "output_type": "execute_result"
    }
   ],
   "source": [
    "X_data.shape"
   ]
  },
  {
   "cell_type": "code",
   "execution_count": 14,
   "metadata": {
    "collapsed": false
   },
   "outputs": [],
   "source": [
    "RUS = RandomUnderSampler()\n",
    "X_data, y_data = RUS.fit_sample(X_data, y_data['agreed'].values.ravel())"
   ]
  },
  {
   "cell_type": "code",
   "execution_count": 15,
   "metadata": {
    "collapsed": false
   },
   "outputs": [],
   "source": [
    "X_data = pd.DataFrame(X_data)\n",
    "X_data.columns = X_cols\n",
    "y_data = pd.DataFrame(y_data)\n",
    "y_data.columns = ['agreed']"
   ]
  },
  {
   "cell_type": "code",
   "execution_count": 16,
   "metadata": {
    "collapsed": false
   },
   "outputs": [
    {
     "data": {
      "text/plain": [
       "(6228, 56)"
      ]
     },
     "execution_count": 16,
     "metadata": {},
     "output_type": "execute_result"
    }
   ],
   "source": [
    "X_data.shape"
   ]
  },
  {
   "cell_type": "markdown",
   "metadata": {},
   "source": [
    "# And updating test samples"
   ]
  },
  {
   "cell_type": "code",
   "execution_count": 17,
   "metadata": {
    "collapsed": false
   },
   "outputs": [],
   "source": [
    "X_data_test = convert_features(X_data_test)"
   ]
  },
  {
   "cell_type": "code",
   "execution_count": 18,
   "metadata": {
    "collapsed": true
   },
   "outputs": [],
   "source": [
    "X_data_ktest = convert_features(X_data_ktest)"
   ]
  },
  {
   "cell_type": "markdown",
   "metadata": {},
   "source": [
    "# PCA"
   ]
  },
  {
   "cell_type": "code",
   "execution_count": 19,
   "metadata": {
    "collapsed": true
   },
   "outputs": [],
   "source": [
    "from sklearn.decomposition import PCA"
   ]
  },
  {
   "cell_type": "code",
   "execution_count": 20,
   "metadata": {
    "collapsed": true
   },
   "outputs": [],
   "source": [
    "# pca = PCA(n_components=5)\n",
    "# pca.fit(X_data)\n",
    "# X_data = pca.transform(X_data)\n",
    "# X_data_test = pca.transform(X_data_test)\n",
    "# X_data_ktest = pca.transform(X_data_ktest)\n",
    "# X_data = pd.DataFrame(X_data)\n",
    "# X_data_ktest = pd.DataFrame(X_data_ktest)\n"
   ]
  },
  {
   "cell_type": "code",
   "execution_count": 21,
   "metadata": {
    "collapsed": false
   },
   "outputs": [],
   "source": [
    "# X_data.hist(figsize=(15, 15));"
   ]
  },
  {
   "cell_type": "code",
   "execution_count": 22,
   "metadata": {
    "collapsed": false
   },
   "outputs": [
    {
     "data": {
      "text/plain": [
       "age                              3.869479e-02\n",
       "default                                   NaN\n",
       "housing                          2.379998e-02\n",
       "loan                             5.505502e-03\n",
       "duration                         4.616757e-01\n",
       "campaign                        -1.326044e-01\n",
       "pdays                           -3.110566e-01\n",
       "emp.var.rate                    -4.387896e-01\n",
       "cons.price.idx                  -2.057798e-01\n",
       "cons.conf.idx                    6.395715e-02\n",
       "euribor3m                       -4.542277e-01\n",
       "nr.employed                     -4.690636e-01\n",
       "poutcome_failure                 5.470176e-02\n",
       "poutcome_nonexistent            -2.622264e-01\n",
       "poutcome_success                 2.998052e-01\n",
       "month_apr                        1.100315e-01\n",
       "month_aug                       -2.372463e-02\n",
       "month_dec                        8.503533e-02\n",
       "month_jul                       -3.757807e-02\n",
       "month_jun                       -1.385046e-02\n",
       "month_mar                        1.433583e-01\n",
       "month_may                       -1.859825e-01\n",
       "month_nov                       -2.860902e-02\n",
       "month_oct                        1.434769e-01\n",
       "month_sep                        1.387583e-01\n",
       "contact_cellular                 2.603227e-01\n",
       "contact_telephone               -2.603227e-01\n",
       "education_basic.4y              -2.096051e-02\n",
       "education_basic.6y              -5.992389e-02\n",
       "education_basic.9y              -7.018773e-02\n",
       "education_high.school           -3.817701e-03\n",
       "education_illiterate             1.267550e-02\n",
       "education_professional.course    4.814264e-03\n",
       "education_university.degree      7.966099e-02\n",
       "education_unknown                2.327313e-02\n",
       "day_of_week_fri                 -2.152916e-02\n",
       "day_of_week_mon                 -4.055004e-02\n",
       "day_of_week_thu                  1.915119e-02\n",
       "day_of_week_tue                  2.147528e-02\n",
       "day_of_week_wed                  2.102434e-02\n",
       "job_admin.                       6.044573e-02\n",
       "job_blue-collar                 -1.399467e-01\n",
       "job_entrepreneur                -3.378354e-02\n",
       "job_housemaid                    5.153503e-03\n",
       "job_management                  -6.139153e-03\n",
       "job_retired                      1.184448e-01\n",
       "job_self-employed               -1.709898e-02\n",
       "job_services                    -3.575287e-02\n",
       "job_student                      1.167835e-01\n",
       "job_technician                  -2.164269e-02\n",
       "job_unemployed                   3.359362e-02\n",
       "job_unknown                     -9.862873e-03\n",
       "marital_divorced                -1.094732e-02\n",
       "marital_married                 -6.370289e-02\n",
       "marital_single                   7.505844e-02\n",
       "marital_unknown                  3.521555e-17\n",
       "dtype: float64"
      ]
     },
     "execution_count": 22,
     "metadata": {},
     "output_type": "execute_result"
    }
   ],
   "source": [
    "X_data.corrwith(y_data['agreed'])"
   ]
  },
  {
   "cell_type": "markdown",
   "metadata": {},
   "source": [
    "# Splitting data into train/test sets"
   ]
  },
  {
   "cell_type": "code",
   "execution_count": 23,
   "metadata": {
    "collapsed": true
   },
   "outputs": [],
   "source": [
    "from sklearn.model_selection import train_test_split"
   ]
  },
  {
   "cell_type": "code",
   "execution_count": 24,
   "metadata": {
    "collapsed": false
   },
   "outputs": [],
   "source": [
    "RANDOM_SEED = 34791\n",
    "X_train, X_test, y_train, y_test = train_test_split(X_data, y_data['agreed'].values, test_size=0.25, \n",
    "                 random_state = RANDOM_SEED, stratify=y_data['agreed'].values)"
   ]
  },
  {
   "cell_type": "markdown",
   "metadata": {},
   "source": [
    "# Fitting models"
   ]
  },
  {
   "cell_type": "code",
   "execution_count": 25,
   "metadata": {
    "collapsed": true
   },
   "outputs": [],
   "source": [
    "from sklearn.model_selection import GridSearchCV\n",
    "from sklearn.model_selection import StratifiedKFold\n",
    "from sklearn.metrics import roc_auc_score"
   ]
  },
  {
   "cell_type": "code",
   "execution_count": 26,
   "metadata": {
    "collapsed": true
   },
   "outputs": [],
   "source": [
    "def top_importance_print(n, importances, importances_names):\n",
    "    indexes = importances.argsort()[-n:][::-1]\n",
    "    for i, index in enumerate(indexes):\n",
    "        print ('#{} Important feature is -- {} with {:.2f} importance'.format(i + 1, importances_names[index], importances[index]))"
   ]
  },
  {
   "cell_type": "code",
   "execution_count": 27,
   "metadata": {
    "collapsed": false
   },
   "outputs": [],
   "source": [
    "def write_to_submission_file(predicted_labels, out_file='output.csv',\n",
    "                             target='Prediction', index_label=\"Id\"):\n",
    "    predicted_df = pd.DataFrame(predicted_labels,\n",
    "                                index = np.arange(0, predicted_labels.shape[0]),\n",
    "                                columns=[target])\n",
    "    predicted_df.to_csv(out_file, index_label=index_label)\n"
   ]
  },
  {
   "cell_type": "code",
   "execution_count": 43,
   "metadata": {
    "collapsed": false
   },
   "outputs": [],
   "source": [
    "class ModelTester():\n",
    "    def __init__(self, parameters, model, scoring='roc_auc', njobs=-1, cv=3):\n",
    "        self.cv = GridSearchCV(model, parameters, scoring = scoring, n_jobs = njobs, cv = cv, verbose = 1)\n",
    "    \n",
    "    def test_model(self):\n",
    "        self.cv.fit(X_train, y_train);\n",
    "        print('Best score cv: ', self.cv.best_score_)\n",
    "        print('Params: ', self.cv.best_params_)\n",
    "    \n",
    "        y_predicted = self.cv.predict(X_test)\n",
    "        print('Score on test sample:', roc_auc_score(y_test, y_predicted))\n",
    "    \n",
    "        y_predicted = self.cv.predict(X_data_test)\n",
    "        print('Score on full sample:', roc_auc_score(y_data_test['y'].values, y_predicted))\n",
    "        \n",
    "    def best_estimator(self):\n",
    "        return self.cv.best_estimator_\n",
    "    "
   ]
  },
  {
   "cell_type": "markdown",
   "metadata": {},
   "source": [
    "## Random Forest"
   ]
  },
  {
   "cell_type": "code",
   "execution_count": 47,
   "metadata": {
    "collapsed": true
   },
   "outputs": [],
   "source": [
    "from sklearn.ensemble import RandomForestClassifier"
   ]
  },
  {
   "cell_type": "code",
   "execution_count": 48,
   "metadata": {
    "collapsed": false
   },
   "outputs": [
    {
     "name": "stdout",
     "output_type": "stream",
     "text": [
      "Fitting 3 folds for each of 84 candidates, totalling 252 fits\n"
     ]
    },
    {
     "name": "stderr",
     "output_type": "stream",
     "text": [
      "[Parallel(n_jobs=-1)]: Done  76 tasks      | elapsed:    1.8s\n",
      "[Parallel(n_jobs=-1)]: Done 252 out of 252 | elapsed:    6.2s finished\n"
     ]
    },
    {
     "name": "stdout",
     "output_type": "stream",
     "text": [
      "Best score cv:  0.932258257235\n",
      "Params:  {'max_features': 'auto', 'max_depth': 16, 'criterion': 'entropy', 'class_weight': 'balanced'}\n",
      "Score on test sample: 0.874777663011\n",
      "Score on full sample: 0.893734562106\n"
     ]
    }
   ],
   "source": [
    "param = {'criterion':['gini', 'entropy'], 'max_features':[1, 2, 3, 4, 5, 'log2', 'auto'],\n",
    "         'max_depth':[2, 4, 8, 16, 32, 64], 'class_weight':['balanced']}\n",
    "\n",
    "mt = ModelTester(parameters = param, model = RandomForestClassifier())\n",
    "mt.test_model()\n",
    "clf = mt.best_estimator()"
   ]
  },
  {
   "cell_type": "markdown",
   "metadata": {},
   "source": [
    "## SVC"
   ]
  },
  {
   "cell_type": "code",
   "execution_count": 49,
   "metadata": {
    "collapsed": true
   },
   "outputs": [],
   "source": [
    "from sklearn.svm import SVC"
   ]
  },
  {
   "cell_type": "code",
   "execution_count": 50,
   "metadata": {
    "collapsed": false
   },
   "outputs": [
    {
     "name": "stdout",
     "output_type": "stream",
     "text": [
      "Fitting 3 folds for each of 30 candidates, totalling 90 fits\n"
     ]
    },
    {
     "name": "stderr",
     "output_type": "stream",
     "text": [
      "[Parallel(n_jobs=-1)]: Done  42 tasks      | elapsed:  1.2min\n",
      "[Parallel(n_jobs=-1)]: Done  90 out of  90 | elapsed:  2.7min finished\n"
     ]
    },
    {
     "name": "stdout",
     "output_type": "stream",
     "text": [
      "Best score cv:  0.933476626478\n",
      "Params:  {'random_state': 34791, 'decision_function_shape': 'ovo', 'class_weight': None, 'kernel': 'linear', 'C': 0.014999999999999999}\n",
      "Score on test sample: 0.854210460316\n",
      "Score on full sample: 0.856944823152\n"
     ]
    }
   ],
   "source": [
    "param = {'C': np.linspace(0.01, 0.03, num=5), \n",
    "              'class_weight':['balanced'], 'kernel':['linear'],\n",
    "              'decision_function_shape' : ['ovo', 'ovr', None], 'random_state' : [RANDOM_SEED], \n",
    "              'class_weight' : [None, {1: 10}]}\n",
    "mt = ModelTester(parameters = param, model = SVC())\n",
    "mt.test_model()"
   ]
  },
  {
   "cell_type": "markdown",
   "metadata": {},
   "source": [
    "## AdaBoostClassifier"
   ]
  },
  {
   "cell_type": "code",
   "execution_count": 51,
   "metadata": {
    "collapsed": true
   },
   "outputs": [],
   "source": [
    "from sklearn.ensemble import AdaBoostClassifier"
   ]
  },
  {
   "cell_type": "code",
   "execution_count": 52,
   "metadata": {
    "collapsed": false
   },
   "outputs": [
    {
     "name": "stdout",
     "output_type": "stream",
     "text": [
      "Fitting 3 folds for each of 10 candidates, totalling 30 fits\n"
     ]
    },
    {
     "name": "stderr",
     "output_type": "stream",
     "text": [
      "[Parallel(n_jobs=-1)]: Done  30 out of  30 | elapsed:    3.9s finished\n"
     ]
    },
    {
     "name": "stdout",
     "output_type": "stream",
     "text": [
      "Best score cv:  0.935266579523\n",
      "Params:  {'algorithm': 'SAMME.R', 'learning_rate': 0.6}\n",
      "Score on test sample: 0.877338457122\n",
      "Score on full sample: 0.871701939915\n"
     ]
    }
   ],
   "source": [
    "param = {'algorithm': ['SAMME.R', 'SAMME'], 'learning_rate': [0.1, 0.3, 0.6, 0.8, 1.0]}\n",
    "mt = ModelTester(parameters = param, model = AdaBoostClassifier())\n",
    "mt.test_model()"
   ]
  },
  {
   "cell_type": "markdown",
   "metadata": {},
   "source": [
    "## DecisionTreeClassifier"
   ]
  },
  {
   "cell_type": "code",
   "execution_count": 53,
   "metadata": {
    "collapsed": true
   },
   "outputs": [],
   "source": [
    "from sklearn.tree import DecisionTreeClassifier"
   ]
  },
  {
   "cell_type": "code",
   "execution_count": 54,
   "metadata": {
    "collapsed": false
   },
   "outputs": [
    {
     "name": "stdout",
     "output_type": "stream",
     "text": [
      "Fitting 3 folds for each of 56 candidates, totalling 168 fits\n",
      "Best score cv:  0.823594414949\n",
      "Params:  {'max_features': 'auto', 'random_state': 34791, 'presort': True, 'splitter': 'best', 'class_weight': 'balanced', 'criterion': 'gini'}\n",
      "Score on test sample: 0.815661598978\n",
      "Score on full sample: 0.866696536062\n"
     ]
    },
    {
     "name": "stderr",
     "output_type": "stream",
     "text": [
      "[Parallel(n_jobs=-1)]: Done 168 out of 168 | elapsed:    1.8s finished\n"
     ]
    }
   ],
   "source": [
    "param = {'criterion': ['gini', 'entropy'], 'splitter': ['best', 'random'], 'max_features':[1, 2, 3, 4, 5, 'log2', 'auto'], \n",
    "         'class_weight' : ['balanced'], 'random_state':[RANDOM_SEED], 'presort':[True, False]}\n",
    "mt = ModelTester(parameters = param, model = DecisionTreeClassifier())\n",
    "mt.test_model()"
   ]
  },
  {
   "cell_type": "markdown",
   "metadata": {},
   "source": [
    "# KNeighborsClassifier"
   ]
  },
  {
   "cell_type": "code",
   "execution_count": 55,
   "metadata": {
    "collapsed": true
   },
   "outputs": [],
   "source": [
    "from sklearn.neighbors import KNeighborsClassifier"
   ]
  },
  {
   "cell_type": "code",
   "execution_count": 56,
   "metadata": {
    "collapsed": false
   },
   "outputs": [
    {
     "name": "stdout",
     "output_type": "stream",
     "text": [
      "Fitting 3 folds for each of 144 candidates, totalling 432 fits\n"
     ]
    },
    {
     "name": "stderr",
     "output_type": "stream",
     "text": [
      "[Parallel(n_jobs=-1)]: Done  42 tasks      | elapsed:    9.8s\n",
      "[Parallel(n_jobs=-1)]: Done 192 tasks      | elapsed:   55.4s\n",
      "[Parallel(n_jobs=-1)]: Done 432 out of 432 | elapsed:  2.3min finished\n"
     ]
    },
    {
     "name": "stdout",
     "output_type": "stream",
     "text": [
      "Best score cv:  0.935598208625\n",
      "Params:  {'n_neighbors': 50, 'p': 1, 'algorithm': 'ball_tree', 'weights': 'distance', 'leaf_size': 20}\n",
      "Score on test sample: 0.872837267474\n",
      "Score on full sample: 0.897701381367\n"
     ]
    }
   ],
   "source": [
    "param = {'n_neighbors': [30, 50, 70], 'weights': ['uniform', 'distance'], 'algorithm':['auto', 'ball_tree', 'kd_tree', 'brute'], \n",
    "         'leaf_size' : [20, 30, 50], 'p':[1, 2]}\n",
    "mt = ModelTester(parameters = param, model = KNeighborsClassifier())\n",
    "mt.test_model()"
   ]
  },
  {
   "cell_type": "markdown",
   "metadata": {
    "collapsed": true
   },
   "source": [
    "# GradientBoostingClassifier"
   ]
  },
  {
   "cell_type": "code",
   "execution_count": 57,
   "metadata": {
    "collapsed": true
   },
   "outputs": [],
   "source": [
    "from sklearn.ensemble import GradientBoostingClassifier"
   ]
  },
  {
   "cell_type": "code",
   "execution_count": 58,
   "metadata": {
    "collapsed": false
   },
   "outputs": [
    {
     "name": "stdout",
     "output_type": "stream",
     "text": [
      "Fitting 3 folds for each of 56 candidates, totalling 168 fits\n"
     ]
    },
    {
     "name": "stderr",
     "output_type": "stream",
     "text": [
      "[Parallel(n_jobs=-1)]: Done  42 tasks      | elapsed:    7.1s\n",
      "[Parallel(n_jobs=-1)]: Done 168 out of 168 | elapsed:   44.6s finished\n"
     ]
    },
    {
     "name": "stdout",
     "output_type": "stream",
     "text": [
      "Best score cv:  0.944885001379\n",
      "Params:  {'max_features': 'auto', 'loss': 'exponential', 'min_samples_leaf': 3, 'presort': False, 'n_estimators': 300}\n",
      "Score on test sample: 0.891483049589\n",
      "Score on full sample: 0.895161841961\n"
     ]
    }
   ],
   "source": [
    "param = {'loss': ['deviance', 'exponential'], 'max_features':[1, 2, 3, 4, 5, 'log2', 'auto'], 'presort':[True, False],\n",
    "         'n_estimators':[200, 300], 'min_samples_leaf' : [3] }\n",
    "mt = ModelTester(parameters = param, model = GradientBoostingClassifier())\n",
    "mt.test_model()"
   ]
  },
  {
   "cell_type": "markdown",
   "metadata": {
    "collapsed": true
   },
   "source": [
    "# XGBoost"
   ]
  },
  {
   "cell_type": "code",
   "execution_count": 59,
   "metadata": {
    "collapsed": false
   },
   "outputs": [],
   "source": [
    "from xgboost.sklearn import XGBClassifier\n",
    "import math"
   ]
  },
  {
   "cell_type": "code",
   "execution_count": 60,
   "metadata": {
    "collapsed": false
   },
   "outputs": [],
   "source": [
    "clf = XGBClassifier()"
   ]
  },
  {
   "cell_type": "code",
   "execution_count": 61,
   "metadata": {
    "collapsed": false
   },
   "outputs": [],
   "source": [
    "parameters = {\n",
    "        'max_depth': [1, 2, 3],\n",
    "        'n_estimators': [4, 5, 6]\n",
    "    }\n",
    "# clf = GridSearchCV(clf, parameters, n_jobs=1, cv=3, scoring=\"roc_auc\")"
   ]
  },
  {
   "cell_type": "code",
   "execution_count": 62,
   "metadata": {
    "collapsed": false
   },
   "outputs": [
    {
     "name": "stderr",
     "output_type": "stream",
     "text": [
      "Exception ignored in: <bound method DMatrix.__del__ of <xgboost.core.DMatrix object at 0x113c0e940>>\n",
      "Traceback (most recent call last):\n",
      "  File \"//anaconda/lib/python3.5/site-packages/xgboost-0.6-py3.5.egg/xgboost/core.py\", line 337, in __del__\n",
      "    _check_call(_LIB.XGDMatrixFree(self.handle))\n",
      "AttributeError: 'DMatrix' object has no attribute 'handle'\n"
     ]
    },
    {
     "data": {
      "text/plain": [
       "GridSearchCV(cv=StratifiedKFold(n_splits=5, random_state=34791, shuffle=False),\n",
       "       error_score='raise',\n",
       "       estimator=RandomForestClassifier(bootstrap=True, class_weight=None, criterion='gini',\n",
       "            max_depth=None, max_features='auto', max_leaf_nodes=None,\n",
       "            min_impurity_split=1e-07, min_samples_leaf=1,\n",
       "            min_samples_split=2, min_weight_fraction_leaf=0.0,\n",
       "            n_estimators=10, n_jobs=1, oob_score=False, random_state=None,\n",
       "            verbose=0, warm_start=False),\n",
       "       fit_params={}, iid=True, n_jobs=-1,\n",
       "       param_grid={'max_features': [1, 2, 3, 4, 5, 'log2', 'auto'], 'class_weight': ['balanced'], 'criterion': ['gini', 'entropy'], 'max_depth': [2, 4, 8, 16, 32, 64]},\n",
       "       pre_dispatch='2*n_jobs', refit=True, return_train_score=True,\n",
       "       scoring='roc_auc', verbose=0)"
      ]
     },
     "execution_count": 62,
     "metadata": {},
     "output_type": "execute_result"
    }
   ],
   "source": [
    "cv.fit(X_train, y_train);"
   ]
  },
  {
   "cell_type": "code",
   "execution_count": null,
   "metadata": {
    "collapsed": true
   },
   "outputs": [],
   "source": []
  }
 ],
 "metadata": {
  "anaconda-cloud": {},
  "kernelspec": {
   "display_name": "Python [default]",
   "language": "python",
   "name": "python3"
  },
  "language_info": {
   "codemirror_mode": {
    "name": "ipython",
    "version": 3
   },
   "file_extension": ".py",
   "mimetype": "text/x-python",
   "name": "python",
   "nbconvert_exporter": "python",
   "pygments_lexer": "ipython3",
   "version": "3.5.2"
  }
 },
 "nbformat": 4,
 "nbformat_minor": 1
}
