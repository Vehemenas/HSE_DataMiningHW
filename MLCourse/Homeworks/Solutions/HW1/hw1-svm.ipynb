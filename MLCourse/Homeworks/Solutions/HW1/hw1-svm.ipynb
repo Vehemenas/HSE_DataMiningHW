{
 "cells": [
  {
   "cell_type": "markdown",
   "metadata": {},
   "source": [
    "# Домашняя работа №1"
   ]
  },
  {
   "cell_type": "markdown",
   "metadata": {},
   "source": [
    "**Срок сдачи:** 30 сентября 2016, 23:59 <br\\>\n",
    "\n",
    "При отправлении ДЗ на почту указывайте фамилию в названии файла, а тему письма оформляйте в следующем формате: <br\\>\n",
    "** [ИАД] *{Фамилия}* *{Имя}* ДЗ*{Номер}* **<br\\>\n",
    "\n",
    "\n",
    "Сопровождайте ваш код изображеними, комментариями и выводами. <br\\>\n",
    "Иммейте ввиду, что на некоторые задачи нет единственного верного и полного ответа. Чем больше информации вы сможете извлечь, аргументированных выводов сформулировать, тем лучше.\n",
    "\n",
    "Используйте данный Ipython Notebook при оформлении домашнего задания."
   ]
  },
  {
   "cell_type": "markdown",
   "metadata": {
    "toc": "true"
   },
   "source": [
    "# Table of Contents\n",
    " <p><div class=\"lev1 toc-item\"><a data-toc-modified-id=\"Домашняя-работа-№1-1\" href=\"#Домашняя-работа-№1\"><span class=\"toc-item-num\">1&nbsp;&nbsp;</span>Домашняя работа №1</a></div><div class=\"lev1 toc-item\"><a data-toc-modified-id=\"Регрессия-с-SVM-(3-балла)-2\" href=\"#Регрессия-с-SVM-(3-балла)\"><span class=\"toc-item-num\">2&nbsp;&nbsp;</span>Регрессия с SVM (3 балла)</a></div><div class=\"lev2 toc-item\"><a data-toc-modified-id=\"Визуализация-данных-(1-балл)-2.1\" href=\"#Визуализация-данных-(1-балл)\"><span class=\"toc-item-num\">2.1&nbsp;&nbsp;</span>Визуализация данных (1 балл)</a></div><div class=\"lev2 toc-item\"><a data-toc-modified-id=\"Обучение-моделей-(2-балла)-2.2\" href=\"#Обучение-моделей-(2-балла)\"><span class=\"toc-item-num\">2.2&nbsp;&nbsp;</span>Обучение моделей (2 балла)</a></div><div class=\"lev1 toc-item\"><a data-toc-modified-id=\"Определение-языка-слова-(7-баллов)-3\" href=\"#Определение-языка-слова-(7-баллов)\"><span class=\"toc-item-num\">3&nbsp;&nbsp;</span>Определение языка слова (7 баллов)</a></div><div class=\"lev2 toc-item\"><a data-toc-modified-id=\"Загрузка-(1-балл)-3.1\" href=\"#Загрузка-(1-балл)\"><span class=\"toc-item-num\">3.1&nbsp;&nbsp;</span>Загрузка (1 балл)</a></div><div class=\"lev2 toc-item\"><a data-toc-modified-id=\"Подготовка-данных-(2-балла)-3.2\" href=\"#Подготовка-данных-(2-балла)\"><span class=\"toc-item-num\">3.2&nbsp;&nbsp;</span>Подготовка данных (2 балла)</a></div><div class=\"lev2 toc-item\"><a data-toc-modified-id=\"Расчет-ядра-(3-балла)-3.3\" href=\"#Расчет-ядра-(3-балла)\"><span class=\"toc-item-num\">3.3&nbsp;&nbsp;</span>Расчет ядра (3 балла)</a></div><div class=\"lev2 toc-item\"><a data-toc-modified-id=\"Оценка-качества-(1-балл)-3.4\" href=\"#Оценка-качества-(1-балл)\"><span class=\"toc-item-num\">3.4&nbsp;&nbsp;</span>Оценка качества (1 балл)</a></div>"
   ]
  },
  {
   "cell_type": "markdown",
   "metadata": {},
   "source": [
    "# Регрессия с SVM (3 балла)"
   ]
  },
  {
   "cell_type": "markdown",
   "metadata": {},
   "source": [
    "SVM можно использовать и для задачи регрессии.\n",
    "\n",
    "Загрузите набор данных из *titanium.csv*<br/>\n",
    "Будем решать задачу восстановления столбца 'y' по столбцу 'x'."
   ]
  },
  {
   "cell_type": "markdown",
   "metadata": {},
   "source": [
    "## Визуализация данных (1 балл)"
   ]
  },
  {
   "cell_type": "markdown",
   "metadata": {},
   "source": [
    "Выполните стандартную предобработку данных и выведите их на графике."
   ]
  },
  {
   "cell_type": "code",
   "execution_count": 1,
   "metadata": {
    "collapsed": false
   },
   "outputs": [],
   "source": [
    "# importing required libs\n",
    "import pandas as pd\n",
    "import matplotlib.pyplot as plt"
   ]
  },
  {
   "cell_type": "code",
   "execution_count": 2,
   "metadata": {
    "collapsed": false
   },
   "outputs": [
    {
     "data": {
      "text/html": [
       "<div>\n",
       "<table border=\"1\" class=\"dataframe\">\n",
       "  <thead>\n",
       "    <tr style=\"text-align: right;\">\n",
       "      <th></th>\n",
       "      <th>x</th>\n",
       "      <th>y</th>\n",
       "    </tr>\n",
       "  </thead>\n",
       "  <tbody>\n",
       "    <tr>\n",
       "      <th>count</th>\n",
       "      <td>49.000000</td>\n",
       "      <td>49.000000</td>\n",
       "    </tr>\n",
       "    <tr>\n",
       "      <th>mean</th>\n",
       "      <td>825.000000</td>\n",
       "      <td>0.804592</td>\n",
       "    </tr>\n",
       "    <tr>\n",
       "      <th>std</th>\n",
       "      <td>142.886902</td>\n",
       "      <td>0.375022</td>\n",
       "    </tr>\n",
       "    <tr>\n",
       "      <th>min</th>\n",
       "      <td>585.000000</td>\n",
       "      <td>0.601000</td>\n",
       "    </tr>\n",
       "    <tr>\n",
       "      <th>25%</th>\n",
       "      <td>705.000000</td>\n",
       "      <td>0.627000</td>\n",
       "    </tr>\n",
       "    <tr>\n",
       "      <th>50%</th>\n",
       "      <td>825.000000</td>\n",
       "      <td>0.663000</td>\n",
       "    </tr>\n",
       "    <tr>\n",
       "      <th>75%</th>\n",
       "      <td>945.000000</td>\n",
       "      <td>0.730000</td>\n",
       "    </tr>\n",
       "    <tr>\n",
       "      <th>max</th>\n",
       "      <td>1065.000000</td>\n",
       "      <td>2.169000</td>\n",
       "    </tr>\n",
       "  </tbody>\n",
       "</table>\n",
       "</div>"
      ],
      "text/plain": [
       "                 x          y\n",
       "count    49.000000  49.000000\n",
       "mean    825.000000   0.804592\n",
       "std     142.886902   0.375022\n",
       "min     585.000000   0.601000\n",
       "25%     705.000000   0.627000\n",
       "50%     825.000000   0.663000\n",
       "75%     945.000000   0.730000\n",
       "max    1065.000000   2.169000"
      ]
     },
     "execution_count": 2,
     "metadata": {},
     "output_type": "execute_result"
    }
   ],
   "source": [
    "data_frame = pd.read_csv(\"titanium.csv\")\n",
    "data_frame.describe()"
   ]
  },
  {
   "cell_type": "code",
   "execution_count": 3,
   "metadata": {
    "collapsed": false
   },
   "outputs": [
    {
     "data": {
      "image/png": "[encoded data removed]",
      "text/plain": [
       "<matplotlib.figure.Figure at 0x10c103470>"
      ]
     },
     "metadata": {},
     "output_type": "display_data"
    }
   ],
   "source": [
    "plt.scatter(data_frame[\"x\"], data_frame[\"y\"], color='r')\n",
    "plt.title(\"Titanium plot\")\n",
    "plt.xlabel(\"x\")\n",
    "plt.ylabel(\"y\")\n",
    "plt.show()"
   ]
  },
  {
   "cell_type": "markdown",
   "metadata": {},
   "source": [
    "## Обучение моделей (2 балла)"
   ]
  },
  {
   "cell_type": "markdown",
   "metadata": {},
   "source": [
    "Рассмотрим 3 ядра: \n",
    "* Линейное\n",
    "* Полиномиальное (degree = 3, gamma = 6, coef0 = 1)\n",
    "* RBF (gamma = 6, coef0 = 1)\n",
    "\n",
    "Во всех случаях установите точность алгоритма оптимизации `epsilon=0.01`\n",
    "\n",
    "Для каждого из ядер:\n",
    "1. Постройте графики зависимости ошибки от параметра $C$ (ось графика со значениями параметра $C$ должна быть в логарифмической шкале). Ошибка измеряется как средняя абсолютная ошибка. \n",
    "2. Для наилучшего параметра $C$ постройте график с данными и предсказанием с помощью SVM.\n",
    "\n",
    "В каких случаях возникают эффекты недообучения, переобучения?"
   ]
  },
  {
   "cell_type": "code",
   "execution_count": 34,
   "metadata": {
    "collapsed": true
   },
   "outputs": [],
   "source": [
    "from sklearn.metrics import mean_absolute_error\n",
    "from sklearn.svm import SVR\n",
    "import numpy as np\n",
    "%matplotlib inline"
   ]
  },
  {
   "cell_type": "code",
   "execution_count": 35,
   "metadata": {
    "collapsed": false
   },
   "outputs": [],
   "source": [
    "X_values = data_frame.x.values.reshape(-1, 1)\n",
    "X_values = (X_values-X_values.mean())/X_values.std()\n",
    "y_values = data_frame.y.values"
   ]
  },
  {
   "cell_type": "code",
   "execution_count": 87,
   "metadata": {
    "collapsed": true
   },
   "outputs": [],
   "source": [
    "def calcErorsAndPlots(kernel, degree=3, gamma=\"auto\", coef0=0.0, color1=\"b\", color2=\"g\",epsilon=0.01):\n",
    "    c_logspace = np.logspace(-2, 2, 10)\n",
    "    error_list = []\n",
    "    for c in c_logspace:\n",
    "        svm = SVR(kernel=kernel, C=c, degree=degree, gamma=gamma, epsilon=epsilon, coef0=coef0)\n",
    "        svm.fit(X_values, y_values)\n",
    "        y_predicted = svm.predict(X_values)\n",
    "        mean_abs_error = mean_absolute_error(y_values, y_predicted)\n",
    "        error_list.append(mean_abs_error)\n",
    "        \n",
    "    idx = np.min(error_list)\n",
    "    \n",
    "    print(\"Plots for {} kernel\".format(kernel))\n",
    "    \n",
    "    # to print several plots in a fancy way\n",
    "    fig, axs = plt.subplots(ncols=2, figsize=(10, 4))\n",
    "    \n",
    "    # err plt\n",
    "    axs[0].plot(c_logspace, error_list, c=color1)\n",
    "    axs[0].set_title(\"Error plot\")\n",
    "    axs[0].set_xscale(\"log\")\n",
    "    axs[0].set_xlabel(\"C\")\n",
    "    axs[0].set_ylabel(\"Error\")\n",
    "    axs[0].grid(True)\n",
    "    \n",
    "    # best C plt\n",
    "    idx = np.argmin(error_list)\n",
    "    svm = SVR(kernel=kernel, C=c_logspace[idx], degree=degree, gamma=gamma, epsilon=epsilon, coef0=coef0)\n",
    "    svm.fit(X_values, y_values)\n",
    "    X_prediction = np.linspace(X_values.min(), X_values.max(), 100).reshape(-1,1)\n",
    "    y_prediction = svm.predict(X_prediction)\n",
    "    \n",
    "    # original values\n",
    "    axs[1].scatter(X_values, y_values, c=color1)\n",
    "    axs[1].plot(X_prediction, y_prediction, c=color2)\n",
    "    # predicted "
   ]
  },
  {
   "cell_type": "code",
   "execution_count": 88,
   "metadata": {
    "collapsed": false
   },
   "outputs": [
    {
     "name": "stdout",
     "output_type": "stream",
     "text": [
      "Plots for linear kernel\n"
     ]
    },
    {
     "data": {
      "image/png": "[encoded data removed]",
      "text/plain": [
       "<matplotlib.figure.Figure at 0x1129bd940>"
      ]
     },
     "metadata": {},
     "output_type": "display_data"
    }
   ],
   "source": [
    "calcErorsAndPlots(\"linear\")"
   ]
  },
  {
   "cell_type": "markdown",
   "metadata": {},
   "source": [
    "# Определение языка слова (7 баллов)"
   ]
  },
  {
   "cell_type": "markdown",
   "metadata": {},
   "source": [
    "В данном задании вам необходимо определить, на каком языке написано слово.\n",
    "\n",
    "Даны два текста - первые предложения произведения \"Война и Мир\" на английком и испанском, разбитые на слова."
   ]
  },
  {
   "cell_type": "markdown",
   "metadata": {},
   "source": [
    "## Загрузка (1 балл)\n",
    "\n",
    "Загрузите данные из файлов *war_and_peace_es.txt* и *war_and_peace_en.txt*.<br/> \n",
    "В результате вы должны получить pandas.DataFrame со столбцами *index* | *word* | *label*, где *index* - это индекс pandas, *word* - это слово и *label* - это метка класса (0 или 1)"
   ]
  },
  {
   "cell_type": "code",
   "execution_count": 45,
   "metadata": {
    "collapsed": false
   },
   "outputs": [
    {
     "data": {
      "text/html": [
       "<div>\n",
       "<table border=\"1\" class=\"dataframe\">\n",
       "  <thead>\n",
       "    <tr style=\"text-align: right;\">\n",
       "      <th></th>\n",
       "      <th>word</th>\n",
       "      <th>label</th>\n",
       "    </tr>\n",
       "  </thead>\n",
       "  <tbody>\n",
       "    <tr>\n",
       "      <th>0</th>\n",
       "      <td>guerra</td>\n",
       "      <td>0</td>\n",
       "    </tr>\n",
       "    <tr>\n",
       "      <th>1</th>\n",
       "      <td>pace</td>\n",
       "      <td>0</td>\n",
       "    </tr>\n",
       "    <tr>\n",
       "      <th>2</th>\n",
       "      <td>lev</td>\n",
       "      <td>0</td>\n",
       "    </tr>\n",
       "    <tr>\n",
       "      <th>3</th>\n",
       "      <td>nicoevic</td>\n",
       "      <td>0</td>\n",
       "    </tr>\n",
       "    <tr>\n",
       "      <th>4</th>\n",
       "      <td>tolstj</td>\n",
       "      <td>0</td>\n",
       "    </tr>\n",
       "  </tbody>\n",
       "</table>\n",
       "</div>"
      ],
      "text/plain": [
       "       word  label\n",
       "0    guerra      0\n",
       "1      pace      0\n",
       "2       lev      0\n",
       "3  nicoevic      0\n",
       "4    tolstj      0"
      ]
     },
     "execution_count": 45,
     "metadata": {},
     "output_type": "execute_result"
    }
   ],
   "source": [
    "# like this\n",
    "\n",
    "df.head()"
   ]
  },
  {
   "cell_type": "markdown",
   "metadata": {},
   "source": [
    "## Подготовка данных (2 балла)\n",
    "\n",
    "Особенностью пользовательского ядра в sklean.SVC является то, что на вход оно должно принимать вектора чисел.<br/>\n",
    "В нашем случае это будут индексы соответствующих слов из корпуса. То есть вместо вектора ['treat', 'celebrit', 'prince', ...] на вход в ядро подается вектор из индексов [9209, 11145, 7735, ...] с помощью которых вы будете находить сами слова.\n",
    "\n",
    "Прежде чем мы начнем строить ядро, надо подготовить данные. Для этого:\n",
    "1. Задайте переменную RND_SEED, которая будет использоваться в любых генераторах случайных чисел в вашем коде (обычно параметр \"random_seed\")\n",
    "2. Случайным образом перемешайте и заново проиндексируйте таблицу, полученную выше (используйте методы df.sample() и df.reset_index())\n",
    "3. Ядро может вычисляться достаточно долго, поэтому можете урезать таблицу, но оставить в ней не менее 1000 слов.\n",
    "4. Разбейте данные на обучающую и контрольную выборку в пропорции 60/40\n",
    "\n",
    "В результате вы должны получить вектор-столбец X_train, X_test с **индексами** слов и векторы y_train, y_test с метками классов."
   ]
  },
  {
   "cell_type": "code",
   "execution_count": 46,
   "metadata": {
    "collapsed": true
   },
   "outputs": [],
   "source": [
    "from sklearn.cross_validation import train_test_split"
   ]
  },
  {
   "cell_type": "code",
   "execution_count": 47,
   "metadata": {
    "collapsed": false
   },
   "outputs": [],
   "source": [
    "RND_SEED = \n"
   ]
  },
  {
   "cell_type": "markdown",
   "metadata": {},
   "source": [
    "## Расчет ядра (3 балла)\n",
    "\n",
    "Теперь напишем собственное ядро для классификации строк. Для сравнения строк будем использовать [расстояние Левенштейна](https://ru.wikipedia.org/wiki/Расстояние_Левенштейна). Реализацию этого расстояния можно получить одним из двух способов:\n",
    "* скопировать функцию wfi_levenshtein из файла [pylev.py](https://github.com/toastdriven/pylev/blob/master/pylev.py)\n",
    "* поставить пакет [editdistance](https://pypi.python.org/pypi/editdistance) (будет работать быстрее, чем предыдущая реализация, но могут возникнуть проблемы с установкой)\n",
    "\n",
    "Ядро для сравнения строк должно принимать максимальное значение, когда слова одинаковы, и минимальное, когда очень отличаются. Это противоположно свойствам расстояния Левенштейна: оно равно 0, когда слова одинаковы, и максимально, когда слова разные. Поэтому подставьте значение расстояния Левенштейна в какое-нибудь ядро, зависящее от расстояния между объектами (например, гауссовское).\n",
    "\n",
    "Функция, реализующая расчет ядра должна принимать две матрицы $U$ и $V$ с признаковым описанием объектов (во время обучения они обе относятся к обучающей выборке, а во время применения - одна матрица относится к обучающей выборке, а другая к контрольной).\n",
    "Функция должна возвращать матрицу значений ядра для всех объектов попарно: $G_{ij} = K(U_i, V_j)$. Здесь $U_i$ — i-ый объект выборки $U$, а $V_j$ — j-ый объект выборки $V$.\n",
    "\n",
    "Сделайте следующее:\n",
    "1. Напишите функцию *string_kernel(U, V)*, расчитывающую матрицу ядра $G_{ij}$\n",
    "2. Визуализируйте матрицу только для тренировочной выборки (функция plt.imshow()).\n"
   ]
  },
  {
   "cell_type": "code",
   "execution_count": null,
   "metadata": {
    "collapsed": true
   },
   "outputs": [],
   "source": []
  },
  {
   "cell_type": "markdown",
   "metadata": {},
   "source": [
    "## Оценка качества (1 балл)\n",
    "\n",
    "Обучите метод опорных векторов с различными значениями параметра штрафа $C$.<br/>\n",
    "Для каждого значения выведите accuracy на обучащей и контрольной выборке.\n",
    "\n",
    "Постарайтесь достичь качества в 70% на тестовой выборке. Для улучшения качества можно увеличить размер тренировочной выборки. Но тогда обучение будет происходить дольше."
   ]
  },
  {
   "cell_type": "code",
   "execution_count": null,
   "metadata": {
    "collapsed": true
   },
   "outputs": [],
   "source": []
  }
 ],
 "metadata": {
  "anaconda-cloud": {},
  "kernelspec": {
   "display_name": "Python [Root]",
   "language": "python",
   "name": "Python [Root]"
  },
  "language_info": {
   "codemirror_mode": {
    "name": "ipython",
    "version": 3
   },
   "file_extension": ".py",
   "mimetype": "text/x-python",
   "name": "python",
   "nbconvert_exporter": "python",
   "pygments_lexer": "ipython3",
   "version": "3.5.2"
  },
  "nav_menu": {},
  "toc": {
   "navigate_menu": true,
   "number_sections": true,
   "sideBar": true,
   "threshold": 6,
   "toc_cell": true,
   "toc_section_display": "block",
   "toc_window_display": true
  }
 },
 "nbformat": 4,
 "nbformat_minor": 1
}
