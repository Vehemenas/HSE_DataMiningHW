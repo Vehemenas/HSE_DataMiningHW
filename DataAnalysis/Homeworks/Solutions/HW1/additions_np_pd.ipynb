{
 "cells": [
  {
   "cell_type": "markdown",
   "metadata": {},
   "source": [
    "## Дополнение к семинарам 2 и 3. Пояснение нескольких важных концепций numpy и pandas"
   ]
  },
  {
   "cell_type": "code",
   "execution_count": 11,
   "metadata": {
    "collapsed": true
   },
   "outputs": [],
   "source": [
    "import numpy as np\n",
    "import pandas as pd"
   ]
  },
  {
   "cell_type": "markdown",
   "metadata": {},
   "source": [
    "### Как и зачем применять логические функции к массивам?"
   ]
  },
  {
   "cell_type": "markdown",
   "metadata": {},
   "source": [
    "В python, как мы знаем, три стандартных логических операции обозначаются and, or, not, и используются они, например, в if-блоках. Первые две операции являются бинарными, а последняя — унарная."
   ]
  },
  {
   "cell_type": "code",
   "execution_count": 12,
   "metadata": {
    "collapsed": false
   },
   "outputs": [
    {
     "ename": "SyntaxError",
     "evalue": "Missing parentheses in call to 'print' (<ipython-input-12-e148341e3a89>, line 1)",
     "output_type": "error",
     "traceback": [
      "\u001b[1;36m  File \u001b[1;32m\"<ipython-input-12-e148341e3a89>\"\u001b[1;36m, line \u001b[1;32m1\u001b[0m\n\u001b[1;33m    print True and False, True or False, not True\u001b[0m\n\u001b[1;37m             ^\u001b[0m\n\u001b[1;31mSyntaxError\u001b[0m\u001b[1;31m:\u001b[0m Missing parentheses in call to 'print'\n"
     ]
    }
   ],
   "source": [
    "print True and False, True or False, not True\n",
    "x = 5\n",
    "print x > 2 and x < 10, x < 2 or x > 10, not x > 2 "
   ]
  },
  {
   "cell_type": "markdown",
   "metadata": {},
   "source": [
    "Логические операции можно применять поэлементно и к булевым массивам.Однако синтаксис отличается: нельзя писать знак операции между операндами или перед ним; нужно обязательно оформлять это как функцию:"
   ]
  },
  {
   "cell_type": "code",
   "execution_count": 6,
   "metadata": {
    "collapsed": false
   },
   "outputs": [
    {
     "name": "stdout",
     "output_type": "stream",
     "text": [
      "[[False False  True False False]\n",
      " [ True  True False False  True]\n",
      " [ True False  True False  True]\n",
      " [False False  True False  True]]\n",
      "[[ True False  True  True  True]\n",
      " [False  True  True  True  True]\n",
      " [False False False False  True]\n",
      " [False  True False False False]]\n",
      "[[False False  True False False]\n",
      " [False  True False False  True]\n",
      " [False False False False  True]\n",
      " [False False False False False]]\n",
      "[[ True False  True  True  True]\n",
      " [ True  True  True  True  True]\n",
      " [ True False  True False  True]\n",
      " [False  True  True False  True]]\n",
      "[[ True  True False  True  True]\n",
      " [False False  True  True False]\n",
      " [False  True False  True False]\n",
      " [ True  True False  True False]]\n"
     ]
    }
   ],
   "source": [
    "A = np.random.randint(2, size=20).reshape(4, 5).astype(bool)  # метод astype изменяет тип объекта\n",
    "B = np.random.randint(2, size=20).reshape(4, 5).astype(bool)\n",
    "print A\n",
    "print B\n",
    "print np.logical_and(A, B)  # бинарная операция, два аргумента\n",
    "print np.logical_or(A, B)   # бинарная операция, два аргумента\n",
    "print np.logical_not(A)     # унарная операция, один аргумент"
   ]
  },
  {
   "cell_type": "markdown",
   "metadata": {},
   "source": [
    "Логические массивы используются, например, для логической индексации (об этом ниже). "
   ]
  },
  {
   "cell_type": "markdown",
   "metadata": {},
   "source": [
    "Но иногда нужно использовать логические операции над матрицами, например, в условных блоках (произвести логические операции с матрицами и получить одно булево значение, то есть узнать, удовлетворяют ли массивы какому-то критерию). Для этого есть функции:\n",
    "\n",
    "* np.all: возвращает True, если и только если *все* элементы равна True\n",
    "* np.any: возвращает True, если и только если в массиве есть *хотя бы один* элемент, равный True\n",
    "\n",
    "Аналогично суммированию и произведению эти операции можно применять по какой-то оси, указывая параметр функции axis=... .\n",
    "\n",
    "Любители дискретной математики и формальных опредений могут смотреть на эти операции так:\n",
    "\n",
    "np.all(A) = $\\&_{i, j} A[i, j]$\n",
    "\n",
    "np.any(A) = $V_{i, j} A[i, j]$"
   ]
  },
  {
   "cell_type": "code",
   "execution_count": 1,
   "metadata": {
    "collapsed": false
   },
   "outputs": [
    {
     "ename": "SyntaxError",
     "evalue": "invalid syntax (<ipython-input-1-c564995d5ece>, line 7)",
     "output_type": "error",
     "traceback": [
      "\u001b[1;36m  File \u001b[1;32m\"<ipython-input-1-c564995d5ece>\"\u001b[1;36m, line \u001b[1;32m7\u001b[0m\n\u001b[1;33m    print np.all(A), np.all(B), np.all(A, axis=0), np.all(B, axis=0)\u001b[0m\n\u001b[1;37m           ^\u001b[0m\n\u001b[1;31mSyntaxError\u001b[0m\u001b[1;31m:\u001b[0m invalid syntax\n"
     ]
    }
   ],
   "source": [
    "# Пример\n",
    "A = np.array([[True, False], [True, False]])\n",
    "B = np.array([[True, True], [True, True]])\n",
    "C = np.array([[1, 2], [1, 2]])\n",
    "D = C + 5\n",
    "F = np.array([[1, 1], [1, 1]])\n",
    "print np.all(A), np.all(B), np.all(A, axis=0), np.all(B, axis=0)\n",
    "print np.any(A), np.any(B), np.any(A, axis=1), np.any(B, axis=1)\n",
    "print np.all(C < D)\n",
    "print np.all(C == F), np.any(C == F)"
   ]
  },
  {
   "cell_type": "markdown",
   "metadata": {},
   "source": [
    "Таким образом,  np.logical_and, np.logical_or и np.logical_not — поэлементные функции (не меняют размер входных массивов),\n",
    "np.all и np.any — агрегирующие функции (вообще говоря, либо уменьшают размер массива, либо просто возвращают скалярное значение)."
   ]
  },
  {
   "cell_type": "markdown",
   "metadata": {},
   "source": [
    "### Зачем нужны мнимые оси (np.newaxis)?"
   ]
  },
  {
   "cell_type": "markdown",
   "metadata": {},
   "source": [
    "Мнимые оси нужны, чтобы можно было выполнять операции над массивами, имеющими разный размер, то есть shape."
   ]
  },
  {
   "cell_type": "markdown",
   "metadata": {},
   "source": [
    "В numpy много поэлементных операций между двумя массивами. \n",
    "\n",
    "Единственное условие — чтобы массивы имели *почти одинаковый размер*. То есть если мы хотим выполнить поэлементную операцию между массивами A и B, то:\n",
    "* Кортежи (tuples) A.shape и B.shape должны быть одинаковой длины. \n",
    "* Пусть A.shape = $(x_1, \\dots, x_n)$, а B.shape = $(y_1, \\dots, y_n)$. Тогда либо $x_i = y_i$, либо одно из этих значений равно 1. В последнем случае при выполнении операции numpy «мысленно» размножит (много раз продублирует) массив по этой размерности, и операция выполнится так, как будто массивы имели одинаковый размер."
   ]
  },
  {
   "cell_type": "markdown",
   "metadata": {},
   "source": [
    "Соответственно, с помощью np.newaxis любые два массива можно привести к *почти одинаковому размеру*. Главное, чтобы это было осмысленно и решало поставленную задачу :)"
   ]
  },
  {
   "cell_type": "code",
   "execution_count": 2,
   "metadata": {
    "collapsed": false
   },
   "outputs": [
    {
     "ename": "SyntaxError",
     "evalue": "Missing parentheses in call to 'print' (<ipython-input-2-c8ad70b052a2>, line 4)",
     "output_type": "error",
     "traceback": [
      "\u001b[1;36m  File \u001b[1;32m\"<ipython-input-2-c8ad70b052a2>\"\u001b[1;36m, line \u001b[1;32m4\u001b[0m\n\u001b[1;33m    print A.shape, B.shape\u001b[0m\n\u001b[1;37m          ^\u001b[0m\n\u001b[1;31mSyntaxError\u001b[0m\u001b[1;31m:\u001b[0m Missing parentheses in call to 'print'\n"
     ]
    }
   ],
   "source": [
    "# Пример:\n",
    "A = np.random.randint(50, size=12).reshape(3, 4)\n",
    "B = np.random.randint(50, size=20).reshape(4, 5)\n",
    "print A.shape, B.shape"
   ]
  },
  {
   "cell_type": "code",
   "execution_count": 3,
   "metadata": {
    "collapsed": false
   },
   "outputs": [
    {
     "ename": "SyntaxError",
     "evalue": "Missing parentheses in call to 'print' (<ipython-input-3-ba7c407a46a7>, line 3)",
     "output_type": "error",
     "traceback": [
      "\u001b[1;36m  File \u001b[1;32m\"<ipython-input-3-ba7c407a46a7>\"\u001b[1;36m, line \u001b[1;32m3\u001b[0m\n\u001b[1;33m    print C.shape\u001b[0m\n\u001b[1;37m          ^\u001b[0m\n\u001b[1;31mSyntaxError\u001b[0m\u001b[1;31m:\u001b[0m Missing parentheses in call to 'print'\n"
     ]
    }
   ],
   "source": [
    "# Построим массив, состоящий из всех пар A[i, j]*B[j, k], i=1, ..., 3, j = 1, ..., 4, k = 1, ..., 5\n",
    "C = A[:, :, np.newaxis] * B[np.newaxis, :, :]\n",
    "print C.shape"
   ]
  },
  {
   "cell_type": "code",
   "execution_count": 4,
   "metadata": {
    "collapsed": false
   },
   "outputs": [
    {
     "ename": "SyntaxError",
     "evalue": "Missing parentheses in call to 'print' (<ipython-input-4-a30bfe0f0bc6>, line 2)",
     "output_type": "error",
     "traceback": [
      "\u001b[1;36m  File \u001b[1;32m\"<ipython-input-4-a30bfe0f0bc6>\"\u001b[1;36m, line \u001b[1;32m2\u001b[0m\n\u001b[1;33m    print A[1, 2]*B[2, 4]\u001b[0m\n\u001b[1;37m          ^\u001b[0m\n\u001b[1;31mSyntaxError\u001b[0m\u001b[1;31m:\u001b[0m Missing parentheses in call to 'print'\n"
     ]
    }
   ],
   "source": [
    "# Проверим:\n",
    "print A[1, 2]*B[2, 4]\n",
    "print C[1, 2, 4] \n",
    "# совпало"
   ]
  },
  {
   "cell_type": "markdown",
   "metadata": {},
   "source": [
    "> Пояснение: Мы привели обы массива к одинаковой форме (3, 4, 5). \n",
    "\n",
    ">Первый массив «мысленно» повторился 5 раз по оси 2 и стал трёхмерным, а второй массив \"мысленно\" повторился 3 раза по оси 0 и тоже стал трёхмерным. \n",
    "\n",
    "> Дальше их попарно перемножили."
   ]
  },
  {
   "cell_type": "markdown",
   "metadata": {},
   "source": [
    "Конечно же, реально numpy ничего не размножает и не дублирует (это был бы очень неэкономный расход оперативной памяти), но концептуально применение мнимой оси работает именно так."
   ]
  },
  {
   "cell_type": "code",
   "execution_count": 5,
   "metadata": {
    "collapsed": false
   },
   "outputs": [
    {
     "ename": "SyntaxError",
     "evalue": "Missing parentheses in call to 'print' (<ipython-input-5-b85093b08f6e>, line 4)",
     "output_type": "error",
     "traceback": [
      "\u001b[1;36m  File \u001b[1;32m\"<ipython-input-5-b85093b08f6e>\"\u001b[1;36m, line \u001b[1;32m4\u001b[0m\n\u001b[1;33m    print D.shape\u001b[0m\n\u001b[1;37m          ^\u001b[0m\n\u001b[1;31mSyntaxError\u001b[0m\u001b[1;31m:\u001b[0m Missing parentheses in call to 'print'\n"
     ]
    }
   ],
   "source": [
    "# Эпилог примера\n",
    "# Теперь, если просуммировать C по axis=1, он, очевидно (по формуле) станет равен произведению двух матриц:\n",
    "D = C.sum(axis=1)\n",
    "print D.shape\n",
    "print np.all(D==A.dot(B))\n",
    "# Мы применили мнимые оси к решению задачи, которая и так реализована в numpy. \n",
    "# Однако часто бывают случаи, когда нужно произвести операци, которых нет в numpy, \n",
    "# и их можно сделать только с помощью мнимых осей."
   ]
  },
  {
   "cell_type": "markdown",
   "metadata": {},
   "source": [
    "### Что такое логическая индексация и зачем она нужна?"
   ]
  },
  {
   "cell_type": "markdown",
   "metadata": {},
   "source": [
    "Часто нужно произвести операцию не со всеми элементами массива, а только с некоторыми, удовлетворяющими некоторому условию. В этом случае помогает логическая индексация. Пусть A — какой-то массив и I — булев массив, A.shape == I.shape. Тогда A[i] выдаст ссылки только на те элементы A, у которых на соответствующей позиции в I стоит True.  "
   ]
  },
  {
   "cell_type": "code",
   "execution_count": 6,
   "metadata": {
    "collapsed": false
   },
   "outputs": [
    {
     "ename": "SyntaxError",
     "evalue": "Missing parentheses in call to 'print' (<ipython-input-6-73c792eb04ce>, line 3)",
     "output_type": "error",
     "traceback": [
      "\u001b[1;36m  File \u001b[1;32m\"<ipython-input-6-73c792eb04ce>\"\u001b[1;36m, line \u001b[1;32m3\u001b[0m\n\u001b[1;33m    print A.shape, B.shape\u001b[0m\n\u001b[1;37m          ^\u001b[0m\n\u001b[1;31mSyntaxError\u001b[0m\u001b[1;31m:\u001b[0m Missing parentheses in call to 'print'\n"
     ]
    }
   ],
   "source": [
    "A = np.arange(10)\n",
    "B = np.array([True, False]*5)\n",
    "print A.shape, B.shape\n",
    "print A, B\n",
    "print A[B]"
   ]
  },
  {
   "cell_type": "markdown",
   "metadata": {},
   "source": [
    "### Что такое groupby? \n",
    "\n",
    "*Дополнительный материал для выполнения бонусного задания.*"
   ]
  },
  {
   "cell_type": "markdown",
   "metadata": {},
   "source": [
    "**Начнём с не совсем понятного объяснения.**\n",
    "\n",
    "Функция groupby библиотеки pandas нужна, чтобы объединять данные по *некоторому критерию*, а затем применять к полученному результату *некоторые функции*. \n",
    "\n",
    "Эти *функции* можно условно разделить на три части:\n",
    "1. Агрегирующие, которые вычисляют некоторые статистики по группе. Пример: найти наименьшее значение какого-либо ключа в группе.\n",
    "2. Трансформирующие, которые изменяют или формируют некоторые значения по группе. Пример: отнормировать значения в каждой группе.\n",
    "3. Фильтрующие, которые удаляют некоторые группы.\n",
    "\n",
    "Под критерием обычно понимается равенство значений некоторого подмножества ключей, но иногда разумно использовать более сложные критерии.\n",
    "\n",
    "**Теперь попробуем разобрать всё на примерах.**\n",
    "\n",
    "Создадим датафрейм:"
   ]
  },
  {
   "cell_type": "code",
   "execution_count": 7,
   "metadata": {
    "collapsed": false
   },
   "outputs": [
    {
     "ename": "NameError",
     "evalue": "name 'pd' is not defined",
     "output_type": "error",
     "traceback": [
      "\u001b[1;31m---------------------------------------------------------------------------\u001b[0m",
      "\u001b[1;31mNameError\u001b[0m                                 Traceback (most recent call last)",
      "\u001b[1;32m<ipython-input-7-cdd2edaa2439>\u001b[0m in \u001b[0;36m<module>\u001b[1;34m()\u001b[0m\n\u001b[1;32m----> 1\u001b[1;33m \u001b[0mdf\u001b[0m \u001b[1;33m=\u001b[0m \u001b[0mpd\u001b[0m\u001b[1;33m.\u001b[0m\u001b[0mDataFrame\u001b[0m\u001b[1;33m(\u001b[0m\u001b[1;33m{\u001b[0m\u001b[1;34m'A'\u001b[0m\u001b[1;33m:\u001b[0m \u001b[1;33m[\u001b[0m\u001b[1;36m1\u001b[0m\u001b[1;33m,\u001b[0m\u001b[1;36m2\u001b[0m\u001b[1;33m,\u001b[0m\u001b[1;36m2\u001b[0m\u001b[1;33m,\u001b[0m\u001b[1;36m1\u001b[0m\u001b[1;33m,\u001b[0m\u001b[1;36m3\u001b[0m\u001b[1;33m,\u001b[0m\u001b[1;36m3\u001b[0m\u001b[1;33m]\u001b[0m\u001b[1;33m,\u001b[0m \u001b[1;34m'B'\u001b[0m\u001b[1;33m:\u001b[0m \u001b[1;33m[\u001b[0m\u001b[1;36m1\u001b[0m\u001b[1;33m,\u001b[0m\u001b[1;36m2\u001b[0m\u001b[1;33m,\u001b[0m\u001b[1;36m3\u001b[0m\u001b[1;33m,\u001b[0m\u001b[1;36m3\u001b[0m\u001b[1;33m,\u001b[0m\u001b[1;36m2\u001b[0m\u001b[1;33m,\u001b[0m\u001b[1;36m1\u001b[0m\u001b[1;33m]\u001b[0m\u001b[1;33m}\u001b[0m\u001b[1;33m)\u001b[0m\u001b[1;33m\u001b[0m\u001b[0m\n\u001b[0m\u001b[0;32m      2\u001b[0m \u001b[0mdf\u001b[0m\u001b[1;33m\u001b[0m\u001b[0m\n",
      "\u001b[1;31mNameError\u001b[0m: name 'pd' is not defined"
     ]
    }
   ],
   "source": [
    "df = pd.DataFrame({'A': [1,2,2,1,3,3], 'B': [1,2,3,3,2,1]})\n",
    "df"
   ]
  },
  {
   "cell_type": "markdown",
   "metadata": {},
   "source": [
    "**Группировка**"
   ]
  },
  {
   "cell_type": "markdown",
   "metadata": {},
   "source": [
    "Функция df.groupby('A') объединит данные, которые соответствуют строкам с одинаковыми значениями по ключу 'A'. Полученный результат имеет тип:"
   ]
  },
  {
   "cell_type": "code",
   "execution_count": 8,
   "metadata": {
    "collapsed": false
   },
   "outputs": [
    {
     "ename": "NameError",
     "evalue": "name 'df' is not defined",
     "output_type": "error",
     "traceback": [
      "\u001b[1;31m---------------------------------------------------------------------------\u001b[0m",
      "\u001b[1;31mNameError\u001b[0m                                 Traceback (most recent call last)",
      "\u001b[1;32m<ipython-input-8-d3ce67fc7f69>\u001b[0m in \u001b[0;36m<module>\u001b[1;34m()\u001b[0m\n\u001b[1;32m----> 1\u001b[1;33m \u001b[0mtype\u001b[0m\u001b[1;33m(\u001b[0m\u001b[0mdf\u001b[0m\u001b[1;33m.\u001b[0m\u001b[0mgroupby\u001b[0m\u001b[1;33m(\u001b[0m\u001b[1;34m'A'\u001b[0m\u001b[1;33m)\u001b[0m\u001b[1;33m)\u001b[0m\u001b[1;33m\u001b[0m\u001b[0m\n\u001b[0m",
      "\u001b[1;31mNameError\u001b[0m: name 'df' is not defined"
     ]
    }
   ],
   "source": [
    "type(df.groupby('A'))"
   ]
  },
  {
   "cell_type": "markdown",
   "metadata": {},
   "source": [
    "У объектов типа pandas.core.groupby.DataFrameGroupBy есть поле .groups. Это словарь, в котором ключами являются значения, по которым объеденены группы, а значениями — списки индексов, которые соответствуют этим группам:"
   ]
  },
  {
   "cell_type": "code",
   "execution_count": 9,
   "metadata": {
    "collapsed": false
   },
   "outputs": [
    {
     "ename": "NameError",
     "evalue": "name 'df' is not defined",
     "output_type": "error",
     "traceback": [
      "\u001b[1;31m---------------------------------------------------------------------------\u001b[0m",
      "\u001b[1;31mNameError\u001b[0m                                 Traceback (most recent call last)",
      "\u001b[1;32m<ipython-input-9-672867b9f1d9>\u001b[0m in \u001b[0;36m<module>\u001b[1;34m()\u001b[0m\n\u001b[1;32m----> 1\u001b[1;33m \u001b[0mdf\u001b[0m\u001b[1;33m.\u001b[0m\u001b[0mgroupby\u001b[0m\u001b[1;33m(\u001b[0m\u001b[1;34m'A'\u001b[0m\u001b[1;33m)\u001b[0m\u001b[1;33m.\u001b[0m\u001b[0mgroups\u001b[0m\u001b[1;33m\u001b[0m\u001b[0m\n\u001b[0m",
      "\u001b[1;31mNameError\u001b[0m: name 'df' is not defined"
     ]
    }
   ],
   "source": [
    "df.groupby('A').groups"
   ]
  },
  {
   "cell_type": "markdown",
   "metadata": {},
   "source": [
    "Но объединять можно не только совпадению ключа.\n",
    "\n",
    "Можно передать в качестве параметра так называемую mapping-function, которая для каждой строки будет выдавать число, по равенству значений которого данные будут объединяться в группы.\n",
    "\n",
    "Напишем функцию, которая разобьёт данные на две группы: с чётным и нечётным значением по ключу 'A':"
   ]
  },
  {
   "cell_type": "code",
   "execution_count": 10,
   "metadata": {
    "collapsed": false
   },
   "outputs": [
    {
     "ename": "NameError",
     "evalue": "name 'df' is not defined",
     "output_type": "error",
     "traceback": [
      "\u001b[1;31m---------------------------------------------------------------------------\u001b[0m",
      "\u001b[1;31mNameError\u001b[0m                                 Traceback (most recent call last)",
      "\u001b[1;32m<ipython-input-10-438e0e0f7df0>\u001b[0m in \u001b[0;36m<module>\u001b[1;34m()\u001b[0m\n\u001b[0;32m      5\u001b[0m     \u001b[1;32mreturn\u001b[0m \u001b[1;34m'even A'\u001b[0m\u001b[1;33m\u001b[0m\u001b[0m\n\u001b[0;32m      6\u001b[0m \u001b[1;33m\u001b[0m\u001b[0m\n\u001b[1;32m----> 7\u001b[1;33m \u001b[0mdf\u001b[0m\u001b[1;33m.\u001b[0m\u001b[0mgroupby\u001b[0m\u001b[1;33m(\u001b[0m\u001b[0mcheck_A_odd\u001b[0m\u001b[1;33m)\u001b[0m\u001b[1;33m.\u001b[0m\u001b[0mgroups\u001b[0m\u001b[1;33m\u001b[0m\u001b[0m\n\u001b[0m",
      "\u001b[1;31mNameError\u001b[0m: name 'df' is not defined"
     ]
    }
   ],
   "source": [
    "# mapping function:\n",
    "def check_A_odd(index): \n",
    "    if df['A'][index] % 2:\n",
    "        return 'odd A'\n",
    "    return 'even A'\n",
    "\n",
    "df.groupby(check_A_odd).groups"
   ]
  },
  {
   "cell_type": "markdown",
   "metadata": {},
   "source": [
    "** Агрегация**"
   ]
  },
  {
   "cell_type": "markdown",
   "metadata": {},
   "source": [
    "Функция .agg нужна для применения к группировке функций. Например, вот так выглядит «построчная» сумма всех элементов в группе:"
   ]
  },
  {
   "cell_type": "code",
   "execution_count": 66,
   "metadata": {
    "collapsed": false
   },
   "outputs": [
    {
     "data": {
      "text/html": [
       "<div>\n",
       "<table border=\"1\" class=\"dataframe\">\n",
       "  <thead>\n",
       "    <tr style=\"text-align: right;\">\n",
       "      <th></th>\n",
       "      <th>A</th>\n",
       "      <th>B</th>\n",
       "    </tr>\n",
       "  </thead>\n",
       "  <tbody>\n",
       "    <tr>\n",
       "      <th>even A</th>\n",
       "      <td>4</td>\n",
       "      <td>5</td>\n",
       "    </tr>\n",
       "    <tr>\n",
       "      <th>odd A</th>\n",
       "      <td>8</td>\n",
       "      <td>7</td>\n",
       "    </tr>\n",
       "  </tbody>\n",
       "</table>\n",
       "</div>"
      ],
      "text/plain": [
       "        A  B\n",
       "even A  4  5\n",
       "odd A   8  7"
      ]
     },
     "execution_count": 66,
     "metadata": {},
     "output_type": "execute_result"
    }
   ],
   "source": [
    "df.groupby(check_A_odd).agg(np.sum)"
   ]
  },
  {
   "cell_type": "markdown",
   "metadata": {},
   "source": [
    "Аналогичная её запись:"
   ]
  },
  {
   "cell_type": "code",
   "execution_count": 67,
   "metadata": {
    "collapsed": false
   },
   "outputs": [
    {
     "data": {
      "text/html": [
       "<div>\n",
       "<table border=\"1\" class=\"dataframe\">\n",
       "  <thead>\n",
       "    <tr style=\"text-align: right;\">\n",
       "      <th></th>\n",
       "      <th>A</th>\n",
       "      <th>B</th>\n",
       "    </tr>\n",
       "  </thead>\n",
       "  <tbody>\n",
       "    <tr>\n",
       "      <th>even A</th>\n",
       "      <td>4</td>\n",
       "      <td>5</td>\n",
       "    </tr>\n",
       "    <tr>\n",
       "      <th>odd A</th>\n",
       "      <td>8</td>\n",
       "      <td>7</td>\n",
       "    </tr>\n",
       "  </tbody>\n",
       "</table>\n",
       "</div>"
      ],
      "text/plain": [
       "        A  B\n",
       "even A  4  5\n",
       "odd A   8  7"
      ]
     },
     "execution_count": 67,
     "metadata": {},
     "output_type": "execute_result"
    }
   ],
   "source": [
    "df.groupby(check_A_odd).sum()"
   ]
  },
  {
   "cell_type": "markdown",
   "metadata": {},
   "source": [
    "Вот так можно агрегировать данные по одному столбцу:"
   ]
  },
  {
   "cell_type": "code",
   "execution_count": 79,
   "metadata": {
    "collapsed": false
   },
   "outputs": [
    {
     "data": {
      "text/html": [
       "<div>\n",
       "<table border=\"1\" class=\"dataframe\">\n",
       "  <thead>\n",
       "    <tr style=\"text-align: right;\">\n",
       "      <th></th>\n",
       "      <th>B</th>\n",
       "    </tr>\n",
       "  </thead>\n",
       "  <tbody>\n",
       "    <tr>\n",
       "      <th>even A</th>\n",
       "      <td>5</td>\n",
       "    </tr>\n",
       "    <tr>\n",
       "      <th>odd A</th>\n",
       "      <td>7</td>\n",
       "    </tr>\n",
       "  </tbody>\n",
       "</table>\n",
       "</div>"
      ],
      "text/plain": [
       "        B\n",
       "even A  5\n",
       "odd A   7"
      ]
     },
     "execution_count": 79,
     "metadata": {},
     "output_type": "execute_result"
    }
   ],
   "source": [
    "df.groupby(check_A_odd).agg({'B': np.sum})"
   ]
  },
  {
   "cell_type": "markdown",
   "metadata": {},
   "source": [
    "Таким образом можно применять многие стандартные функции из numpy. Например, np.mean, np.std, np.prod и так далее."
   ]
  },
  {
   "cell_type": "markdown",
   "metadata": {},
   "source": [
    "**Трансформация** "
   ]
  },
  {
   "cell_type": "markdown",
   "metadata": {},
   "source": [
    "Для трансформации используется функция .transform, о ней мы здесь говорить не будем."
   ]
  },
  {
   "cell_type": "markdown",
   "metadata": {},
   "source": [
    "**Фильтрация** "
   ]
  },
  {
   "cell_type": "markdown",
   "metadata": {},
   "source": [
    "Для фильтрации используется метод .filter, он возвращает подмножество строк исходного датафрейма. \n",
    "\n",
    "Например:"
   ]
  },
  {
   "cell_type": "code",
   "execution_count": 102,
   "metadata": {
    "collapsed": false
   },
   "outputs": [
    {
     "data": {
      "text/html": [
       "<div>\n",
       "<table border=\"1\" class=\"dataframe\">\n",
       "  <thead>\n",
       "    <tr style=\"text-align: right;\">\n",
       "      <th></th>\n",
       "      <th>A</th>\n",
       "      <th>B</th>\n",
       "    </tr>\n",
       "  </thead>\n",
       "  <tbody>\n",
       "    <tr>\n",
       "      <th>0</th>\n",
       "      <td>1</td>\n",
       "      <td>1</td>\n",
       "    </tr>\n",
       "    <tr>\n",
       "      <th>1</th>\n",
       "      <td>2</td>\n",
       "      <td>2</td>\n",
       "    </tr>\n",
       "    <tr>\n",
       "      <th>2</th>\n",
       "      <td>2</td>\n",
       "      <td>3</td>\n",
       "    </tr>\n",
       "    <tr>\n",
       "      <th>3</th>\n",
       "      <td>1</td>\n",
       "      <td>3</td>\n",
       "    </tr>\n",
       "    <tr>\n",
       "      <th>4</th>\n",
       "      <td>3</td>\n",
       "      <td>2</td>\n",
       "    </tr>\n",
       "    <tr>\n",
       "      <th>5</th>\n",
       "      <td>3</td>\n",
       "      <td>1</td>\n",
       "    </tr>\n",
       "  </tbody>\n",
       "</table>\n",
       "</div>"
      ],
      "text/plain": [
       "   A  B\n",
       "0  1  1\n",
       "1  2  2\n",
       "2  2  3\n",
       "3  1  3\n",
       "4  3  2\n",
       "5  3  1"
      ]
     },
     "execution_count": 102,
     "metadata": {},
     "output_type": "execute_result"
    }
   ],
   "source": [
    "df"
   ]
  },
  {
   "cell_type": "code",
   "execution_count": 101,
   "metadata": {
    "collapsed": false
   },
   "outputs": [
    {
     "data": {
      "text/html": [
       "<div>\n",
       "<table border=\"1\" class=\"dataframe\">\n",
       "  <thead>\n",
       "    <tr style=\"text-align: right;\">\n",
       "      <th></th>\n",
       "      <th>A</th>\n",
       "      <th>B</th>\n",
       "    </tr>\n",
       "  </thead>\n",
       "  <tbody>\n",
       "    <tr>\n",
       "      <th>1</th>\n",
       "      <td>2</td>\n",
       "      <td>2</td>\n",
       "    </tr>\n",
       "    <tr>\n",
       "      <th>2</th>\n",
       "      <td>2</td>\n",
       "      <td>3</td>\n",
       "    </tr>\n",
       "    <tr>\n",
       "      <th>4</th>\n",
       "      <td>3</td>\n",
       "      <td>2</td>\n",
       "    </tr>\n",
       "    <tr>\n",
       "      <th>5</th>\n",
       "      <td>3</td>\n",
       "      <td>1</td>\n",
       "    </tr>\n",
       "  </tbody>\n",
       "</table>\n",
       "</div>"
      ],
      "text/plain": [
       "   A  B\n",
       "1  2  2\n",
       "2  2  3\n",
       "4  3  2\n",
       "5  3  1"
      ]
     },
     "execution_count": 101,
     "metadata": {},
     "output_type": "execute_result"
    }
   ],
   "source": [
    "df.groupby('A').filter(lambda x: x['A'].sum() > 3)"
   ]
  },
  {
   "cell_type": "markdown",
   "metadata": {},
   "source": [
    "Получили строки, соответствующие группам, суммарное значение по ключу 'A' которых больше трёх."
   ]
  },
  {
   "cell_type": "markdown",
   "metadata": {},
   "source": [
    "Здесь мы использовали так называемые лямбда функции. Это просто удобный способ записать короткую функцию в одну строчку."
   ]
  },
  {
   "cell_type": "code",
   "execution_count": 105,
   "metadata": {
    "collapsed": false
   },
   "outputs": [],
   "source": [
    "lambda x: x['A'].sum() > 3 \n",
    "\n",
    "# Аналогичная функция:\n",
    "def some_function_name(x):\n",
    "    return x['A'].sum() > 3"
   ]
  },
  {
   "cell_type": "markdown",
   "metadata": {},
   "source": [
    "Всего этого должно хватить для решения простых задач. \n",
    "\n",
    "Более подробно операция groupby, как обычно, объяснена в [документации](http://pandas.pydata.org/pandas-docs/stable/groupby.html)."
   ]
  }
 ],
 "metadata": {
  "kernelspec": {
   "display_name": "Python 3",
   "language": "python",
   "name": "python3"
  },
  "language_info": {
   "codemirror_mode": {
    "name": "ipython",
    "version": 3
   },
   "file_extension": ".py",
   "mimetype": "text/x-python",
   "name": "python",
   "nbconvert_exporter": "python",
   "pygments_lexer": "ipython3",
   "version": "3.5.1"
  }
 },
 "nbformat": 4,
 "nbformat_minor": 0
}
