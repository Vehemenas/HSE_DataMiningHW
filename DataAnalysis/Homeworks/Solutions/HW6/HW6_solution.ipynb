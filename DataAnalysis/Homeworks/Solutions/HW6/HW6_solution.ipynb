{
 "cells": [
  {
   "cell_type": "code",
   "execution_count": 1,
   "metadata": {
    "collapsed": true
   },
   "outputs": [],
   "source": [
    "%matplotlib inline\n",
    "import numpy as np\n",
    "import pandas as pd\n",
    "import matplotlib.pylab as plt"
   ]
  },
  {
   "cell_type": "markdown",
   "metadata": {},
   "source": [
    "### Общая информация\n",
    "Дата выдачи: 24.05.2016\n",
    "\n",
    "Срок сдачи: 23:59 31.05.2016\n",
    "\n",
    "Максимальная оценка за задание: 10 баллов.\n",
    "\n",
    "Пожалуйста, указывайте тему письма в формате «[ИАД-16] HW6, ФИО»."
   ]
  },
  {
   "cell_type": "markdown",
   "metadata": {},
   "source": [
    "### Данные\n",
    "\n",
    "С помощью решающих деревьев и случайных лесов мы будем оценивать качество вина. Csv-файл с данными доступен по [ссылке](https://archive.ics.uci.edu/ml/machine-learning-databases/wine-quality/winequality-red.csv).\n",
    "\n",
    "Целевой признак — quality, так что нас ждёт задача мультиклассовой классификации."
   ]
  },
  {
   "cell_type": "markdown",
   "metadata": {},
   "source": [
    "#### Часть I. Готовим данные."
   ]
  },
  {
   "cell_type": "markdown",
   "metadata": {},
   "source": [
    "**1.** Загрузите данные и запишите их в датафрейм all_wine, выведите пять первых записей с помощью head. Узнайте, какие значения принимает целевой признак quality. Посмотрите, есть ли пропуски в данных?"
   ]
  },
  {
   "cell_type": "code",
   "execution_count": 2,
   "metadata": {
    "collapsed": false
   },
   "outputs": [
    {
     "data": {
      "text/html": [
       "<div>\n",
       "<table border=\"1\" class=\"dataframe\">\n",
       "  <thead>\n",
       "    <tr style=\"text-align: right;\">\n",
       "      <th></th>\n",
       "      <th>fixed acidity</th>\n",
       "      <th>volatile acidity</th>\n",
       "      <th>citric acid</th>\n",
       "      <th>residual sugar</th>\n",
       "      <th>chlorides</th>\n",
       "      <th>free sulfur dioxide</th>\n",
       "      <th>total sulfur dioxide</th>\n",
       "      <th>density</th>\n",
       "      <th>pH</th>\n",
       "      <th>sulphates</th>\n",
       "      <th>alcohol</th>\n",
       "      <th>quality</th>\n",
       "    </tr>\n",
       "  </thead>\n",
       "  <tbody>\n",
       "    <tr>\n",
       "      <th>0</th>\n",
       "      <td>7.4</td>\n",
       "      <td>0.70</td>\n",
       "      <td>0.00</td>\n",
       "      <td>1.9</td>\n",
       "      <td>0.076</td>\n",
       "      <td>11.0</td>\n",
       "      <td>34.0</td>\n",
       "      <td>0.9978</td>\n",
       "      <td>3.51</td>\n",
       "      <td>0.56</td>\n",
       "      <td>9.4</td>\n",
       "      <td>5</td>\n",
       "    </tr>\n",
       "    <tr>\n",
       "      <th>1</th>\n",
       "      <td>7.8</td>\n",
       "      <td>0.88</td>\n",
       "      <td>0.00</td>\n",
       "      <td>2.6</td>\n",
       "      <td>0.098</td>\n",
       "      <td>25.0</td>\n",
       "      <td>67.0</td>\n",
       "      <td>0.9968</td>\n",
       "      <td>3.20</td>\n",
       "      <td>0.68</td>\n",
       "      <td>9.8</td>\n",
       "      <td>5</td>\n",
       "    </tr>\n",
       "    <tr>\n",
       "      <th>2</th>\n",
       "      <td>7.8</td>\n",
       "      <td>0.76</td>\n",
       "      <td>0.04</td>\n",
       "      <td>2.3</td>\n",
       "      <td>0.092</td>\n",
       "      <td>15.0</td>\n",
       "      <td>54.0</td>\n",
       "      <td>0.9970</td>\n",
       "      <td>3.26</td>\n",
       "      <td>0.65</td>\n",
       "      <td>9.8</td>\n",
       "      <td>5</td>\n",
       "    </tr>\n",
       "    <tr>\n",
       "      <th>3</th>\n",
       "      <td>11.2</td>\n",
       "      <td>0.28</td>\n",
       "      <td>0.56</td>\n",
       "      <td>1.9</td>\n",
       "      <td>0.075</td>\n",
       "      <td>17.0</td>\n",
       "      <td>60.0</td>\n",
       "      <td>0.9980</td>\n",
       "      <td>3.16</td>\n",
       "      <td>0.58</td>\n",
       "      <td>9.8</td>\n",
       "      <td>6</td>\n",
       "    </tr>\n",
       "    <tr>\n",
       "      <th>4</th>\n",
       "      <td>7.4</td>\n",
       "      <td>0.70</td>\n",
       "      <td>0.00</td>\n",
       "      <td>1.9</td>\n",
       "      <td>0.076</td>\n",
       "      <td>11.0</td>\n",
       "      <td>34.0</td>\n",
       "      <td>0.9978</td>\n",
       "      <td>3.51</td>\n",
       "      <td>0.56</td>\n",
       "      <td>9.4</td>\n",
       "      <td>5</td>\n",
       "    </tr>\n",
       "  </tbody>\n",
       "</table>\n",
       "</div>"
      ],
      "text/plain": [
       "   fixed acidity  volatile acidity  citric acid  residual sugar  chlorides  \\\n",
       "0            7.4              0.70         0.00             1.9      0.076   \n",
       "1            7.8              0.88         0.00             2.6      0.098   \n",
       "2            7.8              0.76         0.04             2.3      0.092   \n",
       "3           11.2              0.28         0.56             1.9      0.075   \n",
       "4            7.4              0.70         0.00             1.9      0.076   \n",
       "\n",
       "   free sulfur dioxide  total sulfur dioxide  density    pH  sulphates  \\\n",
       "0                 11.0                  34.0   0.9978  3.51       0.56   \n",
       "1                 25.0                  67.0   0.9968  3.20       0.68   \n",
       "2                 15.0                  54.0   0.9970  3.26       0.65   \n",
       "3                 17.0                  60.0   0.9980  3.16       0.58   \n",
       "4                 11.0                  34.0   0.9978  3.51       0.56   \n",
       "\n",
       "   alcohol  quality  \n",
       "0      9.4        5  \n",
       "1      9.8        5  \n",
       "2      9.8        5  \n",
       "3      9.8        6  \n",
       "4      9.4        5  "
      ]
     },
     "execution_count": 2,
     "metadata": {},
     "output_type": "execute_result"
    }
   ],
   "source": [
    "all_wine = pd.read_csv('winequality-red.csv', sep=';')\n",
    "all_wine.head()"
   ]
  },
  {
   "cell_type": "code",
   "execution_count": 3,
   "metadata": {
    "collapsed": false
   },
   "outputs": [
    {
     "name": "stdout",
     "output_type": "stream",
     "text": [
      "Признак quality принимает следующие значения: [5 6 7 4 8 3]\n",
      "Проверяем есть ли пропуски в данных:  False\n"
     ]
    }
   ],
   "source": [
    "print('Признак quality принимает следующие значения:', all_wine.quality.unique())\n",
    "print('Проверяем есть ли пропуски в данных: ', all_wine.isnull().values.any())"
   ]
  },
  {
   "cell_type": "markdown",
   "metadata": {},
   "source": [
    "**2.** Посчитайте число объектов каждого класса в выборке. Есть ли классы, в которых особенно мало объектов? Их можно удалить или объединить с «соседними» классами. Удалите объекты классов, объекты которых встречаются меньше 15 раз."
   ]
  },
  {
   "cell_type": "code",
   "execution_count": 4,
   "metadata": {
    "collapsed": false
   },
   "outputs": [
    {
     "name": "stdout",
     "output_type": "stream",
     "text": [
      "Количество объектов каждого класса в выборке:\n",
      "5    681\n",
      "6    638\n",
      "7    199\n",
      "4     53\n",
      "8     18\n",
      "3     10\n",
      "Name: quality, dtype: int64\n"
     ]
    }
   ],
   "source": [
    "print('Количество объектов каждого класса в выборке:')\n",
    "counted_values = all_wine['quality'].value_counts()\n",
    "print(counted_values)"
   ]
  },
  {
   "cell_type": "code",
   "execution_count": 5,
   "metadata": {
    "collapsed": false
   },
   "outputs": [],
   "source": [
    "# Getting all classes, where counted_values < 15\n",
    "selected_values = dict(counted_values.where(counted_values < 15).dropna())\n",
    "# Removing it from our dataframe\n",
    "all_wine = all_wine[~all_wine.quality.isin(selected_values)];"
   ]
  },
  {
   "cell_type": "markdown",
   "metadata": {},
   "source": [
    "**3.** Разбейте выборку в отношении 7 к 3 на train и test, предварительно перемешав. Матрицы объекты×признаки назовите X_train, X_test, а целевой вектор — y_train, y_test соответственно."
   ]
  },
  {
   "cell_type": "code",
   "execution_count": 6,
   "metadata": {
    "collapsed": false
   },
   "outputs": [],
   "source": [
    "from sklearn.cross_validation import train_test_split\n",
    "\n",
    "# Getting X and y values for future train, test split\n",
    "X = all_wine.drop('quality', 1)\n",
    "y = np.array(all_wine['quality'])\n",
    "\n",
    "# Splitting it into test and train samples\n",
    "X_train, X_test, y_train, y_test = train_test_split(X, y, test_size=0.3, random_state=42)"
   ]
  },
  {
   "cell_type": "markdown",
   "metadata": {},
   "source": [
    "#### Часть II. Исследование параметров случайных лесов"
   ]
  },
  {
   "cell_type": "markdown",
   "metadata": {},
   "source": [
    "**4.** Для начала обучите Random Forest с параметрами по умолчанию, посчитайте ошибку на тестовой выборке по F-мере (используйте average='weighted')."
   ]
  },
  {
   "cell_type": "code",
   "execution_count": 7,
   "metadata": {
    "collapsed": false
   },
   "outputs": [
    {
     "name": "stdout",
     "output_type": "stream",
     "text": [
      "F1 score =  0.631278349882\n"
     ]
    }
   ],
   "source": [
    "from sklearn.ensemble import RandomForestClassifier\n",
    "from sklearn.metrics import f1_score\n",
    "\n",
    "# Training our classifier\n",
    "rf = RandomForestClassifier()\n",
    "rf.fit(X_train, y_train);\n",
    "\n",
    "# And gaining f1 score\n",
    "predict = rf.predict(X_test)\n",
    "f1_sc = f1_score(y_test, predict, average=\"weighted\")\n",
    "\n",
    "print('F1 score = ', f1_sc)"
   ]
  },
  {
   "cell_type": "markdown",
   "metadata": {},
   "source": [
    "**5.** Постройте оценки важности признаков, попробуйте удалить самые неважные и проверить, улучшилось ли качество."
   ]
  },
  {
   "cell_type": "code",
   "execution_count": 8,
   "metadata": {
    "collapsed": false
   },
   "outputs": [
    {
     "data": {
      "text/plain": [
       "<a list of 11 Text xticklabel objects>"
      ]
     },
     "execution_count": 8,
     "metadata": {},
     "output_type": "execute_result"
    },
    {
     "data": {
      "image/png": "[encoded data removed]",
      "text/plain": [
       "<matplotlib.figure.Figure at 0x1f145864b70>"
      ]
     },
     "metadata": {},
     "output_type": "display_data"
    }
   ],
   "source": [
    "# Getting each feature importance and building a plot\n",
    "importance = rf.feature_importances_\n",
    "idx = np.arange(importance.size)\n",
    "width = 0.5\n",
    "plt.figure(figsize=(21,10))\n",
    "p1 = plt.bar(idx, rf.feature_importances_, width, color='g')\n",
    "plt.xticks(idx+width/2, X.columns.values)[1]"
   ]
  },
  {
   "cell_type": "code",
   "execution_count": 9,
   "metadata": {
    "collapsed": false
   },
   "outputs": [
    {
     "name": "stdout",
     "output_type": "stream",
     "text": [
      "F1 score =  0.631923731808\n"
     ]
    }
   ],
   "source": [
    "# Removing unnecessary features\n",
    "selected_features = ['alcohol', 'volatile acidity', 'total sulfur dioxide', 'sulphates', 'density', 'chlorides']\n",
    "X_train_s = X_train[selected_features]\n",
    "X_test_s = X_test[selected_features]\n",
    "\n",
    "# Training our classifier\n",
    "rf = RandomForestClassifier()\n",
    "rf.fit(X_train_s, y_train);\n",
    "\n",
    "# And gaining f1 score\n",
    "predict = rf.predict(X_test_s)\n",
    "f1_sc = f1_score(y_test, predict, average=\"weighted\")\n",
    "\n",
    "print('F1 score = ', f1_sc)"
   ]
  },
  {
   "cell_type": "markdown",
   "metadata": {},
   "source": [
    "**6.** С помощью кросс-валидации подберите оптимальные значения параметров:\n",
    "\n",
    "* criterion — критерий, используемый при построении деревьев ('gini' или 'entropy');\n",
    "* max_features — мощность подмножества признаков, используемых при построении каждой вершины (переберите все возможные числовые значения);\n",
    "* max_depth — максимальная глубина деревьев (переберите разумные значения по своему выбору); \n",
    "* class_weight — параметр, отвечающий за взвешивание классов (выберите из None или 'balanced');\n",
    "\n",
    "Число деревьев пока установите равным 100.\n",
    "\n",
    "Подобрав оптимальные параметры, постройте графики зависимости качества на тестовой выборке от max_features и max_depth при фиксированных значениях остальных параметров.\n",
    "\n",
    "Какие параметры влияют на работу алгоритма наиболее существенно?"
   ]
  },
  {
   "cell_type": "code",
   "execution_count": 10,
   "metadata": {
    "collapsed": false
   },
   "outputs": [
    {
     "name": "stdout",
     "output_type": "stream",
     "text": [
      "Лучшее значение:  0.642985611511\n",
      "Найденные параметры:  {'max_features': 2, 'class_weight': 'balanced', 'criterion': 'gini', 'max_depth': 16}\n"
     ]
    }
   ],
   "source": [
    "from sklearn.grid_search import GridSearchCV\n",
    "parameters = {'criterion':['gini', 'entropy'], 'max_features':np.arange(1,6),'max_depth':[2, 4, 8, 16, 32], \n",
    "              'class_weight':[None, 'balanced']}\n",
    "cv = GridSearchCV(RandomForestClassifier(), parameters)\n",
    "cv.fit(X_train_s, y_train);\n",
    "print(\"Лучшее значение: \", cv.best_score_)\n",
    "print(\"Найденные параметры: \", cv.best_params_)"
   ]
  },
  {
   "cell_type": "code",
   "execution_count": 11,
   "metadata": {
    "collapsed": false
   },
   "outputs": [
    {
     "name": "stdout",
     "output_type": "stream",
     "text": [
      "Построим графики зависимости от max features, max_depth\n"
     ]
    },
    {
     "data": {
      "image/png": "[encoded data removed]",
      "text/plain": [
       "<matplotlib.figure.Figure at 0x1f1458f7eb8>"
      ]
     },
     "metadata": {},
     "output_type": "display_data"
    },
    {
     "data": {
      "image/png": "[encoded data removed]",
      "text/plain": [
       "<matplotlib.figure.Figure at 0x1f145c98a58>"
      ]
     },
     "metadata": {},
     "output_type": "display_data"
    }
   ],
   "source": [
    "# Turning off warnings\n",
    "import warnings\n",
    "warnings.filterwarnings('ignore')\n",
    "\n",
    "print(\"Построим графики зависимости от max features, max_depth\")\n",
    "\n",
    "max_depth = [2, 4, 8, 16, 32]\n",
    "scores_depth = list()\n",
    "for depth in max_depth:\n",
    "    rf = RandomForestClassifier(class_weight ='balanced', \n",
    "                                   max_depth = depth, max_features=1, n_estimators=100, criterion='gini')\n",
    "    rf.fit(X_train_s, y_train)\n",
    "    predict = rf.predict(X_test_s)\n",
    "    scores_depth.append(f1_score(y_test, predict, average=\"weighted\"))\n",
    "\n",
    "max_features = np.arange(1,6)\n",
    "scores_features = list()\n",
    "for features in max_features:\n",
    "    rf = RandomForestClassifier(n_estimators=100, class_weight ='balanced', max_depth = 16, max_features = features, criterion='gini')\n",
    "    rf.fit(X_train_s, y_train)\n",
    "    predict = rf.predict(X_test_s)\n",
    "    scores_features.append(f1_score(y_test, predict, average=\"weighted\"))\n",
    "\n",
    "plt.plot(max_depth, scores_depth);\n",
    "plt.title(\"Max depth - score plot\")\n",
    "plt.xlabel(\"Max depth\")\n",
    "plt.ylabel(\"Score\")\n",
    "plt.show()\n",
    "    \n",
    "    \n",
    "\n",
    "plt.plot(max_features, scores_depth);\n",
    "plt.title(\"Max features - score plot\")\n",
    "plt.xlabel(\"Max features\")\n",
    "plt.ylabel(\"Score\")\n",
    "plt.show()"
   ]
  },
  {
   "cell_type": "markdown",
   "metadata": {},
   "source": [
    "**7.** Эмпирически установлено, что при увеличении числа деревьев качество не ухудшается. Проверим это утверждение. Постройте график зависимости качества на тестовой выборке от числа деревьев (n_estimators).\n",
    "\n",
    "Вам нужно будет перебрать значения до 3000 деревьев (например, с шагом 10: 10, 20, 30, ..., 3000) посчитать качество на тестовой выборке и построить график.\n",
    "\n",
    "Конечно, для этого можно каждый раз обучать RandomForest с нуля. Однако в таком случае придётся обучить в общей сумме $10 + 20 + \\ldots + 3000 = 451500$ деревьев.\n",
    "\n",
    "Однако, как мы знаем, деревья в случайных лесах строятся независимо и параллельно, поэтому можно обучить всего 3000 деревьев.\n",
    "\n",
    "Для этого в при создании объекта класса RandomForestClassifier нужно будет указать в том числе warm_start=True. Затем обучить алгоритм с помощью метода fit, использовать метод predict для классификации. После этого с помощью метода set_params изменить параметр n_estimators. Если к полученному объекту применить метод fit, внутри него будет обучаться только недостающее число деревьев."
   ]
  },
  {
   "cell_type": "code",
   "execution_count": 12,
   "metadata": {
    "collapsed": false
   },
   "outputs": [],
   "source": [
    "grid_warm = RandomForestClassifier(warm_start=True, class_weight = cv.best_params_['class_weight'], \n",
    "                                  criterion = cv.best_params_['criterion'], max_depth = cv.best_params_['max_depth'],\n",
    "                                  max_features = cv.best_params_['max_features'])\n",
    "n_trees = 10\n",
    "scores = list()\n",
    "\n",
    "# Calculating values\n",
    "while n_trees != 3000:\n",
    "    grid_warm.set_params(n_estimators = n_trees)\n",
    "    grid_warm.fit(X_train_s, y_train)\n",
    "    \n",
    "    predict_warm = grid_warm.predict(X_test_s)\n",
    "    \n",
    "    f_scr = f1_score(y_test, predict_warm, average=\"weighted\")\n",
    "    \n",
    "    scores.append(f_scr);\n",
    "    n_trees += 10;"
   ]
  },
  {
   "cell_type": "code",
   "execution_count": 15,
   "metadata": {
    "collapsed": false
   },
   "outputs": [
    {
     "data": {
      "image/png": "[encoded data removed]",
      "text/plain": [
       "<matplotlib.figure.Figure at 0x1f146177978>"
      ]
     },
     "metadata": {},
     "output_type": "display_data"
    }
   ],
   "source": [
    "plt.plot(np.arange(10, 3000, 10), scores);\n",
    "plt.title(\"Number trees - score plot\")\n",
    "plt.xlabel(\"Number of trees\")\n",
    "plt.ylabel(\"Score\")\n",
    "plt.show()"
   ]
  },
  {
   "cell_type": "markdown",
   "metadata": {},
   "source": [
    "**8.** Проверьте, что результат работы RandomForest не зависит от нормировки признаков. Для этого отнормируйте каждый признак, обучите RF и сравните результаты."
   ]
  },
  {
   "cell_type": "code",
   "execution_count": 20,
   "metadata": {
    "collapsed": false
   },
   "outputs": [
    {
     "name": "stdout",
     "output_type": "stream",
     "text": [
      "F1 score before scaling =  0.631923731808\n",
      "F1 score after =  0.637046686973\n"
     ]
    }
   ],
   "source": [
    "from sklearn.preprocessing import StandardScaler\n",
    "\n",
    "# Fitting standart scaler\n",
    "sr = StandardScaler()\n",
    "X_train_sc = sr.fit_transform(X_train_s)\n",
    "X_test_sc= sr.transform(X_test_s)\n",
    "\n",
    "# Fitting RF\n",
    "rf = RandomForestClassifier()\n",
    "rf.fit(X_train_sc, y_train);\n",
    "predict = rf.predict(X_test_sc)\n",
    "\n",
    "# Getting F1 score\n",
    "f1_sc_2 = f1_score(y_test, predict, average=\"weighted\")\n",
    "print('F1 score before scaling = ', f1_sc)\n",
    "print('F1 score after = ', f1_sc_2)"
   ]
  },
  {
   "cell_type": "markdown",
   "metadata": {},
   "source": [
    "**9.** Сделайте выводы о том, насколько сильно выбор параметров влияет на работу случайных лесов. Ответьте на вопрос, какую существенную особенность данных мы не учли при построении алгоритма?"
   ]
  },
  {
   "cell_type": "markdown",
   "metadata": {
    "collapsed": true
   },
   "source": [
    "Выбор правильных параметров существенно влияет на работу случайных лесов. Так, убирая минорные признаки, и оставляя мажорные, можно добиться большей точности предсказания результатов. Данные не учитывают выдержку вина, а также тип производства. По моему мнению, эти данные имеют большое значение на качество вина. Также, вероятно, у двух вин могут быть схожие химические характеристики, однако, разные вкусовые качества."
   ]
  },
  {
   "cell_type": "code",
   "execution_count": null,
   "metadata": {
    "collapsed": true
   },
   "outputs": [],
   "source": []
  }
 ],
 "metadata": {
  "kernelspec": {
   "display_name": "Python 3",
   "language": "python",
   "name": "python3"
  },
  "language_info": {
   "codemirror_mode": {
    "name": "ipython",
    "version": 3
   },
   "file_extension": ".py",
   "mimetype": "text/x-python",
   "name": "python",
   "nbconvert_exporter": "python",
   "pygments_lexer": "ipython3",
   "version": "3.5.1"
  },
  "widgets": {
   "state": {},
   "version": "1.1.1"
  }
 },
 "nbformat": 4,
 "nbformat_minor": 0
}
