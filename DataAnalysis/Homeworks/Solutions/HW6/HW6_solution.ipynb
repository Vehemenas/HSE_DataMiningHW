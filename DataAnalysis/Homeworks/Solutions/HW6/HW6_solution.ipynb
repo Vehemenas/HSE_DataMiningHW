{
 "cells": [
  {
   "cell_type": "code",
   "execution_count": 368,
   "metadata": {
    "collapsed": true
   },
   "outputs": [],
   "source": [
    "%matplotlib inline\n",
    "import numpy as np\n",
    "import pandas as pd\n",
    "import matplotlib.pylab as plt"
   ]
  },
  {
   "cell_type": "markdown",
   "metadata": {},
   "source": [
    "### Общая информация\n",
    "Дата выдачи: 24.05.2016\n",
    "\n",
    "Срок сдачи: 23:59 31.05.2016\n",
    "\n",
    "Максимальная оценка за задание: 10 баллов.\n",
    "\n",
    "Пожалуйста, указывайте тему письма в формате «[ИАД-16] HW6, ФИО»."
   ]
  },
  {
   "cell_type": "markdown",
   "metadata": {},
   "source": [
    "### Данные\n",
    "\n",
    "С помощью решающих деревьев и случайных лесов мы будем оценивать качество вина. Csv-файл с данными доступен по [ссылке](https://archive.ics.uci.edu/ml/machine-learning-databases/wine-quality/winequality-red.csv).\n",
    "\n",
    "Целевой признак — quality, так что нас ждёт задача мультиклассовой классификации."
   ]
  },
  {
   "cell_type": "markdown",
   "metadata": {},
   "source": [
    "#### Часть I. Готовим данные."
   ]
  },
  {
   "cell_type": "markdown",
   "metadata": {},
   "source": [
    "**1.** Загрузите данные и запишите их в датафрейм all_wine, выведите пять первых записей с помощью head. Узнайте, какие значения принимает целевой признак quality. Посмотрите, есть ли пропуски в данных?"
   ]
  },
  {
   "cell_type": "code",
   "execution_count": 369,
   "metadata": {
    "collapsed": false
   },
   "outputs": [
    {
     "data": {
      "text/html": [
       "<div>\n",
       "<table border=\"1\" class=\"dataframe\">\n",
       "  <thead>\n",
       "    <tr style=\"text-align: right;\">\n",
       "      <th></th>\n",
       "      <th>fixed acidity</th>\n",
       "      <th>volatile acidity</th>\n",
       "      <th>citric acid</th>\n",
       "      <th>residual sugar</th>\n",
       "      <th>chlorides</th>\n",
       "      <th>free sulfur dioxide</th>\n",
       "      <th>total sulfur dioxide</th>\n",
       "      <th>density</th>\n",
       "      <th>pH</th>\n",
       "      <th>sulphates</th>\n",
       "      <th>alcohol</th>\n",
       "      <th>quality</th>\n",
       "    </tr>\n",
       "  </thead>\n",
       "  <tbody>\n",
       "    <tr>\n",
       "      <th>0</th>\n",
       "      <td>7.4</td>\n",
       "      <td>0.70</td>\n",
       "      <td>0.00</td>\n",
       "      <td>1.9</td>\n",
       "      <td>0.076</td>\n",
       "      <td>11.0</td>\n",
       "      <td>34.0</td>\n",
       "      <td>0.9978</td>\n",
       "      <td>3.51</td>\n",
       "      <td>0.56</td>\n",
       "      <td>9.4</td>\n",
       "      <td>5</td>\n",
       "    </tr>\n",
       "    <tr>\n",
       "      <th>1</th>\n",
       "      <td>7.8</td>\n",
       "      <td>0.88</td>\n",
       "      <td>0.00</td>\n",
       "      <td>2.6</td>\n",
       "      <td>0.098</td>\n",
       "      <td>25.0</td>\n",
       "      <td>67.0</td>\n",
       "      <td>0.9968</td>\n",
       "      <td>3.20</td>\n",
       "      <td>0.68</td>\n",
       "      <td>9.8</td>\n",
       "      <td>5</td>\n",
       "    </tr>\n",
       "    <tr>\n",
       "      <th>2</th>\n",
       "      <td>7.8</td>\n",
       "      <td>0.76</td>\n",
       "      <td>0.04</td>\n",
       "      <td>2.3</td>\n",
       "      <td>0.092</td>\n",
       "      <td>15.0</td>\n",
       "      <td>54.0</td>\n",
       "      <td>0.9970</td>\n",
       "      <td>3.26</td>\n",
       "      <td>0.65</td>\n",
       "      <td>9.8</td>\n",
       "      <td>5</td>\n",
       "    </tr>\n",
       "    <tr>\n",
       "      <th>3</th>\n",
       "      <td>11.2</td>\n",
       "      <td>0.28</td>\n",
       "      <td>0.56</td>\n",
       "      <td>1.9</td>\n",
       "      <td>0.075</td>\n",
       "      <td>17.0</td>\n",
       "      <td>60.0</td>\n",
       "      <td>0.9980</td>\n",
       "      <td>3.16</td>\n",
       "      <td>0.58</td>\n",
       "      <td>9.8</td>\n",
       "      <td>6</td>\n",
       "    </tr>\n",
       "    <tr>\n",
       "      <th>4</th>\n",
       "      <td>7.4</td>\n",
       "      <td>0.70</td>\n",
       "      <td>0.00</td>\n",
       "      <td>1.9</td>\n",
       "      <td>0.076</td>\n",
       "      <td>11.0</td>\n",
       "      <td>34.0</td>\n",
       "      <td>0.9978</td>\n",
       "      <td>3.51</td>\n",
       "      <td>0.56</td>\n",
       "      <td>9.4</td>\n",
       "      <td>5</td>\n",
       "    </tr>\n",
       "  </tbody>\n",
       "</table>\n",
       "</div>"
      ],
      "text/plain": [
       "   fixed acidity  volatile acidity  citric acid  residual sugar  chlorides  \\\n",
       "0            7.4              0.70         0.00             1.9      0.076   \n",
       "1            7.8              0.88         0.00             2.6      0.098   \n",
       "2            7.8              0.76         0.04             2.3      0.092   \n",
       "3           11.2              0.28         0.56             1.9      0.075   \n",
       "4            7.4              0.70         0.00             1.9      0.076   \n",
       "\n",
       "   free sulfur dioxide  total sulfur dioxide  density    pH  sulphates  \\\n",
       "0                 11.0                  34.0   0.9978  3.51       0.56   \n",
       "1                 25.0                  67.0   0.9968  3.20       0.68   \n",
       "2                 15.0                  54.0   0.9970  3.26       0.65   \n",
       "3                 17.0                  60.0   0.9980  3.16       0.58   \n",
       "4                 11.0                  34.0   0.9978  3.51       0.56   \n",
       "\n",
       "   alcohol  quality  \n",
       "0      9.4        5  \n",
       "1      9.8        5  \n",
       "2      9.8        5  \n",
       "3      9.8        6  \n",
       "4      9.4        5  "
      ]
     },
     "execution_count": 369,
     "metadata": {},
     "output_type": "execute_result"
    }
   ],
   "source": [
    "all_wine = pd.read_csv('winequality-red.csv', sep=';')\n",
    "all_wine.head()"
   ]
  },
  {
   "cell_type": "code",
   "execution_count": 370,
   "metadata": {
    "collapsed": false
   },
   "outputs": [
    {
     "name": "stdout",
     "output_type": "stream",
     "text": [
      "Признак quality принимает следующие значения: [5 6 7 4 8 3]\n",
      "Проверяем есть ли пропуски в данных:  False\n"
     ]
    }
   ],
   "source": [
    "print('Признак quality принимает следующие значения:', all_wine.quality.unique())\n",
    "print('Проверяем есть ли пропуски в данных: ', all_wine.isnull().values.any())"
   ]
  },
  {
   "cell_type": "markdown",
   "metadata": {},
   "source": [
    "**2.** Посчитайте число объектов каждого класса в выборке. Есть ли классы, в которых особенно мало объектов? Их можно удалить или объединить с «соседними» классами. Удалите объекты классов, объекты которых встречаются меньше 15 раз."
   ]
  },
  {
   "cell_type": "code",
   "execution_count": 371,
   "metadata": {
    "collapsed": false
   },
   "outputs": [
    {
     "name": "stdout",
     "output_type": "stream",
     "text": [
      "Количество объектов каждого класса в выборке:\n",
      "5    681\n",
      "6    638\n",
      "7    199\n",
      "4     53\n",
      "8     18\n",
      "3     10\n",
      "Name: quality, dtype: int64\n"
     ]
    }
   ],
   "source": [
    "print('Количество объектов каждого класса в выборке:')\n",
    "counted_values = all_wine['quality'].value_counts()\n",
    "print(counted_values)"
   ]
  },
  {
   "cell_type": "code",
   "execution_count": 372,
   "metadata": {
    "collapsed": false
   },
   "outputs": [],
   "source": [
    "# Getting all classes, where counted_values < 15\n",
    "selected_values = dict(counted_values.where(counted_values < 15).dropna())\n",
    "# Removing it from our dataframe\n",
    "all_wine = all_wine[~all_wine.quality.isin(selected_values)];"
   ]
  },
  {
   "cell_type": "markdown",
   "metadata": {},
   "source": [
    "**3.** Разбейте выборку в отношении 7 к 3 на train и test, предварительно перемешав. Матрицы объекты×признаки назовите X_train, X_test, а целевой вектор — y_train, y_test соответственно."
   ]
  },
  {
   "cell_type": "code",
   "execution_count": 373,
   "metadata": {
    "collapsed": false
   },
   "outputs": [],
   "source": [
    "from sklearn.cross_validation import train_test_split\n",
    "\n",
    "# Getting X and y values for future train, test split\n",
    "X = all_wine.drop('quality', 1)\n",
    "y = np.array(all_wine['quality'])\n",
    "\n",
    "# Splitting it into test and train samples\n",
    "X_train, X_test, y_train, y_test = train_test_split(X, y, test_size=0.3, random_state=42)"
   ]
  },
  {
   "cell_type": "markdown",
   "metadata": {},
   "source": [
    "#### Часть II. Исследование параметров случайных лесов"
   ]
  },
  {
   "cell_type": "markdown",
   "metadata": {},
   "source": [
    "**4.** Для начала обучите Random Forest с параметрами по умолчанию, посчитайте ошибку на тестовой выборке по F-мере (используйте average='weighted')."
   ]
  },
  {
   "cell_type": "code",
   "execution_count": 477,
   "metadata": {
    "collapsed": false
   },
   "outputs": [
    {
     "name": "stdout",
     "output_type": "stream",
     "text": [
      "F1 score =  0.648249663202\n"
     ]
    },
    {
     "name": "stderr",
     "output_type": "stream",
     "text": [
      "C:\\Users\\bulga\\Anaconda3\\lib\\site-packages\\sklearn\\metrics\\classification.py:1074: UndefinedMetricWarning: F-score is ill-defined and being set to 0.0 in labels with no predicted samples.\n",
      "  'precision', 'predicted', average, warn_for)\n"
     ]
    }
   ],
   "source": [
    "from sklearn.ensemble import RandomForestClassifier\n",
    "from sklearn.metrics import f1_score\n",
    "\n",
    "# Training our classifier\n",
    "rf = RandomForestClassifier()\n",
    "rf.fit(X_train, y_train);\n",
    "\n",
    "# And gaining f1 score\n",
    "predict = rf.predict(X_test)\n",
    "f1_sc = f1_score(y_test, predict, average=\"weighted\")\n",
    "\n",
    "print('F1 score = ', f1_sc)"
   ]
  },
  {
   "cell_type": "markdown",
   "metadata": {},
   "source": [
    "**5.** Постройте оценки важности признаков, попробуйте удалить самые неважные и проверить, улучшилось ли качество."
   ]
  },
  {
   "cell_type": "code",
   "execution_count": 412,
   "metadata": {
    "collapsed": false
   },
   "outputs": [
    {
     "data": {
      "text/plain": [
       "<a list of 11 Text xticklabel objects>"
      ]
     },
     "execution_count": 412,
     "metadata": {},
     "output_type": "execute_result"
    },
    {
     "data": {
      "image/png": "[encoded data removed]",
      "text/plain": [
       "<matplotlib.figure.Figure at 0x1e3df8a9240>"
      ]
     },
     "metadata": {},
     "output_type": "display_data"
    }
   ],
   "source": [
    "# Getting each feature importance and building a plot\n",
    "importance = rf.feature_importances_\n",
    "idx = np.arange(importance.size)\n",
    "width = 0.5\n",
    "plt.figure(figsize=(21,10))\n",
    "p1 = plt.bar(idx, rf.feature_importances_, width, color='g')\n",
    "plt.xticks(idx+width/2, X.columns.values)[1]"
   ]
  },
  {
   "cell_type": "code",
   "execution_count": 492,
   "metadata": {
    "collapsed": false
   },
   "outputs": [
    {
     "name": "stdout",
     "output_type": "stream",
     "text": [
      "F1 score =  0.640946842724\n"
     ]
    }
   ],
   "source": [
    "# Removing unnecessary features\n",
    "selected_features = ['alcohol', 'volatile acidity', 'total sulfur dioxide', 'sulphates', 'density', 'chlorides']\n",
    "X_train_s = X_train[selected_features]\n",
    "X_test_s = X_test[selected_features]\n",
    "\n",
    "# Training our classifier\n",
    "rf = RandomForestClassifier()\n",
    "rf.fit(X_train_s, y_train);\n",
    "\n",
    "# And gaining f1 score\n",
    "predict = rf.predict(X_test_s)\n",
    "f1_sc = f1_score(y_test, predict, average=\"weighted\")\n",
    "\n",
    "print('F1 score = ', f1_sc)"
   ]
  },
  {
   "cell_type": "markdown",
   "metadata": {},
   "source": [
    "**6.** С помощью кросс-валидации подберите оптимальные значения параметров:\n",
    "\n",
    "* criterion — критерий, используемый при построении деревьев ('gini' или 'entropy');\n",
    "* max_features — мощность подмножества признаков, используемых при построении каждой вершины (переберите все возможные числовые значения);\n",
    "* max_depth — максимальная глубина деревьев (переберите разумные значения по своему выбору); \n",
    "* class_weight — параметр, отвечающий за взвешивание классов (выберите из None или 'balanced');\n",
    "\n",
    "Число деревьев пока установите равным 100.\n",
    "\n",
    "Подобрав оптимальные параметры, постройте графики зависимости качества на тестовой выборке от max_features и max_depth при фиксированных значениях остальных параметров.\n",
    "\n",
    "Какие параметры влияют на работу алгоритма наиболее существенно?"
   ]
  },
  {
   "cell_type": "code",
   "execution_count": 493,
   "metadata": {
    "collapsed": false
   },
   "outputs": [
    {
     "data": {
      "text/plain": [
       "0.64298561151079137"
      ]
     },
     "execution_count": 493,
     "metadata": {},
     "output_type": "execute_result"
    }
   ],
   "source": [
    "from sklearn.grid_search import GridSearchCV\n",
    "parameters = {'criterion':['gini', 'entropy'], 'max_features':np.arange(1,6),'max_depth':[2, 4, 8, 16, 32], \n",
    "              'class_weight':[None, 'balanced']}\n",
    "cv = GridSearchCV(RandomForestClassifier(), parameters)\n",
    "cv.fit(X_train_s, y_train);\n",
    "cv.best_score_"
   ]
  },
  {
   "cell_type": "markdown",
   "metadata": {},
   "source": [
    "**7.** Эмпирически установлено, что при увеличении числа деревьев качество не ухудшается. Проверим это утверждение. Постройте график зависимости качества на тестовой выборке от числа деревьев (n_estimators).\n",
    "\n",
    "Вам нужно будет перебрать значения до 3000 деревьев (например, с шагом 10: 10, 20, 30, ..., 3000) посчитать качество на тестовой выборке и построить график.\n",
    "\n",
    "Конечно, для этого можно каждый раз обучать RandomForest с нуля. Однако в таком случае придётся обучить в общей сумме $10 + 20 + \\ldots + 3000 = 451500$ деревьев.\n",
    "\n",
    "Однако, как мы знаем, деревья в случайных лесах строятся независимо и параллельно, поэтому можно обучить всего 3000 деревьев.\n",
    "\n",
    "Для этого в при создании объекта класса RandomForestClassifier нужно будет указать в том числе warm_start=True. Затем обучить алгоритм с помощью метода fit, использовать метод predict для классификации. После этого с помощью метода set_params изменить параметр n_estimators. Если к полученному объекту применить метод fit, внутри него будет обучаться только недостающее число деревьев."
   ]
  },
  {
   "cell_type": "code",
   "execution_count": null,
   "metadata": {
    "collapsed": false
   },
   "outputs": [],
   "source": [
    "# your code here"
   ]
  },
  {
   "cell_type": "markdown",
   "metadata": {},
   "source": [
    "**8.** Проверьте, что результат работы RandomForest не зависит от нормировки признаков. Для этого отнормируйте каждый признак, обучите RF и сравните результаты."
   ]
  },
  {
   "cell_type": "code",
   "execution_count": null,
   "metadata": {
    "collapsed": true
   },
   "outputs": [],
   "source": [
    "from sklearn.preprocessing import StandardScaler\n",
    "\n",
    "# your code here"
   ]
  },
  {
   "cell_type": "markdown",
   "metadata": {},
   "source": [
    "**9.** Сделайте выводы о том, насколько сильно выбор параметров влияет на работу случайных лесов. Ответьте на вопрос, какую существенную особенность данных мы не учли при построении алгоритма?"
   ]
  },
  {
   "cell_type": "markdown",
   "metadata": {
    "collapsed": true
   },
   "source": []
  }
 ],
 "metadata": {
  "kernelspec": {
   "display_name": "Python 3",
   "language": "python",
   "name": "python3"
  },
  "language_info": {
   "codemirror_mode": {
    "name": "ipython",
    "version": 3
   },
   "file_extension": ".py",
   "mimetype": "text/x-python",
   "name": "python",
   "nbconvert_exporter": "python",
   "pygments_lexer": "ipython3",
   "version": "3.5.1"
  },
  "widgets": {
   "state": {},
   "version": "1.1.1"
  }
 },
 "nbformat": 4,
 "nbformat_minor": 0
}
