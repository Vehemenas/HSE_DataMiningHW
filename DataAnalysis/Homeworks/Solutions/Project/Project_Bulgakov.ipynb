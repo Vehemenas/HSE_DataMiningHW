{
 "cells": [
  {
   "cell_type": "markdown",
   "metadata": {
    "collapsed": false
   },
   "source": [
    "# Data analysis project"
   ]
  },
  {
   "cell_type": "markdown",
   "metadata": {},
   "source": [
    "__Выполнил__: Булгаков Дмитрий (ИАД16)\n",
    "\n",
    "__Дедлайн__: 23:59 10.04.16"
   ]
  },
  {
   "cell_type": "markdown",
   "metadata": {
    "collapsed": true
   },
   "source": [
    "## 1. Loading Data"
   ]
  },
  {
   "cell_type": "markdown",
   "metadata": {
    "collapsed": true
   },
   "source": [
    "VK library quiet installation and import into the notebook."
   ]
  },
  {
   "cell_type": "code",
   "execution_count": 23,
   "metadata": {
    "collapsed": false
   },
   "outputs": [],
   "source": [
    "# !pip install vk # makes it quiet\n",
    "import vk"
   ]
  },
  {
   "cell_type": "markdown",
   "metadata": {
    "collapsed": true
   },
   "source": [
    "Starting new vk session in order to parse data"
   ]
  },
  {
   "cell_type": "code",
   "execution_count": 24,
   "metadata": {
    "collapsed": false
   },
   "outputs": [],
   "source": [
    "vk_session = vk.Session() # starting new session\n",
    "vk_api = vk.API(vk_session)"
   ]
  },
  {
   "cell_type": "markdown",
   "metadata": {
    "collapsed": true
   },
   "source": [
    "Getting number of posts in selected vk group."
   ]
  },
  {
   "cell_type": "code",
   "execution_count": 25,
   "metadata": {
    "collapsed": false
   },
   "outputs": [
    {
     "name": "stdout",
     "output_type": "stream",
     "text": [
      "Number of posts in selected group:  13124\n"
     ]
    }
   ],
   "source": [
    "selected_group = 'overhearhse' # no other ideas :c\n",
    "posts_number = vk_api.wall.get(domain=selected_group)[0] # number of posts is stored in first element\n",
    "print('Number of posts in selected group: ', posts_number - 1)"
   ]
  },
  {
   "cell_type": "markdown",
   "metadata": {
    "collapsed": false
   },
   "source": [
    "Writing a function to parse more, than 100 posts from group."
   ]
  },
  {
   "cell_type": "code",
   "execution_count": 26,
   "metadata": {
    "collapsed": true
   },
   "outputs": [],
   "source": [
    "def load_all_posts(page, n_posts, api):\n",
    "    all_posts = api.wall.get(domain=page, count=n_posts)\n",
    "    n_loaded = len(all_posts)\n",
    "    while n_loaded < n_posts: # loop to load more, than 100 posts\n",
    "        s = api.wall.get(domain=page, offset=n_loaded, count=(n_posts - n_loaded)) # update offset\n",
    "        all_posts += s[1:] # no need for first element\n",
    "        n_loaded += len(s) - 1 # update n_loaded\n",
    "    return all_posts"
   ]
  },
  {
   "cell_type": "markdown",
   "metadata": {
    "collapsed": false
   },
   "source": [
    "Loading all posts from group for future analysis"
   ]
  },
  {
   "cell_type": "code",
   "execution_count": 70,
   "metadata": {
    "collapsed": false
   },
   "outputs": [
    {
     "name": "stdout",
     "output_type": "stream",
     "text": [
      "Number of loaded posts:  5\n"
     ]
    }
   ],
   "source": [
    "try:\n",
    "    loaded_posts = load_all_posts(page=selected_group, n_posts=5, api=vk_api)[1:] # no need for posts number element\n",
    "    print('Number of loaded posts: ', len(loaded_posts))\n",
    "except: # timout errors are often to occur\n",
    "    print('Error occured! Try again.')"
   ]
  },
  {
   "cell_type": "markdown",
   "metadata": {},
   "source": [
    "## 2. Data preprocessing"
   ]
  },
  {
   "cell_type": "markdown",
   "metadata": {
    "collapsed": false
   },
   "source": [
    "Loading required libs to preprocess data."
   ]
  },
  {
   "cell_type": "code",
   "execution_count": 71,
   "metadata": {
    "collapsed": false
   },
   "outputs": [],
   "source": [
    "# !pip install pymorphy2 -q # silent install again\n",
    "# !pip install stop_words -q # needed to remove stop words\n",
    "from stop_words import get_stop_words\n",
    "import pymorphy2 # need this one to convert words to normal time\n",
    "import datetime # needed to convert response date \n",
    "import string # needed to work with strings\n",
    "from nltk.tokenize import TweetTokenizer # needed to split text\n",
    "import pandas as pd # required to work with dataframes\n",
    "from ipywidgets import IntProgress # progressbar\n",
    "from IPython.display import display # progressbar"
   ]
  },
  {
   "cell_type": "markdown",
   "metadata": {
    "collapsed": true
   },
   "source": [
    "Writing functions to process text data. Converting words to normal form and removing punctuation here."
   ]
  },
  {
   "cell_type": "code",
   "execution_count": 90,
   "metadata": {
    "collapsed": false
   },
   "outputs": [],
   "source": [
    "def split_text(text):\n",
    "    tokenizer = TweetTokenizer()\n",
    "    return tokenizer.tokenize(text) # spliting text into words\n",
    "\n",
    "def convert_to_normal_form(words_list):\n",
    "    morph = pymorphy2.MorphAnalyzer()\n",
    "    normal_forms_list = []\n",
    "    for word in words_list:\n",
    "        if word not in string.punctuation and word[0] != \"<\":\n",
    "            norm_form = morph.parse(word)[0].normal_form #getting normal form of a word\n",
    "            normal_forms_list.append(norm_form) #adding it to list\n",
    "    return normal_forms_list\n",
    "\n",
    "def convert_text(text):\n",
    "    words_list = split_text(text) # spliting text into words\n",
    "    norm_words_list = convert_to_normal_form(words_list) # words into normal form\n",
    "    filtered_words = [w for w in norm_words_list if not w in get_stop_words('russian')] # removing stop words\n",
    "    return filtered_words"
   ]
  },
  {
   "cell_type": "markdown",
   "metadata": {
    "collapsed": true
   },
   "source": [
    "Writing a function to convert received list into another with another data."
   ]
  },
  {
   "cell_type": "code",
   "execution_count": 91,
   "metadata": {
    "collapsed": false
   },
   "outputs": [],
   "source": [
    "def convert_posts(posts_list):\n",
    "    progress = IntProgress() \n",
    "    progress.max = len(posts_list) # initializing progressbar\n",
    "    progress.description = 'Processing data convertion'\n",
    "    display(progress)\n",
    "    \n",
    "    updated_posts = [] # list of new posts' list structure\n",
    "    for i, post in enumerate(posts_list): \n",
    "        tmp_dict = {} # creating empty dictionary for each post\n",
    "        tmp_dict['likes_number'] = post['likes']['count'] # getting likes count\n",
    "        tmp_dict['text'] = convert_text(post['text']) # converting text into normal form\n",
    "        tmp_dict['text_length'] = len(post['text']) # calculating text length\n",
    "        tmp_dict['post_hour'] = int(datetime.datetime.fromtimestamp(post['date']).strftime('%H')) # parsing only post hour\n",
    "        tmp_dict['post_month'] = int(datetime.datetime.fromtimestamp(post['date']).strftime('%m')) # and post month\n",
    "        tmp_dict['signed'] = int(post['from_id'] != -57354358) # checking whether post is signed or not\n",
    "        # checking if any attacment exists\n",
    "        tmp_dict['attachment_type'] = post['attachment']['type'] if 'attachment' in post.keys() else None\n",
    "        tmp_dict['pinned'] = 1 if 'is_pinned' in post.keys() else 0 # cheking if post is pinned\n",
    "        tmp_dict['repost'] = 1 if post['post_type'] == 'copy' else 0 # cheking if repost\n",
    "        updated_posts.append(tmp_dict)\n",
    "        progress.value += 1 # increasing progressbar value\n",
    "    progress.description = 'Done convertion!'\n",
    "    return updated_posts"
   ]
  },
  {
   "cell_type": "markdown",
   "metadata": {
    "collapsed": false
   },
   "source": [
    "Converting list of posts into new more convenient one."
   ]
  },
  {
   "cell_type": "code",
   "execution_count": 92,
   "metadata": {
    "collapsed": false
   },
   "outputs": [],
   "source": [
    "converted_posts = convert_posts(loaded_posts)"
   ]
  },
  {
   "cell_type": "markdown",
   "metadata": {
    "collapsed": true
   },
   "source": [
    "## 3. Creating object-feature matrix"
   ]
  },
  {
   "cell_type": "markdown",
   "metadata": {},
   "source": [
    "Loading pandas"
   ]
  },
  {
   "cell_type": "code",
   "execution_count": 93,
   "metadata": {
    "collapsed": true
   },
   "outputs": [],
   "source": [
    "import pandas as pd"
   ]
  },
  {
   "cell_type": "markdown",
   "metadata": {},
   "source": [
    "Creating dataframe from parsed data"
   ]
  },
  {
   "cell_type": "code",
   "execution_count": 94,
   "metadata": {
    "collapsed": false
   },
   "outputs": [
    {
     "data": {
      "text/html": [
       "<div>\n",
       "<table border=\"1\" class=\"dataframe\">\n",
       "  <thead>\n",
       "    <tr style=\"text-align: right;\">\n",
       "      <th></th>\n",
       "      <th>attachment_type</th>\n",
       "      <th>likes_number</th>\n",
       "      <th>pinned</th>\n",
       "      <th>post_hour</th>\n",
       "      <th>post_month</th>\n",
       "      <th>repost</th>\n",
       "      <th>signed</th>\n",
       "      <th>text</th>\n",
       "      <th>text_length</th>\n",
       "    </tr>\n",
       "  </thead>\n",
       "  <tbody>\n",
       "    <tr>\n",
       "      <th>0</th>\n",
       "      <td>photo</td>\n",
       "      <td>79</td>\n",
       "      <td>1</td>\n",
       "      <td>13</td>\n",
       "      <td>4</td>\n",
       "      <td>0</td>\n",
       "      <td>0</td>\n",
       "      <td>[]</td>\n",
       "      <td>0</td>\n",
       "    </tr>\n",
       "    <tr>\n",
       "      <th>1</th>\n",
       "      <td>photo</td>\n",
       "      <td>67</td>\n",
       "      <td>0</td>\n",
       "      <td>9</td>\n",
       "      <td>4</td>\n",
       "      <td>0</td>\n",
       "      <td>0</td>\n",
       "      <td>[]</td>\n",
       "      <td>0</td>\n",
       "    </tr>\n",
       "    <tr>\n",
       "      <th>2</th>\n",
       "      <td>None</td>\n",
       "      <td>4</td>\n",
       "      <td>0</td>\n",
       "      <td>9</td>\n",
       "      <td>4</td>\n",
       "      <td>0</td>\n",
       "      <td>0</td>\n",
       "      <td>[мгу, приходить, крутой, актёр, телеведущий, с...</td>\n",
       "      <td>148</td>\n",
       "    </tr>\n",
       "    <tr>\n",
       "      <th>3</th>\n",
       "      <td>None</td>\n",
       "      <td>7</td>\n",
       "      <td>0</td>\n",
       "      <td>20</td>\n",
       "      <td>4</td>\n",
       "      <td>1</td>\n",
       "      <td>0</td>\n",
       "      <td>[восхищать, удивительный, недееспособность, бо...</td>\n",
       "      <td>410</td>\n",
       "    </tr>\n",
       "    <tr>\n",
       "      <th>4</th>\n",
       "      <td>None</td>\n",
       "      <td>24</td>\n",
       "      <td>0</td>\n",
       "      <td>16</td>\n",
       "      <td>4</td>\n",
       "      <td>0</td>\n",
       "      <td>0</td>\n",
       "      <td>[жалеть, поступить, биофак, изучать, генетик, ...</td>\n",
       "      <td>163</td>\n",
       "    </tr>\n",
       "  </tbody>\n",
       "</table>\n",
       "</div>"
      ],
      "text/plain": [
       "  attachment_type  likes_number  pinned  post_hour  post_month  repost  \\\n",
       "0           photo            79       1         13           4       0   \n",
       "1           photo            67       0          9           4       0   \n",
       "2            None             4       0          9           4       0   \n",
       "3            None             7       0         20           4       1   \n",
       "4            None            24       0         16           4       0   \n",
       "\n",
       "   signed                                               text  text_length  \n",
       "0       0                                                 []            0  \n",
       "1       0                                                 []            0  \n",
       "2       0  [мгу, приходить, крутой, актёр, телеведущий, с...          148  \n",
       "3       0  [восхищать, удивительный, недееспособность, бо...          410  \n",
       "4       0  [жалеть, поступить, биофак, изучать, генетик, ...          163  "
      ]
     },
     "execution_count": 94,
     "metadata": {},
     "output_type": "execute_result"
    }
   ],
   "source": [
    "posts_frame = pd.DataFrame(converted_posts)\n",
    "posts_frame.head()"
   ]
  },
  {
   "cell_type": "markdown",
   "metadata": {
    "collapsed": false
   },
   "source": [
    "And describing posts data"
   ]
  },
  {
   "cell_type": "code",
   "execution_count": 95,
   "metadata": {
    "collapsed": false
   },
   "outputs": [
    {
     "data": {
      "text/html": [
       "<div>\n",
       "<table border=\"1\" class=\"dataframe\">\n",
       "  <thead>\n",
       "    <tr style=\"text-align: right;\">\n",
       "      <th></th>\n",
       "      <th>likes_number</th>\n",
       "      <th>pinned</th>\n",
       "      <th>post_hour</th>\n",
       "      <th>post_month</th>\n",
       "      <th>repost</th>\n",
       "      <th>signed</th>\n",
       "      <th>text_length</th>\n",
       "    </tr>\n",
       "  </thead>\n",
       "  <tbody>\n",
       "    <tr>\n",
       "      <th>count</th>\n",
       "      <td>5.000000</td>\n",
       "      <td>5.000000</td>\n",
       "      <td>5.000000</td>\n",
       "      <td>5.0</td>\n",
       "      <td>5.000000</td>\n",
       "      <td>5.0</td>\n",
       "      <td>5.000000</td>\n",
       "    </tr>\n",
       "    <tr>\n",
       "      <th>mean</th>\n",
       "      <td>36.200000</td>\n",
       "      <td>0.200000</td>\n",
       "      <td>13.400000</td>\n",
       "      <td>4.0</td>\n",
       "      <td>0.200000</td>\n",
       "      <td>0.0</td>\n",
       "      <td>144.200000</td>\n",
       "    </tr>\n",
       "    <tr>\n",
       "      <th>std</th>\n",
       "      <td>34.708789</td>\n",
       "      <td>0.447214</td>\n",
       "      <td>4.722288</td>\n",
       "      <td>0.0</td>\n",
       "      <td>0.447214</td>\n",
       "      <td>0.0</td>\n",
       "      <td>167.783193</td>\n",
       "    </tr>\n",
       "    <tr>\n",
       "      <th>min</th>\n",
       "      <td>4.000000</td>\n",
       "      <td>0.000000</td>\n",
       "      <td>9.000000</td>\n",
       "      <td>4.0</td>\n",
       "      <td>0.000000</td>\n",
       "      <td>0.0</td>\n",
       "      <td>0.000000</td>\n",
       "    </tr>\n",
       "    <tr>\n",
       "      <th>25%</th>\n",
       "      <td>7.000000</td>\n",
       "      <td>0.000000</td>\n",
       "      <td>9.000000</td>\n",
       "      <td>4.0</td>\n",
       "      <td>0.000000</td>\n",
       "      <td>0.0</td>\n",
       "      <td>0.000000</td>\n",
       "    </tr>\n",
       "    <tr>\n",
       "      <th>50%</th>\n",
       "      <td>24.000000</td>\n",
       "      <td>0.000000</td>\n",
       "      <td>13.000000</td>\n",
       "      <td>4.0</td>\n",
       "      <td>0.000000</td>\n",
       "      <td>0.0</td>\n",
       "      <td>148.000000</td>\n",
       "    </tr>\n",
       "    <tr>\n",
       "      <th>75%</th>\n",
       "      <td>67.000000</td>\n",
       "      <td>0.000000</td>\n",
       "      <td>16.000000</td>\n",
       "      <td>4.0</td>\n",
       "      <td>0.000000</td>\n",
       "      <td>0.0</td>\n",
       "      <td>163.000000</td>\n",
       "    </tr>\n",
       "    <tr>\n",
       "      <th>max</th>\n",
       "      <td>79.000000</td>\n",
       "      <td>1.000000</td>\n",
       "      <td>20.000000</td>\n",
       "      <td>4.0</td>\n",
       "      <td>1.000000</td>\n",
       "      <td>0.0</td>\n",
       "      <td>410.000000</td>\n",
       "    </tr>\n",
       "  </tbody>\n",
       "</table>\n",
       "</div>"
      ],
      "text/plain": [
       "       likes_number    pinned  post_hour  post_month    repost  signed  \\\n",
       "count      5.000000  5.000000   5.000000         5.0  5.000000     5.0   \n",
       "mean      36.200000  0.200000  13.400000         4.0  0.200000     0.0   \n",
       "std       34.708789  0.447214   4.722288         0.0  0.447214     0.0   \n",
       "min        4.000000  0.000000   9.000000         4.0  0.000000     0.0   \n",
       "25%        7.000000  0.000000   9.000000         4.0  0.000000     0.0   \n",
       "50%       24.000000  0.000000  13.000000         4.0  0.000000     0.0   \n",
       "75%       67.000000  0.000000  16.000000         4.0  0.000000     0.0   \n",
       "max       79.000000  1.000000  20.000000         4.0  1.000000     0.0   \n",
       "\n",
       "       text_length  \n",
       "count     5.000000  \n",
       "mean    144.200000  \n",
       "std     167.783193  \n",
       "min       0.000000  \n",
       "25%       0.000000  \n",
       "50%     148.000000  \n",
       "75%     163.000000  \n",
       "max     410.000000  "
      ]
     },
     "execution_count": 95,
     "metadata": {},
     "output_type": "execute_result"
    }
   ],
   "source": [
    "posts_frame.describe()"
   ]
  },
  {
   "cell_type": "code",
   "execution_count": 96,
   "metadata": {
    "collapsed": false
   },
   "outputs": [
    {
     "data": {
      "text/html": [
       "<div>\n",
       "<table border=\"1\" class=\"dataframe\">\n",
       "  <thead>\n",
       "    <tr style=\"text-align: right;\">\n",
       "      <th></th>\n",
       "      <th>attachment_type</th>\n",
       "      <th>pinned</th>\n",
       "      <th>post_hour</th>\n",
       "      <th>post_month</th>\n",
       "      <th>repost</th>\n",
       "      <th>signed</th>\n",
       "      <th>text</th>\n",
       "      <th>text_length</th>\n",
       "    </tr>\n",
       "  </thead>\n",
       "  <tbody>\n",
       "    <tr>\n",
       "      <th>0</th>\n",
       "      <td>photo</td>\n",
       "      <td>1</td>\n",
       "      <td>13</td>\n",
       "      <td>4</td>\n",
       "      <td>0</td>\n",
       "      <td>0</td>\n",
       "      <td>[]</td>\n",
       "      <td>0</td>\n",
       "    </tr>\n",
       "    <tr>\n",
       "      <th>1</th>\n",
       "      <td>photo</td>\n",
       "      <td>0</td>\n",
       "      <td>9</td>\n",
       "      <td>4</td>\n",
       "      <td>0</td>\n",
       "      <td>0</td>\n",
       "      <td>[]</td>\n",
       "      <td>0</td>\n",
       "    </tr>\n",
       "    <tr>\n",
       "      <th>2</th>\n",
       "      <td>None</td>\n",
       "      <td>0</td>\n",
       "      <td>9</td>\n",
       "      <td>4</td>\n",
       "      <td>0</td>\n",
       "      <td>0</td>\n",
       "      <td>[мгу, приходить, крутой, актёр, телеведущий, с...</td>\n",
       "      <td>148</td>\n",
       "    </tr>\n",
       "    <tr>\n",
       "      <th>3</th>\n",
       "      <td>None</td>\n",
       "      <td>0</td>\n",
       "      <td>20</td>\n",
       "      <td>4</td>\n",
       "      <td>1</td>\n",
       "      <td>0</td>\n",
       "      <td>[восхищать, удивительный, недееспособность, бо...</td>\n",
       "      <td>410</td>\n",
       "    </tr>\n",
       "    <tr>\n",
       "      <th>4</th>\n",
       "      <td>None</td>\n",
       "      <td>0</td>\n",
       "      <td>16</td>\n",
       "      <td>4</td>\n",
       "      <td>0</td>\n",
       "      <td>0</td>\n",
       "      <td>[жалеть, поступить, биофак, изучать, генетик, ...</td>\n",
       "      <td>163</td>\n",
       "    </tr>\n",
       "  </tbody>\n",
       "</table>\n",
       "</div>"
      ],
      "text/plain": [
       "  attachment_type  pinned  post_hour  post_month  repost  signed  \\\n",
       "0           photo       1         13           4       0       0   \n",
       "1           photo       0          9           4       0       0   \n",
       "2            None       0          9           4       0       0   \n",
       "3            None       0         20           4       1       0   \n",
       "4            None       0         16           4       0       0   \n",
       "\n",
       "                                                text  text_length  \n",
       "0                                                 []            0  \n",
       "1                                                 []            0  \n",
       "2  [мгу, приходить, крутой, актёр, телеведущий, с...          148  \n",
       "3  [восхищать, удивительный, недееспособность, бо...          410  \n",
       "4  [жалеть, поступить, биофак, изучать, генетик, ...          163  "
      ]
     },
     "execution_count": 96,
     "metadata": {},
     "output_type": "execute_result"
    }
   ],
   "source": [
    "posts_frame.drop('likes_number', axis=1)"
   ]
  },
  {
   "cell_type": "code",
   "execution_count": null,
   "metadata": {
    "collapsed": true
   },
   "outputs": [],
   "source": []
  }
 ],
 "metadata": {
  "kernelspec": {
   "display_name": "Python 3",
   "language": "python",
   "name": "python3"
  },
  "language_info": {
   "codemirror_mode": {
    "name": "ipython",
    "version": 3
   },
   "file_extension": ".py",
   "mimetype": "text/x-python",
   "name": "python",
   "nbconvert_exporter": "python",
   "pygments_lexer": "ipython3",
   "version": "3.5.1"
  }
 },
 "nbformat": 4,
 "nbformat_minor": 0
}
