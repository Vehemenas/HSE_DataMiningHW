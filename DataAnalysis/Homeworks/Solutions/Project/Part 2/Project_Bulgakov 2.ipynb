{
 "cells": [
  {
   "cell_type": "markdown",
   "metadata": {
    "collapsed": false
   },
   "source": [
    "# Data analysis project"
   ]
  },
  {
   "cell_type": "markdown",
   "metadata": {},
   "source": [
    "_In this project I am going to write a program to predict the number likes post is going to get in vk._"
   ]
  },
  {
   "cell_type": "markdown",
   "metadata": {},
   "source": [
    "__Выполнил__: Булгаков Дмитрий (ИАД16)\n",
    "\n",
    "__Дедлайн__: 23:59 10.04.16"
   ]
  },
  {
   "cell_type": "markdown",
   "metadata": {
    "collapsed": true
   },
   "source": [
    "# 1. Loading Data"
   ]
  },
  {
   "cell_type": "markdown",
   "metadata": {
    "collapsed": true
   },
   "source": [
    "VK library quiet installation and import into the notebook."
   ]
  },
  {
   "cell_type": "code",
   "execution_count": 31,
   "metadata": {
    "collapsed": false
   },
   "outputs": [],
   "source": [
    "# !pip install vk # makes it quiet\n",
    "import vk"
   ]
  },
  {
   "cell_type": "markdown",
   "metadata": {
    "collapsed": true
   },
   "source": [
    "Starting new vk session in order to parse data"
   ]
  },
  {
   "cell_type": "code",
   "execution_count": 32,
   "metadata": {
    "collapsed": false
   },
   "outputs": [],
   "source": [
    "vk_session = vk.Session() # starting new session\n",
    "vk_api = vk.API(vk_session)"
   ]
  },
  {
   "cell_type": "markdown",
   "metadata": {
    "collapsed": true
   },
   "source": [
    "Getting number of posts in selected vk group."
   ]
  },
  {
   "cell_type": "code",
   "execution_count": 33,
   "metadata": {
    "collapsed": false
   },
   "outputs": [
    {
     "name": "stdout",
     "output_type": "stream",
     "text": [
      "Number of posts in selected group:  13977\n"
     ]
    }
   ],
   "source": [
    "selected_group = 'hse_overheard' # no other ideas :c\n",
    "posts_number = vk_api.wall.get(domain=selected_group)[0] # number of posts is stored in first element\n",
    "print('Number of posts in selected group: ', posts_number - 1)"
   ]
  },
  {
   "cell_type": "markdown",
   "metadata": {
    "collapsed": false
   },
   "source": [
    "Writing a function to parse more, than 100 posts from group."
   ]
  },
  {
   "cell_type": "code",
   "execution_count": 34,
   "metadata": {
    "collapsed": true
   },
   "outputs": [],
   "source": [
    "def load_all_posts(page, n_posts, api):\n",
    "    all_posts = api.wall.get(domain=page, count=n_posts)\n",
    "    n_loaded = len(all_posts)\n",
    "    while n_loaded < n_posts: # loop to load more, than 100 posts\n",
    "        s = api.wall.get(domain=page, offset=n_loaded, count=(n_posts - n_loaded)) # update offset\n",
    "        all_posts += s[1:] # no need for first element\n",
    "        n_loaded += len(s) - 1 # update n_loaded\n",
    "    return all_posts"
   ]
  },
  {
   "cell_type": "markdown",
   "metadata": {
    "collapsed": false
   },
   "source": [
    "Loading all posts from group for future analysis"
   ]
  },
  {
   "cell_type": "code",
   "execution_count": 35,
   "metadata": {
    "collapsed": false
   },
   "outputs": [
    {
     "name": "stdout",
     "output_type": "stream",
     "text": [
      "Number of loaded posts:  2500\n"
     ]
    }
   ],
   "source": [
    "try:\n",
    "    loaded_posts = load_all_posts(page=selected_group, n_posts=2501, api=vk_api)[1:] # no need for posts number element\n",
    "    # 1500 for this time, because I have small amount of ram avaliable :c\n",
    "    print('Number of loaded posts: ', len(loaded_posts))\n",
    "except: # timout errors are often to occur\n",
    "    print('Error occured! Try again.')"
   ]
  },
  {
   "cell_type": "markdown",
   "metadata": {},
   "source": [
    "# 2. Data preprocessing"
   ]
  },
  {
   "cell_type": "markdown",
   "metadata": {
    "collapsed": false
   },
   "source": [
    "Loading required libs to preprocess data."
   ]
  },
  {
   "cell_type": "code",
   "execution_count": 36,
   "metadata": {
    "collapsed": false
   },
   "outputs": [],
   "source": [
    "# !pip install pymorphy2 -q # silent install again\n",
    "# !pip install stop_words -q # needed to remove stop words\n",
    "from stop_words import get_stop_words\n",
    "import pymorphy2 # need this one to convert words to normal time\n",
    "import datetime # needed to convert response date \n",
    "import string # needed to work with strings\n",
    "from nltk.tokenize import TweetTokenizer # needed to split text\n",
    "import pandas as pd # required to work with dataframes\n",
    "from ipywidgets import IntProgress # progressbar\n",
    "from IPython.display import display # progressbar"
   ]
  },
  {
   "cell_type": "markdown",
   "metadata": {
    "collapsed": true
   },
   "source": [
    "Writing functions to process text data. Converting words to normal form and removing punctuation here."
   ]
  },
  {
   "cell_type": "code",
   "execution_count": 37,
   "metadata": {
    "collapsed": false
   },
   "outputs": [],
   "source": [
    "def split_text(text):\n",
    "    tokenizer = TweetTokenizer()\n",
    "    return tokenizer.tokenize(text) # spliting text into words\n",
    "\n",
    "def convert_to_normal_form(words_list):\n",
    "    morph = pymorphy2.MorphAnalyzer()\n",
    "    normal_forms_list = []\n",
    "    for word in words_list:\n",
    "        if word not in string.punctuation and word[0] != \"<\":\n",
    "            norm_form = morph.parse(word)[0].normal_form #getting normal form of a word\n",
    "            normal_forms_list.append(norm_form) #adding it to list\n",
    "    return normal_forms_list\n",
    "\n",
    "def convert_text(text):\n",
    "    words_list = split_text(text) # spliting text into words\n",
    "    norm_words_list = convert_to_normal_form(words_list) # words into normal form\n",
    "    filtered_words = [w for w in norm_words_list if not w in get_stop_words('russian')] # removing stop words\n",
    "    return \" \".join(filtered_words) # joining words to a sentence again"
   ]
  },
  {
   "cell_type": "markdown",
   "metadata": {
    "collapsed": true
   },
   "source": [
    "Writing a function to convert received list into another with another data."
   ]
  },
  {
   "cell_type": "code",
   "execution_count": 38,
   "metadata": {
    "collapsed": false
   },
   "outputs": [],
   "source": [
    "def check_posttime(post, cur_date):\n",
    "    post_time = datetime.datetime.fromtimestamp(post['date'])\n",
    "    elapsed_time = (cur_date - post_time).days\n",
    "    \n",
    "    if (elapsed_time < 1):\n",
    "        return 0\n",
    "    if (elapsed_time < 5):\n",
    "        return 1\n",
    "    if (elapsed_time < 10):\n",
    "        return 2\n",
    "    if (elapsed_time < 30):\n",
    "        return 3\n",
    "    if (elapsed_time < 90):\n",
    "        return 4\n",
    "    if (elapsed_time < 180):\n",
    "        return 5\n",
    "    if (elapsed_time < 365):\n",
    "        return 6\n",
    "    if (elapsed_time < 730):\n",
    "        return 7\n",
    "    return 8"
   ]
  },
  {
   "cell_type": "code",
   "execution_count": 39,
   "metadata": {
    "collapsed": false
   },
   "outputs": [],
   "source": [
    "def check_attachment(post):\n",
    "    tmp_dict = {'photo_attachment': 0, 'poll_attachment': 0, 'link_attachment': 0}\n",
    "    \n",
    "    if 'attachments' not in post.keys():\n",
    "        return tmp_dict\n",
    "    else:\n",
    "        for attachment in post['attachments']:\n",
    "            if attachment['type'] == 'photo':\n",
    "                tmp_dict['photo_attachment'] = 1\n",
    "            if attachment['type'] == 'poll':\n",
    "                tmp_dict['poll_attachment'] = 1\n",
    "            if attachment['type'] == 'link':\n",
    "                tmp_dict['link_attachment'] = 1\n",
    "        return tmp_dict"
   ]
  },
  {
   "cell_type": "code",
   "execution_count": 40,
   "metadata": {
    "collapsed": false
   },
   "outputs": [],
   "source": [
    "def convert_posts(posts_list):\n",
    "    progress = IntProgress() \n",
    "    progress.max = len(posts_list) # initializing progressbar\n",
    "    progress.description = 'Processing data convertion'\n",
    "    display(progress)\n",
    "    current_date = pd.datetime.today()\n",
    "    \n",
    "    updated_posts = [] # list of new posts' list structure\n",
    "    for i, post in enumerate(posts_list): \n",
    "        tmp_dict = {} # creating empty dictionary for each post\n",
    "        tmp_dict['likes_number'] = int(post['likes']['count']) # getting likes count\n",
    "        tmp_dict['text'] = convert_text(post['text']) # converting text into normal form\n",
    "        tmp_dict['long_text'] = 1 if len(post['text']) > 400 else 0 # calculating text length\n",
    "        post_date = datetime.datetime.fromtimestamp(post['date'])\n",
    "        tmp_dict['post_hour'] = int(post_date.strftime('%H')) # parsing only post hour\n",
    "        tmp_dict['post_month'] = int(post_date.strftime('%m')) # and post month\n",
    "        tmp_dict['signed'] = int(post['from_id'] != -57354358) # checking whether post is signed or not\n",
    "        # checking if any attacment exists\n",
    "        tmp_dict['time_elapsed'] = check_posttime(post, current_date)\n",
    "        tmp_dict.update(check_attachment(post))\n",
    "        tmp_dict['pinned'] = 1 if 'is_pinned' in post.keys() else 0 # cheking if post is pinned\n",
    "        updated_posts.append(tmp_dict)\n",
    "        progress.value += 1 # increasing progressbar value\n",
    "    progress.description = 'Done convertion!'\n",
    "    return updated_posts"
   ]
  },
  {
   "cell_type": "markdown",
   "metadata": {
    "collapsed": false
   },
   "source": [
    "Converting list of posts into new more convenient one."
   ]
  },
  {
   "cell_type": "code",
   "execution_count": 41,
   "metadata": {
    "collapsed": false
   },
   "outputs": [],
   "source": [
    "converted_posts = convert_posts(loaded_posts)"
   ]
  },
  {
   "cell_type": "markdown",
   "metadata": {
    "collapsed": true
   },
   "source": [
    "# 3. Creating object-feature matrix"
   ]
  },
  {
   "cell_type": "markdown",
   "metadata": {},
   "source": [
    "Loading pandas"
   ]
  },
  {
   "cell_type": "code",
   "execution_count": 42,
   "metadata": {
    "collapsed": true
   },
   "outputs": [],
   "source": [
    "import pandas as pd"
   ]
  },
  {
   "cell_type": "markdown",
   "metadata": {},
   "source": [
    "Creating dataframe from parsed data"
   ]
  },
  {
   "cell_type": "code",
   "execution_count": 43,
   "metadata": {
    "collapsed": false
   },
   "outputs": [
    {
     "data": {
      "text/html": [
       "<div>\n",
       "<table border=\"1\" class=\"dataframe\">\n",
       "  <thead>\n",
       "    <tr style=\"text-align: right;\">\n",
       "      <th></th>\n",
       "      <th>likes_number</th>\n",
       "      <th>link_attachment</th>\n",
       "      <th>long_text</th>\n",
       "      <th>photo_attachment</th>\n",
       "      <th>pinned</th>\n",
       "      <th>poll_attachment</th>\n",
       "      <th>post_hour</th>\n",
       "      <th>post_month</th>\n",
       "      <th>signed</th>\n",
       "      <th>text</th>\n",
       "      <th>time_elapsed</th>\n",
       "    </tr>\n",
       "  </thead>\n",
       "  <tbody>\n",
       "    <tr>\n",
       "      <th>0</th>\n",
       "      <td>0</td>\n",
       "      <td>0</td>\n",
       "      <td>0</td>\n",
       "      <td>0</td>\n",
       "      <td>0</td>\n",
       "      <td>1</td>\n",
       "      <td>12</td>\n",
       "      <td>6</td>\n",
       "      <td>0</td>\n",
       "      <td>заслуживать мнение россия отстранение олимпиад...</td>\n",
       "      <td>0</td>\n",
       "    </tr>\n",
       "    <tr>\n",
       "      <th>1</th>\n",
       "      <td>0</td>\n",
       "      <td>0</td>\n",
       "      <td>0</td>\n",
       "      <td>0</td>\n",
       "      <td>0</td>\n",
       "      <td>0</td>\n",
       "      <td>11</td>\n",
       "      <td>6</td>\n",
       "      <td>0</td>\n",
       "      <td>китаец получить большинство право приход дэн с...</td>\n",
       "      <td>0</td>\n",
       "    </tr>\n",
       "    <tr>\n",
       "      <th>2</th>\n",
       "      <td>0</td>\n",
       "      <td>1</td>\n",
       "      <td>1</td>\n",
       "      <td>1</td>\n",
       "      <td>0</td>\n",
       "      <td>0</td>\n",
       "      <td>15</td>\n",
       "      <td>6</td>\n",
       "      <td>0</td>\n",
       "      <td>конкурс « подслушать » вместе билайн продолжат...</td>\n",
       "      <td>1</td>\n",
       "    </tr>\n",
       "    <tr>\n",
       "      <th>3</th>\n",
       "      <td>1</td>\n",
       "      <td>0</td>\n",
       "      <td>0</td>\n",
       "      <td>0</td>\n",
       "      <td>0</td>\n",
       "      <td>0</td>\n",
       "      <td>10</td>\n",
       "      <td>6</td>\n",
       "      <td>0</td>\n",
       "      <td>чей лошадка победить мисс ниу вшэ</td>\n",
       "      <td>1</td>\n",
       "    </tr>\n",
       "    <tr>\n",
       "      <th>4</th>\n",
       "      <td>9</td>\n",
       "      <td>0</td>\n",
       "      <td>1</td>\n",
       "      <td>0</td>\n",
       "      <td>0</td>\n",
       "      <td>1</td>\n",
       "      <td>9</td>\n",
       "      <td>6</td>\n",
       "      <td>0</td>\n",
       "      <td>писать сюда придумать способ найти эконом гей ...</td>\n",
       "      <td>1</td>\n",
       "    </tr>\n",
       "  </tbody>\n",
       "</table>\n",
       "</div>"
      ],
      "text/plain": [
       "   likes_number  link_attachment  long_text  photo_attachment  pinned  \\\n",
       "0             0                0          0                 0       0   \n",
       "1             0                0          0                 0       0   \n",
       "2             0                1          1                 1       0   \n",
       "3             1                0          0                 0       0   \n",
       "4             9                0          1                 0       0   \n",
       "\n",
       "   poll_attachment  post_hour  post_month  signed  \\\n",
       "0                1         12           6       0   \n",
       "1                0         11           6       0   \n",
       "2                0         15           6       0   \n",
       "3                0         10           6       0   \n",
       "4                1          9           6       0   \n",
       "\n",
       "                                                text  time_elapsed  \n",
       "0  заслуживать мнение россия отстранение олимпиад...             0  \n",
       "1  китаец получить большинство право приход дэн с...             0  \n",
       "2  конкурс « подслушать » вместе билайн продолжат...             1  \n",
       "3                  чей лошадка победить мисс ниу вшэ             1  \n",
       "4  писать сюда придумать способ найти эконом гей ...             1  "
      ]
     },
     "execution_count": 43,
     "metadata": {},
     "output_type": "execute_result"
    }
   ],
   "source": [
    "posts_frame = pd.DataFrame(converted_posts)\n",
    "posts_frame.head()"
   ]
  },
  {
   "cell_type": "markdown",
   "metadata": {
    "collapsed": false
   },
   "source": [
    "And describing posts data"
   ]
  },
  {
   "cell_type": "code",
   "execution_count": 44,
   "metadata": {
    "collapsed": false
   },
   "outputs": [
    {
     "data": {
      "text/html": [
       "<div>\n",
       "<table border=\"1\" class=\"dataframe\">\n",
       "  <thead>\n",
       "    <tr style=\"text-align: right;\">\n",
       "      <th></th>\n",
       "      <th>likes_number</th>\n",
       "      <th>link_attachment</th>\n",
       "      <th>long_text</th>\n",
       "      <th>photo_attachment</th>\n",
       "      <th>pinned</th>\n",
       "      <th>poll_attachment</th>\n",
       "      <th>post_hour</th>\n",
       "      <th>post_month</th>\n",
       "      <th>signed</th>\n",
       "      <th>time_elapsed</th>\n",
       "    </tr>\n",
       "  </thead>\n",
       "  <tbody>\n",
       "    <tr>\n",
       "      <th>count</th>\n",
       "      <td>2500.000000</td>\n",
       "      <td>2500.000000</td>\n",
       "      <td>2500.000000</td>\n",
       "      <td>2500.00000</td>\n",
       "      <td>2500.0</td>\n",
       "      <td>2500.0000</td>\n",
       "      <td>2500.000000</td>\n",
       "      <td>2500.000000</td>\n",
       "      <td>2500.0</td>\n",
       "      <td>2500.000000</td>\n",
       "    </tr>\n",
       "    <tr>\n",
       "      <th>mean</th>\n",
       "      <td>32.283600</td>\n",
       "      <td>0.023200</td>\n",
       "      <td>0.141200</td>\n",
       "      <td>0.21320</td>\n",
       "      <td>0.0</td>\n",
       "      <td>0.0292</td>\n",
       "      <td>15.266000</td>\n",
       "      <td>5.778000</td>\n",
       "      <td>0.0</td>\n",
       "      <td>4.766800</td>\n",
       "    </tr>\n",
       "    <tr>\n",
       "      <th>std</th>\n",
       "      <td>48.877745</td>\n",
       "      <td>0.150568</td>\n",
       "      <td>0.348297</td>\n",
       "      <td>0.40965</td>\n",
       "      <td>0.0</td>\n",
       "      <td>0.1684</td>\n",
       "      <td>5.941495</td>\n",
       "      <td>3.350523</td>\n",
       "      <td>0.0</td>\n",
       "      <td>1.129658</td>\n",
       "    </tr>\n",
       "    <tr>\n",
       "      <th>min</th>\n",
       "      <td>0.000000</td>\n",
       "      <td>0.000000</td>\n",
       "      <td>0.000000</td>\n",
       "      <td>0.00000</td>\n",
       "      <td>0.0</td>\n",
       "      <td>0.0000</td>\n",
       "      <td>0.000000</td>\n",
       "      <td>1.000000</td>\n",
       "      <td>0.0</td>\n",
       "      <td>0.000000</td>\n",
       "    </tr>\n",
       "    <tr>\n",
       "      <th>25%</th>\n",
       "      <td>4.000000</td>\n",
       "      <td>0.000000</td>\n",
       "      <td>0.000000</td>\n",
       "      <td>0.00000</td>\n",
       "      <td>0.0</td>\n",
       "      <td>0.0000</td>\n",
       "      <td>12.000000</td>\n",
       "      <td>3.000000</td>\n",
       "      <td>0.0</td>\n",
       "      <td>4.000000</td>\n",
       "    </tr>\n",
       "    <tr>\n",
       "      <th>50%</th>\n",
       "      <td>14.000000</td>\n",
       "      <td>0.000000</td>\n",
       "      <td>0.000000</td>\n",
       "      <td>0.00000</td>\n",
       "      <td>0.0</td>\n",
       "      <td>0.0000</td>\n",
       "      <td>16.000000</td>\n",
       "      <td>5.000000</td>\n",
       "      <td>0.0</td>\n",
       "      <td>5.000000</td>\n",
       "    </tr>\n",
       "    <tr>\n",
       "      <th>75%</th>\n",
       "      <td>42.000000</td>\n",
       "      <td>0.000000</td>\n",
       "      <td>0.000000</td>\n",
       "      <td>0.00000</td>\n",
       "      <td>0.0</td>\n",
       "      <td>0.0000</td>\n",
       "      <td>20.000000</td>\n",
       "      <td>9.000000</td>\n",
       "      <td>0.0</td>\n",
       "      <td>6.000000</td>\n",
       "    </tr>\n",
       "    <tr>\n",
       "      <th>max</th>\n",
       "      <td>584.000000</td>\n",
       "      <td>1.000000</td>\n",
       "      <td>1.000000</td>\n",
       "      <td>1.00000</td>\n",
       "      <td>0.0</td>\n",
       "      <td>1.0000</td>\n",
       "      <td>23.000000</td>\n",
       "      <td>12.000000</td>\n",
       "      <td>0.0</td>\n",
       "      <td>6.000000</td>\n",
       "    </tr>\n",
       "  </tbody>\n",
       "</table>\n",
       "</div>"
      ],
      "text/plain": [
       "       likes_number  link_attachment    long_text  photo_attachment  pinned  \\\n",
       "count   2500.000000      2500.000000  2500.000000        2500.00000  2500.0   \n",
       "mean      32.283600         0.023200     0.141200           0.21320     0.0   \n",
       "std       48.877745         0.150568     0.348297           0.40965     0.0   \n",
       "min        0.000000         0.000000     0.000000           0.00000     0.0   \n",
       "25%        4.000000         0.000000     0.000000           0.00000     0.0   \n",
       "50%       14.000000         0.000000     0.000000           0.00000     0.0   \n",
       "75%       42.000000         0.000000     0.000000           0.00000     0.0   \n",
       "max      584.000000         1.000000     1.000000           1.00000     0.0   \n",
       "\n",
       "       poll_attachment    post_hour   post_month  signed  time_elapsed  \n",
       "count        2500.0000  2500.000000  2500.000000  2500.0   2500.000000  \n",
       "mean            0.0292    15.266000     5.778000     0.0      4.766800  \n",
       "std             0.1684     5.941495     3.350523     0.0      1.129658  \n",
       "min             0.0000     0.000000     1.000000     0.0      0.000000  \n",
       "25%             0.0000    12.000000     3.000000     0.0      4.000000  \n",
       "50%             0.0000    16.000000     5.000000     0.0      5.000000  \n",
       "75%             0.0000    20.000000     9.000000     0.0      6.000000  \n",
       "max             1.0000    23.000000    12.000000     0.0      6.000000  "
      ]
     },
     "execution_count": 44,
     "metadata": {},
     "output_type": "execute_result"
    }
   ],
   "source": [
    "posts_frame.describe()"
   ]
  },
  {
   "cell_type": "markdown",
   "metadata": {
    "collapsed": false
   },
   "source": [
    "Creating object-feature matrix"
   ]
  },
  {
   "cell_type": "code",
   "execution_count": 45,
   "metadata": {
    "collapsed": false
   },
   "outputs": [],
   "source": [
    "from sklearn.feature_extraction.text import TfidfVectorizer # loading count vectorizer\n",
    "\n",
    "cv = TfidfVectorizer(norm='l1', max_features = 100, analyzer = 'word', strip_accents='unicode', binary=True)\n",
    "train_features = cv.fit_transform(posts_frame['text']).toarray() # vectorizing texts\n",
    "train_frame = posts_frame.join(pd.DataFrame(train_features, columns=cv.get_feature_names())) # transfering it to pandas\n",
    "\n",
    "train_frame.drop(['likes_number','text'],inplace=True,axis=1,errors='ignore') # removing unnecessary columns\n",
    "value_frame = posts_frame['likes_number']"
   ]
  },
  {
   "cell_type": "code",
   "execution_count": 46,
   "metadata": {
    "collapsed": false
   },
   "outputs": [
    {
     "data": {
      "text/html": [
       "<div>\n",
       "<table border=\"1\" class=\"dataframe\">\n",
       "  <thead>\n",
       "    <tr style=\"text-align: right;\">\n",
       "      <th></th>\n",
       "      <th>link_attachment</th>\n",
       "      <th>long_text</th>\n",
       "      <th>photo_attachment</th>\n",
       "      <th>pinned</th>\n",
       "      <th>poll_attachment</th>\n",
       "      <th>post_hour</th>\n",
       "      <th>post_month</th>\n",
       "      <th>signed</th>\n",
       "      <th>time_elapsed</th>\n",
       "      <th>10</th>\n",
       "      <th>...</th>\n",
       "      <th>учеба</th>\n",
       "      <th>учиться</th>\n",
       "      <th>факультет</th>\n",
       "      <th>ходить</th>\n",
       "      <th>хорошии</th>\n",
       "      <th>хотеться</th>\n",
       "      <th>что</th>\n",
       "      <th>школа</th>\n",
       "      <th>экзамен</th>\n",
       "      <th>экономика</th>\n",
       "    </tr>\n",
       "  </thead>\n",
       "  <tbody>\n",
       "    <tr>\n",
       "      <th>count</th>\n",
       "      <td>2500.000000</td>\n",
       "      <td>2500.000000</td>\n",
       "      <td>2500.00000</td>\n",
       "      <td>2500.0</td>\n",
       "      <td>2500.0000</td>\n",
       "      <td>2500.000000</td>\n",
       "      <td>2500.000000</td>\n",
       "      <td>2500.0</td>\n",
       "      <td>2500.000000</td>\n",
       "      <td>2500.000000</td>\n",
       "      <td>...</td>\n",
       "      <td>2500.000000</td>\n",
       "      <td>2500.000000</td>\n",
       "      <td>2500.000000</td>\n",
       "      <td>2500.000000</td>\n",
       "      <td>2500.000000</td>\n",
       "      <td>2500.000000</td>\n",
       "      <td>2500.000000</td>\n",
       "      <td>2500.000000</td>\n",
       "      <td>2500.000000</td>\n",
       "      <td>2500.000000</td>\n",
       "    </tr>\n",
       "    <tr>\n",
       "      <th>mean</th>\n",
       "      <td>0.023200</td>\n",
       "      <td>0.141200</td>\n",
       "      <td>0.21320</td>\n",
       "      <td>0.0</td>\n",
       "      <td>0.0292</td>\n",
       "      <td>15.266000</td>\n",
       "      <td>5.778000</td>\n",
       "      <td>0.0</td>\n",
       "      <td>4.766800</td>\n",
       "      <td>0.007431</td>\n",
       "      <td>...</td>\n",
       "      <td>0.007313</td>\n",
       "      <td>0.010182</td>\n",
       "      <td>0.011512</td>\n",
       "      <td>0.005586</td>\n",
       "      <td>0.015487</td>\n",
       "      <td>0.005925</td>\n",
       "      <td>0.004909</td>\n",
       "      <td>0.004885</td>\n",
       "      <td>0.008495</td>\n",
       "      <td>0.007819</td>\n",
       "    </tr>\n",
       "    <tr>\n",
       "      <th>std</th>\n",
       "      <td>0.150568</td>\n",
       "      <td>0.348297</td>\n",
       "      <td>0.40965</td>\n",
       "      <td>0.0</td>\n",
       "      <td>0.1684</td>\n",
       "      <td>5.941495</td>\n",
       "      <td>3.350523</td>\n",
       "      <td>0.0</td>\n",
       "      <td>1.129658</td>\n",
       "      <td>0.067225</td>\n",
       "      <td>...</td>\n",
       "      <td>0.065569</td>\n",
       "      <td>0.069392</td>\n",
       "      <td>0.073893</td>\n",
       "      <td>0.046685</td>\n",
       "      <td>0.081198</td>\n",
       "      <td>0.052088</td>\n",
       "      <td>0.035517</td>\n",
       "      <td>0.041037</td>\n",
       "      <td>0.075523</td>\n",
       "      <td>0.054640</td>\n",
       "    </tr>\n",
       "    <tr>\n",
       "      <th>min</th>\n",
       "      <td>0.000000</td>\n",
       "      <td>0.000000</td>\n",
       "      <td>0.00000</td>\n",
       "      <td>0.0</td>\n",
       "      <td>0.0000</td>\n",
       "      <td>0.000000</td>\n",
       "      <td>1.000000</td>\n",
       "      <td>0.0</td>\n",
       "      <td>0.000000</td>\n",
       "      <td>0.000000</td>\n",
       "      <td>...</td>\n",
       "      <td>0.000000</td>\n",
       "      <td>0.000000</td>\n",
       "      <td>0.000000</td>\n",
       "      <td>0.000000</td>\n",
       "      <td>0.000000</td>\n",
       "      <td>0.000000</td>\n",
       "      <td>0.000000</td>\n",
       "      <td>0.000000</td>\n",
       "      <td>0.000000</td>\n",
       "      <td>0.000000</td>\n",
       "    </tr>\n",
       "    <tr>\n",
       "      <th>25%</th>\n",
       "      <td>0.000000</td>\n",
       "      <td>0.000000</td>\n",
       "      <td>0.00000</td>\n",
       "      <td>0.0</td>\n",
       "      <td>0.0000</td>\n",
       "      <td>12.000000</td>\n",
       "      <td>3.000000</td>\n",
       "      <td>0.0</td>\n",
       "      <td>4.000000</td>\n",
       "      <td>0.000000</td>\n",
       "      <td>...</td>\n",
       "      <td>0.000000</td>\n",
       "      <td>0.000000</td>\n",
       "      <td>0.000000</td>\n",
       "      <td>0.000000</td>\n",
       "      <td>0.000000</td>\n",
       "      <td>0.000000</td>\n",
       "      <td>0.000000</td>\n",
       "      <td>0.000000</td>\n",
       "      <td>0.000000</td>\n",
       "      <td>0.000000</td>\n",
       "    </tr>\n",
       "    <tr>\n",
       "      <th>50%</th>\n",
       "      <td>0.000000</td>\n",
       "      <td>0.000000</td>\n",
       "      <td>0.00000</td>\n",
       "      <td>0.0</td>\n",
       "      <td>0.0000</td>\n",
       "      <td>16.000000</td>\n",
       "      <td>5.000000</td>\n",
       "      <td>0.0</td>\n",
       "      <td>5.000000</td>\n",
       "      <td>0.000000</td>\n",
       "      <td>...</td>\n",
       "      <td>0.000000</td>\n",
       "      <td>0.000000</td>\n",
       "      <td>0.000000</td>\n",
       "      <td>0.000000</td>\n",
       "      <td>0.000000</td>\n",
       "      <td>0.000000</td>\n",
       "      <td>0.000000</td>\n",
       "      <td>0.000000</td>\n",
       "      <td>0.000000</td>\n",
       "      <td>0.000000</td>\n",
       "    </tr>\n",
       "    <tr>\n",
       "      <th>75%</th>\n",
       "      <td>0.000000</td>\n",
       "      <td>0.000000</td>\n",
       "      <td>0.00000</td>\n",
       "      <td>0.0</td>\n",
       "      <td>0.0000</td>\n",
       "      <td>20.000000</td>\n",
       "      <td>9.000000</td>\n",
       "      <td>0.0</td>\n",
       "      <td>6.000000</td>\n",
       "      <td>0.000000</td>\n",
       "      <td>...</td>\n",
       "      <td>0.000000</td>\n",
       "      <td>0.000000</td>\n",
       "      <td>0.000000</td>\n",
       "      <td>0.000000</td>\n",
       "      <td>0.000000</td>\n",
       "      <td>0.000000</td>\n",
       "      <td>0.000000</td>\n",
       "      <td>0.000000</td>\n",
       "      <td>0.000000</td>\n",
       "      <td>0.000000</td>\n",
       "    </tr>\n",
       "    <tr>\n",
       "      <th>max</th>\n",
       "      <td>1.000000</td>\n",
       "      <td>1.000000</td>\n",
       "      <td>1.00000</td>\n",
       "      <td>0.0</td>\n",
       "      <td>1.0000</td>\n",
       "      <td>23.000000</td>\n",
       "      <td>12.000000</td>\n",
       "      <td>0.0</td>\n",
       "      <td>6.000000</td>\n",
       "      <td>1.000000</td>\n",
       "      <td>...</td>\n",
       "      <td>1.000000</td>\n",
       "      <td>1.000000</td>\n",
       "      <td>1.000000</td>\n",
       "      <td>1.000000</td>\n",
       "      <td>1.000000</td>\n",
       "      <td>1.000000</td>\n",
       "      <td>0.565135</td>\n",
       "      <td>1.000000</td>\n",
       "      <td>1.000000</td>\n",
       "      <td>1.000000</td>\n",
       "    </tr>\n",
       "  </tbody>\n",
       "</table>\n",
       "<p>8 rows × 109 columns</p>\n",
       "</div>"
      ],
      "text/plain": [
       "       link_attachment    long_text  photo_attachment  pinned  \\\n",
       "count      2500.000000  2500.000000        2500.00000  2500.0   \n",
       "mean          0.023200     0.141200           0.21320     0.0   \n",
       "std           0.150568     0.348297           0.40965     0.0   \n",
       "min           0.000000     0.000000           0.00000     0.0   \n",
       "25%           0.000000     0.000000           0.00000     0.0   \n",
       "50%           0.000000     0.000000           0.00000     0.0   \n",
       "75%           0.000000     0.000000           0.00000     0.0   \n",
       "max           1.000000     1.000000           1.00000     0.0   \n",
       "\n",
       "       poll_attachment    post_hour   post_month  signed  time_elapsed  \\\n",
       "count        2500.0000  2500.000000  2500.000000  2500.0   2500.000000   \n",
       "mean            0.0292    15.266000     5.778000     0.0      4.766800   \n",
       "std             0.1684     5.941495     3.350523     0.0      1.129658   \n",
       "min             0.0000     0.000000     1.000000     0.0      0.000000   \n",
       "25%             0.0000    12.000000     3.000000     0.0      4.000000   \n",
       "50%             0.0000    16.000000     5.000000     0.0      5.000000   \n",
       "75%             0.0000    20.000000     9.000000     0.0      6.000000   \n",
       "max             1.0000    23.000000    12.000000     0.0      6.000000   \n",
       "\n",
       "                10     ...             учеба      учиться    факультет  \\\n",
       "count  2500.000000     ...       2500.000000  2500.000000  2500.000000   \n",
       "mean      0.007431     ...          0.007313     0.010182     0.011512   \n",
       "std       0.067225     ...          0.065569     0.069392     0.073893   \n",
       "min       0.000000     ...          0.000000     0.000000     0.000000   \n",
       "25%       0.000000     ...          0.000000     0.000000     0.000000   \n",
       "50%       0.000000     ...          0.000000     0.000000     0.000000   \n",
       "75%       0.000000     ...          0.000000     0.000000     0.000000   \n",
       "max       1.000000     ...          1.000000     1.000000     1.000000   \n",
       "\n",
       "            ходить      хорошии     хотеться          что        школа  \\\n",
       "count  2500.000000  2500.000000  2500.000000  2500.000000  2500.000000   \n",
       "mean      0.005586     0.015487     0.005925     0.004909     0.004885   \n",
       "std       0.046685     0.081198     0.052088     0.035517     0.041037   \n",
       "min       0.000000     0.000000     0.000000     0.000000     0.000000   \n",
       "25%       0.000000     0.000000     0.000000     0.000000     0.000000   \n",
       "50%       0.000000     0.000000     0.000000     0.000000     0.000000   \n",
       "75%       0.000000     0.000000     0.000000     0.000000     0.000000   \n",
       "max       1.000000     1.000000     1.000000     0.565135     1.000000   \n",
       "\n",
       "           экзамен    экономика  \n",
       "count  2500.000000  2500.000000  \n",
       "mean      0.008495     0.007819  \n",
       "std       0.075523     0.054640  \n",
       "min       0.000000     0.000000  \n",
       "25%       0.000000     0.000000  \n",
       "50%       0.000000     0.000000  \n",
       "75%       0.000000     0.000000  \n",
       "max       1.000000     1.000000  \n",
       "\n",
       "[8 rows x 109 columns]"
      ]
     },
     "execution_count": 46,
     "metadata": {},
     "output_type": "execute_result"
    }
   ],
   "source": [
    "train_frame.describe()"
   ]
  },
  {
   "cell_type": "markdown",
   "metadata": {},
   "source": [
    "Saving train frame to file"
   ]
  },
  {
   "cell_type": "code",
   "execution_count": 47,
   "metadata": {
    "collapsed": true
   },
   "outputs": [],
   "source": [
    "# train_frame.to_csv('traindata.csv')"
   ]
  },
  {
   "cell_type": "markdown",
   "metadata": {},
   "source": [
    "# 4. Comparing different methods"
   ]
  },
  {
   "cell_type": "markdown",
   "metadata": {},
   "source": [
    "Splitting into train and test samples"
   ]
  },
  {
   "cell_type": "code",
   "execution_count": 48,
   "metadata": {
    "collapsed": true
   },
   "outputs": [],
   "source": [
    "from sklearn.cross_validation import train_test_split\n",
    "\n",
    "# Splitting it into test and train samples\n",
    "X_train, X_test, y_train, y_test = train_test_split(train_frame, value_frame, test_size=0.3, random_state=42)"
   ]
  },
  {
   "cell_type": "markdown",
   "metadata": {},
   "source": [
    "Importing libs"
   ]
  },
  {
   "cell_type": "code",
   "execution_count": 49,
   "metadata": {
    "collapsed": true
   },
   "outputs": [],
   "source": [
    "from sklearn.linear_model import LinearRegression\n",
    "from sklearn.linear_model import Lasso\n",
    "from sklearn.linear_model import Ridge\n",
    "from sklearn.linear_model import LinearRegression\n",
    "from sklearn.metrics import mean_squared_error\n",
    "from sklearn.metrics import r2_score\n",
    "from sklearn.grid_search import GridSearchCV\n",
    "from sklearn.neighbors import KNeighborsClassifier\n",
    "from sklearn import tree\n",
    "from sklearn.ensemble import RandomForestClassifier\n",
    "import numpy as np\n"
   ]
  },
  {
   "cell_type": "code",
   "execution_count": 50,
   "metadata": {
    "collapsed": false
   },
   "outputs": [],
   "source": [
    "def compare(est, param, est_name):\n",
    "    cv = GridSearchCV(est, param, n_jobs = -1, scoring = 'r2')\n",
    "    cv.fit(X_train, y_train);\n",
    "    print('CV best score for', est_name, ': ', cv.best_score_)\n",
    "    \n",
    "    predicted = cv.predict(X_test)\n",
    "    mse = mean_squared_error(y_test, predicted)\n",
    "    print('MSE for', est_name, ':' , mse)\n",
    "    r2 = r2_score(y_test, predicted)\n",
    "    print('R^2 for', est_name, ':' , r2)    "
   ]
  },
  {
   "cell_type": "markdown",
   "metadata": {},
   "source": [
    "## 4.1 Linear regression"
   ]
  },
  {
   "cell_type": "markdown",
   "metadata": {},
   "source": [
    "### 4.1.1 Simple linear regression"
   ]
  },
  {
   "cell_type": "code",
   "execution_count": 51,
   "metadata": {
    "collapsed": false
   },
   "outputs": [
    {
     "name": "stdout",
     "output_type": "stream",
     "text": [
      "CV best score for simple linear regression :  0.183075121232\n",
      "MSE for simple linear regression : 2190.70016581\n",
      "R^2 for simple linear regression : 0.235791532803\n"
     ]
    }
   ],
   "source": [
    "parameters = {'fit_intercept':[True, False],'normalize':[True, False]}\n",
    "compare(LinearRegression(), parameters, 'simple linear regression')"
   ]
  },
  {
   "cell_type": "markdown",
   "metadata": {},
   "source": [
    "### 4.1.2 Linear regression with L1 regularization"
   ]
  },
  {
   "cell_type": "code",
   "execution_count": 52,
   "metadata": {
    "collapsed": false
   },
   "outputs": [
    {
     "name": "stdout",
     "output_type": "stream",
     "text": [
      "CV best score for linear regression with L1 regularization :  0.227339107979\n",
      "MSE for linear regression with L1 regularization : 2216.88643917\n",
      "R^2 for linear regression with L1 regularization : 0.226656657965\n"
     ]
    }
   ],
   "source": [
    "parameters = {'alpha':np.arange(1, 100, 5), 'positive':[True, False],'normalize':[True, False], \n",
    "              'selection':['cyclic', 'random']}\n",
    "compare(Lasso(), parameters, 'linear regression with L1 regularization')"
   ]
  },
  {
   "cell_type": "markdown",
   "metadata": {},
   "source": [
    "### 4.1.3 Linear regression with L2 regularization"
   ]
  },
  {
   "cell_type": "code",
   "execution_count": 53,
   "metadata": {
    "collapsed": false
   },
   "outputs": [
    {
     "name": "stdout",
     "output_type": "stream",
     "text": [
      "CV best score for linear regression with L2 regularization :  0.250494140198\n",
      "MSE for linear regression with L2 regularization : 2131.07594404\n",
      "R^2 for linear regression with L2 regularization : 0.256590972104\n"
     ]
    }
   ],
   "source": [
    "parameters = {'alpha':np.logspace(1.0, 10.0, 101.00), 'fit_intercept':[True, False],'normalize':[True, False],\n",
    "              'solver':['svd', 'cholesky', 'lsqr', 'sparse_cg', 'sag', 'auto']}\n",
    "compare(Ridge(), parameters, 'linear regression with L2 regularization')"
   ]
  },
  {
   "cell_type": "markdown",
   "metadata": {},
   "source": [
    "## 4.2 Decision trees and random forests"
   ]
  },
  {
   "cell_type": "markdown",
   "metadata": {},
   "source": [
    "### 4.2.1 DecisionTreeClassifier"
   ]
  },
  {
   "cell_type": "code",
   "execution_count": 54,
   "metadata": {
    "collapsed": false
   },
   "outputs": [
    {
     "name": "stderr",
     "output_type": "stream",
     "text": [
      "//anaconda/lib/python3.5/site-packages/sklearn/cross_validation.py:516: Warning: The least populated class in y has only 1 members, which is too few. The minimum number of labels for any class cannot be less than n_folds=3.\n",
      "  % (min_labels, self.n_folds)), Warning)\n"
     ]
    },
    {
     "name": "stdout",
     "output_type": "stream",
     "text": [
      "CV best score for decision tree classifier :  -0.0299004356297\n",
      "MSE for decision tree classifier : 2512.20666667\n",
      "R^2 for decision tree classifier : 0.123636526816\n"
     ]
    }
   ],
   "source": [
    "parameters = {'presort':[True, False],'max_depth': np.arange(1, 20), 'class_weight':['balanced', None], 'splitter':['random', 'best'],\n",
    "             'max_features':['auto', 'sqrt', 'log2', None]}\n",
    "compare(tree.DecisionTreeClassifier(), parameters, 'decision tree classifier')"
   ]
  },
  {
   "cell_type": "markdown",
   "metadata": {},
   "source": [
    "### 4.2.2 RandomForestClassifier"
   ]
  },
  {
   "cell_type": "code",
   "execution_count": 55,
   "metadata": {
    "collapsed": false
   },
   "outputs": [
    {
     "name": "stderr",
     "output_type": "stream",
     "text": [
      "//anaconda/lib/python3.5/site-packages/sklearn/cross_validation.py:516: Warning: The least populated class in y has only 1 members, which is too few. The minimum number of labels for any class cannot be less than n_folds=3.\n",
      "  % (min_labels, self.n_folds)), Warning)\n"
     ]
    },
    {
     "name": "stdout",
     "output_type": "stream",
     "text": [
      "CV best score for random forest classifier :  -0.300597954301\n",
      "MSE for random forest classifier : 3407.89333333\n",
      "R^2 for random forest classifier : -0.188816699465\n"
     ]
    }
   ],
   "source": [
    "parameters = {'n_estimators':[10, 20, 30],\n",
    "             'max_features':['auto', 'sqrt', 'log2', None]}\n",
    "compare(RandomForestClassifier(), parameters, 'random forest classifier')"
   ]
  },
  {
   "cell_type": "markdown",
   "metadata": {},
   "source": [
    "### 4.3 kNN"
   ]
  },
  {
   "cell_type": "code",
   "execution_count": 56,
   "metadata": {
    "collapsed": false
   },
   "outputs": [
    {
     "name": "stderr",
     "output_type": "stream",
     "text": [
      "//anaconda/lib/python3.5/site-packages/sklearn/cross_validation.py:516: Warning: The least populated class in y has only 1 members, which is too few. The minimum number of labels for any class cannot be less than n_folds=3.\n",
      "  % (min_labels, self.n_folds)), Warning)\n"
     ]
    },
    {
     "name": "stdout",
     "output_type": "stream",
     "text": [
      "CV best score for kNN :  -0.167229527346\n",
      "MSE for kNN : 3235.28666667\n",
      "R^2 for kNN : -0.128604225745\n"
     ]
    }
   ],
   "source": [
    "parameters = {'leaf_size':np.arange(30, 100, 10),'n_neighbors': np.arange(5, 20), \n",
    "              'algorithm':['auto', 'ball_tree', 'kd_tree', 'brute']}\n",
    "compare(KNeighborsClassifier(), parameters, 'kNN')"
   ]
  },
  {
   "cell_type": "code",
   "execution_count": null,
   "metadata": {
    "collapsed": true
   },
   "outputs": [],
   "source": []
  }
 ],
 "metadata": {
  "kernelspec": {
   "display_name": "Python 3",
   "language": "python",
   "name": "python3"
  },
  "language_info": {
   "codemirror_mode": {
    "name": "ipython",
    "version": 3
   },
   "file_extension": ".py",
   "mimetype": "text/x-python",
   "name": "python",
   "nbconvert_exporter": "python",
   "pygments_lexer": "ipython3",
   "version": "3.5.1"
  }
 },
 "nbformat": 4,
 "nbformat_minor": 0
}
