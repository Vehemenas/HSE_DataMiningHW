{
 "cells": [
  {
   "cell_type": "markdown",
   "metadata": {},
   "source": [
    "# Отчет по выполнению домашнего задания #1"
   ]
  },
  {
   "cell_type": "markdown",
   "metadata": {},
   "source": [
    "__Дата выдачи__: 28.01.2016\n",
    "\n",
    "__Дедлайн__: 23:59 10.01.2016\n",
    "\n",
    "__Выполнил__: Булгаков Дмитрий (ИАД16)"
   ]
  },
  {
   "cell_type": "code",
   "execution_count": 1,
   "metadata": {
    "collapsed": true
   },
   "outputs": [],
   "source": [
    "import numpy as np"
   ]
  },
  {
   "cell_type": "markdown",
   "metadata": {},
   "source": [
    "__№1__.  Написать функцию, которая берет на вход прямоугольную матрицу $A$ размера m x n и превращает каждый ее столбец в дискретное распределение с помощью применения функции _softmax_:\n",
    "\n",
    "$\\text{softmax}(a_j) = \\frac {\\exp (a_j)}{\\sum_i \\exp(a_i)}$, где a --- столбец матрицы $A$.\n",
    "\n",
    "Таким образом, в матрице, возвращенной функцией, сумма каждого столбца матрицы должна быть равна 1."
   ]
  },
  {
   "cell_type": "code",
   "execution_count": 2,
   "metadata": {
    "collapsed": true
   },
   "outputs": [],
   "source": [
    "exmpl = np.array([[0, 1],[1, 2]])"
   ]
  },
  {
   "cell_type": "code",
   "execution_count": 3,
   "metadata": {
    "collapsed": true
   },
   "outputs": [],
   "source": [
    "def compute_softmax(A):\n",
    "    tmp = np.exp(A)\n",
    "    return np.divide(tmp, np.sum(tmp, axis = 0))"
   ]
  },
  {
   "cell_type": "markdown",
   "metadata": {},
   "source": [
    "Проверка работы:"
   ]
  },
  {
   "cell_type": "code",
   "execution_count": 4,
   "metadata": {
    "collapsed": false
   },
   "outputs": [
    {
     "name": "stdout",
     "output_type": "stream",
     "text": [
      "Результат выполнения:\n",
      " [[ 0.26894142  0.26894142]\n",
      " [ 0.73105858  0.73105858]]\n",
      "Проверка:\n",
      "Сумма всех столбцов = 1:  True\n",
      "Нет элементов меньше 0:  True\n"
     ]
    }
   ],
   "source": [
    "res = compute_softmax(exmpl)\n",
    "print('Результат выполнения:\\n', res)\n",
    "print('Проверка:')\n",
    "print('Сумма всех столбцов = 1: ', np.all(np.sum(res, axis = 0) == 1))\n",
    "print('Нет элементов меньше 0: ', np.sum(res < 0) == 0)"
   ]
  },
  {
   "cell_type": "markdown",
   "metadata": {},
   "source": [
    "__№2__. Напишите функцию, принимающую на вход матрицу X и два массива i и j одинаковой длины n и возвращающую вектор np.array, состоящий из последовательности элементов [X[i[0], j[0]], X[i[1], j[1]], ..., X[i[n-1], j[n-1]]]."
   ]
  },
  {
   "cell_type": "code",
   "execution_count": 5,
   "metadata": {
    "collapsed": false
   },
   "outputs": [],
   "source": [
    "def choose_elems(X, i, j):\n",
    "    if i.size * j.size != 0:\n",
    "        return X[i, j]\n",
    "    return X"
   ]
  },
  {
   "cell_type": "markdown",
   "metadata": {},
   "source": [
    "Проверка работы:"
   ]
  },
  {
   "cell_type": "code",
   "execution_count": 6,
   "metadata": {
    "collapsed": false
   },
   "outputs": [
    {
     "name": "stdout",
     "output_type": "stream",
     "text": [
      "Исходная матрица:\n",
      " [[0 1 2]\n",
      " [3 4 5]\n",
      " [6 7 8]]\n",
      "Первый вектор:  [1 2]\n",
      "Второй вектор:  [1 2]\n"
     ]
    }
   ],
   "source": [
    "exmpl = np.array([[0, 1, 2], [3, 4, 5], [6, 7 ,8]])\n",
    "first_v = np.array([2, 1, 2])\n",
    "second_v = np.array([0, 2, 1])\n",
    "first_v = np.array([1, 2])\n",
    "second_v = np.array([1, 2])\n",
    "print('Исходная матрица:\\n', exmpl)\n",
    "print('Первый вектор: ', first_v)\n",
    "print('Второй вектор: ', second_v)"
   ]
  },
  {
   "cell_type": "code",
   "execution_count": 7,
   "metadata": {
    "collapsed": false
   },
   "outputs": [
    {
     "name": "stdout",
     "output_type": "stream",
     "text": [
      "Результат выполнения:  [4 8]\n"
     ]
    }
   ],
   "source": [
    "print('Результат выполнения: ', choose_elems(exmpl, first_v, second_v))"
   ]
  },
  {
   "cell_type": "markdown",
   "metadata": {},
   "source": [
    "__№3__. Написать функцию, которая берет на вход матрицу A размера m x n, вектор b длины m и вектор c длины n и возвращает матрицу, составленную из блоков:\n",
    "\n",
    "$\\begin{pmatrix} A & b \\\\  c^T& 0 \\end{pmatrix}$ = \n",
    "\n",
    "$\\begin{pmatrix} a_{00} & a_{01} & \\dots &a_{0,n-1} & b_0 \\\\ \n",
    "a_{10} & a_{11} & \\dots &a_{1,n-1} & b_1 \\\\\n",
    " &&\\dots& \\\\\n",
    "a_{m-1,0} & a_{m-1,1} & \\dots &a_{m-1,n-1} & b_{m-1} \\\\ \n",
    "c_0 & c_1 & \\dots & c_{n-1 }& 0 \\end{pmatrix}$\n",
    "\n",
    "Будем считать, что матрица A может быть очень большой, поэтому выделять дополнительную память размера, сопоставимого с размером матрицы, нельзя."
   ]
  },
  {
   "cell_type": "code",
   "execution_count": 8,
   "metadata": {
    "collapsed": true
   },
   "outputs": [],
   "source": [
    "def construct_matrix(A, b, c):\n",
    "    return np.vstack((np.column_stack((A, b)), np.append(c, 0)))"
   ]
  },
  {
   "cell_type": "markdown",
   "metadata": {},
   "source": [
    "Проверка работы:"
   ]
  },
  {
   "cell_type": "code",
   "execution_count": 9,
   "metadata": {
    "collapsed": false
   },
   "outputs": [
    {
     "name": "stdout",
     "output_type": "stream",
     "text": [
      "Исходная матрица:\n",
      " [[1 2]\n",
      " [3 4]]\n",
      "Первый вектор:  [5 6]\n",
      "Второй вектор:  [1 2]\n"
     ]
    }
   ],
   "source": [
    "exmpl = np.array([[1, 2], [3, 4]])\n",
    "first_v = np.array([5, 6])\n",
    "second_v = np.array([1, 2])\n",
    "print('Исходная матрица:\\n', exmpl)\n",
    "print('Первый вектор: ', first_v)\n",
    "print('Второй вектор: ', second_v)"
   ]
  },
  {
   "cell_type": "code",
   "execution_count": 10,
   "metadata": {
    "collapsed": false
   },
   "outputs": [
    {
     "name": "stdout",
     "output_type": "stream",
     "text": [
      "Результат выполнения:\n",
      " [[1 2 5]\n",
      " [3 4 6]\n",
      " [1 2 0]]\n"
     ]
    }
   ],
   "source": [
    "print('Результат выполнения:\\n', construct_matrix(exmpl, first_v, second_v))"
   ]
  },
  {
   "cell_type": "markdown",
   "metadata": {},
   "source": [
    "__№4__. Даны две небольшие бинарные матрицы $A$ размера $m \\times n$ и $B$ размера $n \\times k$. \n",
    "Написать функцию, возвращающую матрицу $C$ такую, что\n",
    "\n",
    "$C_{ij} = \\&_{s=1}^n (A_{is} \\lor B_{sj})$.\n",
    "\n",
    "Здесь $\\&$ означает логическое умножение (and), а $\\lor$ — дизъюнкцию (or)."
   ]
  },
  {
   "cell_type": "code",
   "execution_count": null,
   "metadata": {
    "collapsed": true
   },
   "outputs": [],
   "source": []
  },
  {
   "cell_type": "code",
   "execution_count": null,
   "metadata": {
    "collapsed": true
   },
   "outputs": [],
   "source": []
  },
  {
   "cell_type": "markdown",
   "metadata": {},
   "source": [
    "__№5__. Напишите функцию, принимающую на вход np.array размера n и возвращающую матрицу размера n + 1 x n + 1, у которой над главной даигональю стоят элементы массива (остальные элементы должны быть нулевыми). "
   ]
  },
  {
   "cell_type": "code",
   "execution_count": 11,
   "metadata": {
    "collapsed": true
   },
   "outputs": [],
   "source": [
    "def above_diagonal(V):\n",
    "    if V.size == 0:\n",
    "        return\n",
    "    tmp = np.zeros((V.size, V.size), int)\n",
    "    np.fill_diagonal(tmp, V)\n",
    "    res = np.zeros((V.size + 1, V.size + 1), int)\n",
    "    res[:-1,-V.size:] = tmp\n",
    "    return res"
   ]
  },
  {
   "cell_type": "markdown",
   "metadata": {},
   "source": [
    "Проверка работы:"
   ]
  },
  {
   "cell_type": "code",
   "execution_count": 12,
   "metadata": {
    "collapsed": false
   },
   "outputs": [
    {
     "name": "stdout",
     "output_type": "stream",
     "text": [
      "Результат выполнения:\n",
      " [[0 1 0 0 0 0]\n",
      " [0 0 2 0 0 0]\n",
      " [0 0 0 3 0 0]\n",
      " [0 0 0 0 4 0]\n",
      " [0 0 0 0 0 5]\n",
      " [0 0 0 0 0 0]]\n"
     ]
    }
   ],
   "source": [
    "exmpl = np.arange(1, 6)\n",
    "print('Результат выполнения:\\n', above_diagonal(exmpl))"
   ]
  },
  {
   "cell_type": "markdown",
   "metadata": {},
   "source": [
    "__№6__. Дана матрица объекты-признаки X размера n x m. Посчитать (квадратную) матрицу попарных корреляций между признаками C:\n",
    "\n",
    "$C_{ij} = cor_{ij} = \\frac {cov_{ij}}{\\sqrt{cov_{ii}cov_{jj}}}$ \n",
    "\n",
    "$cov_{ij} = cov(X_i, X_j), \\quad i,j = 0, \\dots, m-1.$\n",
    "\n",
    "$cov(\\{x_0, \\dots, x_{n-1}\\}, \\{y_0, \\dots, y_{n-1}\\}) = \\frac 1 {n-1} \\sum_{i=0} ^ {n-1} (x_i-\\bar x) (y_i - \\bar y)$.\n",
    "\n",
    "$\\bar x = mean(\\{x_0, \\dots, x_{n-1}\\}) = \\frac 1 n \\sum_{i=0} ^ {n-1} x_i$\n",
    "\n",
    "Нельзя использовать функции np.cov, np.corrcoef, np.correlate (их можно использовать для проверки правильности ответа)"
   ]
  },
  {
   "cell_type": "code",
   "execution_count": null,
   "metadata": {
    "collapsed": true
   },
   "outputs": [],
   "source": []
  },
  {
   "cell_type": "markdown",
   "metadata": {},
   "source": [
    "__№7__. Дан массив X (размерность неизвестна). Заменить все элементы, кратные 3, которые больше 0 и меньше 100, на среднее значение по массиву."
   ]
  },
  {
   "cell_type": "code",
   "execution_count": 13,
   "metadata": {
    "collapsed": true
   },
   "outputs": [],
   "source": [
    "def find_el_by_condition(A):\n",
    "    if A.size != 0:\n",
    "        A[(A % 3 == 0) & (A > 0) & (A < 100)] = np.average(A)\n",
    "    return A"
   ]
  },
  {
   "cell_type": "markdown",
   "metadata": {},
   "source": [
    "Проверка работы:"
   ]
  },
  {
   "cell_type": "code",
   "execution_count": 14,
   "metadata": {
    "collapsed": false
   },
   "outputs": [
    {
     "name": "stdout",
     "output_type": "stream",
     "text": [
      "Исходная матрица:\n",
      " [[ 14.  11.  10.   0.  12.]\n",
      " [  9.   4.  13.   8.   3.]\n",
      " [  6.  14.  13.   5.   5.]\n",
      " [  8.   1.   6.   7.  12.]]\n",
      "Среднее значение:  8.05\n"
     ]
    }
   ],
   "source": [
    "exmpl = np.array([[14, 11, 10 , 0, 12], [9, 4, 13, 8, 3], [6, 14, 13, 5, 5], [8, 1, 6, 7, 12]], dtype = float)\n",
    "print('Исходная матрица:\\n', exmpl)\n",
    "print('Среднее значение: ', np.average(exmpl))"
   ]
  },
  {
   "cell_type": "code",
   "execution_count": 15,
   "metadata": {
    "collapsed": false
   },
   "outputs": [
    {
     "name": "stdout",
     "output_type": "stream",
     "text": [
      "Результат выполнения:\n",
      " [[ 14.    11.    10.     0.     8.05]\n",
      " [  8.05   4.    13.     8.     8.05]\n",
      " [  8.05  14.    13.     5.     5.  ]\n",
      " [  8.     1.     8.05   7.     8.05]]\n"
     ]
    }
   ],
   "source": [
    "print('Результат выполнения:\\n', find_el_by_condition(exmpl))"
   ]
  },
  {
   "cell_type": "markdown",
   "metadata": {},
   "source": [
    "__№8__. Напишите функцию, которая берет на вход датафрейм pandas со считанными данными и возвращает ответ на следующий вопрос (строка).\n",
    "\n",
    "Найдите страну, у которой наибольшее ВВП среди стран площадью меньше 200 или население меньше 10000 (или — не исключающее)."
   ]
  },
  {
   "cell_type": "code",
   "execution_count": null,
   "metadata": {
    "collapsed": true
   },
   "outputs": [],
   "source": []
  }
 ],
 "metadata": {
  "kernelspec": {
   "display_name": "Python 3",
   "language": "python",
   "name": "python3"
  },
  "language_info": {
   "codemirror_mode": {
    "name": "ipython",
    "version": 3
   },
   "file_extension": ".py",
   "mimetype": "text/x-python",
   "name": "python",
   "nbconvert_exporter": "python",
   "pygments_lexer": "ipython3",
   "version": "3.5.1"
  }
 },
 "nbformat": 4,
 "nbformat_minor": 0
}
