{
 "cells": [
  {
   "cell_type": "markdown",
   "metadata": {},
   "source": [
    "# Отчет по выполнению домашнего задания #1"
   ]
  },
  {
   "cell_type": "markdown",
   "metadata": {},
   "source": [
    "__Дата выдачи__: 28.01.2016\n",
    "\n",
    "__Дедлайн__: 23:59 10.01.2016\n",
    "\n",
    "__Выполнил__: Булгаков Дмитрий (ИАД16)"
   ]
  },
  {
   "cell_type": "code",
   "execution_count": 1,
   "metadata": {
    "collapsed": true
   },
   "outputs": [],
   "source": [
    "import numpy as np\n",
    "import pandas as pd"
   ]
  },
  {
   "cell_type": "markdown",
   "metadata": {},
   "source": [
    "__№1__.  Написать функцию, которая берет на вход прямоугольную матрицу $A$ размера m x n и превращает каждый ее столбец в дискретное распределение с помощью применения функции _softmax_:\n",
    "\n",
    "$\\text{softmax}(a_j) = \\frac {\\exp (a_j)}{\\sum_i \\exp(a_i)}$, где a --- столбец матрицы $A$.\n",
    "\n",
    "Таким образом, в матрице, возвращенной функцией, сумма каждого столбца матрицы должна быть равна 1."
   ]
  },
  {
   "cell_type": "code",
   "execution_count": 2,
   "metadata": {
    "collapsed": true
   },
   "outputs": [],
   "source": [
    "exmpl = np.array([[0, 1],[1, 2]])"
   ]
  },
  {
   "cell_type": "code",
   "execution_count": 3,
   "metadata": {
    "collapsed": true
   },
   "outputs": [],
   "source": [
    "def compute_softmax(A):\n",
    "    tmp = np.exp(A)\n",
    "    return np.divide(tmp, np.sum(tmp, axis = 0))"
   ]
  },
  {
   "cell_type": "markdown",
   "metadata": {},
   "source": [
    "Проверка работы:"
   ]
  },
  {
   "cell_type": "code",
   "execution_count": 4,
   "metadata": {
    "collapsed": false
   },
   "outputs": [
    {
     "name": "stdout",
     "output_type": "stream",
     "text": [
      "Результат выполнения:\n",
      " [[ 0.26894142  0.26894142]\n",
      " [ 0.73105858  0.73105858]]\n",
      "Проверка:\n",
      "Сумма всех столбцов = 1:  True\n",
      "Нет элементов меньше 0:  True\n"
     ]
    }
   ],
   "source": [
    "res = compute_softmax(exmpl)\n",
    "print('Результат выполнения:\\n', res)\n",
    "print('Проверка:')\n",
    "print('Сумма всех столбцов = 1: ', np.all(np.sum(res, axis = 0) == 1))\n",
    "print('Нет элементов меньше 0: ', np.sum(res < 0) == 0)"
   ]
  },
  {
   "cell_type": "markdown",
   "metadata": {},
   "source": [
    "__№2__. Напишите функцию, принимающую на вход матрицу X и два массива i и j одинаковой длины n и возвращающую вектор np.array, состоящий из последовательности элементов [X[i[0], j[0]], X[i[1], j[1]], ..., X[i[n-1], j[n-1]]]."
   ]
  },
  {
   "cell_type": "code",
   "execution_count": 5,
   "metadata": {
    "collapsed": false
   },
   "outputs": [],
   "source": [
    "def choose_elems(X, i, j):\n",
    "    if i.size * j.size != 0:\n",
    "        return X[i, j]\n",
    "    return X"
   ]
  },
  {
   "cell_type": "markdown",
   "metadata": {},
   "source": [
    "Проверка работы:"
   ]
  },
  {
   "cell_type": "code",
   "execution_count": 6,
   "metadata": {
    "collapsed": false
   },
   "outputs": [
    {
     "name": "stdout",
     "output_type": "stream",
     "text": [
      "Исходная матрица:\n",
      " [[0 1 2]\n",
      " [3 4 5]\n",
      " [6 7 8]]\n",
      "Первый вектор:  [1 2]\n",
      "Второй вектор:  [1 2]\n"
     ]
    }
   ],
   "source": [
    "exmpl = np.array([[0, 1, 2], [3, 4, 5], [6, 7 ,8]])\n",
    "first_v = np.array([2, 1, 2])\n",
    "second_v = np.array([0, 2, 1])\n",
    "first_v = np.array([1, 2])\n",
    "second_v = np.array([1, 2])\n",
    "print('Исходная матрица:\\n', exmpl)\n",
    "print('Первый вектор: ', first_v)\n",
    "print('Второй вектор: ', second_v)"
   ]
  },
  {
   "cell_type": "code",
   "execution_count": 7,
   "metadata": {
    "collapsed": false
   },
   "outputs": [
    {
     "name": "stdout",
     "output_type": "stream",
     "text": [
      "Результат выполнения:  [4 8]\n"
     ]
    }
   ],
   "source": [
    "print('Результат выполнения: ', choose_elems(exmpl, first_v, second_v))"
   ]
  },
  {
   "cell_type": "markdown",
   "metadata": {},
   "source": [
    "__№3__. Написать функцию, которая берет на вход матрицу A размера m x n, вектор b длины m и вектор c длины n и возвращает матрицу, составленную из блоков:\n",
    "\n",
    "$\\begin{pmatrix} A & b \\\\  c^T& 0 \\end{pmatrix}$ = \n",
    "\n",
    "$\\begin{pmatrix} a_{00} & a_{01} & \\dots &a_{0,n-1} & b_0 \\\\ \n",
    "a_{10} & a_{11} & \\dots &a_{1,n-1} & b_1 \\\\\n",
    " &&\\dots& \\\\\n",
    "a_{m-1,0} & a_{m-1,1} & \\dots &a_{m-1,n-1} & b_{m-1} \\\\ \n",
    "c_0 & c_1 & \\dots & c_{n-1 }& 0 \\end{pmatrix}$\n",
    "\n",
    "Будем считать, что матрица A может быть очень большой, поэтому выделять дополнительную память размера, сопоставимого с размером матрицы, нельзя."
   ]
  },
  {
   "cell_type": "code",
   "execution_count": 8,
   "metadata": {
    "collapsed": true
   },
   "outputs": [],
   "source": [
    "def construct_matrix(A, b, c):\n",
    "    return np.vstack((np.column_stack((A, b)), np.append(c, 0)))"
   ]
  },
  {
   "cell_type": "markdown",
   "metadata": {},
   "source": [
    "Проверка работы:"
   ]
  },
  {
   "cell_type": "code",
   "execution_count": 9,
   "metadata": {
    "collapsed": false
   },
   "outputs": [
    {
     "name": "stdout",
     "output_type": "stream",
     "text": [
      "Исходная матрица:\n",
      " [[1 2]\n",
      " [3 4]]\n",
      "Первый вектор:  [5 6]\n",
      "Второй вектор:  [1 2]\n"
     ]
    }
   ],
   "source": [
    "exmpl = np.array([[1, 2], [3, 4]])\n",
    "first_v = np.array([5, 6])\n",
    "second_v = np.array([1, 2])\n",
    "print('Исходная матрица:\\n', exmpl)\n",
    "print('Первый вектор: ', first_v)\n",
    "print('Второй вектор: ', second_v)"
   ]
  },
  {
   "cell_type": "code",
   "execution_count": 10,
   "metadata": {
    "collapsed": false
   },
   "outputs": [
    {
     "name": "stdout",
     "output_type": "stream",
     "text": [
      "Результат выполнения:\n",
      " [[1 2 5]\n",
      " [3 4 6]\n",
      " [1 2 0]]\n"
     ]
    }
   ],
   "source": [
    "print('Результат выполнения:\\n', construct_matrix(exmpl, first_v, second_v))"
   ]
  },
  {
   "cell_type": "markdown",
   "metadata": {},
   "source": [
    "__№4__. Даны две небольшие бинарные матрицы $A$ размера $m \\times n$ и $B$ размера $n \\times k$. \n",
    "Написать функцию, возвращающую матрицу $C$ такую, что\n",
    "\n",
    "$C_{ij} = \\&_{s=1}^n (A_{is} \\lor B_{sj})$.\n",
    "\n",
    "Здесь $\\&$ означает логическое умножение (and), а $\\lor$ — дизъюнкцию (or)."
   ]
  },
  {
   "cell_type": "code",
   "execution_count": 11,
   "metadata": {
    "collapsed": false
   },
   "outputs": [],
   "source": [
    "def or_diffsize_matrix(A, B):\n",
    "    return np.logical_or(A[:, :, np.newaxis], B[np.newaxis, :, :])"
   ]
  },
  {
   "cell_type": "code",
   "execution_count": 12,
   "metadata": {
    "collapsed": true
   },
   "outputs": [],
   "source": [
    "def perform_logical_computation(A, B):\n",
    "    return np.all(or_diffsize_matrix(A, B), axis = 1)"
   ]
  },
  {
   "cell_type": "markdown",
   "metadata": {},
   "source": [
    "Проверка работы:"
   ]
  },
  {
   "cell_type": "code",
   "execution_count": 13,
   "metadata": {
    "collapsed": false
   },
   "outputs": [
    {
     "name": "stdout",
     "output_type": "stream",
     "text": [
      "Матрица 1:\n",
      " [[False  True]\n",
      " [ True False]]\n",
      "\n",
      "Матрица 2:\n",
      " [[ True False]\n",
      " [False  True]]\n",
      "\n",
      "Результат выполнения:\n",
      " [[ True False]\n",
      " [False  True]]\n"
     ]
    }
   ],
   "source": [
    "m1 = np.array([[False, True], [True, False]])\n",
    "m2 = np.array([[True, False], [False, True]])\n",
    "print('Матрица 1:\\n', m1)\n",
    "print('\\nМатрица 2:\\n', m2)\n",
    "print('\\nРезультат выполнения:\\n', perform_logical_computation(m1, m2))"
   ]
  },
  {
   "cell_type": "markdown",
   "metadata": {},
   "source": [
    "__№5__. Напишите функцию, принимающую на вход np.array размера n и возвращающую матрицу размера n + 1 x n + 1, у которой над главной даигональю стоят элементы массива (остальные элементы должны быть нулевыми). "
   ]
  },
  {
   "cell_type": "code",
   "execution_count": 14,
   "metadata": {
    "collapsed": true
   },
   "outputs": [],
   "source": [
    "def make_diagonal(n):\n",
    "    if n.size == 0:\n",
    "        return\n",
    "    tmp = np.zeros((n.size, n.size), int)\n",
    "    np.fill_diagonal(tmp, n)\n",
    "    res = np.zeros((n.size + 1, n.size + 1), int)\n",
    "    res[:-1,-n.size:] = tmp\n",
    "    return res"
   ]
  },
  {
   "cell_type": "markdown",
   "metadata": {},
   "source": [
    "Проверка работы:"
   ]
  },
  {
   "cell_type": "code",
   "execution_count": 15,
   "metadata": {
    "collapsed": false
   },
   "outputs": [
    {
     "name": "stdout",
     "output_type": "stream",
     "text": [
      "Результат выполнения:\n",
      " [[0 1 0 0 0 0]\n",
      " [0 0 2 0 0 0]\n",
      " [0 0 0 3 0 0]\n",
      " [0 0 0 0 4 0]\n",
      " [0 0 0 0 0 5]\n",
      " [0 0 0 0 0 0]]\n"
     ]
    }
   ],
   "source": [
    "exmpl = np.arange(1, 6)\n",
    "print('Результат выполнения:\\n', make_diagonal(exmpl))"
   ]
  },
  {
   "cell_type": "markdown",
   "metadata": {},
   "source": [
    "__№6__. Дана матрица объекты-признаки X размера n x m. Посчитать (квадратную) матрицу попарных корреляций между признаками C:\n",
    "\n",
    "$C_{ij} = cor_{ij} = \\frac {cov_{ij}}{\\sqrt{cov_{ii}cov_{jj}}}$ \n",
    "\n",
    "$cov_{ij} = cov(X_i, X_j), \\quad i,j = 0, \\dots, m-1.$\n",
    "\n",
    "$cov(\\{x_0, \\dots, x_{n-1}\\}, \\{y_0, \\dots, y_{n-1}\\}) = \\frac 1 {n-1} \\sum_{i=0} ^ {n-1} (x_i-\\bar x) (y_i - \\bar y)$.\n",
    "\n",
    "$\\bar x = mean(\\{x_0, \\dots, x_{n-1}\\}) = \\frac 1 n \\sum_{i=0} ^ {n-1} x_i$\n",
    "\n",
    "Нельзя использовать функции np.cov, np.corrcoef, np.correlate (их можно использовать для проверки правильности ответа)"
   ]
  },
  {
   "cell_type": "code",
   "execution_count": 16,
   "metadata": {
    "collapsed": true
   },
   "outputs": [],
   "source": [
    "def calc_cov(X):\n",
    "    X -= X.mean(axis = 0)\n",
    "    return (np.dot(X.T, X) / (X.shape[1] - 1))"
   ]
  },
  {
   "cell_type": "code",
   "execution_count": 17,
   "metadata": {
    "collapsed": true
   },
   "outputs": [],
   "source": [
    "def compute_corr_matrix(X):\n",
    "    cov = calc_cov(X)\n",
    "    diag = np.diag(cov)\n",
    "    dmr = np.sqrt(np.multiply.outer(diag, diag))\n",
    "    return cov/dmr"
   ]
  },
  {
   "cell_type": "markdown",
   "metadata": {},
   "source": [
    "Проверка работы:"
   ]
  },
  {
   "cell_type": "code",
   "execution_count": 18,
   "metadata": {
    "collapsed": false
   },
   "outputs": [],
   "source": [
    "# Данные с семинара\n",
    "d =  pd.read_csv(\"road_data.csv\", sep=\",\", header=0, names=[\"cars\", \"accidents\", \"vodka\", \"crime\", \"income\", \"retail\"])\n",
    "exmpl = d.values"
   ]
  },
  {
   "cell_type": "code",
   "execution_count": 19,
   "metadata": {
    "collapsed": false
   },
   "outputs": [
    {
     "name": "stdout",
     "output_type": "stream",
     "text": [
      "Результат выполнения моей ф-ии:\n",
      " [[ 1.          0.45343265  0.30946778  0.28711738  0.15524001  0.37982248]\n",
      " [ 0.45343265  1.          0.2818275   0.39464863 -0.12871154  0.01286648]\n",
      " [ 0.30946778  0.2818275   1.          0.57354018  0.540938    0.39909952]\n",
      " [ 0.28711738  0.39464863  0.57354018  1.          0.16912579  0.1862202 ]\n",
      " [ 0.15524001 -0.12871154  0.540938    0.16912579  1.          0.67992407]\n",
      " [ 0.37982248  0.01286648  0.39909952  0.1862202   0.67992407  1.        ]]\n",
      "\n",
      "Результат встроенной ф-ии\n",
      " [[ 1.          0.45343265  0.30946778  0.28711738  0.15524001  0.37982248]\n",
      " [ 0.45343265  1.          0.2818275   0.39464863 -0.12871154  0.01286648]\n",
      " [ 0.30946778  0.2818275   1.          0.57354018  0.540938    0.39909952]\n",
      " [ 0.28711738  0.39464863  0.57354018  1.          0.16912579  0.1862202 ]\n",
      " [ 0.15524001 -0.12871154  0.540938    0.16912579  1.          0.67992407]\n",
      " [ 0.37982248  0.01286648  0.39909952  0.1862202   0.67992407  1.        ]]\n"
     ]
    }
   ],
   "source": [
    "print('Результат выполнения моей ф-ии:\\n', compute_corr_matrix(exmpl))\n",
    "print('\\nРезультат встроенной ф-ии\\n', np.corrcoef(exmpl.T))"
   ]
  },
  {
   "cell_type": "markdown",
   "metadata": {},
   "source": [
    "__№7__. Дан массив X (размерность неизвестна). Заменить все элементы, кратные 3, которые больше 0 и меньше 100, на среднее значение по массиву."
   ]
  },
  {
   "cell_type": "code",
   "execution_count": 20,
   "metadata": {
    "collapsed": true
   },
   "outputs": [],
   "source": [
    "def find_some_elements(X):\n",
    "    if X.size != 0:\n",
    "        X[(X % 3 == 0) & (X > 0) & (X < 100)] = np.average(X)\n",
    "    return X"
   ]
  },
  {
   "cell_type": "markdown",
   "metadata": {},
   "source": [
    "Проверка работы:"
   ]
  },
  {
   "cell_type": "code",
   "execution_count": 21,
   "metadata": {
    "collapsed": false
   },
   "outputs": [
    {
     "name": "stdout",
     "output_type": "stream",
     "text": [
      "Исходная матрица:\n",
      " [[ 14.  11.  10.   0.  12.]\n",
      " [  9.   4.  13.   8.   3.]\n",
      " [  6.  14.  13.   5.   5.]\n",
      " [  8.   1.   6.   7.  12.]]\n",
      "Среднее значение:  8.05\n"
     ]
    }
   ],
   "source": [
    "exmpl = np.array([[14, 11, 10 , 0, 12], [9, 4, 13, 8, 3], [6, 14, 13, 5, 5], [8, 1, 6, 7, 12]], dtype = float)\n",
    "print('Исходная матрица:\\n', exmpl)\n",
    "print('Среднее значение: ', np.average(exmpl))"
   ]
  },
  {
   "cell_type": "code",
   "execution_count": 22,
   "metadata": {
    "collapsed": false
   },
   "outputs": [
    {
     "name": "stdout",
     "output_type": "stream",
     "text": [
      "Результат выполнения:\n",
      " [[ 14.    11.    10.     0.     8.05]\n",
      " [  8.05   4.    13.     8.     8.05]\n",
      " [  8.05  14.    13.     5.     5.  ]\n",
      " [  8.     1.     8.05   7.     8.05]]\n"
     ]
    }
   ],
   "source": [
    "print('Результат выполнения:\\n', find_some_elements(exmpl))"
   ]
  },
  {
   "cell_type": "markdown",
   "metadata": {},
   "source": [
    "Загрузка данных:"
   ]
  },
  {
   "cell_type": "code",
   "execution_count": 23,
   "metadata": {
    "collapsed": false
   },
   "outputs": [
    {
     "data": {
      "text/html": [
       "<div>\n",
       "<table border=\"1\" class=\"dataframe\">\n",
       "  <thead>\n",
       "    <tr style=\"text-align: right;\">\n",
       "      <th></th>\n",
       "      <th>Area(sq km)</th>\n",
       "      <th>Birth rate(births/1000 population)</th>\n",
       "      <th>Current account balance</th>\n",
       "      <th>Death rate(deaths/1000 population)</th>\n",
       "      <th>Debt - external</th>\n",
       "      <th>Electricity - consumption(kWh)</th>\n",
       "      <th>Electricity - production(kWh)</th>\n",
       "      <th>Exports</th>\n",
       "      <th>GDP</th>\n",
       "      <th>GDP - per capita</th>\n",
       "      <th>...</th>\n",
       "      <th>Oil - production(bbl/day)</th>\n",
       "      <th>Oil - proved reserves(bbl)</th>\n",
       "      <th>Population</th>\n",
       "      <th>Public debt(% of GDP)</th>\n",
       "      <th>Railways(km)</th>\n",
       "      <th>Reserves of foreign exchange &amp; gold</th>\n",
       "      <th>Telephones - main lines in use</th>\n",
       "      <th>Telephones - mobile cellular</th>\n",
       "      <th>Total fertility rate(children born/woman)</th>\n",
       "      <th>Unemployment rate(%)</th>\n",
       "    </tr>\n",
       "  </thead>\n",
       "  <tbody>\n",
       "    <tr>\n",
       "      <th>count</th>\n",
       "      <td>263.000000</td>\n",
       "      <td>225.000000</td>\n",
       "      <td>1.490000e+02</td>\n",
       "      <td>225.000000</td>\n",
       "      <td>2.010000e+02</td>\n",
       "      <td>2.150000e+02</td>\n",
       "      <td>2.130000e+02</td>\n",
       "      <td>2.240000e+02</td>\n",
       "      <td>2.300000e+02</td>\n",
       "      <td>230.000000</td>\n",
       "      <td>...</td>\n",
       "      <td>212.000000</td>\n",
       "      <td>9.700000e+01</td>\n",
       "      <td>2.380000e+02</td>\n",
       "      <td>108.000000</td>\n",
       "      <td>134.000000</td>\n",
       "      <td>1.470000e+02</td>\n",
       "      <td>2.320000e+02</td>\n",
       "      <td>2.280000e+02</td>\n",
       "      <td>225.000000</td>\n",
       "      <td>192.000000</td>\n",
       "    </tr>\n",
       "    <tr>\n",
       "      <th>mean</th>\n",
       "      <td>584987.486692</td>\n",
       "      <td>22.146667</td>\n",
       "      <td>-8.473897e+08</td>\n",
       "      <td>9.374267</td>\n",
       "      <td>6.317084e+10</td>\n",
       "      <td>8.070919e+10</td>\n",
       "      <td>8.849167e+10</td>\n",
       "      <td>4.432637e+10</td>\n",
       "      <td>2.925614e+11</td>\n",
       "      <td>10552.760870</td>\n",
       "      <td>...</td>\n",
       "      <td>371043.542453</td>\n",
       "      <td>1.416887e+10</td>\n",
       "      <td>2.900494e+07</td>\n",
       "      <td>55.896296</td>\n",
       "      <td>10217.246269</td>\n",
       "      <td>2.599825e+10</td>\n",
       "      <td>5.998770e+06</td>\n",
       "      <td>7.331346e+06</td>\n",
       "      <td>2.937778</td>\n",
       "      <td>15.254688</td>\n",
       "    </tr>\n",
       "    <tr>\n",
       "      <th>std</th>\n",
       "      <td>1881415.546778</td>\n",
       "      <td>11.126969</td>\n",
       "      <td>5.633953e+10</td>\n",
       "      <td>4.969136</td>\n",
       "      <td>3.588986e+11</td>\n",
       "      <td>3.434223e+11</td>\n",
       "      <td>3.706046e+11</td>\n",
       "      <td>1.334267e+11</td>\n",
       "      <td>1.252331e+12</td>\n",
       "      <td>11104.610351</td>\n",
       "      <td>...</td>\n",
       "      <td>1190318.688954</td>\n",
       "      <td>3.923463e+10</td>\n",
       "      <td>1.175456e+08</td>\n",
       "      <td>36.954000</td>\n",
       "      <td>29857.440213</td>\n",
       "      <td>8.023959e+10</td>\n",
       "      <td>2.717322e+07</td>\n",
       "      <td>3.075963e+07</td>\n",
       "      <td>1.556919</td>\n",
       "      <td>15.113801</td>\n",
       "    </tr>\n",
       "    <tr>\n",
       "      <th>min</th>\n",
       "      <td>0.000000</td>\n",
       "      <td>7.230000</td>\n",
       "      <td>-6.465000e+11</td>\n",
       "      <td>2.300000</td>\n",
       "      <td>0.000000e+00</td>\n",
       "      <td>1.674000e+06</td>\n",
       "      <td>1.800000e+06</td>\n",
       "      <td>9.800000e+04</td>\n",
       "      <td>1.500000e+06</td>\n",
       "      <td>400.000000</td>\n",
       "      <td>...</td>\n",
       "      <td>0.000000</td>\n",
       "      <td>0.000000e+00</td>\n",
       "      <td>4.600000e+01</td>\n",
       "      <td>2.100000</td>\n",
       "      <td>6.000000</td>\n",
       "      <td>2.978000e+07</td>\n",
       "      <td>0.000000e+00</td>\n",
       "      <td>0.000000e+00</td>\n",
       "      <td>0.910000</td>\n",
       "      <td>0.000000</td>\n",
       "    </tr>\n",
       "    <tr>\n",
       "      <th>25%</th>\n",
       "      <td>513.000000</td>\n",
       "      <td>12.570000</td>\n",
       "      <td>-5.908000e+08</td>\n",
       "      <td>6.070000</td>\n",
       "      <td>6.680000e+08</td>\n",
       "      <td>4.529000e+08</td>\n",
       "      <td>4.108000e+08</td>\n",
       "      <td>2.365000e+08</td>\n",
       "      <td>2.522500e+09</td>\n",
       "      <td>2000.000000</td>\n",
       "      <td>...</td>\n",
       "      <td>0.000000</td>\n",
       "      <td>8.000000e+07</td>\n",
       "      <td>2.837770e+05</td>\n",
       "      <td>31.475000</td>\n",
       "      <td>801.250000</td>\n",
       "      <td>7.851000e+08</td>\n",
       "      <td>3.365000e+04</td>\n",
       "      <td>4.137500e+04</td>\n",
       "      <td>1.750000</td>\n",
       "      <td>5.575000</td>\n",
       "    </tr>\n",
       "    <tr>\n",
       "      <th>50%</th>\n",
       "      <td>48845.000000</td>\n",
       "      <td>18.780000</td>\n",
       "      <td>-8.240000e+07</td>\n",
       "      <td>8.000000</td>\n",
       "      <td>4.069000e+09</td>\n",
       "      <td>4.450000e+09</td>\n",
       "      <td>4.873000e+09</td>\n",
       "      <td>2.058000e+09</td>\n",
       "      <td>1.685500e+10</td>\n",
       "      <td>5900.000000</td>\n",
       "      <td>...</td>\n",
       "      <td>0.000000</td>\n",
       "      <td>4.088000e+08</td>\n",
       "      <td>4.440570e+06</td>\n",
       "      <td>50.750000</td>\n",
       "      <td>2585.500000</td>\n",
       "      <td>3.034000e+09</td>\n",
       "      <td>2.313500e+05</td>\n",
       "      <td>3.500500e+05</td>\n",
       "      <td>2.370000</td>\n",
       "      <td>10.500000</td>\n",
       "    </tr>\n",
       "    <tr>\n",
       "      <th>75%</th>\n",
       "      <td>333947.500000</td>\n",
       "      <td>30.010000</td>\n",
       "      <td>1.400000e+09</td>\n",
       "      <td>11.260000</td>\n",
       "      <td>1.707000e+10</td>\n",
       "      <td>3.320500e+10</td>\n",
       "      <td>3.551000e+10</td>\n",
       "      <td>1.624250e+10</td>\n",
       "      <td>9.183250e+10</td>\n",
       "      <td>16700.000000</td>\n",
       "      <td>...</td>\n",
       "      <td>72145.000000</td>\n",
       "      <td>4.408000e+09</td>\n",
       "      <td>1.628023e+07</td>\n",
       "      <td>69.675000</td>\n",
       "      <td>5195.000000</td>\n",
       "      <td>1.625500e+10</td>\n",
       "      <td>1.828550e+06</td>\n",
       "      <td>2.605450e+06</td>\n",
       "      <td>3.930000</td>\n",
       "      <td>19.625000</td>\n",
       "    </tr>\n",
       "    <tr>\n",
       "      <th>max</th>\n",
       "      <td>17075200.000000</td>\n",
       "      <td>48.300000</td>\n",
       "      <td>1.702000e+11</td>\n",
       "      <td>29.360000</td>\n",
       "      <td>4.710000e+12</td>\n",
       "      <td>3.660000e+12</td>\n",
       "      <td>3.839000e+12</td>\n",
       "      <td>1.109000e+12</td>\n",
       "      <td>1.175000e+13</td>\n",
       "      <td>58900.000000</td>\n",
       "      <td>...</td>\n",
       "      <td>9021000.000000</td>\n",
       "      <td>2.617000e+11</td>\n",
       "      <td>1.306314e+09</td>\n",
       "      <td>228.300000</td>\n",
       "      <td>228464.000000</td>\n",
       "      <td>6.646000e+11</td>\n",
       "      <td>2.630000e+08</td>\n",
       "      <td>3.146447e+08</td>\n",
       "      <td>6.840000</td>\n",
       "      <td>90.000000</td>\n",
       "    </tr>\n",
       "  </tbody>\n",
       "</table>\n",
       "<p>8 rows × 44 columns</p>\n",
       "</div>"
      ],
      "text/plain": [
       "           Area(sq km)  Birth rate(births/1000 population)  \\\n",
       "count       263.000000                          225.000000   \n",
       "mean     584987.486692                           22.146667   \n",
       "std     1881415.546778                           11.126969   \n",
       "min           0.000000                            7.230000   \n",
       "25%         513.000000                           12.570000   \n",
       "50%       48845.000000                           18.780000   \n",
       "75%      333947.500000                           30.010000   \n",
       "max    17075200.000000                           48.300000   \n",
       "\n",
       "       Current account balance  Death rate(deaths/1000 population)  \\\n",
       "count             1.490000e+02                          225.000000   \n",
       "mean             -8.473897e+08                            9.374267   \n",
       "std               5.633953e+10                            4.969136   \n",
       "min              -6.465000e+11                            2.300000   \n",
       "25%              -5.908000e+08                            6.070000   \n",
       "50%              -8.240000e+07                            8.000000   \n",
       "75%               1.400000e+09                           11.260000   \n",
       "max               1.702000e+11                           29.360000   \n",
       "\n",
       "       Debt - external  Electricity - consumption(kWh)  \\\n",
       "count     2.010000e+02                    2.150000e+02   \n",
       "mean      6.317084e+10                    8.070919e+10   \n",
       "std       3.588986e+11                    3.434223e+11   \n",
       "min       0.000000e+00                    1.674000e+06   \n",
       "25%       6.680000e+08                    4.529000e+08   \n",
       "50%       4.069000e+09                    4.450000e+09   \n",
       "75%       1.707000e+10                    3.320500e+10   \n",
       "max       4.710000e+12                    3.660000e+12   \n",
       "\n",
       "       Electricity - production(kWh)       Exports           GDP  \\\n",
       "count                   2.130000e+02  2.240000e+02  2.300000e+02   \n",
       "mean                    8.849167e+10  4.432637e+10  2.925614e+11   \n",
       "std                     3.706046e+11  1.334267e+11  1.252331e+12   \n",
       "min                     1.800000e+06  9.800000e+04  1.500000e+06   \n",
       "25%                     4.108000e+08  2.365000e+08  2.522500e+09   \n",
       "50%                     4.873000e+09  2.058000e+09  1.685500e+10   \n",
       "75%                     3.551000e+10  1.624250e+10  9.183250e+10   \n",
       "max                     3.839000e+12  1.109000e+12  1.175000e+13   \n",
       "\n",
       "       GDP - per capita          ...           Oil - production(bbl/day)  \\\n",
       "count        230.000000          ...                          212.000000   \n",
       "mean       10552.760870          ...                       371043.542453   \n",
       "std        11104.610351          ...                      1190318.688954   \n",
       "min          400.000000          ...                            0.000000   \n",
       "25%         2000.000000          ...                            0.000000   \n",
       "50%         5900.000000          ...                            0.000000   \n",
       "75%        16700.000000          ...                        72145.000000   \n",
       "max        58900.000000          ...                      9021000.000000   \n",
       "\n",
       "       Oil - proved reserves(bbl)    Population  Public debt(% of GDP)  \\\n",
       "count                9.700000e+01  2.380000e+02             108.000000   \n",
       "mean                 1.416887e+10  2.900494e+07              55.896296   \n",
       "std                  3.923463e+10  1.175456e+08              36.954000   \n",
       "min                  0.000000e+00  4.600000e+01               2.100000   \n",
       "25%                  8.000000e+07  2.837770e+05              31.475000   \n",
       "50%                  4.088000e+08  4.440570e+06              50.750000   \n",
       "75%                  4.408000e+09  1.628023e+07              69.675000   \n",
       "max                  2.617000e+11  1.306314e+09             228.300000   \n",
       "\n",
       "        Railways(km)  Reserves of foreign exchange & gold  \\\n",
       "count     134.000000                         1.470000e+02   \n",
       "mean    10217.246269                         2.599825e+10   \n",
       "std     29857.440213                         8.023959e+10   \n",
       "min         6.000000                         2.978000e+07   \n",
       "25%       801.250000                         7.851000e+08   \n",
       "50%      2585.500000                         3.034000e+09   \n",
       "75%      5195.000000                         1.625500e+10   \n",
       "max    228464.000000                         6.646000e+11   \n",
       "\n",
       "       Telephones - main lines in use  Telephones - mobile cellular  \\\n",
       "count                    2.320000e+02                  2.280000e+02   \n",
       "mean                     5.998770e+06                  7.331346e+06   \n",
       "std                      2.717322e+07                  3.075963e+07   \n",
       "min                      0.000000e+00                  0.000000e+00   \n",
       "25%                      3.365000e+04                  4.137500e+04   \n",
       "50%                      2.313500e+05                  3.500500e+05   \n",
       "75%                      1.828550e+06                  2.605450e+06   \n",
       "max                      2.630000e+08                  3.146447e+08   \n",
       "\n",
       "       Total fertility rate(children born/woman)  Unemployment rate(%)  \n",
       "count                                 225.000000            192.000000  \n",
       "mean                                    2.937778             15.254688  \n",
       "std                                     1.556919             15.113801  \n",
       "min                                     0.910000              0.000000  \n",
       "25%                                     1.750000              5.575000  \n",
       "50%                                     2.370000             10.500000  \n",
       "75%                                     3.930000             19.625000  \n",
       "max                                     6.840000             90.000000  \n",
       "\n",
       "[8 rows x 44 columns]"
      ]
     },
     "execution_count": 23,
     "metadata": {},
     "output_type": "execute_result"
    }
   ],
   "source": [
    "data = pd.read_csv(\"countries.csv\", sep=\";\", header=0)\n",
    "data.describe()"
   ]
  },
  {
   "cell_type": "markdown",
   "metadata": {},
   "source": [
    "__№8__. Напишите функцию, которая берет на вход датафрейм pandas со считанными данными и возвращает ответ на следующий вопрос (строка).\n",
    "\n",
    "Найдите страну, у которой наибольшее ВВП среди стран площадью меньше 200 или население меньше 10000 (или — не исключающее)."
   ]
  },
  {
   "cell_type": "code",
   "execution_count": 24,
   "metadata": {
    "collapsed": false
   },
   "outputs": [],
   "source": [
    "def find_country(df): \n",
    "    t = df.loc[(df['Area(sq km)'] < 200) | (df['Population'] < 10000)]\n",
    "    t2 = t['GDP'].max()\n",
    "    return t.loc[t['GDP'] == t2]"
   ]
  },
  {
   "cell_type": "markdown",
   "metadata": {
    "collapsed": false
   },
   "source": [
    "Проверка работы"
   ]
  },
  {
   "cell_type": "code",
   "execution_count": 25,
   "metadata": {
    "collapsed": false
   },
   "outputs": [
    {
     "data": {
      "text/html": [
       "<div>\n",
       "<table border=\"1\" class=\"dataframe\">\n",
       "  <thead>\n",
       "    <tr style=\"text-align: right;\">\n",
       "      <th></th>\n",
       "      <th>Country</th>\n",
       "      <th>Area(sq km)</th>\n",
       "      <th>Birth rate(births/1000 population)</th>\n",
       "      <th>Current account balance</th>\n",
       "      <th>Death rate(deaths/1000 population)</th>\n",
       "      <th>Debt - external</th>\n",
       "      <th>Electricity - consumption(kWh)</th>\n",
       "      <th>Electricity - production(kWh)</th>\n",
       "      <th>Exports</th>\n",
       "      <th>GDP</th>\n",
       "      <th>...</th>\n",
       "      <th>Oil - production(bbl/day)</th>\n",
       "      <th>Oil - proved reserves(bbl)</th>\n",
       "      <th>Population</th>\n",
       "      <th>Public debt(% of GDP)</th>\n",
       "      <th>Railways(km)</th>\n",
       "      <th>Reserves of foreign exchange &amp; gold</th>\n",
       "      <th>Telephones - main lines in use</th>\n",
       "      <th>Telephones - mobile cellular</th>\n",
       "      <th>Total fertility rate(children born/woman)</th>\n",
       "      <th>Unemployment rate(%)</th>\n",
       "    </tr>\n",
       "  </thead>\n",
       "  <tbody>\n",
       "    <tr>\n",
       "      <th>145</th>\n",
       "      <td>Macau</td>\n",
       "      <td>25</td>\n",
       "      <td>8.04</td>\n",
       "      <td>NaN</td>\n",
       "      <td>4.23</td>\n",
       "      <td>2700000000</td>\n",
       "      <td>1772000000</td>\n",
       "      <td>1719000000</td>\n",
       "      <td>2580000000</td>\n",
       "      <td>9100000000</td>\n",
       "      <td>...</td>\n",
       "      <td>0</td>\n",
       "      <td>NaN</td>\n",
       "      <td>449198</td>\n",
       "      <td>NaN</td>\n",
       "      <td>NaN</td>\n",
       "      <td>NaN</td>\n",
       "      <td>174600</td>\n",
       "      <td>364000</td>\n",
       "      <td>0.93</td>\n",
       "      <td>4.7</td>\n",
       "    </tr>\n",
       "  </tbody>\n",
       "</table>\n",
       "<p>1 rows × 45 columns</p>\n",
       "</div>"
      ],
      "text/plain": [
       "    Country  Area(sq km)  Birth rate(births/1000 population)  \\\n",
       "145   Macau           25                                8.04   \n",
       "\n",
       "     Current account balance  Death rate(deaths/1000 population)  \\\n",
       "145                      NaN                                4.23   \n",
       "\n",
       "     Debt - external  Electricity - consumption(kWh)  \\\n",
       "145       2700000000                      1772000000   \n",
       "\n",
       "     Electricity - production(kWh)     Exports         GDP  \\\n",
       "145                     1719000000  2580000000  9100000000   \n",
       "\n",
       "             ...           Oil - production(bbl/day)  \\\n",
       "145          ...                                   0   \n",
       "\n",
       "     Oil - proved reserves(bbl)  Population  Public debt(% of GDP)  \\\n",
       "145                         NaN      449198                    NaN   \n",
       "\n",
       "     Railways(km)  Reserves of foreign exchange & gold  \\\n",
       "145           NaN                                  NaN   \n",
       "\n",
       "     Telephones - main lines in use  Telephones - mobile cellular  \\\n",
       "145                          174600                        364000   \n",
       "\n",
       "     Total fertility rate(children born/woman)  Unemployment rate(%)  \n",
       "145                                       0.93                   4.7  \n",
       "\n",
       "[1 rows x 45 columns]"
      ]
     },
     "execution_count": 25,
     "metadata": {},
     "output_type": "execute_result"
    }
   ],
   "source": [
    "find_country(data)"
   ]
  },
  {
   "cell_type": "markdown",
   "metadata": {
    "collapsed": false
   },
   "source": [
    "С другой стороны, "
   ]
  },
  {
   "cell_type": "code",
   "execution_count": 26,
   "metadata": {
    "collapsed": false
   },
   "outputs": [
    {
     "data": {
      "text/html": [
       "<div>\n",
       "<table border=\"1\" class=\"dataframe\">\n",
       "  <thead>\n",
       "    <tr style=\"text-align: right;\">\n",
       "      <th></th>\n",
       "      <th>Country</th>\n",
       "      <th>Area(sq km)</th>\n",
       "      <th>Birth rate(births/1000 population)</th>\n",
       "      <th>Current account balance</th>\n",
       "      <th>Death rate(deaths/1000 population)</th>\n",
       "      <th>Debt - external</th>\n",
       "      <th>Electricity - consumption(kWh)</th>\n",
       "      <th>Electricity - production(kWh)</th>\n",
       "      <th>Exports</th>\n",
       "      <th>GDP</th>\n",
       "      <th>...</th>\n",
       "      <th>Oil - production(bbl/day)</th>\n",
       "      <th>Oil - proved reserves(bbl)</th>\n",
       "      <th>Population</th>\n",
       "      <th>Public debt(% of GDP)</th>\n",
       "      <th>Railways(km)</th>\n",
       "      <th>Reserves of foreign exchange &amp; gold</th>\n",
       "      <th>Telephones - main lines in use</th>\n",
       "      <th>Telephones - mobile cellular</th>\n",
       "      <th>Total fertility rate(children born/woman)</th>\n",
       "      <th>Unemployment rate(%)</th>\n",
       "    </tr>\n",
       "  </thead>\n",
       "  <tbody>\n",
       "    <tr>\n",
       "      <th>145</th>\n",
       "      <td>Macau</td>\n",
       "      <td>25</td>\n",
       "      <td>8.04</td>\n",
       "      <td>NaN</td>\n",
       "      <td>4.23</td>\n",
       "      <td>2700000000</td>\n",
       "      <td>1772000000</td>\n",
       "      <td>1719000000</td>\n",
       "      <td>2580000000</td>\n",
       "      <td>9100000000</td>\n",
       "      <td>...</td>\n",
       "      <td>0</td>\n",
       "      <td>NaN</td>\n",
       "      <td>449198</td>\n",
       "      <td>NaN</td>\n",
       "      <td>NaN</td>\n",
       "      <td>NaN</td>\n",
       "      <td>174600</td>\n",
       "      <td>364000</td>\n",
       "      <td>0.93</td>\n",
       "      <td>4.7</td>\n",
       "    </tr>\n",
       "    <tr>\n",
       "      <th>124</th>\n",
       "      <td>Jersey</td>\n",
       "      <td>116</td>\n",
       "      <td>9.66</td>\n",
       "      <td>NaN</td>\n",
       "      <td>9.19</td>\n",
       "      <td>NaN</td>\n",
       "      <td>630100000</td>\n",
       "      <td>NaN</td>\n",
       "      <td>NaN</td>\n",
       "      <td>3600000000</td>\n",
       "      <td>...</td>\n",
       "      <td>NaN</td>\n",
       "      <td>NaN</td>\n",
       "      <td>90812</td>\n",
       "      <td>NaN</td>\n",
       "      <td>NaN</td>\n",
       "      <td>NaN</td>\n",
       "      <td>73900</td>\n",
       "      <td>61400</td>\n",
       "      <td>1.57</td>\n",
       "      <td>0.9</td>\n",
       "    </tr>\n",
       "    <tr>\n",
       "      <th>101</th>\n",
       "      <td>Guernsey</td>\n",
       "      <td>78</td>\n",
       "      <td>9.01</td>\n",
       "      <td>NaN</td>\n",
       "      <td>9.95</td>\n",
       "      <td>NaN</td>\n",
       "      <td>NaN</td>\n",
       "      <td>NaN</td>\n",
       "      <td>NaN</td>\n",
       "      <td>2590000000</td>\n",
       "      <td>...</td>\n",
       "      <td>NaN</td>\n",
       "      <td>NaN</td>\n",
       "      <td>65228</td>\n",
       "      <td>NaN</td>\n",
       "      <td>NaN</td>\n",
       "      <td>NaN</td>\n",
       "      <td>55000</td>\n",
       "      <td>31500</td>\n",
       "      <td>1.38</td>\n",
       "      <td>0.5</td>\n",
       "    </tr>\n",
       "    <tr>\n",
       "      <th>35</th>\n",
       "      <td>British Virgin Islands</td>\n",
       "      <td>153</td>\n",
       "      <td>14.96</td>\n",
       "      <td>NaN</td>\n",
       "      <td>4.42</td>\n",
       "      <td>36100000</td>\n",
       "      <td>33740000</td>\n",
       "      <td>36280000</td>\n",
       "      <td>25300000</td>\n",
       "      <td>2498000000</td>\n",
       "      <td>...</td>\n",
       "      <td>0</td>\n",
       "      <td>NaN</td>\n",
       "      <td>22643</td>\n",
       "      <td>NaN</td>\n",
       "      <td>NaN</td>\n",
       "      <td>NaN</td>\n",
       "      <td>11700</td>\n",
       "      <td>8000</td>\n",
       "      <td>1.72</td>\n",
       "      <td>3.0</td>\n",
       "    </tr>\n",
       "    <tr>\n",
       "      <th>27</th>\n",
       "      <td>Bermuda</td>\n",
       "      <td>53</td>\n",
       "      <td>11.60</td>\n",
       "      <td>NaN</td>\n",
       "      <td>7.63</td>\n",
       "      <td>160000000</td>\n",
       "      <td>598000000</td>\n",
       "      <td>643000000</td>\n",
       "      <td>879000000</td>\n",
       "      <td>2330000000</td>\n",
       "      <td>...</td>\n",
       "      <td>0</td>\n",
       "      <td>NaN</td>\n",
       "      <td>65365</td>\n",
       "      <td>NaN</td>\n",
       "      <td>NaN</td>\n",
       "      <td>NaN</td>\n",
       "      <td>56000</td>\n",
       "      <td>37873</td>\n",
       "      <td>1.89</td>\n",
       "      <td>5.0</td>\n",
       "    </tr>\n",
       "  </tbody>\n",
       "</table>\n",
       "<p>5 rows × 45 columns</p>\n",
       "</div>"
      ],
      "text/plain": [
       "                    Country  Area(sq km)  Birth rate(births/1000 population)  \\\n",
       "145                   Macau           25                                8.04   \n",
       "124                  Jersey          116                                9.66   \n",
       "101                Guernsey           78                                9.01   \n",
       "35   British Virgin Islands          153                               14.96   \n",
       "27                  Bermuda           53                               11.60   \n",
       "\n",
       "     Current account balance  Death rate(deaths/1000 population)  \\\n",
       "145                      NaN                                4.23   \n",
       "124                      NaN                                9.19   \n",
       "101                      NaN                                9.95   \n",
       "35                       NaN                                4.42   \n",
       "27                       NaN                                7.63   \n",
       "\n",
       "     Debt - external  Electricity - consumption(kWh)  \\\n",
       "145       2700000000                      1772000000   \n",
       "124              NaN                       630100000   \n",
       "101              NaN                             NaN   \n",
       "35          36100000                        33740000   \n",
       "27         160000000                       598000000   \n",
       "\n",
       "     Electricity - production(kWh)     Exports         GDP  \\\n",
       "145                     1719000000  2580000000  9100000000   \n",
       "124                            NaN         NaN  3600000000   \n",
       "101                            NaN         NaN  2590000000   \n",
       "35                        36280000    25300000  2498000000   \n",
       "27                       643000000   879000000  2330000000   \n",
       "\n",
       "             ...           Oil - production(bbl/day)  \\\n",
       "145          ...                                   0   \n",
       "124          ...                                 NaN   \n",
       "101          ...                                 NaN   \n",
       "35           ...                                   0   \n",
       "27           ...                                   0   \n",
       "\n",
       "     Oil - proved reserves(bbl)  Population  Public debt(% of GDP)  \\\n",
       "145                         NaN      449198                    NaN   \n",
       "124                         NaN       90812                    NaN   \n",
       "101                         NaN       65228                    NaN   \n",
       "35                          NaN       22643                    NaN   \n",
       "27                          NaN       65365                    NaN   \n",
       "\n",
       "     Railways(km)  Reserves of foreign exchange & gold  \\\n",
       "145           NaN                                  NaN   \n",
       "124           NaN                                  NaN   \n",
       "101           NaN                                  NaN   \n",
       "35            NaN                                  NaN   \n",
       "27            NaN                                  NaN   \n",
       "\n",
       "     Telephones - main lines in use  Telephones - mobile cellular  \\\n",
       "145                          174600                        364000   \n",
       "124                           73900                         61400   \n",
       "101                           55000                         31500   \n",
       "35                            11700                          8000   \n",
       "27                            56000                         37873   \n",
       "\n",
       "     Total fertility rate(children born/woman)  Unemployment rate(%)  \n",
       "145                                       0.93                   4.7  \n",
       "124                                       1.57                   0.9  \n",
       "101                                       1.38                   0.5  \n",
       "35                                        1.72                   3.0  \n",
       "27                                        1.89                   5.0  \n",
       "\n",
       "[5 rows x 45 columns]"
      ]
     },
     "execution_count": 26,
     "metadata": {},
     "output_type": "execute_result"
    }
   ],
   "source": [
    "data.loc[(data['Area(sq km)'] < 200) | (data['Population'] < 10000)].sort_values(by=\"GDP\", ascending=False).head()"
   ]
  },
  {
   "cell_type": "markdown",
   "metadata": {},
   "source": [
    "__№9__.  Напишите функцию, которая берет на вход датафрейм pandas и возвращает датафрейм, в котором все пропуски заменены на среднее значение по столбцу. \n",
    "\n",
    "_Подсказка_: используйте функцию pandas.fillna()"
   ]
  },
  {
   "cell_type": "code",
   "execution_count": 27,
   "metadata": {
    "collapsed": true
   },
   "outputs": [],
   "source": [
    "def fill_na(df):\n",
    "    return df.fillna(df.mean())"
   ]
  },
  {
   "cell_type": "markdown",
   "metadata": {},
   "source": [
    "Проверка работы:"
   ]
  },
  {
   "cell_type": "code",
   "execution_count": 28,
   "metadata": {
    "collapsed": false
   },
   "outputs": [
    {
     "data": {
      "text/html": [
       "<div>\n",
       "<table border=\"1\" class=\"dataframe\">\n",
       "  <thead>\n",
       "    <tr style=\"text-align: right;\">\n",
       "      <th></th>\n",
       "      <th>Country</th>\n",
       "      <th>Area(sq km)</th>\n",
       "      <th>Birth rate(births/1000 population)</th>\n",
       "      <th>Current account balance</th>\n",
       "      <th>Death rate(deaths/1000 population)</th>\n",
       "      <th>Debt - external</th>\n",
       "      <th>Electricity - consumption(kWh)</th>\n",
       "      <th>Electricity - production(kWh)</th>\n",
       "      <th>Exports</th>\n",
       "      <th>GDP</th>\n",
       "      <th>...</th>\n",
       "      <th>Oil - production(bbl/day)</th>\n",
       "      <th>Oil - proved reserves(bbl)</th>\n",
       "      <th>Population</th>\n",
       "      <th>Public debt(% of GDP)</th>\n",
       "      <th>Railways(km)</th>\n",
       "      <th>Reserves of foreign exchange &amp; gold</th>\n",
       "      <th>Telephones - main lines in use</th>\n",
       "      <th>Telephones - mobile cellular</th>\n",
       "      <th>Total fertility rate(children born/woman)</th>\n",
       "      <th>Unemployment rate(%)</th>\n",
       "    </tr>\n",
       "  </thead>\n",
       "  <tbody>\n",
       "    <tr>\n",
       "      <th>0</th>\n",
       "      <td>Afghanistan</td>\n",
       "      <td>647500</td>\n",
       "      <td>47.020000</td>\n",
       "      <td>-8.473897e+08</td>\n",
       "      <td>20.750000</td>\n",
       "      <td>8.000000e+09</td>\n",
       "      <td>6.522000e+08</td>\n",
       "      <td>5.400000e+08</td>\n",
       "      <td>4.460000e+08</td>\n",
       "      <td>2.150000e+10</td>\n",
       "      <td>...</td>\n",
       "      <td>0.000000</td>\n",
       "      <td>0.000000e+00</td>\n",
       "      <td>29928987.000000</td>\n",
       "      <td>55.896296</td>\n",
       "      <td>10217.246269</td>\n",
       "      <td>2.599825e+10</td>\n",
       "      <td>33100.000000</td>\n",
       "      <td>15000.000000</td>\n",
       "      <td>6.750000</td>\n",
       "      <td>15.254688</td>\n",
       "    </tr>\n",
       "    <tr>\n",
       "      <th>1</th>\n",
       "      <td>Akrotiri</td>\n",
       "      <td>123</td>\n",
       "      <td>22.146667</td>\n",
       "      <td>-8.473897e+08</td>\n",
       "      <td>9.374267</td>\n",
       "      <td>6.317084e+10</td>\n",
       "      <td>8.070919e+10</td>\n",
       "      <td>8.849167e+10</td>\n",
       "      <td>4.432637e+10</td>\n",
       "      <td>2.925614e+11</td>\n",
       "      <td>...</td>\n",
       "      <td>371043.542453</td>\n",
       "      <td>1.416887e+10</td>\n",
       "      <td>29004941.184874</td>\n",
       "      <td>55.896296</td>\n",
       "      <td>10217.246269</td>\n",
       "      <td>2.599825e+10</td>\n",
       "      <td>5998770.193966</td>\n",
       "      <td>7331345.657895</td>\n",
       "      <td>2.937778</td>\n",
       "      <td>15.254688</td>\n",
       "    </tr>\n",
       "    <tr>\n",
       "      <th>2</th>\n",
       "      <td>Albania</td>\n",
       "      <td>28748</td>\n",
       "      <td>15.080000</td>\n",
       "      <td>-5.040000e+08</td>\n",
       "      <td>5.120000</td>\n",
       "      <td>1.410000e+09</td>\n",
       "      <td>6.760000e+09</td>\n",
       "      <td>5.680000e+09</td>\n",
       "      <td>5.524000e+08</td>\n",
       "      <td>1.746000e+10</td>\n",
       "      <td>...</td>\n",
       "      <td>2000.000000</td>\n",
       "      <td>1.855000e+08</td>\n",
       "      <td>3563112.000000</td>\n",
       "      <td>55.896296</td>\n",
       "      <td>447.000000</td>\n",
       "      <td>1.206000e+09</td>\n",
       "      <td>255000.000000</td>\n",
       "      <td>1100000.000000</td>\n",
       "      <td>2.040000</td>\n",
       "      <td>14.800000</td>\n",
       "    </tr>\n",
       "    <tr>\n",
       "      <th>3</th>\n",
       "      <td>Algeria</td>\n",
       "      <td>2381740</td>\n",
       "      <td>17.130000</td>\n",
       "      <td>1.190000e+10</td>\n",
       "      <td>4.600000</td>\n",
       "      <td>2.190000e+10</td>\n",
       "      <td>2.361000e+10</td>\n",
       "      <td>2.576000e+10</td>\n",
       "      <td>3.216000e+10</td>\n",
       "      <td>2.123000e+11</td>\n",
       "      <td>...</td>\n",
       "      <td>1200000.000000</td>\n",
       "      <td>1.187000e+10</td>\n",
       "      <td>32531853.000000</td>\n",
       "      <td>37.400000</td>\n",
       "      <td>3973.000000</td>\n",
       "      <td>4.355000e+10</td>\n",
       "      <td>2199600.000000</td>\n",
       "      <td>1447310.000000</td>\n",
       "      <td>1.920000</td>\n",
       "      <td>25.400000</td>\n",
       "    </tr>\n",
       "    <tr>\n",
       "      <th>4</th>\n",
       "      <td>American Samoa</td>\n",
       "      <td>199</td>\n",
       "      <td>23.130000</td>\n",
       "      <td>-8.473897e+08</td>\n",
       "      <td>3.330000</td>\n",
       "      <td>6.317084e+10</td>\n",
       "      <td>1.209000e+08</td>\n",
       "      <td>1.300000e+08</td>\n",
       "      <td>3.000000e+07</td>\n",
       "      <td>5.000000e+08</td>\n",
       "      <td>...</td>\n",
       "      <td>0.000000</td>\n",
       "      <td>1.416887e+10</td>\n",
       "      <td>57881.000000</td>\n",
       "      <td>55.896296</td>\n",
       "      <td>10217.246269</td>\n",
       "      <td>2.599825e+10</td>\n",
       "      <td>15000.000000</td>\n",
       "      <td>2377.000000</td>\n",
       "      <td>3.250000</td>\n",
       "      <td>6.000000</td>\n",
       "    </tr>\n",
       "  </tbody>\n",
       "</table>\n",
       "<p>5 rows × 45 columns</p>\n",
       "</div>"
      ],
      "text/plain": [
       "          Country  Area(sq km)  Birth rate(births/1000 population)  \\\n",
       "0     Afghanistan       647500                           47.020000   \n",
       "1        Akrotiri          123                           22.146667   \n",
       "2         Albania        28748                           15.080000   \n",
       "3         Algeria      2381740                           17.130000   \n",
       "4  American Samoa          199                           23.130000   \n",
       "\n",
       "   Current account balance  Death rate(deaths/1000 population)  \\\n",
       "0            -8.473897e+08                           20.750000   \n",
       "1            -8.473897e+08                            9.374267   \n",
       "2            -5.040000e+08                            5.120000   \n",
       "3             1.190000e+10                            4.600000   \n",
       "4            -8.473897e+08                            3.330000   \n",
       "\n",
       "   Debt - external  Electricity - consumption(kWh)  \\\n",
       "0     8.000000e+09                    6.522000e+08   \n",
       "1     6.317084e+10                    8.070919e+10   \n",
       "2     1.410000e+09                    6.760000e+09   \n",
       "3     2.190000e+10                    2.361000e+10   \n",
       "4     6.317084e+10                    1.209000e+08   \n",
       "\n",
       "   Electricity - production(kWh)       Exports           GDP  \\\n",
       "0                   5.400000e+08  4.460000e+08  2.150000e+10   \n",
       "1                   8.849167e+10  4.432637e+10  2.925614e+11   \n",
       "2                   5.680000e+09  5.524000e+08  1.746000e+10   \n",
       "3                   2.576000e+10  3.216000e+10  2.123000e+11   \n",
       "4                   1.300000e+08  3.000000e+07  5.000000e+08   \n",
       "\n",
       "           ...           Oil - production(bbl/day)  \\\n",
       "0          ...                            0.000000   \n",
       "1          ...                       371043.542453   \n",
       "2          ...                         2000.000000   \n",
       "3          ...                      1200000.000000   \n",
       "4          ...                            0.000000   \n",
       "\n",
       "   Oil - proved reserves(bbl)       Population  Public debt(% of GDP)  \\\n",
       "0                0.000000e+00  29928987.000000              55.896296   \n",
       "1                1.416887e+10  29004941.184874              55.896296   \n",
       "2                1.855000e+08   3563112.000000              55.896296   \n",
       "3                1.187000e+10  32531853.000000              37.400000   \n",
       "4                1.416887e+10     57881.000000              55.896296   \n",
       "\n",
       "   Railways(km)  Reserves of foreign exchange & gold  \\\n",
       "0  10217.246269                         2.599825e+10   \n",
       "1  10217.246269                         2.599825e+10   \n",
       "2    447.000000                         1.206000e+09   \n",
       "3   3973.000000                         4.355000e+10   \n",
       "4  10217.246269                         2.599825e+10   \n",
       "\n",
       "   Telephones - main lines in use  Telephones - mobile cellular  \\\n",
       "0                    33100.000000                  15000.000000   \n",
       "1                  5998770.193966                7331345.657895   \n",
       "2                   255000.000000                1100000.000000   \n",
       "3                  2199600.000000                1447310.000000   \n",
       "4                    15000.000000                   2377.000000   \n",
       "\n",
       "   Total fertility rate(children born/woman)  Unemployment rate(%)  \n",
       "0                                   6.750000             15.254688  \n",
       "1                                   2.937778             15.254688  \n",
       "2                                   2.040000             14.800000  \n",
       "3                                   1.920000             25.400000  \n",
       "4                                   3.250000              6.000000  \n",
       "\n",
       "[5 rows x 45 columns]"
      ]
     },
     "execution_count": 28,
     "metadata": {},
     "output_type": "execute_result"
    }
   ],
   "source": [
    "fill_na(data).head()"
   ]
  },
  {
   "cell_type": "markdown",
   "metadata": {},
   "source": [
    "Средние значения: "
   ]
  },
  {
   "cell_type": "code",
   "execution_count": 29,
   "metadata": {
    "collapsed": false
   },
   "outputs": [
    {
     "data": {
      "text/plain": [
       "Area(sq km)                           5.849875e+05\n",
       "Birth rate(births/1000 population)    2.214667e+01\n",
       "Current account balance              -8.473897e+08\n",
       "Death rate(deaths/1000 population)    9.374267e+00\n",
       "Debt - external                       6.317084e+10\n",
       "dtype: float64"
      ]
     },
     "execution_count": 29,
     "metadata": {},
     "output_type": "execute_result"
    }
   ],
   "source": [
    "data.mean().head()"
   ]
  },
  {
   "cell_type": "markdown",
   "metadata": {},
   "source": [
    "__№10__.  Напишите функцию, которая берет на вход датафрейм pandas и число и возвращает ответ на вопрос (строка):\n",
    "\n",
    "В какой стране ВВП (GDP) наиболее близок к указанной величине?"
   ]
  },
  {
   "cell_type": "code",
   "execution_count": 30,
   "metadata": {
    "collapsed": false
   },
   "outputs": [],
   "source": [
    "def compare_GDP(df, gdp):\n",
    "    delta = abs(gdp - df['GDP'])\n",
    "    return df.loc[delta == min(delta)]"
   ]
  },
  {
   "cell_type": "markdown",
   "metadata": {},
   "source": [
    "Проверка работы:"
   ]
  },
  {
   "cell_type": "code",
   "execution_count": 31,
   "metadata": {
    "collapsed": false
   },
   "outputs": [
    {
     "data": {
      "text/html": [
       "<div>\n",
       "<table border=\"1\" class=\"dataframe\">\n",
       "  <thead>\n",
       "    <tr style=\"text-align: right;\">\n",
       "      <th></th>\n",
       "      <th>Country</th>\n",
       "      <th>Area(sq km)</th>\n",
       "      <th>Birth rate(births/1000 population)</th>\n",
       "      <th>Current account balance</th>\n",
       "      <th>Death rate(deaths/1000 population)</th>\n",
       "      <th>Debt - external</th>\n",
       "      <th>Electricity - consumption(kWh)</th>\n",
       "      <th>Electricity - production(kWh)</th>\n",
       "      <th>Exports</th>\n",
       "      <th>GDP</th>\n",
       "      <th>...</th>\n",
       "      <th>Oil - production(bbl/day)</th>\n",
       "      <th>Oil - proved reserves(bbl)</th>\n",
       "      <th>Population</th>\n",
       "      <th>Public debt(% of GDP)</th>\n",
       "      <th>Railways(km)</th>\n",
       "      <th>Reserves of foreign exchange &amp; gold</th>\n",
       "      <th>Telephones - main lines in use</th>\n",
       "      <th>Telephones - mobile cellular</th>\n",
       "      <th>Total fertility rate(children born/woman)</th>\n",
       "      <th>Unemployment rate(%)</th>\n",
       "    </tr>\n",
       "  </thead>\n",
       "  <tbody>\n",
       "    <tr>\n",
       "      <th>4</th>\n",
       "      <td>American Samoa</td>\n",
       "      <td>199</td>\n",
       "      <td>23.13</td>\n",
       "      <td>NaN</td>\n",
       "      <td>3.33</td>\n",
       "      <td>NaN</td>\n",
       "      <td>120900000</td>\n",
       "      <td>130000000</td>\n",
       "      <td>30000000</td>\n",
       "      <td>500000000</td>\n",
       "      <td>...</td>\n",
       "      <td>0</td>\n",
       "      <td>NaN</td>\n",
       "      <td>57881</td>\n",
       "      <td>NaN</td>\n",
       "      <td>NaN</td>\n",
       "      <td>NaN</td>\n",
       "      <td>15000</td>\n",
       "      <td>2377</td>\n",
       "      <td>3.25</td>\n",
       "      <td>6</td>\n",
       "    </tr>\n",
       "  </tbody>\n",
       "</table>\n",
       "<p>1 rows × 45 columns</p>\n",
       "</div>"
      ],
      "text/plain": [
       "          Country  Area(sq km)  Birth rate(births/1000 population)  \\\n",
       "4  American Samoa          199                               23.13   \n",
       "\n",
       "   Current account balance  Death rate(deaths/1000 population)  \\\n",
       "4                      NaN                                3.33   \n",
       "\n",
       "   Debt - external  Electricity - consumption(kWh)  \\\n",
       "4              NaN                       120900000   \n",
       "\n",
       "   Electricity - production(kWh)   Exports        GDP          ...           \\\n",
       "4                      130000000  30000000  500000000          ...            \n",
       "\n",
       "   Oil - production(bbl/day)  Oil - proved reserves(bbl)  Population  \\\n",
       "4                          0                         NaN       57881   \n",
       "\n",
       "   Public debt(% of GDP)  Railways(km)  Reserves of foreign exchange & gold  \\\n",
       "4                    NaN           NaN                                  NaN   \n",
       "\n",
       "   Telephones - main lines in use  Telephones - mobile cellular  \\\n",
       "4                           15000                          2377   \n",
       "\n",
       "   Total fertility rate(children born/woman)  Unemployment rate(%)  \n",
       "4                                       3.25                     6  \n",
       "\n",
       "[1 rows x 45 columns]"
      ]
     },
     "execution_count": 31,
     "metadata": {},
     "output_type": "execute_result"
    }
   ],
   "source": [
    "exmpl = 499999999\n",
    "compare_GDP(data, exmpl)"
   ]
  },
  {
   "cell_type": "markdown",
   "metadata": {
    "collapsed": true
   },
   "source": [
    "__№11__. __(Дополнительный). За выполнение этого задания можно получить +1 балл к общей сумме баллов (к 10)!__\n",
    "\n",
    "Напишите функцию, которая берет на вход датафрейм pandas со считанными данными и возвращает датафрейм с двумя колонками: буква алфавита и значение ВВП, усреднённое по всем странам, начинающимся с данной буквы.\n",
    "\n",
    "Для решения задачи может понадобиться функция pandas.groupby, которую вы не успели пройти на семинаре. Поэтому задача и дополнительная."
   ]
  },
  {
   "cell_type": "code",
   "execution_count": 32,
   "metadata": {
    "collapsed": false
   },
   "outputs": [],
   "source": [
    "def compute_means_by_letters(df):\n",
    "    t = df[['Country', 'GDP']]\n",
    "    d = t.groupby(t['Country'].str[:1])\n",
    "    return d.mean()"
   ]
  },
  {
   "cell_type": "markdown",
   "metadata": {},
   "source": [
    "Проверка работы:"
   ]
  },
  {
   "cell_type": "code",
   "execution_count": 33,
   "metadata": {
    "collapsed": false
   },
   "outputs": [
    {
     "data": {
      "text/html": [
       "<div>\n",
       "<table border=\"1\" class=\"dataframe\">\n",
       "  <thead>\n",
       "    <tr style=\"text-align: right;\">\n",
       "      <th></th>\n",
       "      <th>GDP</th>\n",
       "    </tr>\n",
       "    <tr>\n",
       "      <th>Country</th>\n",
       "      <th></th>\n",
       "    </tr>\n",
       "  </thead>\n",
       "  <tbody>\n",
       "    <tr>\n",
       "      <th>#</th>\n",
       "      <td>1.165000e+13</td>\n",
       "    </tr>\n",
       "    <tr>\n",
       "      <th>A</th>\n",
       "      <td>1.195994e+11</td>\n",
       "    </tr>\n",
       "    <tr>\n",
       "      <th>B</th>\n",
       "      <td>1.210610e+11</td>\n",
       "    </tr>\n",
       "    <tr>\n",
       "      <th>C</th>\n",
       "      <td>4.591804e+11</td>\n",
       "    </tr>\n",
       "    <tr>\n",
       "      <th>D</th>\n",
       "      <td>5.777075e+10</td>\n",
       "    </tr>\n",
       "    <tr>\n",
       "      <th>E</th>\n",
       "      <td>5.975925e+10</td>\n",
       "    </tr>\n",
       "    <tr>\n",
       "      <th>F</th>\n",
       "      <td>2.715113e+11</td>\n",
       "    </tr>\n",
       "    <tr>\n",
       "      <th>G</th>\n",
       "      <td>1.621848e+11</td>\n",
       "    </tr>\n",
       "    <tr>\n",
       "      <th>H</th>\n",
       "      <td>1.036600e+11</td>\n",
       "    </tr>\n",
       "    <tr>\n",
       "      <th>I</th>\n",
       "      <td>8.283341e+11</td>\n",
       "    </tr>\n",
       "    <tr>\n",
       "      <th>J</th>\n",
       "      <td>9.463075e+11</td>\n",
       "    </tr>\n",
       "    <tr>\n",
       "      <th>K</th>\n",
       "      <td>1.665191e+11</td>\n",
       "    </tr>\n",
       "    <tr>\n",
       "      <th>L</th>\n",
       "      <td>1.958222e+10</td>\n",
       "    </tr>\n",
       "    <tr>\n",
       "      <th>M</th>\n",
       "      <td>6.833354e+10</td>\n",
       "    </tr>\n",
       "    <tr>\n",
       "      <th>N</th>\n",
       "      <td>7.424858e+10</td>\n",
       "    </tr>\n",
       "    <tr>\n",
       "      <th>O</th>\n",
       "      <td>3.809000e+10</td>\n",
       "    </tr>\n",
       "    <tr>\n",
       "      <th>P</th>\n",
       "      <td>1.716514e+11</td>\n",
       "    </tr>\n",
       "    <tr>\n",
       "      <th>Q</th>\n",
       "      <td>1.949000e+10</td>\n",
       "    </tr>\n",
       "    <tr>\n",
       "      <th>R</th>\n",
       "      <td>3.986250e+11</td>\n",
       "    </tr>\n",
       "    <tr>\n",
       "      <th>S</th>\n",
       "      <td>1.025396e+11</td>\n",
       "    </tr>\n",
       "    <tr>\n",
       "      <th>T</th>\n",
       "      <td>1.354214e+11</td>\n",
       "    </tr>\n",
       "    <tr>\n",
       "      <th>U</th>\n",
       "      <td>2.004431e+12</td>\n",
       "    </tr>\n",
       "    <tr>\n",
       "      <th>V</th>\n",
       "      <td>9.387000e+10</td>\n",
       "    </tr>\n",
       "    <tr>\n",
       "      <th>W</th>\n",
       "      <td>9.300000e+08</td>\n",
       "    </tr>\n",
       "    <tr>\n",
       "      <th>Y</th>\n",
       "      <td>1.625000e+10</td>\n",
       "    </tr>\n",
       "    <tr>\n",
       "      <th>Z</th>\n",
       "      <td>1.688950e+10</td>\n",
       "    </tr>\n",
       "  </tbody>\n",
       "</table>\n",
       "</div>"
      ],
      "text/plain": [
       "                  GDP\n",
       "Country              \n",
       "#        1.165000e+13\n",
       "A        1.195994e+11\n",
       "B        1.210610e+11\n",
       "C        4.591804e+11\n",
       "D        5.777075e+10\n",
       "E        5.975925e+10\n",
       "F        2.715113e+11\n",
       "G        1.621848e+11\n",
       "H        1.036600e+11\n",
       "I        8.283341e+11\n",
       "J        9.463075e+11\n",
       "K        1.665191e+11\n",
       "L        1.958222e+10\n",
       "M        6.833354e+10\n",
       "N        7.424858e+10\n",
       "O        3.809000e+10\n",
       "P        1.716514e+11\n",
       "Q        1.949000e+10\n",
       "R        3.986250e+11\n",
       "S        1.025396e+11\n",
       "T        1.354214e+11\n",
       "U        2.004431e+12\n",
       "V        9.387000e+10\n",
       "W        9.300000e+08\n",
       "Y        1.625000e+10\n",
       "Z        1.688950e+10"
      ]
     },
     "execution_count": 33,
     "metadata": {},
     "output_type": "execute_result"
    }
   ],
   "source": [
    "compute_means_by_letters(data)"
   ]
  },
  {
   "cell_type": "code",
   "execution_count": null,
   "metadata": {
    "collapsed": true
   },
   "outputs": [],
   "source": []
  }
 ],
 "metadata": {
  "kernelspec": {
   "display_name": "Python 3",
   "language": "python",
   "name": "python3"
  },
  "language_info": {
   "codemirror_mode": {
    "name": "ipython",
    "version": 3
   },
   "file_extension": ".py",
   "mimetype": "text/x-python",
   "name": "python",
   "nbconvert_exporter": "python",
   "pygments_lexer": "ipython3",
   "version": "3.5.1"
  }
 },
 "nbformat": 4,
 "nbformat_minor": 0
}
