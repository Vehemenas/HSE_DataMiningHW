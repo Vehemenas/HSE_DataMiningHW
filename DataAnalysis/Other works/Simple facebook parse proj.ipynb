{
 "cells": [
  {
   "cell_type": "markdown",
   "metadata": {},
   "source": [
    "Устанавливаем библиотеку для работы с facebook"
   ]
  },
  {
   "cell_type": "code",
   "execution_count": 33,
   "metadata": {
    "collapsed": false
   },
   "outputs": [],
   "source": [
    "!pip install facebook-sdk -q"
   ]
  },
  {
   "cell_type": "markdown",
   "metadata": {},
   "source": [
    "Инициализируем facebook graph api и получаем информацию об исследуемой группе."
   ]
  },
  {
   "cell_type": "code",
   "execution_count": 195,
   "metadata": {
    "collapsed": false
   },
   "outputs": [],
   "source": [
    "# Импорт библиотеки, инициализация токеном для авторизации.\n",
    "import facebook\n",
    "token = 'EAACEdEose0cBAGt0BP0zIge6y5ReCul5dvn78fqkfVdbkYQgxhPuDgh99LGVWhZBomA4RncH6XrU3PXjSPHlFQLk4vzTZAZBxnlJd9ZAsOCvti6KDkf6ios419FemsebelTFjFllUnpZAZA5eltdTYnLyBuqkxkQpGXotNunPcDAZDZD'\n",
    "graph = facebook.GraphAPI(access_token = token, version='2.3')\n",
    "\n",
    "# Получаем id и название выбранной группы\n",
    "group_name = 'SFSofUkraine'\n",
    "group_info = graph.get_object(id = group_name)\n",
    "group_info = {'name' : group_info['name'], 'id' : group_info['id']}"
   ]
  },
  {
   "cell_type": "markdown",
   "metadata": {},
   "source": [
    "Получаем данные комментариев из выбранной группы."
   ]
  },
  {
   "cell_type": "code",
   "execution_count": 356,
   "metadata": {
    "collapsed": true
   },
   "outputs": [],
   "source": [
    "# Библиотека для определения пола по имени\n",
    "# !pip install genderize -q Необходимо раскоментировать и запустить 1 раз для установки библиотеки\n",
    "from genderize import Genderize\n",
    "\n",
    "# Функция для определения пола по имени\n",
    "def getGender(name):\n",
    "    return int (Genderize().get([name])[0]['gender'] == 'male')"
   ]
  },
  {
   "cell_type": "code",
   "execution_count": 357,
   "metadata": {
    "collapsed": true
   },
   "outputs": [],
   "source": [
    "# Функция для преобразования данных из формата facebook в более удобный для работы\n",
    "def parseComment(comment_dict):\n",
    "    comment = {}\n",
    "    comment['message'] = comment_dict['message']\n",
    "    comment['post_time'] = comment_dict['created_time']\n",
    "    comment['likes'] = comment_dict['like_count']\n",
    "    comment['author'] = comment_dict['from']['name']\n",
    "    # Делим строку автор на имя и фамилия, проверяем какому полу наиболее вероятно принадлежит это имя\n",
    "    comment['author_gender'] = getGender(comment['author'].split()[0])\n",
    "    return comment\n",
    "    "
   ]
  },
  {
   "cell_type": "code",
   "execution_count": 358,
   "metadata": {
    "collapsed": false
   },
   "outputs": [],
   "source": [
    "# Общая функция для сбора данных из facebook\n",
    "def getGroupComments(group_id):\n",
    "    parsed_comments = []\n",
    "    \n",
    "    # Получаем первоначальный список комментариев\n",
    "    fb_data = graph.get_connections(id=group_id, connection_name='posts')\n",
    "\n",
    "    for data_element in fb_data['data']:\n",
    "        \n",
    "        if 'comments' in data_element:\n",
    "            for comment in data_element['comments']['data']:\n",
    "                # Проверяем есть ли текст в комментарии\n",
    "                if (len(comment['message']) > 0) :\n",
    "                    filtered_comment = parseComment(comment)\n",
    "                    parsed_comments.append(filtered_comment)\n",
    "    return parsed_comments"
   ]
  },
  {
   "cell_type": "code",
   "execution_count": 359,
   "metadata": {
    "collapsed": false
   },
   "outputs": [
    {
     "data": {
      "text/plain": [
       "[{'author': 'Igor Bocharov',\n",
       "  'author_gender': 1,\n",
       "  'likes': 1,\n",
       "  'message': 'За счет каких изменений в структуре и процессах происходит сокращения?',\n",
       "  'post_time': '2016-05-20T20:10:35+0000'},\n",
       " {'author': 'Denys Davydov',\n",
       "  'author_gender': 1,\n",
       "  'likes': 0,\n",
       "  'message': \"коли можна буде онлайн бачити отриманий прибуток за даними податкової та податкові зобов'язання?\",\n",
       "  'post_time': '2016-05-20T12:40:57+0000'},\n",
       " {'author': 'Andrey Skibnev',\n",
       "  'author_gender': 1,\n",
       "  'likes': 0,\n",
       "  'message': 'А откуда она?',\n",
       "  'post_time': '2016-05-20T16:36:40+0000'},\n",
       " {'author': 'Yuriy Gladun',\n",
       "  'author_gender': 1,\n",
       "  'likes': 0,\n",
       "  'message': 'А гроші на це є?',\n",
       "  'post_time': '2016-05-20T10:38:42+0000'},\n",
       " {'author': 'Тата Иванова',\n",
       "  'author_gender': 0,\n",
       "  'likes': 1,\n",
       "  'message': 'а кто же эту коррупцию развел ???',\n",
       "  'post_time': '2016-05-18T11:25:06+0000'},\n",
       " {'author': 'Василий Трикур',\n",
       "  'author_gender': 1,\n",
       "  'likes': 1,\n",
       "  'message': 'Счас заплачу от гордості. ...',\n",
       "  'post_time': '2016-05-18T16:12:13+0000'},\n",
       " {'author': 'Dmitry  Dekhtyarenko',\n",
       "  'author_gender': 1,\n",
       "  'likes': 0,\n",
       "  'message': 'брехня',\n",
       "  'post_time': '2016-05-18T16:32:31+0000'},\n",
       " {'author': 'Илья Литвински',\n",
       "  'author_gender': 1,\n",
       "  'likes': 1,\n",
       "  'message': 'Подытоживая всё что сказано паном Романом: \"Трэба поеднаты всі усілля\"........Вопрос: ЭТО борьба с коррупцией или иммитация борьбы? Сколько времени надо готовиться чтобы сделать такую заяву? Это предложение достойно уровня руководителя государственной финансовой службы страны? На какого слушателя рассчитано обращение?',\n",
       "  'post_time': '2016-05-18T12:03:04+0000'},\n",
       " {'author': 'Ludmila Piaf',\n",
       "  'author_gender': 0,\n",
       "  'likes': 0,\n",
       "  'message': 'Проснулись!',\n",
       "  'post_time': '2016-05-19T04:47:28+0000'},\n",
       " {'author': 'Ludmila Piaf',\n",
       "  'author_gender': 0,\n",
       "  'likes': 0,\n",
       "  'message': 'Ого! Если это заработает, то это будет круто!',\n",
       "  'post_time': '2016-05-19T04:53:18+0000'}]"
      ]
     },
     "execution_count": 359,
     "metadata": {},
     "output_type": "execute_result"
    }
   ],
   "source": [
    "getGroupComments(group_info['id'])"
   ]
  },
  {
   "cell_type": "code",
   "execution_count": null,
   "metadata": {
    "collapsed": true
   },
   "outputs": [],
   "source": []
  }
 ],
 "metadata": {
  "kernelspec": {
   "display_name": "Python 3",
   "language": "python",
   "name": "python3"
  },
  "language_info": {
   "codemirror_mode": {
    "name": "ipython",
    "version": 3
   },
   "file_extension": ".py",
   "mimetype": "text/x-python",
   "name": "python",
   "nbconvert_exporter": "python",
   "pygments_lexer": "ipython3",
   "version": "3.5.1"
  }
 },
 "nbformat": 4,
 "nbformat_minor": 0
}
