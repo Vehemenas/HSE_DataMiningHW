{
 "cells": [
  {
   "cell_type": "markdown",
   "metadata": {},
   "source": [
    "### Task #1\n",
    "Написать функцию, которая принимает на вход целочисленный массив и возвращает его максимальный четный элемент.\n",
    "Подключаю numpy, который крут и офигенен и вообще."
   ]
  },
  {
   "cell_type": "code",
   "execution_count": 8,
   "metadata": {
    "collapsed": true
   },
   "outputs": [],
   "source": [
    "import numpy as np"
   ]
  },
  {
   "cell_type": "markdown",
   "metadata": {},
   "source": [
    "Создаю массив из библиотеки NumPy, преобразовав обычный."
   ]
  },
  {
   "cell_type": "code",
   "execution_count": 9,
   "metadata": {
    "collapsed": false
   },
   "outputs": [],
   "source": [
    "a = [1, 2, 3, 3, 4, 4, 4, 5, 5, 5, 10005000]\n",
    "a = np.array(a)"
   ]
  },
  {
   "cell_type": "markdown",
   "metadata": {},
   "source": [
    "Теперь пишу функцию, которая будет искать максимальное число среди четных в массиве. Все четные элементы можно найти \n",
    "как a[a % 2 == 0]. И потом добавить .max(), чтобы найти максимальный элемент."
   ]
  },
  {
   "cell_type": "code",
   "execution_count": 10,
   "metadata": {
    "collapsed": false
   },
   "outputs": [],
   "source": [
    "def findEvenMaximum(inputArray):\n",
    "    return inputArray[inputArray % 2 == 0].max()"
   ]
  },
  {
   "cell_type": "markdown",
   "metadata": {},
   "source": [
    "Вы восхитительны! Проверяю на работоспособноость сие счастье."
   ]
  },
  {
   "cell_type": "code",
   "execution_count": 11,
   "metadata": {
    "collapsed": false
   },
   "outputs": [
    {
     "data": {
      "text/plain": [
       "10005000"
      ]
     },
     "execution_count": 11,
     "metadata": {},
     "output_type": "execute_result"
    }
   ],
   "source": [
    "findEvenMaximum(a)"
   ]
  },
  {
   "cell_type": "markdown",
   "metadata": {},
   "source": [
    "Все вегно :)"
   ]
  },
  {
   "cell_type": "markdown",
   "metadata": {},
   "source": [
    "### Task #2\n",
    "Дана матрица n x d, где n - число объектов, d - число признаков. Подсчитать выборочное среднее μ \n",
    "и выборочную ковариационную матрицу K без использования стандартных функций np.mean, np.cov"
   ]
  },
  {
   "cell_type": "markdown",
   "metadata": {},
   "source": [
    "Для начала, создам матрицу. Снова из библиотеки NumPy."
   ]
  },
  {
   "cell_type": "code",
   "execution_count": 14,
   "metadata": {
    "collapsed": true
   },
   "outputs": [],
   "source": [
    "matrix = [[1, 2, 3, 4], [5, 6, 7, 8], [1, 2, 3, 4]]\n",
    "matrix = np.array(matrix)"
   ]
  },
  {
   "cell_type": "markdown",
   "metadata": {},
   "source": [
    "Идеально. Теперь Считаю сумму всего этого."
   ]
  },
  {
   "cell_type": "code",
   "execution_count": 15,
   "metadata": {
    "collapsed": false
   },
   "outputs": [
    {
     "data": {
      "text/plain": [
       "46"
      ]
     },
     "execution_count": 15,
     "metadata": {},
     "output_type": "execute_result"
    }
   ],
   "source": [
    "np.sum(matrix)"
   ]
  },
  {
   "cell_type": "markdown",
   "metadata": {},
   "source": [
    "А вот так можно посчитать количество элентов."
   ]
  },
  {
   "cell_type": "code",
   "execution_count": 16,
   "metadata": {
    "collapsed": false
   },
   "outputs": [
    {
     "data": {
      "text/plain": [
       "12"
      ]
     },
     "execution_count": 16,
     "metadata": {},
     "output_type": "execute_result"
    }
   ],
   "source": [
    "np.size(matrix)"
   ]
  },
  {
   "cell_type": "markdown",
   "metadata": {},
   "source": [
    "Усё працюе. Оформляю все в виде функции."
   ]
  },
  {
   "cell_type": "code",
   "execution_count": 17,
   "metadata": {
    "collapsed": true
   },
   "outputs": [],
   "source": [
    "def computeMean(inputMatrix):\n",
    "    return np.sum(inputMatrix) / np.size(inputMatrix)"
   ]
  },
  {
   "cell_type": "markdown",
   "metadata": {},
   "source": [
    "Вроде, верно. Сравниваю результаты со стандартной функцией."
   ]
  },
  {
   "cell_type": "code",
   "execution_count": 18,
   "metadata": {
    "collapsed": false
   },
   "outputs": [
    {
     "name": "stdout",
     "output_type": "stream",
     "text": [
      "Наш метод:  3.83333333333\n",
      "Встроенная ф-я:  3.83333333333\n"
     ]
    }
   ],
   "source": [
    "print('Наш метод: ', computeMean(matrix))\n",
    "print('Встроенная ф-я: ', np.mean(matrix))"
   ]
  },
  {
   "cell_type": "markdown",
   "metadata": {},
   "source": [
    "Половина сделана. Идем дальше.\n",
    "\n",
    "Теперь для ковариации. Посчитать сумму (элемент - н) можно вот так np.sum(array - n). Тогда ф-я будет иметь вид:"
   ]
  },
  {
   "cell_type": "code",
   "execution_count": 19,
   "metadata": {
    "collapsed": true
   },
   "outputs": [],
   "source": [
    "def computeCov(inputMatrix):\n",
    "    mean = computeMean(matrix)\n",
    "    return np.sum( (inputMatrix - mean) ** 2) / (np.size(inputMatrix) - 1) #хз как делать"
   ]
  },
  {
   "cell_type": "markdown",
   "metadata": {},
   "source": [
    "Все стандартно по формуле. "
   ]
  },
  {
   "cell_type": "code",
   "execution_count": 20,
   "metadata": {
    "collapsed": false
   },
   "outputs": [
    {
     "name": "stdout",
     "output_type": "stream",
     "text": [
      "Наш метод:  5.24242424242\n",
      "Встроенная ф-я:  [[ 1.66666667  1.66666667  1.66666667]\n",
      " [ 1.66666667  1.66666667  1.66666667]\n",
      " [ 1.66666667  1.66666667  1.66666667]]\n"
     ]
    }
   ],
   "source": [
    "print('Наш метод: ', computeCov(matrix))\n",
    "print('Встроенная ф-я: ', np.cov(matrix))"
   ]
  },
  {
   "cell_type": "markdown",
   "metadata": {},
   "source": [
    "### Task #3\n",
    "Посчитать произведение ненулевых элементов на диагонали прямоугольной матрицы.\n",
    "Для Х = np.array([[1, 0, 1], [2, 0, 2], [3, 0, 3], [4, 4, 4]])"
   ]
  },
  {
   "cell_type": "markdown",
   "metadata": {},
   "source": [
    "Собственно, для начала, создаю такую матрицу."
   ]
  },
  {
   "cell_type": "code",
   "execution_count": 21,
   "metadata": {
    "collapsed": false
   },
   "outputs": [
    {
     "data": {
      "text/plain": [
       "array([[1, 0, 1],\n",
       "       [2, 0, 2],\n",
       "       [3, 0, 3],\n",
       "       [4, 4, 4]])"
      ]
     },
     "execution_count": 21,
     "metadata": {},
     "output_type": "execute_result"
    }
   ],
   "source": [
    "x = np.array([[1, 0, 1], [2, 0, 2], [3, 0, 3], [4, 4, 4]])\n",
    "x"
   ]
  },
  {
   "cell_type": "markdown",
   "metadata": {},
   "source": [
    "Элементы по диагонали можно получить как x.diagonal()"
   ]
  },
  {
   "cell_type": "code",
   "execution_count": 22,
   "metadata": {
    "collapsed": false
   },
   "outputs": [
    {
     "data": {
      "text/plain": [
       "array([1, 0, 3])"
      ]
     },
     "execution_count": 22,
     "metadata": {},
     "output_type": "execute_result"
    }
   ],
   "source": [
    "x.diagonal()"
   ]
  },
  {
   "cell_type": "markdown",
   "metadata": {},
   "source": [
    "Из них выбираю все отличные от 0. делается это x[x.nonzero()]."
   ]
  },
  {
   "cell_type": "markdown",
   "metadata": {},
   "source": [
    "*Тут будет не для диагональных элементов, а для всех."
   ]
  },
  {
   "cell_type": "code",
   "execution_count": 23,
   "metadata": {
    "collapsed": false
   },
   "outputs": [
    {
     "data": {
      "text/plain": [
       "array([1, 1, 2, 2, 3, 3, 4, 4, 4])"
      ]
     },
     "execution_count": 23,
     "metadata": {},
     "output_type": "execute_result"
    }
   ],
   "source": [
    "x[x.nonzero()]"
   ]
  },
  {
   "cell_type": "markdown",
   "metadata": {},
   "source": [
    "Ну, все уже пройдено. Можно оформлять в виде ф-ии. Поизведение найду через np.prod()"
   ]
  },
  {
   "cell_type": "code",
   "execution_count": 24,
   "metadata": {
    "collapsed": false
   },
   "outputs": [],
   "source": [
    "def multiplyDiagonal(inputMatrix):\n",
    "    tmp = inputMatrix.diagonal()\n",
    "    tmp = tmp[tmp.nonzero()]\n",
    "    return np.prod(tmp)"
   ]
  },
  {
   "cell_type": "code",
   "execution_count": 25,
   "metadata": {
    "collapsed": false
   },
   "outputs": [
    {
     "data": {
      "text/plain": [
       "3"
      ]
     },
     "execution_count": 25,
     "metadata": {},
     "output_type": "execute_result"
    }
   ],
   "source": [
    "multiplyDiagonal(x)"
   ]
  },
  {
   "cell_type": "markdown",
   "metadata": {},
   "source": [
    "Ответ совпадает с таковым в условии:)"
   ]
  },
  {
   "cell_type": "markdown",
   "metadata": {},
   "source": [
    "### Task #4\n",
    "При помощи метода Монте-Карло по 10000 точек приближенно вычислить значение интеграла\n",
    "intergal cos(x^2)dx from 0 to 0.5"
   ]
  },
  {
   "cell_type": "markdown",
   "metadata": {},
   "source": [
    "Я хз что такое метод Монте - Карло. Пытался понять тут. Скорее всего, верно.\n",
    "https://helloacm.com/how-to-compute-numerical-integration-in-numpy-python/"
   ]
  },
  {
   "cell_type": "markdown",
   "metadata": {},
   "source": [
    "Насколько я понял, просто считаем площадь по прямоугольникам, точность, естественно, зависит от их количества."
   ]
  },
  {
   "cell_type": "markdown",
   "metadata": {},
   "source": [
    "Т.е нужно разбить промежуток от a до b на n точек и посчитать площадь. Разбить отрезок на n точек можно вот так:"
   ]
  },
  {
   "cell_type": "code",
   "execution_count": 26,
   "metadata": {
    "collapsed": false
   },
   "outputs": [
    {
     "data": {
      "text/plain": [
       "array([  0.00000000e+00,   5.00050005e-05,   1.00010001e-04, ...,\n",
       "         4.99899990e-01,   4.99949995e-01,   5.00000000e-01])"
      ]
     },
     "execution_count": 26,
     "metadata": {},
     "output_type": "execute_result"
    }
   ],
   "source": [
    "a = 0\n",
    "b = 0.5\n",
    "n = 10000\n",
    "dotslinspace = np.linspace(a, b, n)\n",
    "dotslinspace"
   ]
  },
  {
   "cell_type": "markdown",
   "metadata": {},
   "source": [
    "Далее, надо научиться брать от каждого элемента из этого линспейса ф-ю. // применять ф-ю с аргументом = каждый из линспейса: "
   ]
  },
  {
   "cell_type": "markdown",
   "metadata": {},
   "source": [
    "Хз, можно ли это сделать правильней. Но я оформлю это в виде отдельной ф-ии: (то, что cos(x^2))"
   ]
  },
  {
   "cell_type": "code",
   "execution_count": 27,
   "metadata": {
    "collapsed": false
   },
   "outputs": [],
   "source": [
    "def calcCosx2(x):\n",
    "    return np.cos(x ** 2)"
   ]
  },
  {
   "cell_type": "markdown",
   "metadata": {},
   "source": [
    "Тогда, применить для каждого элемента:"
   ]
  },
  {
   "cell_type": "code",
   "execution_count": 28,
   "metadata": {
    "collapsed": false
   },
   "outputs": [
    {
     "data": {
      "text/plain": [
       "array([ 1.        ,  1.        ,  1.        , ...,  0.96893716,\n",
       "        0.96892479,  0.96891242])"
      ]
     },
     "execution_count": 28,
     "metadata": {},
     "output_type": "execute_result"
    }
   ],
   "source": [
    "calcCosx2(dotslinspace)"
   ]
  },
  {
   "cell_type": "markdown",
   "metadata": {},
   "source": [
    "Собственно, все что нужно для написания ф-ии по приближенному вычислению интеграла есть. Это будет как то так: "
   ]
  },
  {
   "cell_type": "code",
   "execution_count": 29,
   "metadata": {
    "collapsed": true
   },
   "outputs": [],
   "source": [
    "def integrateMC(function, a, b, ndots):\n",
    "    arg_linspace = np.linspace(a, b, ndots)\n",
    "    fx = function(arg_linspace) #считаю значения ф-ии в каждой точке; высота прямоугольника, если делить график ф-ии\n",
    "    # тогда площадь прямоугольника = основание * высоту. основание каждого будет (b - a) / n\n",
    "    return np.sum(fx) * (b - a) / n"
   ]
  },
  {
   "cell_type": "markdown",
   "metadata": {},
   "source": [
    "Ну все, проверяем работу:"
   ]
  },
  {
   "cell_type": "code",
   "execution_count": 30,
   "metadata": {
    "collapsed": false
   },
   "outputs": [
    {
     "name": "stdout",
     "output_type": "stream",
     "text": [
      "Площадь по методу Монте-Карло:  0.496883563571\n"
     ]
    }
   ],
   "source": [
    "print('Площадь по методу Монте-Карло: ', integrateMC(calcCosx2, a, b, n))"
   ]
  },
  {
   "cell_type": "markdown",
   "metadata": {},
   "source": [
    "Результат совпадает с wolframalpha. Идем дальше c:"
   ]
  },
  {
   "cell_type": "markdown",
   "metadata": {},
   "source": [
    "### Task #5\n",
    "Найти максимальный элемент в векторе х среди элементов, перед которыми стоит нулевой.\n",
    "x = np.array([6, 2, 0, 3, 0, 0, 5, 7, 0]). Ответ: 5."
   ]
  },
  {
   "cell_type": "code",
   "execution_count": 31,
   "metadata": {
    "collapsed": false
   },
   "outputs": [
    {
     "ename": "SyntaxError",
     "evalue": "invalid syntax (<ipython-input-31-43bff76b9a56>, line 5)",
     "output_type": "error",
     "traceback": [
      "\u001b[1;36m  File \u001b[1;32m\"<ipython-input-31-43bff76b9a56>\"\u001b[1;36m, line \u001b[1;32m5\u001b[0m\n\u001b[1;33m    хз чет\u001b[0m\n\u001b[1;37m         ^\u001b[0m\n\u001b[1;31mSyntaxError\u001b[0m\u001b[1;31m:\u001b[0m invalid syntax\n"
     ]
    }
   ],
   "source": [
    "x = np.array([6, 2, 0, 3, 0, 0, 5, 7, 0])\n",
    "tmp = np.max(x[np.nonzero(x)])\n",
    "tmp\n",
    "\n",
    "хз чет"
   ]
  },
  {
   "cell_type": "markdown",
   "metadata": {},
   "source": [
    "### Task #6\n",
    "Пусть Х - случайная величина, имеющая распределение Пуассона с параметром λ = 5\n",
    "P(x = k) = (5 ^ k) / k! * e ^ (-5)"
   ]
  },
  {
   "cell_type": "markdown",
   "metadata": {},
   "source": [
    "Собственно попробую методом лома: (нужна библиотека scipy)"
   ]
  },
  {
   "cell_type": "code",
   "execution_count": 120,
   "metadata": {
    "collapsed": false
   },
   "outputs": [],
   "source": [
    "from scipy.special import factorial"
   ]
  },
  {
   "cell_type": "markdown",
   "metadata": {},
   "source": [
    "Теперь, собственно, ф - я."
   ]
  },
  {
   "cell_type": "code",
   "execution_count": 121,
   "metadata": {
    "collapsed": true
   },
   "outputs": [],
   "source": [
    "def computePoisson(ld, k):\n",
    "    return ((ld ** k) / factorial(k)) * np.exp(-k)"
   ]
  },
  {
   "cell_type": "code",
   "execution_count": 140,
   "metadata": {
    "collapsed": true
   },
   "outputs": [],
   "source": [
    "p = np.arange(50)"
   ]
  },
  {
   "cell_type": "code",
   "execution_count": 141,
   "metadata": {
    "collapsed": false
   },
   "outputs": [
    {
     "data": {
      "text/plain": [
       "array([ 0,  1,  2,  3,  4,  5,  6,  7,  8,  9, 10, 11, 12, 13, 14, 15, 16,\n",
       "       17, 18, 19, 20, 21, 22, 23, 24, 25, 26, 27, 28, 29, 30, 31, 32, 33,\n",
       "       34, 35, 36, 37, 38, 39, 40, 41, 42, 43, 44, 45, 46, 47, 48, 49])"
      ]
     },
     "execution_count": 141,
     "metadata": {},
     "output_type": "execute_result"
    }
   ],
   "source": [
    "p"
   ]
  },
  {
   "cell_type": "code",
   "execution_count": 147,
   "metadata": {
    "collapsed": false
   },
   "outputs": [
    {
     "data": {
      "text/plain": [
       "5.6325006325190829e-52"
      ]
     },
     "execution_count": 147,
     "metadata": {},
     "output_type": "execute_result"
    }
   ],
   "source": [
    "computePoisson(5, 50)"
   ]
  },
  {
   "cell_type": "code",
   "execution_count": null,
   "metadata": {
    "collapsed": true
   },
   "outputs": [],
   "source": []
  }
 ],
 "metadata": {
  "kernelspec": {
   "display_name": "Python 3",
   "language": "python",
   "name": "python3"
  },
  "language_info": {
   "codemirror_mode": {
    "name": "ipython",
    "version": 3
   },
   "file_extension": ".py",
   "mimetype": "text/x-python",
   "name": "python",
   "nbconvert_exporter": "python",
   "pygments_lexer": "ipython3",
   "version": "3.5.1"
  }
 },
 "nbformat": 4,
 "nbformat_minor": 0
}
